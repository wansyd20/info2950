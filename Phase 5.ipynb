{
 "cells": [
  {
   "cell_type": "markdown",
   "id": "a5a17590",
   "metadata": {},
   "source": [
    "Sydney Wan (ssw73) and Michelle Hui (msh334)"
   ]
  },
  {
   "cell_type": "markdown",
   "id": "2b29dce2",
   "metadata": {},
   "source": [
    "# Introduction\n",
    "Amazon reviews are a treasure trove of data to learn about consumer trends and products. Amazon web services provides a public database of millions of reviews on electronics, home goods, apparel, beauty etc. products for third party researchers to perform their own analysis. We draw from this dataset to see if Amazon consumer reviews are able to summarize the public opinion of consumer brands/products in the greater market. We will be comparing our results against market share/revenue data for our specific corporations. This is an important exploration because companies spend millions of dollars to understand consumer opinion and their market standing. But if we are able to determine consumer opinion through publicly available Amazon reviews, we can provide a new tool and perspective to understanding consumer markets.\n",
    "\n",
    "Our research questions specifically dive into the relationships between star ratings, verified reviews, and text sentiment. \n",
    "\n",
    "**Our main research question is:**\n",
    "\n",
    "- **Are we able to determine general consumer sentiment about a  brand based on just Amazon reviews?**\n",
    "\n",
    "Below are sub questions which we hoped to explore:\n",
    "1. If we are able to determine differences between the corporations, are Amazon Beauty product reviews an accurate representation of how well a brand is doing in the greater market? \n",
    "2. Are there any differences in overall rating distribution between non-verified and verified ratings and what does this indicate about their reliability and consumer behavior?\n",
    "3. Are there any notable trends or descriptive words between positive and negative reviews that might indicate what consumer opinion of different brands?\n",
    "\n",
    "After running through various analyses, our main findings demonstrate that we cannot aggregate reviews describing individual products to represent trends in larger corporations.\n",
    "\n",
    "One of our main areas of focus was sentiment analysis of the review texts. We hypothesized that companies that were performing better in the market during 2015 would have more positively associated words in their reviews as opposed to companies that did not perform as well. However, our results ultimately demonstrated that the most common words were relatively the same across all companies, and even across all numbers of star ratings. This led us to the observation that most reviews are generally positive, and even a logistic regression model to predict if a review is positive or negative is essentially as accurate as just blindly guessing a review is positive every time. \n",
    "\n",
    "We also ran a multinomial logistic regression to predict for corporations based on trends between vine reviews, review length, and other variables. However, all of these variables were too similar between corporations for the model to accurately predict corporations. Our results demonstrate the overall trends such as star ratings, verified purchases, etc. are all relatively uniform across companies and cannot be aggregated to predict the largest few corporations. \n",
    "\n",
    "As star ratings of products are an important indicator of how an Amazon product is performing, we focused heavily on analyzing star rating distributions and finding star rating confidence intervals between different companies. We were able to determine that four out of the five companies had a unique distribution and statistically significant differences in star rating means. However, when ranking companies based on these means, they did not match up with the greater market data that we had. \n"
   ]
  },
  {
   "cell_type": "code",
   "execution_count": 15,
   "id": "1238ec41",
   "metadata": {},
   "outputs": [],
   "source": [
    "# importing relevant packages\n",
    "import pandas as pd\n",
    "import matplotlib.pyplot as plt\n",
    "import numpy as np\n",
    "from sklearn.feature_extraction.text import CountVectorizer\n",
    "from sklearn.model_selection import train_test_split\n",
    "from sklearn.linear_model import LogisticRegression\n",
    "from sklearn.model_selection import cross_val_score\n",
    "from sklearn.metrics import classification_report\n",
    "import scipy as sp\n",
    "from scipy import stats\n",
    "import seaborn as sns\n",
    "import statistics"
   ]
  },
  {
   "cell_type": "markdown",
   "id": "31546c4e",
   "metadata": {},
   "source": [
    "# Data Description\n",
    "\n",
    "We looked at two main datasets: (1) Statistics on the top beauty companies' market performance (2) Amazon beauty product reviews from 2015.\n",
    "\n",
    "## Beauty Market\n",
    "### Motivation\n",
    "- **Why was this dataset created?**\n",
    "    - This dataset was created to explore how the market of cosmetics has evolved through the year or 2015, in regards to trends in sales, market breakdown, which factors contributed to these changes, and which makeup trends might affect the market.\n",
    "    \n",
    "- **Who funded the creation of the dataset?**\n",
    "    - The research was done by Mintel, an independent market analysis company that prides itself on supplying objective information on a whole range of markets and marketing issues.\n",
    "    \n",
    "### Composition\n",
    "- **What are the observations (rows) and the attributes (columns)?**\n",
    "    - The rows are the top cosmetics companies, and the columns are how they performed in the market, specifically: company name, 2014 sales (in millions of dollars), 2014 market share percentage, 2015 sales (in millions of dollars), 2015 market share percentage, the sale change percentage from 2014-2015, and the market share percent change from 2014-2015.\n",
    "    \n",
    "- **How many instances are there in the dataset? Does it contain all possible instances or is it a sample? What processes might have influenced what data was observed and recorded and what was not?**\n",
    "    - The initial dataset had 7 instances, but I removed the \"private labels\" and \"other\" companies as they are not easy to use with our Amazon dataset. The data contained a note that read: \"Data may not equal totals due to rounding The above figures are based on MULO sales data from Information Resources, Inc., InfoScan Reviews. MULO is defined as Multi Outlet, representative of the following channels: total U.S. Grocery, Mass, Total U.S. Drug, Total Walmart, Dollar, Military, and Club.\" \n",
    "    \n",
    "- **Where can your raw source data be found, if applicable? Provide a link to the raw data (hosted in a Cornell Google Drive or Cornell Box).**\n",
    "    - Our data can be found in the Google Drive listed at the bottom of this document.\n",
    "    \n",
    "- **Is the data self contained or does it rely on other outside websites?**\n",
    "    - Our data is self contained because it is historical data about sales in 2015, and thus would not rely on outside websites\n",
    "    \n",
    "- **Does this data relate to individuals? Can the individuals be identified? Are there any subpopulations that can be identified?**\n",
    "    - No, the data is not related to individuals, but companies which are entities.\n",
    "    \n",
    "### Collection Process\n",
    "- **If people are involved, were they aware of the data collection and if so, what purpose did they expect the data to be used for?**\n",
    "    - No people were involved, as the data in this specific dataset was from an Information resources company.\n",
    "    \n",
    "- **What time frame was the data collected?**\n",
    "    - This dataset focuses on company sales from 2014 to March 22, 2015.\n",
    "    \n",
    "### Preprocessing\n",
    "- **What preprocessing was done, and how did the data come to be in the form that you are using?**\n",
    "    - Refer to data cleaning appendix to see how we cleaned the data. We mostly just made sure that numerical values were actually float data types, and kept only relevant rows. The original collectors had to process the percent changes between years, decide which companies fell under the \"Private Label\" and \"Other Categories,\" and perhaps calculate overall sales by converting international sales that were not originally in dollars. \n",
    "    \n",
    "- **Are there are any errors, sources of noise, or redundancies in the data?**\n",
    "    - None that are visible to us. The dataset is rather small and informs us of overarching/summarizing statistics, thus there is not much room for errors/noise.\n",
    " \n",
    "### Uses\n",
    "    \n",
    " - **Has this data been used before? If so, what for?**\n",
    "     - There is no evidence that this data has been used before, however it is very likely that it has considering it is a public dataset published for people to use."
   ]
  },
  {
   "cell_type": "markdown",
   "id": "12b7c5fa",
   "metadata": {},
   "source": [
    "## Amazon Reviews\n",
    "\n",
    "### Motivation\n",
    " - **Why was this dataset created?**\n",
    "     - This dataset was intended to facilitate public study into the properties of Amazon customer reviews including how consumers evolve, express, and evaluate Amazon products.\n",
    " \n",
    " - **Who funded the creation of the dataset?**\n",
    "     - Amazon funded and collected this Amazon Customer Reviews Product for public use. The information is publicly available on Amazon Web Services.\n",
    "\n",
    "### Composition\n",
    "  - **What are the observations (rows) and the attributes (columns)?**\n",
    "      - The observations consist of each individual review. Each review has the following column attributes: customer_id, review_id, product_id, product_title, star_rating (Scale of 1-5), helpful_votes, vine (Amazon invites select credible users to review products through their Vine program), verified_purchase, review_headline, review_body, and review_date.\n",
    "  \n",
    " - **How many instances are there in the dataset? Does it contain all possible instances or is it a sample? What processes might have influenced what data was observed and recorded and what was not?**\n",
    "     - There are a total of 40,000 observations. The original dataset with over a million reviews in the beauty category is a sample collected by Amazon. Amazon constructed this dataset hoping to represent a sample of different customer opinions and demographics. We then narrowed the dataset even further by most recent year and then by select brands leading the beauty/hair care industry. \n",
    " \n",
    " - **Where can your raw source data be found, if applicable? Provide a link to the raw data (hosted in a Cornell Google Drive or Cornell Box).**\n",
    "     - The raw source can be found on Amazon Web Services. Here is the link to raw datasets also uploaded on google drive: https://drive.google.com/drive/folders/1F1Z1ERhp18uaB9J1d-dkGYhBCbJnPyXC?usp=sharing\n",
    " \n",
    " - **Is the data self contained or does it rely on other outside websites?**\n",
    "     - The data is self-contained in a downloaded tsv file.\n",
    " \n",
    " - **Does this data relate to individuals? Can the individuals be identified? Are there any subpopulations that can be identified?**\n",
    "     - Each individual review is associated to a reviewer through customer_id. However, there is no further information about this individual and customers cannot be split off into smaller subpopulations by demographics.\n",
    " \n",
    "### Collection Process\n",
    " - **If people are involved, were they aware of the data collection and if so, what purpose did they expect the data to be used for?**\n",
    "     - The reviewers in the dataset are not aware of their reviews being used for this purpose. They gave their consent to Amazon when they published their reviews publicly on Amazon. \n",
    " \n",
    " - **What time frame was the data collected?**\n",
    "     - Amazon collected reviews starting from 1995 all the way to 2015. However, we only used the most recent data from 2015.\n",
    " \n",
    "### Preprocessing\n",
    " - **What preprocessing was done, and how did the data come to be in the form that you are using?**\n",
    "     - We conducted filtering on certain column values by year and product brand. We then randomly selected 40,000 observations to narrow down the size of our dataset. The original creators of the dataset had to do preprocessing that included choosing their own sample of reviews, coding whether each review was a vine/verified purchase, categorize the product, etc. They had to scrape their own website, or had the reviews stored in a database which they then transformed into a .tsv file. Their exact preprocessing steps were undisclosed.\n",
    " \n",
    "  - **Are there are any errors, sources of noise, or redundancies in the data?**\n",
    "      - There were some observations with additional attributes/columns when parsing in the data from a csv file. We handled this by skipping over these lines and not including in the final dataset as it would not be reasonable to comb through the millions of reviews to individually handle each of these errors.\n",
    " \n",
    "### Uses\n",
    " - **Has this data been used before? If so, what for?**\n",
    "     - There are no public publishings using this dataset that could be found. However, we found a few other Amazon review analysis using other Amazon datasets. These analyses consisted mainly of review sentiment analysis. "
   ]
  },
  {
   "cell_type": "markdown",
   "id": "26656887",
   "metadata": {},
   "source": [
    "# Preregistration Statement\n",
    "\n",
    "## Analysis 1: Review Text Sentiment Analysis\n",
    "\n",
    "In this analysis, we plan on examining which words appear most frequently in the text of each review through the `sklearn.feature_extraction.text` module, specifically the `CountVectorizer` function to get counts of words in each review, and also use a term-document matrix to see how frequently specific words appear in reviews. \n",
    "\n",
    "We will then create a logisitic regression model using the vectorized words to predict if a review is positive or negative. We will make this model more accurate by splitting the data into training and testing sets, as well as running cross validation.\n",
    "\n",
    "With this tool, we will be able to see how words in reviews differ by their star rating, for example. Diving deeper into this concept, we would expect 1-star and possibly 5-star reviews to contain more polarizing terms than 2 or 3 star reviews. In the real world, 1-star reviews are usually extremely biased and therefore we expect to see different words come up compared to those of 2 star reviews.\n",
    "\n",
    "We could also compare the common words between corporations, and see if the top words by corporations reflect in some way their performance that year in the market. For example, L'oreal was the market leader in the year 2015, thus we might expect to find more words with a positive connotation. On the other hand, Johnson & Johnson had the least sales, so maybe the sentiments from those reviews will reflect the poorer sales. \n",
    "\n",
    "## Analysis 2: Star Rating Distribution by Company and Verified Purchase Status\n",
    "\n",
    "First, we plan on comparing the overall star rating distributions of each company. We will achieve this by running a statistical test, such as the Kolmogorov-Smirnov test, to create a matrix of test statistics as we compare two companies against each other. Some of these test statistics might include values such as correlation, p-value, and possibly z-scores. From this, we will be able to determine if there are any quanitifiable differences between company star ratings as they relate to their performance in the market.\n",
    "\n",
    "We will further examine the differences between companies as we delve into their star ratings for verified purchases against non-verified purchases. In our exploratory analysis, we noticed that the mean star ratings for non-verified purchases were consistently lower than the star ratings for verified purchases. Based on this observation, we aim to perform more statistical tests (perhaps the Kolmogorov-Smirnov again), to see if there is any signficant findings through p-values and other specific test statistics. We hypothesize that there will not be any huge differences in the ratings between companies, however there will be differences in the star ratings distributions for verified vs. non-verified purchases as a whole. This hypothesis is derived from our initial visualizations in our histograms of Phase II. These results will hopefully reveal trends in how people form their reviews which would be interesting to see, even if it does not reveal anything significant about the various companies' performance."
   ]
  },
  {
   "cell_type": "markdown",
   "id": "f188e685",
   "metadata": {},
   "source": [
    "# **Data Analysis**\n",
    "Now we are going to begin our data analysis. (1) We are looking at general summary statistics for both the Beauty Market and Amazon reviews datasets. (2) We will run our text sentiment analysis to look at trends in review wording. (3) Then we will run a multinomial regression to procure correlations on star ratings, vine reviews, etc. to identify any indicators for each corporation. (4) We will conclude with the Komogorov-Smirnov statistical test to examine the similiarity in distribution of reviews."
   ]
  },
  {
   "cell_type": "markdown",
   "id": "d72c69f0",
   "metadata": {},
   "source": [
    "# Summary Functions & Visuals"
   ]
  },
  {
   "cell_type": "markdown",
   "id": "a66a5531",
   "metadata": {},
   "source": [
    "## Beauty Market"
   ]
  },
  {
   "cell_type": "code",
   "execution_count": 3,
   "id": "8cd3b6eb",
   "metadata": {},
   "outputs": [],
   "source": [
    "# reading in pre-cleaned beauty market data\n",
    "market_sales = pd.read_csv('beauty_market_data.csv')"
   ]
  },
  {
   "cell_type": "code",
   "execution_count": 24,
   "id": "8ba42aea",
   "metadata": {},
   "outputs": [
    {
     "data": {
      "text/html": [
       "<div>\n",
       "<style scoped>\n",
       "    .dataframe tbody tr th:only-of-type {\n",
       "        vertical-align: middle;\n",
       "    }\n",
       "\n",
       "    .dataframe tbody tr th {\n",
       "        vertical-align: top;\n",
       "    }\n",
       "\n",
       "    .dataframe thead th {\n",
       "        text-align: right;\n",
       "    }\n",
       "</style>\n",
       "<table border=\"1\" class=\"dataframe\">\n",
       "  <thead>\n",
       "    <tr style=\"text-align: right;\">\n",
       "      <th></th>\n",
       "      <th>Company</th>\n",
       "      <th>2014_sales_millions</th>\n",
       "      <th>2014_market_share_percent</th>\n",
       "      <th>2015_sales_millions</th>\n",
       "      <th>2015_market_share_percent</th>\n",
       "      <th>sale_change_percent</th>\n",
       "      <th>share_change_percent</th>\n",
       "    </tr>\n",
       "  </thead>\n",
       "  <tbody>\n",
       "    <tr>\n",
       "      <th>0</th>\n",
       "      <td>L'Oréal USA</td>\n",
       "      <td>1797.9</td>\n",
       "      <td>39.1</td>\n",
       "      <td>1815.0</td>\n",
       "      <td>38.6</td>\n",
       "      <td>1.0</td>\n",
       "      <td>-0.5</td>\n",
       "    </tr>\n",
       "    <tr>\n",
       "      <th>1</th>\n",
       "      <td>Procter &amp; Gamble</td>\n",
       "      <td>954.7</td>\n",
       "      <td>20.8</td>\n",
       "      <td>946.1</td>\n",
       "      <td>20.1</td>\n",
       "      <td>-0.9</td>\n",
       "      <td>-0.7</td>\n",
       "    </tr>\n",
       "    <tr>\n",
       "      <th>2</th>\n",
       "      <td>Revlon Inc.</td>\n",
       "      <td>670.5</td>\n",
       "      <td>14.6</td>\n",
       "      <td>661.6</td>\n",
       "      <td>14.1</td>\n",
       "      <td>-1.3</td>\n",
       "      <td>-0.5</td>\n",
       "    </tr>\n",
       "    <tr>\n",
       "      <th>3</th>\n",
       "      <td>Coty Beauty</td>\n",
       "      <td>262.3</td>\n",
       "      <td>5.7</td>\n",
       "      <td>263.8</td>\n",
       "      <td>5.6</td>\n",
       "      <td>0.5</td>\n",
       "      <td>-0.1</td>\n",
       "    </tr>\n",
       "    <tr>\n",
       "      <th>4</th>\n",
       "      <td>Johnson &amp; Johnson</td>\n",
       "      <td>171.9</td>\n",
       "      <td>3.7</td>\n",
       "      <td>176.0</td>\n",
       "      <td>3.7</td>\n",
       "      <td>2.4</td>\n",
       "      <td>0.0</td>\n",
       "    </tr>\n",
       "  </tbody>\n",
       "</table>\n",
       "</div>"
      ],
      "text/plain": [
       "             Company  2014_sales_millions  2014_market_share_percent  \\\n",
       "0        L'Oréal USA               1797.9                       39.1   \n",
       "1   Procter & Gamble                954.7                       20.8   \n",
       "2        Revlon Inc.                670.5                       14.6   \n",
       "3        Coty Beauty                262.3                        5.7   \n",
       "4  Johnson & Johnson                171.9                        3.7   \n",
       "\n",
       "   2015_sales_millions  2015_market_share_percent  sale_change_percent  \\\n",
       "0               1815.0                       38.6                  1.0   \n",
       "1                946.1                       20.1                 -0.9   \n",
       "2                661.6                       14.1                 -1.3   \n",
       "3                263.8                        5.6                  0.5   \n",
       "4                176.0                        3.7                  2.4   \n",
       "\n",
       "   share_change_percent  \n",
       "0                  -0.5  \n",
       "1                  -0.7  \n",
       "2                  -0.5  \n",
       "3                  -0.1  \n",
       "4                   0.0  "
      ]
     },
     "execution_count": 24,
     "metadata": {},
     "output_type": "execute_result"
    }
   ],
   "source": [
    "market_sales"
   ]
  },
  {
   "cell_type": "markdown",
   "id": "f73919d9",
   "metadata": {},
   "source": [
    "Now we will compare the sales between 2014-2015 by company, as well as their sales/share percentage change. The most appropriate graph for this exploration would be a bar chart."
   ]
  },
  {
   "cell_type": "code",
   "execution_count": 4,
   "id": "57edc05b",
   "metadata": {},
   "outputs": [
    {
     "data": {
      "image/png": "[encoded data removed]",
      "text/plain": [
       "<Figure size 576x432 with 1 Axes>"
      ]
     },
     "metadata": {
      "needs_background": "light"
     },
     "output_type": "display_data"
    }
   ],
   "source": [
    "market_sales.plot(x = \"Company\", y= ['2014_sales_millions', '2015_sales_millions'], kind = 'bar', legend = True, figsize = (8, 6))\n",
    "plt.ylabel(\"Sales in Millions of Dollars\")\n",
    "plt.title(\"Company Sales in 2014 vs. 2015\")\n",
    "plt.show()"
   ]
  },
  {
   "cell_type": "markdown",
   "id": "dc9f03a8",
   "metadata": {},
   "source": [
    "We then wanted to examine the sale and share percent change by company, so we use a bar graph again. Since there are positive and negative values, we know that the graph will look a bit different."
   ]
  },
  {
   "cell_type": "code",
   "execution_count": 26,
   "id": "13fa9b26",
   "metadata": {},
   "outputs": [
    {
     "data": {
      "image/png": "[encoded data removed]",
      "text/plain": [
       "<Figure size 432x360 with 1 Axes>"
      ]
     },
     "metadata": {
      "needs_background": "light"
     },
     "output_type": "display_data"
    }
   ],
   "source": [
    "market_sales.plot(x = \"Company\", y= ['sale_change_percent', 'share_change_percent'], kind = 'bar', legend = True, figsize = (6, 5))\n",
    "plt.axhline(y=0, color='black', linestyle='-')\n",
    "plt.ylabel(\"Percentage Change\")\n",
    "plt.title(\"Company Share and Sale Percentages\")\n",
    "plt.show()"
   ]
  },
  {
   "cell_type": "markdown",
   "id": "8db4cf30",
   "metadata": {},
   "source": [
    "Here we see some interesting data. While the sale change percent grew for L'Oreal and Coty Beauty, their share percentages declined. Additionally, Johnson & Johnson sale percentage grew far more than any other company. It is also noteable that J&J's share percentage did not change at all. Another interesting observation is that while J&J had the largest sales percentage increase, their overall sales still remained the lowest in terms of millions of dollars."
   ]
  },
  {
   "cell_type": "markdown",
   "id": "bcf2a347",
   "metadata": {},
   "source": [
    "## Amazon"
   ]
  },
  {
   "cell_type": "code",
   "execution_count": 2,
   "id": "3f9ef331",
   "metadata": {},
   "outputs": [],
   "source": [
    "# reading in pre-cleaned amazon review dataset\n",
    "beauty_clean = pd.read_csv('amazonreviews_beauty.csv')"
   ]
  },
  {
   "cell_type": "code",
   "execution_count": 28,
   "id": "9c202e64",
   "metadata": {},
   "outputs": [
    {
     "data": {
      "text/html": [
       "<div>\n",
       "<style scoped>\n",
       "    .dataframe tbody tr th:only-of-type {\n",
       "        vertical-align: middle;\n",
       "    }\n",
       "\n",
       "    .dataframe tbody tr th {\n",
       "        vertical-align: top;\n",
       "    }\n",
       "\n",
       "    .dataframe thead th {\n",
       "        text-align: right;\n",
       "    }\n",
       "</style>\n",
       "<table border=\"1\" class=\"dataframe\">\n",
       "  <thead>\n",
       "    <tr style=\"text-align: right;\">\n",
       "      <th></th>\n",
       "      <th>customer_id</th>\n",
       "      <th>review_id</th>\n",
       "      <th>product_id</th>\n",
       "      <th>product_parent</th>\n",
       "      <th>product_title</th>\n",
       "      <th>star_rating</th>\n",
       "      <th>helpful_votes</th>\n",
       "      <th>vine</th>\n",
       "      <th>verified_purchase</th>\n",
       "      <th>review_headline</th>\n",
       "      <th>review_body</th>\n",
       "      <th>review_date</th>\n",
       "      <th>corporation</th>\n",
       "    </tr>\n",
       "  </thead>\n",
       "  <tbody>\n",
       "    <tr>\n",
       "      <th>0</th>\n",
       "      <td>44229150</td>\n",
       "      <td>RVYRD19B1ZYM7</td>\n",
       "      <td>B00PJ5ZMOA</td>\n",
       "      <td>413244867</td>\n",
       "      <td>Sally Hansen Treatment Gel Shine 3D Top Coat N...</td>\n",
       "      <td>5.0</td>\n",
       "      <td>1.0</td>\n",
       "      <td>N</td>\n",
       "      <td>N</td>\n",
       "      <td>A must try</td>\n",
       "      <td>The best top coat ever! Makes my nails shiny a...</td>\n",
       "      <td>2015-03-11</td>\n",
       "      <td>Coty</td>\n",
       "    </tr>\n",
       "    <tr>\n",
       "      <th>1</th>\n",
       "      <td>16159737</td>\n",
       "      <td>R1QS2P3JI6D47X</td>\n",
       "      <td>B00KLSYJGW</td>\n",
       "      <td>736313484</td>\n",
       "      <td>Maybelline New York Expert Wear Eye shadow Tri...</td>\n",
       "      <td>5.0</td>\n",
       "      <td>0.0</td>\n",
       "      <td>N</td>\n",
       "      <td>Y</td>\n",
       "      <td>Five Stars</td>\n",
       "      <td>Just what I wanted and I can't buy it here!</td>\n",
       "      <td>2015-05-18</td>\n",
       "      <td>L'oreal</td>\n",
       "    </tr>\n",
       "    <tr>\n",
       "      <th>2</th>\n",
       "      <td>27448091</td>\n",
       "      <td>R1A1NJ5KBINKRQ</td>\n",
       "      <td>B000NWAOHE</td>\n",
       "      <td>102547393</td>\n",
       "      <td>Neutrogena Cleansing Oil-Free Eye Makeup Remover</td>\n",
       "      <td>5.0</td>\n",
       "      <td>0.0</td>\n",
       "      <td>N</td>\n",
       "      <td>Y</td>\n",
       "      <td>I've bought 2!</td>\n",
       "      <td>This works fantastic in removing eye makeup.  ...</td>\n",
       "      <td>2015-03-22</td>\n",
       "      <td>Johnson &amp; Johnson</td>\n",
       "    </tr>\n",
       "    <tr>\n",
       "      <th>3</th>\n",
       "      <td>36691645</td>\n",
       "      <td>R8B99UKN512TG</td>\n",
       "      <td>B0039UTV5I</td>\n",
       "      <td>213576683</td>\n",
       "      <td>Revlon ColorStay Liquid Makeup for Combination...</td>\n",
       "      <td>5.0</td>\n",
       "      <td>0.0</td>\n",
       "      <td>N</td>\n",
       "      <td>Y</td>\n",
       "      <td>Five Stars</td>\n",
       "      <td>Great seller, excellent product, fast delivery...</td>\n",
       "      <td>2015-06-17</td>\n",
       "      <td>Revlon</td>\n",
       "    </tr>\n",
       "    <tr>\n",
       "      <th>4</th>\n",
       "      <td>14965451</td>\n",
       "      <td>RGBKX7KMKFG01</td>\n",
       "      <td>B00N6M9N0C</td>\n",
       "      <td>415585559</td>\n",
       "      <td>Maybelline New York Great Lash Real Impact Was...</td>\n",
       "      <td>1.0</td>\n",
       "      <td>0.0</td>\n",
       "      <td>N</td>\n",
       "      <td>N</td>\n",
       "      <td>One Star</td>\n",
       "      <td>Worst product ever. Dont waste your money.</td>\n",
       "      <td>2015-06-27</td>\n",
       "      <td>L'oreal</td>\n",
       "    </tr>\n",
       "  </tbody>\n",
       "</table>\n",
       "</div>"
      ],
      "text/plain": [
       "   customer_id       review_id  product_id  product_parent  \\\n",
       "0     44229150   RVYRD19B1ZYM7  B00PJ5ZMOA       413244867   \n",
       "1     16159737  R1QS2P3JI6D47X  B00KLSYJGW       736313484   \n",
       "2     27448091  R1A1NJ5KBINKRQ  B000NWAOHE       102547393   \n",
       "3     36691645   R8B99UKN512TG  B0039UTV5I       213576683   \n",
       "4     14965451   RGBKX7KMKFG01  B00N6M9N0C       415585559   \n",
       "\n",
       "                                       product_title  star_rating  \\\n",
       "0  Sally Hansen Treatment Gel Shine 3D Top Coat N...          5.0   \n",
       "1  Maybelline New York Expert Wear Eye shadow Tri...          5.0   \n",
       "2   Neutrogena Cleansing Oil-Free Eye Makeup Remover          5.0   \n",
       "3  Revlon ColorStay Liquid Makeup for Combination...          5.0   \n",
       "4  Maybelline New York Great Lash Real Impact Was...          1.0   \n",
       "\n",
       "   helpful_votes vine verified_purchase review_headline  \\\n",
       "0            1.0    N                 N      A must try   \n",
       "1            0.0    N                 Y      Five Stars   \n",
       "2            0.0    N                 Y  I've bought 2!   \n",
       "3            0.0    N                 Y      Five Stars   \n",
       "4            0.0    N                 N        One Star   \n",
       "\n",
       "                                         review_body review_date  \\\n",
       "0  The best top coat ever! Makes my nails shiny a...  2015-03-11   \n",
       "1        Just what I wanted and I can't buy it here!  2015-05-18   \n",
       "2  This works fantastic in removing eye makeup.  ...  2015-03-22   \n",
       "3  Great seller, excellent product, fast delivery...  2015-06-17   \n",
       "4         Worst product ever. Dont waste your money.  2015-06-27   \n",
       "\n",
       "         corporation  \n",
       "0               Coty  \n",
       "1            L'oreal  \n",
       "2  Johnson & Johnson  \n",
       "3             Revlon  \n",
       "4            L'oreal  "
      ]
     },
     "execution_count": 28,
     "metadata": {},
     "output_type": "execute_result"
    }
   ],
   "source": [
    "beauty_clean.head()"
   ]
  },
  {
   "cell_type": "markdown",
   "id": "0ead7ca9",
   "metadata": {},
   "source": [
    "### Histograms of Star Rating Distribution Overall and by Company"
   ]
  },
  {
   "cell_type": "markdown",
   "id": "6a36c3ad",
   "metadata": {},
   "source": [
    "The first thing we wanted to do was figure out how the star ratings of beauty products on Amazon were distributed. Since this was comparing counts, we used histograms. We first decided to look at all products overall, and then how the distributions varied by our 5 main companies."
   ]
  },
  {
   "cell_type": "code",
   "execution_count": 29,
   "id": "71d4030d",
   "metadata": {},
   "outputs": [
    {
     "data": {
      "image/png": "[encoded data removed]",
      "text/plain": [
       "<Figure size 432x288 with 1 Axes>"
      ]
     },
     "metadata": {
      "needs_background": "light"
     },
     "output_type": "display_data"
    }
   ],
   "source": [
    "beauty_clean.star_rating.hist(bins = 5)\n",
    "plt.xticks(range(1, 6))\n",
    "plt.xlabel('Star Rating')\n",
    "plt.ylabel(\"Count\")\n",
    "plt.title(\"Overall Distribution of Star Ratings\")\n",
    "plt.show()"
   ]
  },
  {
   "cell_type": "code",
   "execution_count": 30,
   "id": "5c32420a",
   "metadata": {},
   "outputs": [
    {
     "data": {
      "image/png": "[encoded data removed]",
      "text/plain": [
       "<Figure size 720x864 with 6 Axes>"
      ]
     },
     "metadata": {
      "needs_background": "light"
     },
     "output_type": "display_data"
    }
   ],
   "source": [
    "beauty_clean.star_rating.hist(by=beauty_clean.corporation, figsize = (10, 12), bins = 5)\n",
    "plt.show()"
   ]
  },
  {
   "cell_type": "markdown",
   "id": "7502f8a5",
   "metadata": {},
   "source": [
    "### Basic Statistics of Star Ratings by Corporation\n",
    "In addition, to further identify differences between companies, we looked at the standard statistical measurements such as standard deviation and variance."
   ]
  },
  {
   "cell_type": "code",
   "execution_count": 32,
   "id": "37bcd0a8",
   "metadata": {},
   "outputs": [
    {
     "data": {
      "text/html": [
       "<div>\n",
       "<style scoped>\n",
       "    .dataframe tbody tr th:only-of-type {\n",
       "        vertical-align: middle;\n",
       "    }\n",
       "\n",
       "    .dataframe tbody tr th {\n",
       "        vertical-align: top;\n",
       "    }\n",
       "\n",
       "    .dataframe thead th {\n",
       "        text-align: right;\n",
       "    }\n",
       "</style>\n",
       "<table border=\"1\" class=\"dataframe\">\n",
       "  <thead>\n",
       "    <tr style=\"text-align: right;\">\n",
       "      <th></th>\n",
       "      <th>mean</th>\n",
       "      <th>median</th>\n",
       "      <th>std</th>\n",
       "      <th>var</th>\n",
       "    </tr>\n",
       "    <tr>\n",
       "      <th>corporation</th>\n",
       "      <th></th>\n",
       "      <th></th>\n",
       "      <th></th>\n",
       "      <th></th>\n",
       "    </tr>\n",
       "  </thead>\n",
       "  <tbody>\n",
       "    <tr>\n",
       "      <th>Coty</th>\n",
       "      <td>4.033680</td>\n",
       "      <td>5.0</td>\n",
       "      <td>1.394946</td>\n",
       "      <td>1.945875</td>\n",
       "    </tr>\n",
       "    <tr>\n",
       "      <th>Johnson &amp; Johnson</th>\n",
       "      <td>4.328943</td>\n",
       "      <td>5.0</td>\n",
       "      <td>1.190374</td>\n",
       "      <td>1.416990</td>\n",
       "    </tr>\n",
       "    <tr>\n",
       "      <th>L'oreal</th>\n",
       "      <td>4.178849</td>\n",
       "      <td>5.0</td>\n",
       "      <td>1.261669</td>\n",
       "      <td>1.591809</td>\n",
       "    </tr>\n",
       "    <tr>\n",
       "      <th>Proctor &amp; Gamble</th>\n",
       "      <td>3.954545</td>\n",
       "      <td>5.0</td>\n",
       "      <td>1.338288</td>\n",
       "      <td>1.791014</td>\n",
       "    </tr>\n",
       "    <tr>\n",
       "      <th>Revlon</th>\n",
       "      <td>4.129139</td>\n",
       "      <td>5.0</td>\n",
       "      <td>1.354828</td>\n",
       "      <td>1.835559</td>\n",
       "    </tr>\n",
       "  </tbody>\n",
       "</table>\n",
       "</div>"
      ],
      "text/plain": [
       "                       mean  median       std       var\n",
       "corporation                                            \n",
       "Coty               4.033680     5.0  1.394946  1.945875\n",
       "Johnson & Johnson  4.328943     5.0  1.190374  1.416990\n",
       "L'oreal            4.178849     5.0  1.261669  1.591809\n",
       "Proctor & Gamble   3.954545     5.0  1.338288  1.791014\n",
       "Revlon             4.129139     5.0  1.354828  1.835559"
      ]
     },
     "execution_count": 32,
     "metadata": {},
     "output_type": "execute_result"
    }
   ],
   "source": [
    "beauty_clean.groupby('corporation')['star_rating'].agg([np.mean, np.median, np.std, np.var])"
   ]
  },
  {
   "cell_type": "markdown",
   "id": "2348694f",
   "metadata": {},
   "source": [
    "### Verfied Purchases and Star Ratings"
   ]
  },
  {
   "cell_type": "markdown",
   "id": "18c26881",
   "metadata": {},
   "source": [
    "The final area we are exploring is to see if verified purchases tend to receive different star ratings than non-verified purchases. We will visualize this through histograms by company."
   ]
  },
  {
   "cell_type": "code",
   "execution_count": 48,
   "id": "1977c2d8",
   "metadata": {},
   "outputs": [
    {
     "data": {
      "image/png": "[encoded data removed]",
      "text/plain": [
       "<Figure size 720x216 with 2 Axes>"
      ]
     },
     "metadata": {
      "needs_background": "light"
     },
     "output_type": "display_data"
    },
    {
     "data": {
      "image/png": "[encoded data removed]",
      "text/plain": [
       "<Figure size 720x216 with 2 Axes>"
      ]
     },
     "metadata": {
      "needs_background": "light"
     },
     "output_type": "display_data"
    },
    {
     "data": {
      "image/png": "[encoded data removed]",
      "text/plain": [
       "<Figure size 720x216 with 2 Axes>"
      ]
     },
     "metadata": {
      "needs_background": "light"
     },
     "output_type": "display_data"
    },
    {
     "data": {
      "image/png": "[encoded data removed]",
      "text/plain": [
       "<Figure size 720x216 with 2 Axes>"
      ]
     },
     "metadata": {
      "needs_background": "light"
     },
     "output_type": "display_data"
    },
    {
     "data": {
      "image/png": "[encoded data removed]",
      "text/plain": [
       "<Figure size 720x216 with 2 Axes>"
      ]
     },
     "metadata": {
      "needs_background": "light"
     },
     "output_type": "display_data"
    },
    {
     "data": {
      "text/plain": [
       "verified_purchase  corporation      \n",
       "N                  Coty                 3.623209\n",
       "                   Johnson & Johnson    3.890110\n",
       "                   L'oreal              3.796965\n",
       "                   Proctor & Gamble     4.666667\n",
       "                   Revlon               3.565390\n",
       "Y                  Coty                 4.096141\n",
       "                   Johnson & Johnson    4.411388\n",
       "                   L'oreal              4.236064\n",
       "                   Proctor & Gamble     3.929412\n",
       "                   Revlon               4.180730\n",
       "Name: star_rating, dtype: float64"
      ]
     },
     "execution_count": 48,
     "metadata": {},
     "output_type": "execute_result"
    }
   ],
   "source": [
    "# histogram of star rating grouped by verified vs non-verified purchases\n",
    "plot = beauty_clean[beauty_clean['corporation']==\"L'oreal\"]['star_rating'].hist(by=beauty_clean['verified_purchase'], \n",
    "                                                                              figsize = (10, 3), \n",
    "                                                                              bins=5)\n",
    "plot[1].set_title(\"L'oreal: Verified Purchase\")\n",
    "plot[1].set_xlabel('Star Rating')\n",
    "plot[0].set_title(\"L'oreal: Non-Verified Purchase\")\n",
    "plot[0].set_xlabel('Star Rating')\n",
    "plt.show()\n",
    "\n",
    "plot = beauty_clean[beauty_clean['corporation']==\"Coty\"]['star_rating'].hist(by=beauty_clean['verified_purchase'], \n",
    "                                                                              figsize = (10, 3), \n",
    "                                                                              bins=5)\n",
    "plot[1].set_title(\"Coty: Verified Purchase\")\n",
    "plot[1].set_xlabel('Star Rating')\n",
    "plot[0].set_title(\"Coty: Non-Verified Purchase\")\n",
    "plot[0].set_xlabel('Star Rating')\n",
    "plt.show()\n",
    "\n",
    "plot = beauty_clean[beauty_clean['corporation']==\"Revlon\"]['star_rating'].hist(by=beauty_clean['verified_purchase'], \n",
    "                                                                              figsize = (10, 3), \n",
    "                                                                              bins=5)\n",
    "plot[1].set_title(\"Revlon: Verified Purchase\")\n",
    "plot[1].set_xlabel('Star Rating')\n",
    "plot[0].set_title(\"Revlon: Non-Verified Purchase\")\n",
    "plot[0].set_xlabel('Star Rating')\n",
    "plt.show()\n",
    "\n",
    "plot = beauty_clean[beauty_clean['corporation']==\"Johnson & Johnson\"]['star_rating'].hist(by=beauty_clean['verified_purchase'], \n",
    "                                                                              figsize = (10, 3), \n",
    "                                                                              bins=5)\n",
    "plot[1].set_title(\"Johnson & Johnson: Verified Purchase\")\n",
    "plot[1].set_xlabel('Star Rating')\n",
    "plot[0].set_title(\"Johnson & Johnson: Non-Verified Purchase\")\n",
    "plot[0].set_xlabel('Star Rating')\n",
    "plt.show()\n",
    "\n",
    "plot = beauty_clean[beauty_clean['corporation']==\"Proctor & Gamble\"]['star_rating'].hist(by=beauty_clean['verified_purchase'], \n",
    "                                                                              figsize = (10, 3), \n",
    "                                                                              bins=5)\n",
    "plot[1].set_title(\"Proctor & Gamble: Verified Purchase\")\n",
    "plot[1].set_xlabel('Star Rating')\n",
    "plot[0].set_title(\"Proctor & Gamble: Non-Verified Purchase\")\n",
    "plot[0].set_xlabel('Star Rating')\n",
    "plt.show()\n",
    "\n",
    "# summary statistics: mean\n",
    "beauty_clean.groupby(['verified_purchase','corporation'])['star_rating'].mean()"
   ]
  },
  {
   "cell_type": "markdown",
   "id": "ea08eaac",
   "metadata": {},
   "source": [
    "Non-verified purchases tend to have more one star ratings relative to its other ratings. The Proctor and Gamble: Non-verified purchases graph only has one observation and is an anomaly. I am not planning on using this graph/data point.\n",
    "\n",
    "Additionally, comparing the means between verified and non-verified purchases, we can see that verified ourchases have consistently higher star_rating means. "
   ]
  },
  {
   "cell_type": "markdown",
   "id": "68461a93",
   "metadata": {},
   "source": [
    "### Review Body Length Analysis"
   ]
  },
  {
   "cell_type": "markdown",
   "id": "776582e2",
   "metadata": {},
   "source": [
    "We then wanted to explore the distribution of review body text length. We decided the best way to do this was through histograms. Like our other graphs, we first explored how this looked across all companies altogther, and then we further broke the data down by company."
   ]
  },
  {
   "cell_type": "markdown",
   "id": "cdbced1f",
   "metadata": {},
   "source": [
    "First we need to calculate how long each review is, which we are doing by counting the number of characters. We added another column for this called review_length."
   ]
  },
  {
   "cell_type": "code",
   "execution_count": 4,
   "id": "c4ae79d4",
   "metadata": {},
   "outputs": [],
   "source": [
    "beauty_clean['review_length'] = beauty_clean['review_body'].str.len()"
   ]
  },
  {
   "cell_type": "code",
   "execution_count": 65,
   "id": "b9063c00",
   "metadata": {},
   "outputs": [
    {
     "data": {
      "text/html": [
       "<div>\n",
       "<style scoped>\n",
       "    .dataframe tbody tr th:only-of-type {\n",
       "        vertical-align: middle;\n",
       "    }\n",
       "\n",
       "    .dataframe tbody tr th {\n",
       "        vertical-align: top;\n",
       "    }\n",
       "\n",
       "    .dataframe thead th {\n",
       "        text-align: right;\n",
       "    }\n",
       "</style>\n",
       "<table border=\"1\" class=\"dataframe\">\n",
       "  <thead>\n",
       "    <tr style=\"text-align: right;\">\n",
       "      <th></th>\n",
       "      <th>customer_id</th>\n",
       "      <th>review_id</th>\n",
       "      <th>product_id</th>\n",
       "      <th>product_parent</th>\n",
       "      <th>product_title</th>\n",
       "      <th>star_rating</th>\n",
       "      <th>helpful_votes</th>\n",
       "      <th>vine</th>\n",
       "      <th>verified_purchase</th>\n",
       "      <th>review_headline</th>\n",
       "      <th>review_body</th>\n",
       "      <th>review_date</th>\n",
       "      <th>corporation</th>\n",
       "      <th>review_length</th>\n",
       "    </tr>\n",
       "  </thead>\n",
       "  <tbody>\n",
       "    <tr>\n",
       "      <th>0</th>\n",
       "      <td>24767754</td>\n",
       "      <td>R1XFL3Z2OT99W8</td>\n",
       "      <td>B003LSZHQ0</td>\n",
       "      <td>192111987</td>\n",
       "      <td>Revlon Beyond Natural Blush &amp; Bronzer, Peach (...</td>\n",
       "      <td>3.0</td>\n",
       "      <td>0.0</td>\n",
       "      <td>N</td>\n",
       "      <td>Y</td>\n",
       "      <td>Three Stars</td>\n",
       "      <td>This blush and bronzer was no big deal.  It's ...</td>\n",
       "      <td>2015-06-10</td>\n",
       "      <td>Revlon</td>\n",
       "      <td>72.0</td>\n",
       "    </tr>\n",
       "    <tr>\n",
       "      <th>1</th>\n",
       "      <td>28040275</td>\n",
       "      <td>R3AKWI2QG78Y6W</td>\n",
       "      <td>B00A9KBHR6</td>\n",
       "      <td>533375687</td>\n",
       "      <td>Exclusive By Revlon Crazy Shine Nail Buffer # ...</td>\n",
       "      <td>5.0</td>\n",
       "      <td>0.0</td>\n",
       "      <td>N</td>\n",
       "      <td>Y</td>\n",
       "      <td>These make your natural nails so shiny. The gr...</td>\n",
       "      <td>These make your natural nails so shiny.  The g...</td>\n",
       "      <td>2015-08-28</td>\n",
       "      <td>Revlon</td>\n",
       "      <td>189.0</td>\n",
       "    </tr>\n",
       "    <tr>\n",
       "      <th>2</th>\n",
       "      <td>34986371</td>\n",
       "      <td>R1UU0O9IDQAJ90</td>\n",
       "      <td>B001DPMETG</td>\n",
       "      <td>105754500</td>\n",
       "      <td>Garnier SkinActive Clearly Brighter Anti-Puff ...</td>\n",
       "      <td>5.0</td>\n",
       "      <td>1.0</td>\n",
       "      <td>N</td>\n",
       "      <td>Y</td>\n",
       "      <td>This works well because it lets me massage awa...</td>\n",
       "      <td>This works well because it lets me massage awa...</td>\n",
       "      <td>2015-07-23</td>\n",
       "      <td>L'oreal</td>\n",
       "      <td>119.0</td>\n",
       "    </tr>\n",
       "    <tr>\n",
       "      <th>3</th>\n",
       "      <td>36407464</td>\n",
       "      <td>R1XQ88PJ7HPGYQ</td>\n",
       "      <td>B00113HO90</td>\n",
       "      <td>78786137</td>\n",
       "      <td>Neutrogena Rainbath Refreshing Shower and Bath...</td>\n",
       "      <td>5.0</td>\n",
       "      <td>0.0</td>\n",
       "      <td>N</td>\n",
       "      <td>Y</td>\n",
       "      <td>Neutrogena Rocks!!</td>\n",
       "      <td>Awesome products!!</td>\n",
       "      <td>2015-05-25</td>\n",
       "      <td>Johnson &amp; Johnson</td>\n",
       "      <td>18.0</td>\n",
       "    </tr>\n",
       "    <tr>\n",
       "      <th>4</th>\n",
       "      <td>889672</td>\n",
       "      <td>R1YLPTSI256CM6</td>\n",
       "      <td>B004Y9H1QO</td>\n",
       "      <td>511887159</td>\n",
       "      <td>Maybelline New York Baby Lips Moisturizing Lip...</td>\n",
       "      <td>5.0</td>\n",
       "      <td>0.0</td>\n",
       "      <td>N</td>\n",
       "      <td>Y</td>\n",
       "      <td>Five Stars</td>\n",
       "      <td>ok</td>\n",
       "      <td>2015-02-07</td>\n",
       "      <td>L'oreal</td>\n",
       "      <td>2.0</td>\n",
       "    </tr>\n",
       "  </tbody>\n",
       "</table>\n",
       "</div>"
      ],
      "text/plain": [
       "   customer_id       review_id  product_id  product_parent  \\\n",
       "0     24767754  R1XFL3Z2OT99W8  B003LSZHQ0       192111987   \n",
       "1     28040275  R3AKWI2QG78Y6W  B00A9KBHR6       533375687   \n",
       "2     34986371  R1UU0O9IDQAJ90  B001DPMETG       105754500   \n",
       "3     36407464  R1XQ88PJ7HPGYQ  B00113HO90        78786137   \n",
       "4       889672  R1YLPTSI256CM6  B004Y9H1QO       511887159   \n",
       "\n",
       "                                       product_title  star_rating  \\\n",
       "0  Revlon Beyond Natural Blush & Bronzer, Peach (...          3.0   \n",
       "1  Exclusive By Revlon Crazy Shine Nail Buffer # ...          5.0   \n",
       "2  Garnier SkinActive Clearly Brighter Anti-Puff ...          5.0   \n",
       "3  Neutrogena Rainbath Refreshing Shower and Bath...          5.0   \n",
       "4  Maybelline New York Baby Lips Moisturizing Lip...          5.0   \n",
       "\n",
       "   helpful_votes vine verified_purchase  \\\n",
       "0            0.0    N                 Y   \n",
       "1            0.0    N                 Y   \n",
       "2            1.0    N                 Y   \n",
       "3            0.0    N                 Y   \n",
       "4            0.0    N                 Y   \n",
       "\n",
       "                                     review_headline  \\\n",
       "0                                        Three Stars   \n",
       "1  These make your natural nails so shiny. The gr...   \n",
       "2  This works well because it lets me massage awa...   \n",
       "3                                 Neutrogena Rocks!!   \n",
       "4                                         Five Stars   \n",
       "\n",
       "                                         review_body review_date  \\\n",
       "0  This blush and bronzer was no big deal.  It's ...  2015-06-10   \n",
       "1  These make your natural nails so shiny.  The g...  2015-08-28   \n",
       "2  This works well because it lets me massage awa...  2015-07-23   \n",
       "3                                 Awesome products!!  2015-05-25   \n",
       "4                                                 ok  2015-02-07   \n",
       "\n",
       "         corporation  review_length  \n",
       "0             Revlon           72.0  \n",
       "1             Revlon          189.0  \n",
       "2            L'oreal          119.0  \n",
       "3  Johnson & Johnson           18.0  \n",
       "4            L'oreal            2.0  "
      ]
     },
     "execution_count": 65,
     "metadata": {},
     "output_type": "execute_result"
    }
   ],
   "source": [
    "beauty_clean.head() #now we see our new review_length column"
   ]
  },
  {
   "cell_type": "markdown",
   "id": "6b8060cd",
   "metadata": {},
   "source": [
    "Now that we have this new column, we can visualize this data through some more histograms. As we have been doing throughout, we will begin with an examination of all companies together, and then break the data down by company."
   ]
  },
  {
   "cell_type": "markdown",
   "id": "728eeece",
   "metadata": {},
   "source": [
    "Looking at the overall review text distribution, we see that most reviews are less than 2000 characters. Let's take a look at this distribution histogram when we only consider the reviews with less than 2000 characters."
   ]
  },
  {
   "cell_type": "code",
   "execution_count": 37,
   "id": "02c150f1",
   "metadata": {},
   "outputs": [
    {
     "data": {
      "image/png": "[encoded data removed]",
      "text/plain": [
       "<Figure size 432x288 with 1 Axes>"
      ]
     },
     "metadata": {
      "needs_background": "light"
     },
     "output_type": "display_data"
    }
   ],
   "source": [
    "beauty_clean[beauty_clean['review_length'] < 2000].review_length.hist(bins=30)\n",
    "plt.xlabel('Review Text Length')\n",
    "plt.ylabel(\"Count\")\n",
    "plt.title(\"Overall Distribution of Review Text Length (without outliers)\")\n",
    "plt.show()"
   ]
  },
  {
   "cell_type": "markdown",
   "id": "0c1d732b",
   "metadata": {},
   "source": [
    "Looking at this histogram, we still see that most reviews are 250 words or less.\n",
    "\n",
    "Now analyzing review length by distribution, we will also only look at reviews with 1000 characters or less separately."
   ]
  },
  {
   "cell_type": "markdown",
   "id": "14b06df6",
   "metadata": {},
   "source": [
    "### Histograms of Review Text Lengths of Reviews with <1000 Characters"
   ]
  },
  {
   "cell_type": "code",
   "execution_count": 38,
   "id": "7f3305e0",
   "metadata": {},
   "outputs": [
    {
     "data": {
      "image/png": "[encoded data removed]",
      "text/plain": [
       "<Figure size 720x864 with 6 Axes>"
      ]
     },
     "metadata": {
      "needs_background": "light"
     },
     "output_type": "display_data"
    }
   ],
   "source": [
    "beauty_clean[beauty_clean['review_length'] < 1000].review_length.hist(by=beauty_clean.corporation, figsize = (10, 12), bins = 50)\n",
    "plt.show()"
   ]
  },
  {
   "cell_type": "markdown",
   "id": "d488ee64",
   "metadata": {},
   "source": [
    "Note that the axes tick marks are not the same between all graphs. Despite this, we see a similar shape in all these histograms."
   ]
  },
  {
   "cell_type": "markdown",
   "id": "21e9e599",
   "metadata": {},
   "source": [
    "### Examining the Correlation Between Review Length & Star Rating"
   ]
  },
  {
   "cell_type": "markdown",
   "id": "5a6c2987",
   "metadata": {},
   "source": [
    "Now that we've analyzed just the distribution of review text length, we also want to see how this is correlated to star ratings."
   ]
  },
  {
   "cell_type": "code",
   "execution_count": 9,
   "id": "bd6ed17e",
   "metadata": {
    "scrolled": true
   },
   "outputs": [
    {
     "data": {
      "image/png": "[encoded data removed]",
      "text/plain": [
       "<Figure size 432x288 with 1 Axes>"
      ]
     },
     "metadata": {
      "needs_background": "light"
     },
     "output_type": "display_data"
    }
   ],
   "source": [
    "plt.scatter(beauty_clean['review_length'], beauty_clean['star_rating'], alpha = 0.3)\n",
    "plt.yticks(range(1, 6)) #only include ticks for the whole numbers of the star ratings\n",
    "plt.xlabel(\"review length\")\n",
    "plt.ylabel('star rating')\n",
    "plt.title('Review Length vs. Star Rating')\n",
    "plt.show()"
   ]
  },
  {
   "cell_type": "code",
   "execution_count": 40,
   "id": "a28236d8",
   "metadata": {},
   "outputs": [
    {
     "data": {
      "text/plain": [
       "-0.09800816948613393"
      ]
     },
     "execution_count": 40,
     "metadata": {},
     "output_type": "execute_result"
    }
   ],
   "source": [
    "beauty_clean['review_length'].corr(beauty_clean['star_rating'])"
   ]
  },
  {
   "cell_type": "markdown",
   "id": "1a5fd9f2",
   "metadata": {},
   "source": [
    "Clearly, most of the data is concentrated near the smaller review text length. We will do the same thing now zooming into reviews just under 3000 characters."
   ]
  },
  {
   "cell_type": "markdown",
   "id": "694f79d3",
   "metadata": {},
   "source": [
    "Based on the graph and correlation coefficient, there is virtually no correlation between review length and star ratings. This is contrary to our prediction that longer reviews might indicate extremely positive/negative ratings. "
   ]
  },
  {
   "cell_type": "markdown",
   "id": "e91e6bb9",
   "metadata": {},
   "source": [
    "### Analyzing Verified Purchases and Vine Reviews by Company"
   ]
  },
  {
   "cell_type": "markdown",
   "id": "c1c46ec7",
   "metadata": {},
   "source": [
    "Another area we want to explore is how Verified Purchases and Vine Reviews might create differences from non-verified/vine reviews."
   ]
  },
  {
   "cell_type": "markdown",
   "id": "3f9eea50",
   "metadata": {},
   "source": [
    "#### Percentages of Verified Purchases and Vine Reviews"
   ]
  },
  {
   "cell_type": "markdown",
   "id": "10a880cb",
   "metadata": {},
   "source": [
    "First we must calculate the percentage and counts of vine/verified reviews in each corporation. We use some basic list comprehensions for this."
   ]
  },
  {
   "cell_type": "code",
   "execution_count": 46,
   "id": "a8aee3b3",
   "metadata": {},
   "outputs": [
    {
     "data": {
      "text/html": [
       "<div>\n",
       "<style scoped>\n",
       "    .dataframe tbody tr th:only-of-type {\n",
       "        vertical-align: middle;\n",
       "    }\n",
       "\n",
       "    .dataframe tbody tr th {\n",
       "        vertical-align: top;\n",
       "    }\n",
       "\n",
       "    .dataframe thead th {\n",
       "        text-align: right;\n",
       "    }\n",
       "</style>\n",
       "<table border=\"1\" class=\"dataframe\">\n",
       "  <thead>\n",
       "    <tr style=\"text-align: right;\">\n",
       "      <th></th>\n",
       "      <th>brand</th>\n",
       "      <th>vine_percent</th>\n",
       "      <th>vine_counts</th>\n",
       "      <th>verified_percent</th>\n",
       "      <th>verified_counts</th>\n",
       "      <th>total</th>\n",
       "    </tr>\n",
       "  </thead>\n",
       "  <tbody>\n",
       "    <tr>\n",
       "      <th>0</th>\n",
       "      <td>L'oreal</td>\n",
       "      <td>1.009137</td>\n",
       "      <td>148</td>\n",
       "      <td>86.969862</td>\n",
       "      <td>12755</td>\n",
       "      <td>14666</td>\n",
       "    </tr>\n",
       "    <tr>\n",
       "      <th>1</th>\n",
       "      <td>Coty</td>\n",
       "      <td>0.000000</td>\n",
       "      <td>0</td>\n",
       "      <td>86.792810</td>\n",
       "      <td>4587</td>\n",
       "      <td>5285</td>\n",
       "    </tr>\n",
       "    <tr>\n",
       "      <th>2</th>\n",
       "      <td>Revlon</td>\n",
       "      <td>0.443017</td>\n",
       "      <td>40</td>\n",
       "      <td>91.615904</td>\n",
       "      <td>8272</td>\n",
       "      <td>9029</td>\n",
       "    </tr>\n",
       "    <tr>\n",
       "      <th>3</th>\n",
       "      <td>Johnson &amp; Johnson</td>\n",
       "      <td>1.920966</td>\n",
       "      <td>210</td>\n",
       "      <td>84.184047</td>\n",
       "      <td>9203</td>\n",
       "      <td>10932</td>\n",
       "    </tr>\n",
       "    <tr>\n",
       "      <th>4</th>\n",
       "      <td>Proctor &amp; Gamble</td>\n",
       "      <td>0.000000</td>\n",
       "      <td>0</td>\n",
       "      <td>96.590909</td>\n",
       "      <td>85</td>\n",
       "      <td>88</td>\n",
       "    </tr>\n",
       "  </tbody>\n",
       "</table>\n",
       "</div>"
      ],
      "text/plain": [
       "               brand  vine_percent  vine_counts  verified_percent  \\\n",
       "0            L'oreal      1.009137          148         86.969862   \n",
       "1               Coty      0.000000            0         86.792810   \n",
       "2             Revlon      0.443017           40         91.615904   \n",
       "3  Johnson & Johnson      1.920966          210         84.184047   \n",
       "4   Proctor & Gamble      0.000000            0         96.590909   \n",
       "\n",
       "   verified_counts  total  \n",
       "0            12755  14666  \n",
       "1             4587   5285  \n",
       "2             8272   9029  \n",
       "3             9203  10932  \n",
       "4               85     88  "
      ]
     },
     "execution_count": 46,
     "metadata": {},
     "output_type": "execute_result"
    }
   ],
   "source": [
    "brand_reviews = [loreal_reviews, coty_reviews, revlon_reviews, jnj_reviews, png_reviews]\n",
    "\n",
    "#calculating the percents and counts of vine reviews for each brand\n",
    "vine_percent = [len(brand[brand['vine']=='Y'])/len(brand)*100 for brand in brand_reviews]\n",
    "vine_counts = [len(brand[brand['vine']=='Y']) for brand in brand_reviews]\n",
    "\n",
    "#calculating the percents and counts of verified purchase reviews for each brand\n",
    "ver_percent = [len(brand[brand['verified_purchase']=='Y'])/len(brand)*100 for brand in brand_reviews]\n",
    "ver_counts = [len(brand[brand['verified_purchase']=='Y']) for brand in brand_reviews]\n",
    "\n",
    "total = [len(brand) for brand in brand_reviews]\n",
    "\n",
    "percentile = pd.DataFrame({\n",
    "    'brand':[\"L'oreal\", 'Coty', 'Revlon', 'Johnson & Johnson', 'Proctor & Gamble'],\n",
    "    'vine_percent':vine_percent,\n",
    "    'vine_counts':vine_counts,\n",
    "    'verified_percent':ver_percent,\n",
    "    'verified_counts':ver_counts,\n",
    "    'total':total\n",
    "})\n",
    "percentile"
   ]
  },
  {
   "cell_type": "markdown",
   "id": "26e15a57",
   "metadata": {},
   "source": [
    "Our biggests concern is working with Proctor & Gamble data, which only has a total of 88 observations. \n",
    "\n",
    "While analyzing vine reviews would have been very interesting, due to its limited observations, we are unable to perform data analysis on all the brands' vine reviews. "
   ]
  },
  {
   "cell_type": "markdown",
   "id": "c90072b2",
   "metadata": {},
   "source": [
    "# Text Analysis"
   ]
  },
  {
   "cell_type": "markdown",
   "id": "db5a20ed",
   "metadata": {},
   "source": [
    "After running initial summary and visual data analysis, we want to take a closer look at how the text of the reviews differ by company, star rating, and overall sentiment. We now create a `CountVectorizer` object. This is an object which will construct the term-document matrix for us. This object accepts various parameters. In this case, we've specified common English-language \"stop words\" to be disregarded. A stop word is a word that's considered uninteresting for the purposes of natural language processing. For example, \"she,\" \"can\", and \"the\" are common stop words. We have also included an argument for `min_df`, where the object will ignore words that appear less than 5 times in all of the reviews. We ultimately converted this counts object into a pandas dataframe so that each word reads as a column."
   ]
  },
  {
   "cell_type": "code",
   "execution_count": 127,
   "id": "0fd98ce0",
   "metadata": {},
   "outputs": [
    {
     "data": {
      "text/html": [
       "<div>\n",
       "<style scoped>\n",
       "    .dataframe tbody tr th:only-of-type {\n",
       "        vertical-align: middle;\n",
       "    }\n",
       "\n",
       "    .dataframe tbody tr th {\n",
       "        vertical-align: top;\n",
       "    }\n",
       "\n",
       "    .dataframe thead th {\n",
       "        text-align: right;\n",
       "    }\n",
       "</style>\n",
       "<table border=\"1\" class=\"dataframe\">\n",
       "  <thead>\n",
       "    <tr style=\"text-align: right;\">\n",
       "      <th></th>\n",
       "      <th>00</th>\n",
       "      <th>05</th>\n",
       "      <th>10</th>\n",
       "      <th>100</th>\n",
       "      <th>101</th>\n",
       "      <th>11</th>\n",
       "      <th>110</th>\n",
       "      <th>12</th>\n",
       "      <th>120</th>\n",
       "      <th>13</th>\n",
       "      <th>...</th>\n",
       "      <th>yuck</th>\n",
       "      <th>yucky</th>\n",
       "      <th>yummy</th>\n",
       "      <th>yup</th>\n",
       "      <th>zero</th>\n",
       "      <th>zinc</th>\n",
       "      <th>zit</th>\n",
       "      <th>zits</th>\n",
       "      <th>zombie</th>\n",
       "      <th>zone</th>\n",
       "    </tr>\n",
       "  </thead>\n",
       "  <tbody>\n",
       "    <tr>\n",
       "      <th>0</th>\n",
       "      <td>0</td>\n",
       "      <td>0</td>\n",
       "      <td>0</td>\n",
       "      <td>0</td>\n",
       "      <td>0</td>\n",
       "      <td>0</td>\n",
       "      <td>0</td>\n",
       "      <td>0</td>\n",
       "      <td>0</td>\n",
       "      <td>0</td>\n",
       "      <td>...</td>\n",
       "      <td>0</td>\n",
       "      <td>0</td>\n",
       "      <td>0</td>\n",
       "      <td>0</td>\n",
       "      <td>0</td>\n",
       "      <td>0</td>\n",
       "      <td>0</td>\n",
       "      <td>0</td>\n",
       "      <td>0</td>\n",
       "      <td>0</td>\n",
       "    </tr>\n",
       "    <tr>\n",
       "      <th>1</th>\n",
       "      <td>0</td>\n",
       "      <td>0</td>\n",
       "      <td>0</td>\n",
       "      <td>0</td>\n",
       "      <td>0</td>\n",
       "      <td>0</td>\n",
       "      <td>0</td>\n",
       "      <td>0</td>\n",
       "      <td>0</td>\n",
       "      <td>0</td>\n",
       "      <td>...</td>\n",
       "      <td>0</td>\n",
       "      <td>0</td>\n",
       "      <td>0</td>\n",
       "      <td>0</td>\n",
       "      <td>0</td>\n",
       "      <td>0</td>\n",
       "      <td>0</td>\n",
       "      <td>0</td>\n",
       "      <td>0</td>\n",
       "      <td>0</td>\n",
       "    </tr>\n",
       "    <tr>\n",
       "      <th>2</th>\n",
       "      <td>0</td>\n",
       "      <td>0</td>\n",
       "      <td>0</td>\n",
       "      <td>0</td>\n",
       "      <td>0</td>\n",
       "      <td>0</td>\n",
       "      <td>0</td>\n",
       "      <td>0</td>\n",
       "      <td>0</td>\n",
       "      <td>0</td>\n",
       "      <td>...</td>\n",
       "      <td>0</td>\n",
       "      <td>0</td>\n",
       "      <td>0</td>\n",
       "      <td>0</td>\n",
       "      <td>0</td>\n",
       "      <td>0</td>\n",
       "      <td>0</td>\n",
       "      <td>0</td>\n",
       "      <td>0</td>\n",
       "      <td>0</td>\n",
       "    </tr>\n",
       "    <tr>\n",
       "      <th>3</th>\n",
       "      <td>0</td>\n",
       "      <td>0</td>\n",
       "      <td>0</td>\n",
       "      <td>0</td>\n",
       "      <td>0</td>\n",
       "      <td>0</td>\n",
       "      <td>0</td>\n",
       "      <td>0</td>\n",
       "      <td>0</td>\n",
       "      <td>0</td>\n",
       "      <td>...</td>\n",
       "      <td>0</td>\n",
       "      <td>0</td>\n",
       "      <td>0</td>\n",
       "      <td>0</td>\n",
       "      <td>0</td>\n",
       "      <td>0</td>\n",
       "      <td>0</td>\n",
       "      <td>0</td>\n",
       "      <td>0</td>\n",
       "      <td>0</td>\n",
       "    </tr>\n",
       "    <tr>\n",
       "      <th>4</th>\n",
       "      <td>0</td>\n",
       "      <td>0</td>\n",
       "      <td>0</td>\n",
       "      <td>0</td>\n",
       "      <td>0</td>\n",
       "      <td>0</td>\n",
       "      <td>0</td>\n",
       "      <td>0</td>\n",
       "      <td>0</td>\n",
       "      <td>0</td>\n",
       "      <td>...</td>\n",
       "      <td>0</td>\n",
       "      <td>0</td>\n",
       "      <td>0</td>\n",
       "      <td>0</td>\n",
       "      <td>0</td>\n",
       "      <td>0</td>\n",
       "      <td>0</td>\n",
       "      <td>0</td>\n",
       "      <td>0</td>\n",
       "      <td>0</td>\n",
       "    </tr>\n",
       "  </tbody>\n",
       "</table>\n",
       "<p>5 rows × 5638 columns</p>\n",
       "</div>"
      ],
      "text/plain": [
       "   00  05  10  100  101  11  110  12  120  13  ...  yuck  yucky  yummy  yup  \\\n",
       "0   0   0   0    0    0   0    0   0    0   0  ...     0      0      0    0   \n",
       "1   0   0   0    0    0   0    0   0    0   0  ...     0      0      0    0   \n",
       "2   0   0   0    0    0   0    0   0    0   0  ...     0      0      0    0   \n",
       "3   0   0   0    0    0   0    0   0    0   0  ...     0      0      0    0   \n",
       "4   0   0   0    0    0   0    0   0    0   0  ...     0      0      0    0   \n",
       "\n",
       "   zero  zinc  zit  zits  zombie  zone  \n",
       "0     0     0    0     0       0     0  \n",
       "1     0     0    0     0       0     0  \n",
       "2     0     0    0     0       0     0  \n",
       "3     0     0    0     0       0     0  \n",
       "4     0     0    0     0       0     0  \n",
       "\n",
       "[5 rows x 5638 columns]"
      ]
     },
     "execution_count": 127,
     "metadata": {},
     "output_type": "execute_result"
    }
   ],
   "source": [
    "vec=CountVectorizer(stop_words=\"english\", min_df = 5)\n",
    "counts=vec.fit_transform(beauty_clean['review_body'].dropna())\n",
    "counts=counts.toarray()\n",
    "counts_df=pd.DataFrame(counts, columns=vec.get_feature_names())\n",
    "counts_df.head()"
   ]
  },
  {
   "cell_type": "markdown",
   "id": "f1813045",
   "metadata": {},
   "source": [
    "Above we can see what our initial dataframe looks like. Now, we will join this dataframe to our original dataframe that contained the other characteristics of the reviews."
   ]
  },
  {
   "cell_type": "code",
   "execution_count": 128,
   "id": "8a283ee8",
   "metadata": {},
   "outputs": [],
   "source": [
    "word_counts = pd.concat((beauty_clean,counts_df), axis=1)"
   ]
  },
  {
   "cell_type": "markdown",
   "id": "2478b64b",
   "metadata": {},
   "source": [
    "### Most Common Words"
   ]
  },
  {
   "cell_type": "markdown",
   "id": "cdd57ee9",
   "metadata": {},
   "source": [
    "Now we want to see which words appear most out of all of the reviews. We have listed the top 30 words, and included the count of times they appear as well as the percentage."
   ]
  },
  {
   "cell_type": "code",
   "execution_count": 129,
   "id": "ffbb8da7",
   "metadata": {},
   "outputs": [
    {
     "data": {
      "text/html": [
       "<div>\n",
       "<style scoped>\n",
       "    .dataframe tbody tr th:only-of-type {\n",
       "        vertical-align: middle;\n",
       "    }\n",
       "\n",
       "    .dataframe tbody tr th {\n",
       "        vertical-align: top;\n",
       "    }\n",
       "\n",
       "    .dataframe thead th {\n",
       "        text-align: right;\n",
       "    }\n",
       "</style>\n",
       "<table border=\"1\" class=\"dataframe\">\n",
       "  <thead>\n",
       "    <tr style=\"text-align: right;\">\n",
       "      <th></th>\n",
       "      <th>word</th>\n",
       "      <th>count</th>\n",
       "      <th>percent</th>\n",
       "    </tr>\n",
       "  </thead>\n",
       "  <tbody>\n",
       "    <tr>\n",
       "      <th>0</th>\n",
       "      <td>product</td>\n",
       "      <td>11415</td>\n",
       "      <td>8.0326</td>\n",
       "    </tr>\n",
       "    <tr>\n",
       "      <th>1</th>\n",
       "      <td>love</td>\n",
       "      <td>8718</td>\n",
       "      <td>6.1347</td>\n",
       "    </tr>\n",
       "    <tr>\n",
       "      <th>2</th>\n",
       "      <td>great</td>\n",
       "      <td>8467</td>\n",
       "      <td>5.9581</td>\n",
       "    </tr>\n",
       "    <tr>\n",
       "      <th>3</th>\n",
       "      <td>skin</td>\n",
       "      <td>8453</td>\n",
       "      <td>5.9483</td>\n",
       "    </tr>\n",
       "    <tr>\n",
       "      <th>4</th>\n",
       "      <td>color</td>\n",
       "      <td>7622</td>\n",
       "      <td>5.3635</td>\n",
       "    </tr>\n",
       "    <tr>\n",
       "      <th>5</th>\n",
       "      <td>like</td>\n",
       "      <td>7414</td>\n",
       "      <td>5.2171</td>\n",
       "    </tr>\n",
       "    <tr>\n",
       "      <th>6</th>\n",
       "      <td>br</td>\n",
       "      <td>7270</td>\n",
       "      <td>5.1158</td>\n",
       "    </tr>\n",
       "    <tr>\n",
       "      <th>7</th>\n",
       "      <td>use</td>\n",
       "      <td>6954</td>\n",
       "      <td>4.8934</td>\n",
       "    </tr>\n",
       "    <tr>\n",
       "      <th>8</th>\n",
       "      <td>hair</td>\n",
       "      <td>6684</td>\n",
       "      <td>4.7034</td>\n",
       "    </tr>\n",
       "    <tr>\n",
       "      <th>9</th>\n",
       "      <td>good</td>\n",
       "      <td>6050</td>\n",
       "      <td>4.2573</td>\n",
       "    </tr>\n",
       "    <tr>\n",
       "      <th>10</th>\n",
       "      <td>just</td>\n",
       "      <td>4729</td>\n",
       "      <td>3.3277</td>\n",
       "    </tr>\n",
       "    <tr>\n",
       "      <th>11</th>\n",
       "      <td>really</td>\n",
       "      <td>4545</td>\n",
       "      <td>3.1982</td>\n",
       "    </tr>\n",
       "    <tr>\n",
       "      <th>12</th>\n",
       "      <td>used</td>\n",
       "      <td>3898</td>\n",
       "      <td>2.7430</td>\n",
       "    </tr>\n",
       "    <tr>\n",
       "      <th>13</th>\n",
       "      <td>face</td>\n",
       "      <td>3583</td>\n",
       "      <td>2.5213</td>\n",
       "    </tr>\n",
       "    <tr>\n",
       "      <th>14</th>\n",
       "      <td>works</td>\n",
       "      <td>3480</td>\n",
       "      <td>2.4488</td>\n",
       "    </tr>\n",
       "    <tr>\n",
       "      <th>15</th>\n",
       "      <td>using</td>\n",
       "      <td>3359</td>\n",
       "      <td>2.3637</td>\n",
       "    </tr>\n",
       "    <tr>\n",
       "      <th>16</th>\n",
       "      <td>does</td>\n",
       "      <td>3342</td>\n",
       "      <td>2.3517</td>\n",
       "    </tr>\n",
       "    <tr>\n",
       "      <th>17</th>\n",
       "      <td>ve</td>\n",
       "      <td>3177</td>\n",
       "      <td>2.2356</td>\n",
       "    </tr>\n",
       "    <tr>\n",
       "      <th>18</th>\n",
       "      <td>34</td>\n",
       "      <td>3161</td>\n",
       "      <td>2.2243</td>\n",
       "    </tr>\n",
       "    <tr>\n",
       "      <th>19</th>\n",
       "      <td>dry</td>\n",
       "      <td>3117</td>\n",
       "      <td>2.1934</td>\n",
       "    </tr>\n",
       "    <tr>\n",
       "      <th>20</th>\n",
       "      <td>day</td>\n",
       "      <td>3103</td>\n",
       "      <td>2.1835</td>\n",
       "    </tr>\n",
       "    <tr>\n",
       "      <th>21</th>\n",
       "      <td>time</td>\n",
       "      <td>3083</td>\n",
       "      <td>2.1695</td>\n",
       "    </tr>\n",
       "    <tr>\n",
       "      <th>22</th>\n",
       "      <td>don</td>\n",
       "      <td>2957</td>\n",
       "      <td>2.0808</td>\n",
       "    </tr>\n",
       "    <tr>\n",
       "      <th>23</th>\n",
       "      <td>doesn</td>\n",
       "      <td>2945</td>\n",
       "      <td>2.0724</td>\n",
       "    </tr>\n",
       "    <tr>\n",
       "      <th>24</th>\n",
       "      <td>nice</td>\n",
       "      <td>2630</td>\n",
       "      <td>1.8507</td>\n",
       "    </tr>\n",
       "    <tr>\n",
       "      <th>25</th>\n",
       "      <td>look</td>\n",
       "      <td>2470</td>\n",
       "      <td>1.7381</td>\n",
       "    </tr>\n",
       "    <tr>\n",
       "      <th>26</th>\n",
       "      <td>little</td>\n",
       "      <td>2446</td>\n",
       "      <td>1.7212</td>\n",
       "    </tr>\n",
       "    <tr>\n",
       "      <th>27</th>\n",
       "      <td>long</td>\n",
       "      <td>2439</td>\n",
       "      <td>1.7163</td>\n",
       "    </tr>\n",
       "    <tr>\n",
       "      <th>28</th>\n",
       "      <td>best</td>\n",
       "      <td>2303</td>\n",
       "      <td>1.6206</td>\n",
       "    </tr>\n",
       "    <tr>\n",
       "      <th>29</th>\n",
       "      <td>price</td>\n",
       "      <td>2295</td>\n",
       "      <td>1.6150</td>\n",
       "    </tr>\n",
       "  </tbody>\n",
       "</table>\n",
       "</div>"
      ],
      "text/plain": [
       "       word  count  percent\n",
       "0   product  11415   8.0326\n",
       "1      love   8718   6.1347\n",
       "2     great   8467   5.9581\n",
       "3      skin   8453   5.9483\n",
       "4     color   7622   5.3635\n",
       "5      like   7414   5.2171\n",
       "6        br   7270   5.1158\n",
       "7       use   6954   4.8934\n",
       "8      hair   6684   4.7034\n",
       "9      good   6050   4.2573\n",
       "10     just   4729   3.3277\n",
       "11   really   4545   3.1982\n",
       "12     used   3898   2.7430\n",
       "13     face   3583   2.5213\n",
       "14    works   3480   2.4488\n",
       "15    using   3359   2.3637\n",
       "16     does   3342   2.3517\n",
       "17       ve   3177   2.2356\n",
       "18       34   3161   2.2243\n",
       "19      dry   3117   2.1934\n",
       "20      day   3103   2.1835\n",
       "21     time   3083   2.1695\n",
       "22      don   2957   2.0808\n",
       "23    doesn   2945   2.0724\n",
       "24     nice   2630   1.8507\n",
       "25     look   2470   1.7381\n",
       "26   little   2446   1.7212\n",
       "27     long   2439   1.7163\n",
       "28     best   2303   1.6206\n",
       "29    price   2295   1.6150"
      ]
     },
     "execution_count": 129,
     "metadata": {},
     "output_type": "execute_result"
    }
   ],
   "source": [
    "all_counts = counts_df.sum(axis = 0).sort_values(ascending = False).head(30)\n",
    "all_counts_df = pd.DataFrame(all_counts, columns = {'count'}).reset_index()\n",
    "all_counts_df = all_counts_df.rename(columns = {'index' : 'word'})\n",
    "all_counts_df['percent'] = round((all_counts_df['count']/sum(all_counts_df['count']))*100, 4)\n",
    "all_counts_df.head(30)"
   ]
  },
  {
   "cell_type": "markdown",
   "id": "9e166efc",
   "metadata": {},
   "source": [
    "Here we have curated words we would associate with bad reviews, and see how much they appear in the reviews as a percent. What we observe is that \"dry\" and \"bad\" are far more prevalent than other words, yet none of these words appear all too much in the greater scheme of all words."
   ]
  },
  {
   "cell_type": "code",
   "execution_count": 130,
   "id": "8ead7cd9",
   "metadata": {},
   "outputs": [
    {
     "data": {
      "text/plain": [
       "worst       0.025654\n",
       "horrible    0.038654\n",
       "bad         0.141791\n",
       "awful       0.035188\n",
       "terrible    0.031721\n",
       "cakey       0.027734\n",
       "dry         0.540295\n",
       "allergic    0.028601\n",
       "dtype: float64"
      ]
     },
     "execution_count": 130,
     "metadata": {},
     "output_type": "execute_result"
    }
   ],
   "source": [
    "all_values = counts_df.to_numpy().sum()\n",
    "bad = ['worst', 'horrible', 'bad', 'awful', 'terrible', 'cakey', 'dry', 'allergic']\n",
    "counts_df[bad].sum() / all_values * 100"
   ]
  },
  {
   "cell_type": "markdown",
   "id": "906bd0b7",
   "metadata": {},
   "source": [
    "Next we repeated this process for words we would associate with good reviews. What we notice here is that \"great\" and \"good\" are extremely common, summing to greater than 1%, which none of our \"bad\" words did."
   ]
  },
  {
   "cell_type": "code",
   "execution_count": 131,
   "id": "c54a8f1b",
   "metadata": {},
   "outputs": [
    {
     "data": {
      "text/plain": [
       "amazing     0.159124\n",
       "great       1.467654\n",
       "best        0.399198\n",
       "holy        0.008667\n",
       "reliable    0.006414\n",
       "good        1.048696\n",
       "favorite    0.236087\n",
       "dtype: float64"
      ]
     },
     "execution_count": 131,
     "metadata": {},
     "output_type": "execute_result"
    }
   ],
   "source": [
    "good = ['amazing', 'great', 'best', 'holy', 'reliable', 'good', 'favorite']\n",
    "counts_df[good].sum() / all_values * 100"
   ]
  },
  {
   "cell_type": "markdown",
   "id": "90133385",
   "metadata": {},
   "source": [
    "#### Common Words by Star Rating"
   ]
  },
  {
   "cell_type": "markdown",
   "id": "0d3c96ae",
   "metadata": {},
   "source": [
    "Next we wanted to analyze which words were most common for each level of star rating. We assumed previously that more extreme ratings would have stronger words appear. We also hypothesized that lower star ratings would have more negative words. "
   ]
  },
  {
   "cell_type": "code",
   "execution_count": 148,
   "id": "5f3a5e3b",
   "metadata": {
    "scrolled": false
   },
   "outputs": [
    {
     "name": "stdout",
     "output_type": "stream",
     "text": [
      "star rating:  1\n"
     ]
    },
    {
     "data": {
      "text/html": [
       "<div>\n",
       "<style scoped>\n",
       "    .dataframe tbody tr th:only-of-type {\n",
       "        vertical-align: middle;\n",
       "    }\n",
       "\n",
       "    .dataframe tbody tr th {\n",
       "        vertical-align: top;\n",
       "    }\n",
       "\n",
       "    .dataframe thead th {\n",
       "        text-align: right;\n",
       "    }\n",
       "</style>\n",
       "<table border=\"1\" class=\"dataframe\">\n",
       "  <thead>\n",
       "    <tr style=\"text-align: right;\">\n",
       "      <th></th>\n",
       "      <th>word</th>\n",
       "      <th>count</th>\n",
       "      <th>percent</th>\n",
       "    </tr>\n",
       "  </thead>\n",
       "  <tbody>\n",
       "    <tr>\n",
       "      <th>0</th>\n",
       "      <td>like</td>\n",
       "      <td>677.0</td>\n",
       "      <td>11.4281</td>\n",
       "    </tr>\n",
       "    <tr>\n",
       "      <th>1</th>\n",
       "      <td>love</td>\n",
       "      <td>561.0</td>\n",
       "      <td>9.4700</td>\n",
       "    </tr>\n",
       "    <tr>\n",
       "      <th>2</th>\n",
       "      <td>great</td>\n",
       "      <td>534.0</td>\n",
       "      <td>9.0142</td>\n",
       "    </tr>\n",
       "    <tr>\n",
       "      <th>3</th>\n",
       "      <td>use</td>\n",
       "      <td>529.0</td>\n",
       "      <td>8.9298</td>\n",
       "    </tr>\n",
       "    <tr>\n",
       "      <th>4</th>\n",
       "      <td>good</td>\n",
       "      <td>465.0</td>\n",
       "      <td>7.8494</td>\n",
       "    </tr>\n",
       "    <tr>\n",
       "      <th>5</th>\n",
       "      <td>just</td>\n",
       "      <td>427.0</td>\n",
       "      <td>7.2080</td>\n",
       "    </tr>\n",
       "    <tr>\n",
       "      <th>6</th>\n",
       "      <td>used</td>\n",
       "      <td>415.0</td>\n",
       "      <td>7.0054</td>\n",
       "    </tr>\n",
       "    <tr>\n",
       "      <th>7</th>\n",
       "      <td>face</td>\n",
       "      <td>333.0</td>\n",
       "      <td>5.6212</td>\n",
       "    </tr>\n",
       "    <tr>\n",
       "      <th>8</th>\n",
       "      <td>don</td>\n",
       "      <td>317.0</td>\n",
       "      <td>5.3511</td>\n",
       "    </tr>\n",
       "    <tr>\n",
       "      <th>9</th>\n",
       "      <td>using</td>\n",
       "      <td>312.0</td>\n",
       "      <td>5.2667</td>\n",
       "    </tr>\n",
       "    <tr>\n",
       "      <th>10</th>\n",
       "      <td>does</td>\n",
       "      <td>308.0</td>\n",
       "      <td>5.1992</td>\n",
       "    </tr>\n",
       "    <tr>\n",
       "      <th>11</th>\n",
       "      <td>time</td>\n",
       "      <td>298.0</td>\n",
       "      <td>5.0304</td>\n",
       "    </tr>\n",
       "    <tr>\n",
       "      <th>12</th>\n",
       "      <td>doesn</td>\n",
       "      <td>253.0</td>\n",
       "      <td>4.2708</td>\n",
       "    </tr>\n",
       "    <tr>\n",
       "      <th>13</th>\n",
       "      <td>ve</td>\n",
       "      <td>249.0</td>\n",
       "      <td>4.2032</td>\n",
       "    </tr>\n",
       "    <tr>\n",
       "      <th>14</th>\n",
       "      <td>dry</td>\n",
       "      <td>246.0</td>\n",
       "      <td>4.1526</td>\n",
       "    </tr>\n",
       "  </tbody>\n",
       "</table>\n",
       "</div>"
      ],
      "text/plain": [
       "     word  count  percent\n",
       "0    like  677.0  11.4281\n",
       "1    love  561.0   9.4700\n",
       "2   great  534.0   9.0142\n",
       "3     use  529.0   8.9298\n",
       "4    good  465.0   7.8494\n",
       "5    just  427.0   7.2080\n",
       "6    used  415.0   7.0054\n",
       "7    face  333.0   5.6212\n",
       "8     don  317.0   5.3511\n",
       "9   using  312.0   5.2667\n",
       "10   does  308.0   5.1992\n",
       "11   time  298.0   5.0304\n",
       "12  doesn  253.0   4.2708\n",
       "13     ve  249.0   4.2032\n",
       "14    dry  246.0   4.1526"
      ]
     },
     "metadata": {},
     "output_type": "display_data"
    },
    {
     "name": "stdout",
     "output_type": "stream",
     "text": [
      "star rating:  2\n"
     ]
    },
    {
     "data": {
      "text/html": [
       "<div>\n",
       "<style scoped>\n",
       "    .dataframe tbody tr th:only-of-type {\n",
       "        vertical-align: middle;\n",
       "    }\n",
       "\n",
       "    .dataframe tbody tr th {\n",
       "        vertical-align: top;\n",
       "    }\n",
       "\n",
       "    .dataframe thead th {\n",
       "        text-align: right;\n",
       "    }\n",
       "</style>\n",
       "<table border=\"1\" class=\"dataframe\">\n",
       "  <thead>\n",
       "    <tr style=\"text-align: right;\">\n",
       "      <th></th>\n",
       "      <th>word</th>\n",
       "      <th>count</th>\n",
       "      <th>percent</th>\n",
       "    </tr>\n",
       "  </thead>\n",
       "  <tbody>\n",
       "    <tr>\n",
       "      <th>0</th>\n",
       "      <td>like</td>\n",
       "      <td>421.0</td>\n",
       "      <td>11.4309</td>\n",
       "    </tr>\n",
       "    <tr>\n",
       "      <th>1</th>\n",
       "      <td>use</td>\n",
       "      <td>355.0</td>\n",
       "      <td>9.6389</td>\n",
       "    </tr>\n",
       "    <tr>\n",
       "      <th>2</th>\n",
       "      <td>love</td>\n",
       "      <td>351.0</td>\n",
       "      <td>9.5303</td>\n",
       "    </tr>\n",
       "    <tr>\n",
       "      <th>3</th>\n",
       "      <td>great</td>\n",
       "      <td>339.0</td>\n",
       "      <td>9.2045</td>\n",
       "    </tr>\n",
       "    <tr>\n",
       "      <th>4</th>\n",
       "      <td>good</td>\n",
       "      <td>287.0</td>\n",
       "      <td>7.7926</td>\n",
       "    </tr>\n",
       "    <tr>\n",
       "      <th>5</th>\n",
       "      <td>just</td>\n",
       "      <td>259.0</td>\n",
       "      <td>7.0323</td>\n",
       "    </tr>\n",
       "    <tr>\n",
       "      <th>6</th>\n",
       "      <td>used</td>\n",
       "      <td>221.0</td>\n",
       "      <td>6.0005</td>\n",
       "    </tr>\n",
       "    <tr>\n",
       "      <th>7</th>\n",
       "      <td>don</td>\n",
       "      <td>203.0</td>\n",
       "      <td>5.5118</td>\n",
       "    </tr>\n",
       "    <tr>\n",
       "      <th>8</th>\n",
       "      <td>face</td>\n",
       "      <td>199.0</td>\n",
       "      <td>5.4032</td>\n",
       "    </tr>\n",
       "    <tr>\n",
       "      <th>9</th>\n",
       "      <td>dry</td>\n",
       "      <td>198.0</td>\n",
       "      <td>5.3761</td>\n",
       "    </tr>\n",
       "    <tr>\n",
       "      <th>10</th>\n",
       "      <td>does</td>\n",
       "      <td>181.0</td>\n",
       "      <td>4.9145</td>\n",
       "    </tr>\n",
       "    <tr>\n",
       "      <th>11</th>\n",
       "      <td>time</td>\n",
       "      <td>175.0</td>\n",
       "      <td>4.7516</td>\n",
       "    </tr>\n",
       "    <tr>\n",
       "      <th>12</th>\n",
       "      <td>doesn</td>\n",
       "      <td>172.0</td>\n",
       "      <td>4.6701</td>\n",
       "    </tr>\n",
       "    <tr>\n",
       "      <th>13</th>\n",
       "      <td>makeup</td>\n",
       "      <td>161.0</td>\n",
       "      <td>4.3714</td>\n",
       "    </tr>\n",
       "    <tr>\n",
       "      <th>14</th>\n",
       "      <td>using</td>\n",
       "      <td>161.0</td>\n",
       "      <td>4.3714</td>\n",
       "    </tr>\n",
       "  </tbody>\n",
       "</table>\n",
       "</div>"
      ],
      "text/plain": [
       "      word  count  percent\n",
       "0     like  421.0  11.4309\n",
       "1      use  355.0   9.6389\n",
       "2     love  351.0   9.5303\n",
       "3    great  339.0   9.2045\n",
       "4     good  287.0   7.7926\n",
       "5     just  259.0   7.0323\n",
       "6     used  221.0   6.0005\n",
       "7      don  203.0   5.5118\n",
       "8     face  199.0   5.4032\n",
       "9      dry  198.0   5.3761\n",
       "10    does  181.0   4.9145\n",
       "11    time  175.0   4.7516\n",
       "12   doesn  172.0   4.6701\n",
       "13  makeup  161.0   4.3714\n",
       "14   using  161.0   4.3714"
      ]
     },
     "metadata": {},
     "output_type": "display_data"
    },
    {
     "name": "stdout",
     "output_type": "stream",
     "text": [
      "star rating:  3\n"
     ]
    },
    {
     "data": {
      "text/html": [
       "<div>\n",
       "<style scoped>\n",
       "    .dataframe tbody tr th:only-of-type {\n",
       "        vertical-align: middle;\n",
       "    }\n",
       "\n",
       "    .dataframe tbody tr th {\n",
       "        vertical-align: top;\n",
       "    }\n",
       "\n",
       "    .dataframe thead th {\n",
       "        text-align: right;\n",
       "    }\n",
       "</style>\n",
       "<table border=\"1\" class=\"dataframe\">\n",
       "  <thead>\n",
       "    <tr style=\"text-align: right;\">\n",
       "      <th></th>\n",
       "      <th>word</th>\n",
       "      <th>count</th>\n",
       "      <th>percent</th>\n",
       "    </tr>\n",
       "  </thead>\n",
       "  <tbody>\n",
       "    <tr>\n",
       "      <th>0</th>\n",
       "      <td>like</td>\n",
       "      <td>728.0</td>\n",
       "      <td>11.9207</td>\n",
       "    </tr>\n",
       "    <tr>\n",
       "      <th>1</th>\n",
       "      <td>good</td>\n",
       "      <td>581.0</td>\n",
       "      <td>9.5137</td>\n",
       "    </tr>\n",
       "    <tr>\n",
       "      <th>2</th>\n",
       "      <td>use</td>\n",
       "      <td>580.0</td>\n",
       "      <td>9.4973</td>\n",
       "    </tr>\n",
       "    <tr>\n",
       "      <th>3</th>\n",
       "      <td>love</td>\n",
       "      <td>575.0</td>\n",
       "      <td>9.4154</td>\n",
       "    </tr>\n",
       "    <tr>\n",
       "      <th>4</th>\n",
       "      <td>great</td>\n",
       "      <td>533.0</td>\n",
       "      <td>8.7277</td>\n",
       "    </tr>\n",
       "    <tr>\n",
       "      <th>5</th>\n",
       "      <td>just</td>\n",
       "      <td>483.0</td>\n",
       "      <td>7.9090</td>\n",
       "    </tr>\n",
       "    <tr>\n",
       "      <th>6</th>\n",
       "      <td>doesn</td>\n",
       "      <td>326.0</td>\n",
       "      <td>5.3381</td>\n",
       "    </tr>\n",
       "    <tr>\n",
       "      <th>7</th>\n",
       "      <td>used</td>\n",
       "      <td>321.0</td>\n",
       "      <td>5.2563</td>\n",
       "    </tr>\n",
       "    <tr>\n",
       "      <th>8</th>\n",
       "      <td>does</td>\n",
       "      <td>313.0</td>\n",
       "      <td>5.1253</td>\n",
       "    </tr>\n",
       "    <tr>\n",
       "      <th>9</th>\n",
       "      <td>don</td>\n",
       "      <td>299.0</td>\n",
       "      <td>4.8960</td>\n",
       "    </tr>\n",
       "    <tr>\n",
       "      <th>10</th>\n",
       "      <td>face</td>\n",
       "      <td>297.0</td>\n",
       "      <td>4.8633</td>\n",
       "    </tr>\n",
       "    <tr>\n",
       "      <th>11</th>\n",
       "      <td>works</td>\n",
       "      <td>278.0</td>\n",
       "      <td>4.5522</td>\n",
       "    </tr>\n",
       "    <tr>\n",
       "      <th>12</th>\n",
       "      <td>using</td>\n",
       "      <td>273.0</td>\n",
       "      <td>4.4703</td>\n",
       "    </tr>\n",
       "    <tr>\n",
       "      <th>13</th>\n",
       "      <td>nice</td>\n",
       "      <td>262.0</td>\n",
       "      <td>4.2902</td>\n",
       "    </tr>\n",
       "    <tr>\n",
       "      <th>14</th>\n",
       "      <td>little</td>\n",
       "      <td>258.0</td>\n",
       "      <td>4.2247</td>\n",
       "    </tr>\n",
       "  </tbody>\n",
       "</table>\n",
       "</div>"
      ],
      "text/plain": [
       "      word  count  percent\n",
       "0     like  728.0  11.9207\n",
       "1     good  581.0   9.5137\n",
       "2      use  580.0   9.4973\n",
       "3     love  575.0   9.4154\n",
       "4    great  533.0   8.7277\n",
       "5     just  483.0   7.9090\n",
       "6    doesn  326.0   5.3381\n",
       "7     used  321.0   5.2563\n",
       "8     does  313.0   5.1253\n",
       "9      don  299.0   4.8960\n",
       "10    face  297.0   4.8633\n",
       "11   works  278.0   4.5522\n",
       "12   using  273.0   4.4703\n",
       "13    nice  262.0   4.2902\n",
       "14  little  258.0   4.2247"
      ]
     },
     "metadata": {},
     "output_type": "display_data"
    },
    {
     "name": "stdout",
     "output_type": "stream",
     "text": [
      "star rating:  4\n"
     ]
    },
    {
     "data": {
      "text/html": [
       "<div>\n",
       "<style scoped>\n",
       "    .dataframe tbody tr th:only-of-type {\n",
       "        vertical-align: middle;\n",
       "    }\n",
       "\n",
       "    .dataframe tbody tr th {\n",
       "        vertical-align: top;\n",
       "    }\n",
       "\n",
       "    .dataframe thead th {\n",
       "        text-align: right;\n",
       "    }\n",
       "</style>\n",
       "<table border=\"1\" class=\"dataframe\">\n",
       "  <thead>\n",
       "    <tr style=\"text-align: right;\">\n",
       "      <th></th>\n",
       "      <th>word</th>\n",
       "      <th>count</th>\n",
       "      <th>percent</th>\n",
       "    </tr>\n",
       "  </thead>\n",
       "  <tbody>\n",
       "    <tr>\n",
       "      <th>0</th>\n",
       "      <td>great</td>\n",
       "      <td>1253.0</td>\n",
       "      <td>10.9874</td>\n",
       "    </tr>\n",
       "    <tr>\n",
       "      <th>1</th>\n",
       "      <td>like</td>\n",
       "      <td>1244.0</td>\n",
       "      <td>10.9085</td>\n",
       "    </tr>\n",
       "    <tr>\n",
       "      <th>2</th>\n",
       "      <td>love</td>\n",
       "      <td>1205.0</td>\n",
       "      <td>10.5665</td>\n",
       "    </tr>\n",
       "    <tr>\n",
       "      <th>3</th>\n",
       "      <td>use</td>\n",
       "      <td>1114.0</td>\n",
       "      <td>9.7685</td>\n",
       "    </tr>\n",
       "    <tr>\n",
       "      <th>4</th>\n",
       "      <td>good</td>\n",
       "      <td>1094.0</td>\n",
       "      <td>9.5931</td>\n",
       "    </tr>\n",
       "    <tr>\n",
       "      <th>5</th>\n",
       "      <td>just</td>\n",
       "      <td>715.0</td>\n",
       "      <td>6.2697</td>\n",
       "    </tr>\n",
       "    <tr>\n",
       "      <th>6</th>\n",
       "      <td>face</td>\n",
       "      <td>597.0</td>\n",
       "      <td>5.2350</td>\n",
       "    </tr>\n",
       "    <tr>\n",
       "      <th>7</th>\n",
       "      <td>used</td>\n",
       "      <td>572.0</td>\n",
       "      <td>5.0158</td>\n",
       "    </tr>\n",
       "    <tr>\n",
       "      <th>8</th>\n",
       "      <td>does</td>\n",
       "      <td>568.0</td>\n",
       "      <td>4.9807</td>\n",
       "    </tr>\n",
       "    <tr>\n",
       "      <th>9</th>\n",
       "      <td>dry</td>\n",
       "      <td>547.0</td>\n",
       "      <td>4.7966</td>\n",
       "    </tr>\n",
       "    <tr>\n",
       "      <th>10</th>\n",
       "      <td>works</td>\n",
       "      <td>534.0</td>\n",
       "      <td>4.6826</td>\n",
       "    </tr>\n",
       "    <tr>\n",
       "      <th>11</th>\n",
       "      <td>using</td>\n",
       "      <td>501.0</td>\n",
       "      <td>4.3932</td>\n",
       "    </tr>\n",
       "    <tr>\n",
       "      <th>12</th>\n",
       "      <td>little</td>\n",
       "      <td>493.0</td>\n",
       "      <td>4.3230</td>\n",
       "    </tr>\n",
       "    <tr>\n",
       "      <th>13</th>\n",
       "      <td>day</td>\n",
       "      <td>491.0</td>\n",
       "      <td>4.3055</td>\n",
       "    </tr>\n",
       "    <tr>\n",
       "      <th>14</th>\n",
       "      <td>ve</td>\n",
       "      <td>476.0</td>\n",
       "      <td>4.1740</td>\n",
       "    </tr>\n",
       "  </tbody>\n",
       "</table>\n",
       "</div>"
      ],
      "text/plain": [
       "      word   count  percent\n",
       "0    great  1253.0  10.9874\n",
       "1     like  1244.0  10.9085\n",
       "2     love  1205.0  10.5665\n",
       "3      use  1114.0   9.7685\n",
       "4     good  1094.0   9.5931\n",
       "5     just   715.0   6.2697\n",
       "6     face   597.0   5.2350\n",
       "7     used   572.0   5.0158\n",
       "8     does   568.0   4.9807\n",
       "9      dry   547.0   4.7966\n",
       "10   works   534.0   4.6826\n",
       "11   using   501.0   4.3932\n",
       "12  little   493.0   4.3230\n",
       "13     day   491.0   4.3055\n",
       "14      ve   476.0   4.1740"
      ]
     },
     "metadata": {},
     "output_type": "display_data"
    },
    {
     "name": "stdout",
     "output_type": "stream",
     "text": [
      "star rating:  5\n"
     ]
    },
    {
     "data": {
      "text/html": [
       "<div>\n",
       "<style scoped>\n",
       "    .dataframe tbody tr th:only-of-type {\n",
       "        vertical-align: middle;\n",
       "    }\n",
       "\n",
       "    .dataframe tbody tr th {\n",
       "        vertical-align: top;\n",
       "    }\n",
       "\n",
       "    .dataframe thead th {\n",
       "        text-align: right;\n",
       "    }\n",
       "</style>\n",
       "<table border=\"1\" class=\"dataframe\">\n",
       "  <thead>\n",
       "    <tr style=\"text-align: right;\">\n",
       "      <th></th>\n",
       "      <th>word</th>\n",
       "      <th>count</th>\n",
       "      <th>percent</th>\n",
       "    </tr>\n",
       "  </thead>\n",
       "  <tbody>\n",
       "    <tr>\n",
       "      <th>0</th>\n",
       "      <td>love</td>\n",
       "      <td>6026.0</td>\n",
       "      <td>13.1788</td>\n",
       "    </tr>\n",
       "    <tr>\n",
       "      <th>1</th>\n",
       "      <td>great</td>\n",
       "      <td>5808.0</td>\n",
       "      <td>12.7020</td>\n",
       "    </tr>\n",
       "    <tr>\n",
       "      <th>2</th>\n",
       "      <td>use</td>\n",
       "      <td>4376.0</td>\n",
       "      <td>9.5703</td>\n",
       "    </tr>\n",
       "    <tr>\n",
       "      <th>3</th>\n",
       "      <td>like</td>\n",
       "      <td>4344.0</td>\n",
       "      <td>9.5003</td>\n",
       "    </tr>\n",
       "    <tr>\n",
       "      <th>4</th>\n",
       "      <td>good</td>\n",
       "      <td>3623.0</td>\n",
       "      <td>7.9235</td>\n",
       "    </tr>\n",
       "    <tr>\n",
       "      <th>5</th>\n",
       "      <td>just</td>\n",
       "      <td>2845.0</td>\n",
       "      <td>6.2220</td>\n",
       "    </tr>\n",
       "    <tr>\n",
       "      <th>6</th>\n",
       "      <td>used</td>\n",
       "      <td>2369.0</td>\n",
       "      <td>5.1810</td>\n",
       "    </tr>\n",
       "    <tr>\n",
       "      <th>7</th>\n",
       "      <td>works</td>\n",
       "      <td>2282.0</td>\n",
       "      <td>4.9907</td>\n",
       "    </tr>\n",
       "    <tr>\n",
       "      <th>8</th>\n",
       "      <td>face</td>\n",
       "      <td>2157.0</td>\n",
       "      <td>4.7173</td>\n",
       "    </tr>\n",
       "    <tr>\n",
       "      <th>9</th>\n",
       "      <td>using</td>\n",
       "      <td>2112.0</td>\n",
       "      <td>4.6189</td>\n",
       "    </tr>\n",
       "    <tr>\n",
       "      <th>10</th>\n",
       "      <td>ve</td>\n",
       "      <td>2046.0</td>\n",
       "      <td>4.4746</td>\n",
       "    </tr>\n",
       "    <tr>\n",
       "      <th>11</th>\n",
       "      <td>day</td>\n",
       "      <td>1988.0</td>\n",
       "      <td>4.3477</td>\n",
       "    </tr>\n",
       "    <tr>\n",
       "      <th>12</th>\n",
       "      <td>does</td>\n",
       "      <td>1972.0</td>\n",
       "      <td>4.3127</td>\n",
       "    </tr>\n",
       "    <tr>\n",
       "      <th>13</th>\n",
       "      <td>time</td>\n",
       "      <td>1903.0</td>\n",
       "      <td>4.1618</td>\n",
       "    </tr>\n",
       "    <tr>\n",
       "      <th>14</th>\n",
       "      <td>dry</td>\n",
       "      <td>1874.0</td>\n",
       "      <td>4.0984</td>\n",
       "    </tr>\n",
       "  </tbody>\n",
       "</table>\n",
       "</div>"
      ],
      "text/plain": [
       "     word   count  percent\n",
       "0    love  6026.0  13.1788\n",
       "1   great  5808.0  12.7020\n",
       "2     use  4376.0   9.5703\n",
       "3    like  4344.0   9.5003\n",
       "4    good  3623.0   7.9235\n",
       "5    just  2845.0   6.2220\n",
       "6    used  2369.0   5.1810\n",
       "7   works  2282.0   4.9907\n",
       "8    face  2157.0   4.7173\n",
       "9   using  2112.0   4.6189\n",
       "10     ve  2046.0   4.4746\n",
       "11    day  1988.0   4.3477\n",
       "12   does  1972.0   4.3127\n",
       "13   time  1903.0   4.1618\n",
       "14    dry  1874.0   4.0984"
      ]
     },
     "metadata": {},
     "output_type": "display_data"
    }
   ],
   "source": [
    "for star in range(1, 6):\n",
    "    print('star rating: ', star)\n",
    "    star_reviews = word_counts.loc[word_counts['star_rating'] == star, :]\n",
    "    reviews = star_reviews.iloc[:, 14:]\n",
    "    reviews = reviews.drop(columns = ['product', 'br', 'really', '34', 'skin', 'color', 'hair'])\n",
    "    total = reviews.to_numpy().sum()\n",
    "    counts = (reviews.sum(axis = 0).sort_values(ascending = False).head(15))\n",
    "    \n",
    "    star_counts = pd.DataFrame(counts, columns = {'count'}).reset_index()\n",
    "    star_counts = star_counts.rename(columns = {'index' : 'word'})\n",
    "    star_counts['percent'] = round((star_counts['count']/sum(star_counts['count']))*100, 4)\n",
    "    display(star_counts)"
   ]
  },
  {
   "cell_type": "markdown",
   "id": "17a29bc5",
   "metadata": {},
   "source": [
    "Our findings here were a bit surprising. It seems as if the most popular words are pretty much the same between star ratings. \n",
    "\n",
    "However, it is important to note that our CountVectorizer object only counts single words, so we have no way of telling if the negative reviews actually said \"not great\", but we simply only captured the \"great.\"\n",
    "\n",
    "Analyzing these counts a bit further, we can see that \"love\" does show up more often in 5 star reviews than any of the other star ratings, beating them by about 4%. The word \"like\" seems to be consistently present among all star reviews. Additionally, the word \"dry\" appears in the top for all star ratings except 3 star reviews. The word \"dry\" appears far more often in 2-star reviews, beating the other star ratings by about 1%. \n",
    "\n",
    "What this ultimately seems to be telling us is that individual word counts are not enough to differentiate different reviews' star ratings. We might need a more complex natural language processing object to explore these differences."
   ]
  },
  {
   "cell_type": "markdown",
   "id": "9ed0b666",
   "metadata": {},
   "source": [
    "#### Common Words by Company\n",
    "\n",
    "We next wanted to explore which words appear more frequently by company, to see if they reflected in any way their performance in the market for the year 2015."
   ]
  },
  {
   "cell_type": "code",
   "execution_count": 147,
   "id": "e573479b",
   "metadata": {
    "scrolled": false
   },
   "outputs": [
    {
     "name": "stdout",
     "output_type": "stream",
     "text": [
      "Company:  Coty\n"
     ]
    },
    {
     "data": {
      "text/html": [
       "<div>\n",
       "<style scoped>\n",
       "    .dataframe tbody tr th:only-of-type {\n",
       "        vertical-align: middle;\n",
       "    }\n",
       "\n",
       "    .dataframe tbody tr th {\n",
       "        vertical-align: top;\n",
       "    }\n",
       "\n",
       "    .dataframe thead th {\n",
       "        text-align: right;\n",
       "    }\n",
       "</style>\n",
       "<table border=\"1\" class=\"dataframe\">\n",
       "  <thead>\n",
       "    <tr style=\"text-align: right;\">\n",
       "      <th></th>\n",
       "      <th>word</th>\n",
       "      <th>count</th>\n",
       "      <th>percent</th>\n",
       "    </tr>\n",
       "  </thead>\n",
       "  <tbody>\n",
       "    <tr>\n",
       "      <th>0</th>\n",
       "      <td>love</td>\n",
       "      <td>1151.0</td>\n",
       "      <td>12.1120</td>\n",
       "    </tr>\n",
       "    <tr>\n",
       "      <th>1</th>\n",
       "      <td>great</td>\n",
       "      <td>1098.0</td>\n",
       "      <td>11.5542</td>\n",
       "    </tr>\n",
       "    <tr>\n",
       "      <th>2</th>\n",
       "      <td>like</td>\n",
       "      <td>1007.0</td>\n",
       "      <td>10.5967</td>\n",
       "    </tr>\n",
       "    <tr>\n",
       "      <th>3</th>\n",
       "      <td>use</td>\n",
       "      <td>888.0</td>\n",
       "      <td>9.3444</td>\n",
       "    </tr>\n",
       "    <tr>\n",
       "      <th>4</th>\n",
       "      <td>good</td>\n",
       "      <td>773.0</td>\n",
       "      <td>8.1343</td>\n",
       "    </tr>\n",
       "    <tr>\n",
       "      <th>5</th>\n",
       "      <td>just</td>\n",
       "      <td>657.0</td>\n",
       "      <td>6.9136</td>\n",
       "    </tr>\n",
       "    <tr>\n",
       "      <th>6</th>\n",
       "      <td>polish</td>\n",
       "      <td>548.0</td>\n",
       "      <td>5.7666</td>\n",
       "    </tr>\n",
       "    <tr>\n",
       "      <th>7</th>\n",
       "      <td>used</td>\n",
       "      <td>505.0</td>\n",
       "      <td>5.3141</td>\n",
       "    </tr>\n",
       "    <tr>\n",
       "      <th>8</th>\n",
       "      <td>time</td>\n",
       "      <td>464.0</td>\n",
       "      <td>4.8827</td>\n",
       "    </tr>\n",
       "    <tr>\n",
       "      <th>9</th>\n",
       "      <td>works</td>\n",
       "      <td>456.0</td>\n",
       "      <td>4.7985</td>\n",
       "    </tr>\n",
       "    <tr>\n",
       "      <th>10</th>\n",
       "      <td>does</td>\n",
       "      <td>414.0</td>\n",
       "      <td>4.3565</td>\n",
       "    </tr>\n",
       "    <tr>\n",
       "      <th>11</th>\n",
       "      <td>nails</td>\n",
       "      <td>397.0</td>\n",
       "      <td>4.1776</td>\n",
       "    </tr>\n",
       "    <tr>\n",
       "      <th>12</th>\n",
       "      <td>don</td>\n",
       "      <td>385.0</td>\n",
       "      <td>4.0514</td>\n",
       "    </tr>\n",
       "    <tr>\n",
       "      <th>13</th>\n",
       "      <td>day</td>\n",
       "      <td>385.0</td>\n",
       "      <td>4.0514</td>\n",
       "    </tr>\n",
       "    <tr>\n",
       "      <th>14</th>\n",
       "      <td>doesn</td>\n",
       "      <td>375.0</td>\n",
       "      <td>3.9461</td>\n",
       "    </tr>\n",
       "  </tbody>\n",
       "</table>\n",
       "</div>"
      ],
      "text/plain": [
       "      word   count  percent\n",
       "0     love  1151.0  12.1120\n",
       "1    great  1098.0  11.5542\n",
       "2     like  1007.0  10.5967\n",
       "3      use   888.0   9.3444\n",
       "4     good   773.0   8.1343\n",
       "5     just   657.0   6.9136\n",
       "6   polish   548.0   5.7666\n",
       "7     used   505.0   5.3141\n",
       "8     time   464.0   4.8827\n",
       "9    works   456.0   4.7985\n",
       "10    does   414.0   4.3565\n",
       "11   nails   397.0   4.1776\n",
       "12     don   385.0   4.0514\n",
       "13     day   385.0   4.0514\n",
       "14   doesn   375.0   3.9461"
      ]
     },
     "metadata": {},
     "output_type": "display_data"
    },
    {
     "name": "stdout",
     "output_type": "stream",
     "text": [
      "Company:  L'oreal\n"
     ]
    },
    {
     "data": {
      "text/html": [
       "<div>\n",
       "<style scoped>\n",
       "    .dataframe tbody tr th:only-of-type {\n",
       "        vertical-align: middle;\n",
       "    }\n",
       "\n",
       "    .dataframe tbody tr th {\n",
       "        vertical-align: top;\n",
       "    }\n",
       "\n",
       "    .dataframe thead th {\n",
       "        text-align: right;\n",
       "    }\n",
       "</style>\n",
       "<table border=\"1\" class=\"dataframe\">\n",
       "  <thead>\n",
       "    <tr style=\"text-align: right;\">\n",
       "      <th></th>\n",
       "      <th>word</th>\n",
       "      <th>count</th>\n",
       "      <th>percent</th>\n",
       "    </tr>\n",
       "  </thead>\n",
       "  <tbody>\n",
       "    <tr>\n",
       "      <th>0</th>\n",
       "      <td>love</td>\n",
       "      <td>3362.0</td>\n",
       "      <td>12.7036</td>\n",
       "    </tr>\n",
       "    <tr>\n",
       "      <th>1</th>\n",
       "      <td>great</td>\n",
       "      <td>3115.0</td>\n",
       "      <td>11.7703</td>\n",
       "    </tr>\n",
       "    <tr>\n",
       "      <th>2</th>\n",
       "      <td>like</td>\n",
       "      <td>2692.0</td>\n",
       "      <td>10.1719</td>\n",
       "    </tr>\n",
       "    <tr>\n",
       "      <th>3</th>\n",
       "      <td>use</td>\n",
       "      <td>2526.0</td>\n",
       "      <td>9.5447</td>\n",
       "    </tr>\n",
       "    <tr>\n",
       "      <th>4</th>\n",
       "      <td>good</td>\n",
       "      <td>2234.0</td>\n",
       "      <td>8.4413</td>\n",
       "    </tr>\n",
       "    <tr>\n",
       "      <th>5</th>\n",
       "      <td>just</td>\n",
       "      <td>1739.0</td>\n",
       "      <td>6.5709</td>\n",
       "    </tr>\n",
       "    <tr>\n",
       "      <th>6</th>\n",
       "      <td>used</td>\n",
       "      <td>1390.0</td>\n",
       "      <td>5.2522</td>\n",
       "    </tr>\n",
       "    <tr>\n",
       "      <th>7</th>\n",
       "      <td>does</td>\n",
       "      <td>1223.0</td>\n",
       "      <td>4.6212</td>\n",
       "    </tr>\n",
       "    <tr>\n",
       "      <th>8</th>\n",
       "      <td>face</td>\n",
       "      <td>1203.0</td>\n",
       "      <td>4.5456</td>\n",
       "    </tr>\n",
       "    <tr>\n",
       "      <th>9</th>\n",
       "      <td>ve</td>\n",
       "      <td>1203.0</td>\n",
       "      <td>4.5456</td>\n",
       "    </tr>\n",
       "    <tr>\n",
       "      <th>10</th>\n",
       "      <td>day</td>\n",
       "      <td>1200.0</td>\n",
       "      <td>4.5343</td>\n",
       "    </tr>\n",
       "    <tr>\n",
       "      <th>11</th>\n",
       "      <td>works</td>\n",
       "      <td>1186.0</td>\n",
       "      <td>4.4814</td>\n",
       "    </tr>\n",
       "    <tr>\n",
       "      <th>12</th>\n",
       "      <td>don</td>\n",
       "      <td>1152.0</td>\n",
       "      <td>4.3529</td>\n",
       "    </tr>\n",
       "    <tr>\n",
       "      <th>13</th>\n",
       "      <td>using</td>\n",
       "      <td>1122.0</td>\n",
       "      <td>4.2396</td>\n",
       "    </tr>\n",
       "    <tr>\n",
       "      <th>14</th>\n",
       "      <td>time</td>\n",
       "      <td>1118.0</td>\n",
       "      <td>4.2244</td>\n",
       "    </tr>\n",
       "  </tbody>\n",
       "</table>\n",
       "</div>"
      ],
      "text/plain": [
       "     word   count  percent\n",
       "0    love  3362.0  12.7036\n",
       "1   great  3115.0  11.7703\n",
       "2    like  2692.0  10.1719\n",
       "3     use  2526.0   9.5447\n",
       "4    good  2234.0   8.4413\n",
       "5    just  1739.0   6.5709\n",
       "6    used  1390.0   5.2522\n",
       "7    does  1223.0   4.6212\n",
       "8    face  1203.0   4.5456\n",
       "9      ve  1203.0   4.5456\n",
       "10    day  1200.0   4.5343\n",
       "11  works  1186.0   4.4814\n",
       "12    don  1152.0   4.3529\n",
       "13  using  1122.0   4.2396\n",
       "14   time  1118.0   4.2244"
      ]
     },
     "metadata": {},
     "output_type": "display_data"
    },
    {
     "name": "stdout",
     "output_type": "stream",
     "text": [
      "Company:  Johnson & Johnson\n"
     ]
    },
    {
     "data": {
      "text/html": [
       "<div>\n",
       "<style scoped>\n",
       "    .dataframe tbody tr th:only-of-type {\n",
       "        vertical-align: middle;\n",
       "    }\n",
       "\n",
       "    .dataframe tbody tr th {\n",
       "        vertical-align: top;\n",
       "    }\n",
       "\n",
       "    .dataframe thead th {\n",
       "        text-align: right;\n",
       "    }\n",
       "</style>\n",
       "<table border=\"1\" class=\"dataframe\">\n",
       "  <thead>\n",
       "    <tr style=\"text-align: right;\">\n",
       "      <th></th>\n",
       "      <th>word</th>\n",
       "      <th>count</th>\n",
       "      <th>percent</th>\n",
       "    </tr>\n",
       "  </thead>\n",
       "  <tbody>\n",
       "    <tr>\n",
       "      <th>0</th>\n",
       "      <td>great</td>\n",
       "      <td>2346.0</td>\n",
       "      <td>10.9976</td>\n",
       "    </tr>\n",
       "    <tr>\n",
       "      <th>1</th>\n",
       "      <td>love</td>\n",
       "      <td>2283.0</td>\n",
       "      <td>10.7022</td>\n",
       "    </tr>\n",
       "    <tr>\n",
       "      <th>2</th>\n",
       "      <td>use</td>\n",
       "      <td>2139.0</td>\n",
       "      <td>10.0272</td>\n",
       "    </tr>\n",
       "    <tr>\n",
       "      <th>3</th>\n",
       "      <td>like</td>\n",
       "      <td>2040.0</td>\n",
       "      <td>9.5631</td>\n",
       "    </tr>\n",
       "    <tr>\n",
       "      <th>4</th>\n",
       "      <td>good</td>\n",
       "      <td>1741.0</td>\n",
       "      <td>8.1614</td>\n",
       "    </tr>\n",
       "    <tr>\n",
       "      <th>5</th>\n",
       "      <td>face</td>\n",
       "      <td>1452.0</td>\n",
       "      <td>6.8067</td>\n",
       "    </tr>\n",
       "    <tr>\n",
       "      <th>6</th>\n",
       "      <td>just</td>\n",
       "      <td>1267.0</td>\n",
       "      <td>5.9394</td>\n",
       "    </tr>\n",
       "    <tr>\n",
       "      <th>7</th>\n",
       "      <td>using</td>\n",
       "      <td>1183.0</td>\n",
       "      <td>5.5457</td>\n",
       "    </tr>\n",
       "    <tr>\n",
       "      <th>8</th>\n",
       "      <td>used</td>\n",
       "      <td>1134.0</td>\n",
       "      <td>5.3160</td>\n",
       "    </tr>\n",
       "    <tr>\n",
       "      <th>9</th>\n",
       "      <td>dry</td>\n",
       "      <td>1095.0</td>\n",
       "      <td>5.1331</td>\n",
       "    </tr>\n",
       "    <tr>\n",
       "      <th>10</th>\n",
       "      <td>works</td>\n",
       "      <td>1082.0</td>\n",
       "      <td>5.0722</td>\n",
       "    </tr>\n",
       "    <tr>\n",
       "      <th>11</th>\n",
       "      <td>does</td>\n",
       "      <td>954.0</td>\n",
       "      <td>4.4722</td>\n",
       "    </tr>\n",
       "    <tr>\n",
       "      <th>12</th>\n",
       "      <td>ve</td>\n",
       "      <td>949.0</td>\n",
       "      <td>4.4487</td>\n",
       "    </tr>\n",
       "    <tr>\n",
       "      <th>13</th>\n",
       "      <td>day</td>\n",
       "      <td>839.0</td>\n",
       "      <td>3.9331</td>\n",
       "    </tr>\n",
       "    <tr>\n",
       "      <th>14</th>\n",
       "      <td>doesn</td>\n",
       "      <td>828.0</td>\n",
       "      <td>3.8815</td>\n",
       "    </tr>\n",
       "  </tbody>\n",
       "</table>\n",
       "</div>"
      ],
      "text/plain": [
       "     word   count  percent\n",
       "0   great  2346.0  10.9976\n",
       "1    love  2283.0  10.7022\n",
       "2     use  2139.0  10.0272\n",
       "3    like  2040.0   9.5631\n",
       "4    good  1741.0   8.1614\n",
       "5    face  1452.0   6.8067\n",
       "6    just  1267.0   5.9394\n",
       "7   using  1183.0   5.5457\n",
       "8    used  1134.0   5.3160\n",
       "9     dry  1095.0   5.1331\n",
       "10  works  1082.0   5.0722\n",
       "11   does   954.0   4.4722\n",
       "12     ve   949.0   4.4487\n",
       "13    day   839.0   3.9331\n",
       "14  doesn   828.0   3.8815"
      ]
     },
     "metadata": {},
     "output_type": "display_data"
    },
    {
     "name": "stdout",
     "output_type": "stream",
     "text": [
      "Company:  Revlon\n"
     ]
    },
    {
     "data": {
      "text/html": [
       "<div>\n",
       "<style scoped>\n",
       "    .dataframe tbody tr th:only-of-type {\n",
       "        vertical-align: middle;\n",
       "    }\n",
       "\n",
       "    .dataframe tbody tr th {\n",
       "        vertical-align: top;\n",
       "    }\n",
       "\n",
       "    .dataframe thead th {\n",
       "        text-align: right;\n",
       "    }\n",
       "</style>\n",
       "<table border=\"1\" class=\"dataframe\">\n",
       "  <thead>\n",
       "    <tr style=\"text-align: right;\">\n",
       "      <th></th>\n",
       "      <th>word</th>\n",
       "      <th>count</th>\n",
       "      <th>percent</th>\n",
       "    </tr>\n",
       "  </thead>\n",
       "  <tbody>\n",
       "    <tr>\n",
       "      <th>0</th>\n",
       "      <td>love</td>\n",
       "      <td>1910.0</td>\n",
       "      <td>12.3138</td>\n",
       "    </tr>\n",
       "    <tr>\n",
       "      <th>1</th>\n",
       "      <td>great</td>\n",
       "      <td>1887.0</td>\n",
       "      <td>12.1656</td>\n",
       "    </tr>\n",
       "    <tr>\n",
       "      <th>2</th>\n",
       "      <td>like</td>\n",
       "      <td>1659.0</td>\n",
       "      <td>10.6956</td>\n",
       "    </tr>\n",
       "    <tr>\n",
       "      <th>3</th>\n",
       "      <td>use</td>\n",
       "      <td>1390.0</td>\n",
       "      <td>8.9614</td>\n",
       "    </tr>\n",
       "    <tr>\n",
       "      <th>4</th>\n",
       "      <td>good</td>\n",
       "      <td>1283.0</td>\n",
       "      <td>8.2715</td>\n",
       "    </tr>\n",
       "    <tr>\n",
       "      <th>5</th>\n",
       "      <td>just</td>\n",
       "      <td>1056.0</td>\n",
       "      <td>6.8081</td>\n",
       "    </tr>\n",
       "    <tr>\n",
       "      <th>6</th>\n",
       "      <td>used</td>\n",
       "      <td>860.0</td>\n",
       "      <td>5.5445</td>\n",
       "    </tr>\n",
       "    <tr>\n",
       "      <th>7</th>\n",
       "      <td>works</td>\n",
       "      <td>750.0</td>\n",
       "      <td>4.8353</td>\n",
       "    </tr>\n",
       "    <tr>\n",
       "      <th>8</th>\n",
       "      <td>does</td>\n",
       "      <td>748.0</td>\n",
       "      <td>4.8224</td>\n",
       "    </tr>\n",
       "    <tr>\n",
       "      <th>9</th>\n",
       "      <td>time</td>\n",
       "      <td>690.0</td>\n",
       "      <td>4.4485</td>\n",
       "    </tr>\n",
       "    <tr>\n",
       "      <th>10</th>\n",
       "      <td>using</td>\n",
       "      <td>674.0</td>\n",
       "      <td>4.3453</td>\n",
       "    </tr>\n",
       "    <tr>\n",
       "      <th>11</th>\n",
       "      <td>day</td>\n",
       "      <td>673.0</td>\n",
       "      <td>4.3389</td>\n",
       "    </tr>\n",
       "    <tr>\n",
       "      <th>12</th>\n",
       "      <td>don</td>\n",
       "      <td>659.0</td>\n",
       "      <td>4.2486</td>\n",
       "    </tr>\n",
       "    <tr>\n",
       "      <th>13</th>\n",
       "      <td>ve</td>\n",
       "      <td>647.0</td>\n",
       "      <td>4.1712</td>\n",
       "    </tr>\n",
       "    <tr>\n",
       "      <th>14</th>\n",
       "      <td>doesn</td>\n",
       "      <td>625.0</td>\n",
       "      <td>4.0294</td>\n",
       "    </tr>\n",
       "  </tbody>\n",
       "</table>\n",
       "</div>"
      ],
      "text/plain": [
       "     word   count  percent\n",
       "0    love  1910.0  12.3138\n",
       "1   great  1887.0  12.1656\n",
       "2    like  1659.0  10.6956\n",
       "3     use  1390.0   8.9614\n",
       "4    good  1283.0   8.2715\n",
       "5    just  1056.0   6.8081\n",
       "6    used   860.0   5.5445\n",
       "7   works   750.0   4.8353\n",
       "8    does   748.0   4.8224\n",
       "9    time   690.0   4.4485\n",
       "10  using   674.0   4.3453\n",
       "11    day   673.0   4.3389\n",
       "12    don   659.0   4.2486\n",
       "13     ve   647.0   4.1712\n",
       "14  doesn   625.0   4.0294"
      ]
     },
     "metadata": {},
     "output_type": "display_data"
    },
    {
     "name": "stdout",
     "output_type": "stream",
     "text": [
      "Company:  Proctor & Gamble\n"
     ]
    },
    {
     "data": {
      "text/html": [
       "<div>\n",
       "<style scoped>\n",
       "    .dataframe tbody tr th:only-of-type {\n",
       "        vertical-align: middle;\n",
       "    }\n",
       "\n",
       "    .dataframe tbody tr th {\n",
       "        vertical-align: top;\n",
       "    }\n",
       "\n",
       "    .dataframe thead th {\n",
       "        text-align: right;\n",
       "    }\n",
       "</style>\n",
       "<table border=\"1\" class=\"dataframe\">\n",
       "  <thead>\n",
       "    <tr style=\"text-align: right;\">\n",
       "      <th></th>\n",
       "      <th>word</th>\n",
       "      <th>count</th>\n",
       "      <th>percent</th>\n",
       "    </tr>\n",
       "  </thead>\n",
       "  <tbody>\n",
       "    <tr>\n",
       "      <th>0</th>\n",
       "      <td>great</td>\n",
       "      <td>21.0</td>\n",
       "      <td>12.9630</td>\n",
       "    </tr>\n",
       "    <tr>\n",
       "      <th>1</th>\n",
       "      <td>good</td>\n",
       "      <td>19.0</td>\n",
       "      <td>11.7284</td>\n",
       "    </tr>\n",
       "    <tr>\n",
       "      <th>2</th>\n",
       "      <td>like</td>\n",
       "      <td>16.0</td>\n",
       "      <td>9.8765</td>\n",
       "    </tr>\n",
       "    <tr>\n",
       "      <th>3</th>\n",
       "      <td>love</td>\n",
       "      <td>12.0</td>\n",
       "      <td>7.4074</td>\n",
       "    </tr>\n",
       "    <tr>\n",
       "      <th>4</th>\n",
       "      <td>use</td>\n",
       "      <td>11.0</td>\n",
       "      <td>6.7901</td>\n",
       "    </tr>\n",
       "    <tr>\n",
       "      <th>5</th>\n",
       "      <td>nice</td>\n",
       "      <td>11.0</td>\n",
       "      <td>6.7901</td>\n",
       "    </tr>\n",
       "    <tr>\n",
       "      <th>6</th>\n",
       "      <td>time</td>\n",
       "      <td>11.0</td>\n",
       "      <td>6.7901</td>\n",
       "    </tr>\n",
       "    <tr>\n",
       "      <th>7</th>\n",
       "      <td>just</td>\n",
       "      <td>10.0</td>\n",
       "      <td>6.1728</td>\n",
       "    </tr>\n",
       "    <tr>\n",
       "      <th>8</th>\n",
       "      <td>used</td>\n",
       "      <td>9.0</td>\n",
       "      <td>5.5556</td>\n",
       "    </tr>\n",
       "    <tr>\n",
       "      <th>9</th>\n",
       "      <td>didn</td>\n",
       "      <td>8.0</td>\n",
       "      <td>4.9383</td>\n",
       "    </tr>\n",
       "    <tr>\n",
       "      <th>10</th>\n",
       "      <td>face</td>\n",
       "      <td>8.0</td>\n",
       "      <td>4.9383</td>\n",
       "    </tr>\n",
       "    <tr>\n",
       "      <th>11</th>\n",
       "      <td>ve</td>\n",
       "      <td>7.0</td>\n",
       "      <td>4.3210</td>\n",
       "    </tr>\n",
       "    <tr>\n",
       "      <th>12</th>\n",
       "      <td>using</td>\n",
       "      <td>7.0</td>\n",
       "      <td>4.3210</td>\n",
       "    </tr>\n",
       "    <tr>\n",
       "      <th>13</th>\n",
       "      <td>day</td>\n",
       "      <td>6.0</td>\n",
       "      <td>3.7037</td>\n",
       "    </tr>\n",
       "    <tr>\n",
       "      <th>14</th>\n",
       "      <td>moisturizer</td>\n",
       "      <td>6.0</td>\n",
       "      <td>3.7037</td>\n",
       "    </tr>\n",
       "  </tbody>\n",
       "</table>\n",
       "</div>"
      ],
      "text/plain": [
       "           word  count  percent\n",
       "0         great   21.0  12.9630\n",
       "1          good   19.0  11.7284\n",
       "2          like   16.0   9.8765\n",
       "3          love   12.0   7.4074\n",
       "4           use   11.0   6.7901\n",
       "5          nice   11.0   6.7901\n",
       "6          time   11.0   6.7901\n",
       "7          just   10.0   6.1728\n",
       "8          used    9.0   5.5556\n",
       "9          didn    8.0   4.9383\n",
       "10         face    8.0   4.9383\n",
       "11           ve    7.0   4.3210\n",
       "12        using    7.0   4.3210\n",
       "13          day    6.0   3.7037\n",
       "14  moisturizer    6.0   3.7037"
      ]
     },
     "metadata": {},
     "output_type": "display_data"
    }
   ],
   "source": [
    "for company in beauty_clean['corporation'].unique():\n",
    "    \n",
    "    print('Company: ', company)\n",
    "    company_reviews = word_counts.loc[word_counts['corporation'] == company, :]\n",
    "    reviews = company_reviews.iloc[:, 14:]\n",
    "    reviews = reviews.drop(columns = ['product', 'br', 'really', '34', 'skin', 'color', 'hair'])\n",
    "    total = reviews.to_numpy().sum()\n",
    "    counts = (reviews.sum(axis = 0).sort_values(ascending = False).head(15))\n",
    "    \n",
    "    company_counts = pd.DataFrame(counts, columns = {'count'}).reset_index()\n",
    "    company_counts = company_counts.rename(columns = {'index' : 'word'})\n",
    "    company_counts['percent'] = round((company_counts['count']/sum(company_counts['count']))*100, 4)\n",
    "    display(company_counts)"
   ]
  },
  {
   "cell_type": "markdown",
   "id": "ec16ac76",
   "metadata": {},
   "source": [
    "What we see here is that words are again pretty similar among companies. This means that generally, these reviews do not represent a company's performance in the market.\n",
    "\n",
    "One observation is that \"love\" appears far less in Proctor & Gamble reviews than other companies, with the word appearing only in 7% of reviews as opposed to 10-12%. One could say this has a correlation to the fact that Proctor & Gamble was one of the 2 companies that had both share and sale percentage drops over the year, and had the greatest share percent change in the negative direction. \n",
    "\n",
    "Another observation is that the word \"dry\" only appears in the top appearing words for Johnson & Johnson. J&J's market performance was unique in the sense that it had no change in share percent, but had massive sale growth in the year. Despite that, it still had the lowest sales in millions compared to all the other companies. \n",
    "\n",
    "Other than these two observations, it seems that the most popular words in reviews are consistent between companies despite their performance in the overall market."
   ]
  },
  {
   "cell_type": "markdown",
   "id": "c5a3ae49",
   "metadata": {},
   "source": [
    "### Sentiment Model\n",
    "\n",
    "Based off of these word counts, we next wanted to see if we would be able to create a model that could predict whether a review was positive or negative.\n",
    "\n",
    "Due to the large volume of words in our CountVectorizer, we decided to use only the top 500 words that were most common among all the reviews."
   ]
  },
  {
   "cell_type": "code",
   "execution_count": 134,
   "id": "6f819672",
   "metadata": {},
   "outputs": [],
   "source": [
    "column_sums = (counts_df.sum(axis = 0).sort_values(ascending = False))[:500]\n",
    "col_list = list(column_sums.index)\n",
    "top_words = counts_df.loc[:, col_list]"
   ]
  },
  {
   "cell_type": "code",
   "execution_count": 135,
   "id": "ebdddafb",
   "metadata": {},
   "outputs": [],
   "source": [
    "model_data = pd.concat((beauty_clean, top_words), axis=1).dropna()"
   ]
  },
  {
   "cell_type": "markdown",
   "id": "ea7d607b",
   "metadata": {},
   "source": [
    "Next we created a column in our data that classified a review as positive or not positive. We decided that a positive review would be either 4 or 5 stars. We thought that 3-star reviews were too irrelevant to be used in this model."
   ]
  },
  {
   "cell_type": "code",
   "execution_count": 136,
   "id": "df8043a1",
   "metadata": {},
   "outputs": [],
   "source": [
    "model_data['is_positive'] = model_data['star_rating'] > 3"
   ]
  },
  {
   "cell_type": "markdown",
   "id": "4f1c6cfc",
   "metadata": {},
   "source": [
    "In order to create a stronger model, we split our data into training and testing data. Our predictor columns are all of the words from our count vectorizer. "
   ]
  },
  {
   "cell_type": "code",
   "execution_count": 137,
   "id": "488fe33e",
   "metadata": {},
   "outputs": [],
   "source": [
    "\n",
    "train,test = train_test_split(model_data.dropna(), test_size=.3)\n",
    "\n",
    "original_cols = list(model_data.columns)[:13]\n",
    "original_cols.append('is_positive')\n",
    "\n",
    "X_train = train.drop(original_cols, axis = 1)\n",
    "y_train=train['is_positive']\n",
    "\n",
    "X_test = test.drop(original_cols, axis = 1)\n",
    "y_test =test['is_positive']"
   ]
  },
  {
   "cell_type": "markdown",
   "id": "47c2dd78",
   "metadata": {},
   "source": [
    "Next we used a logistic regression model to fit the data and create the model."
   ]
  },
  {
   "cell_type": "code",
   "execution_count": 138,
   "id": "a83851e0",
   "metadata": {},
   "outputs": [],
   "source": [
    "LR = LogisticRegression().fit(X_train, y_train)"
   ]
  },
  {
   "cell_type": "code",
   "execution_count": 139,
   "id": "05b98330",
   "metadata": {
    "scrolled": true
   },
   "outputs": [
    {
     "data": {
      "text/plain": [
       "0.7778174674048938"
      ]
     },
     "execution_count": 139,
     "metadata": {},
     "output_type": "execute_result"
    }
   ],
   "source": [
    "cross_val_score(LR, X_train, y_train, cv=5).mean()"
   ]
  },
  {
   "cell_type": "code",
   "execution_count": 140,
   "id": "b930c9b0",
   "metadata": {
    "scrolled": true
   },
   "outputs": [
    {
     "data": {
      "text/plain": [
       "0.7754625770961827"
      ]
     },
     "execution_count": 140,
     "metadata": {},
     "output_type": "execute_result"
    }
   ],
   "source": [
    "LR.score(X_test, y_test)"
   ]
  },
  {
   "cell_type": "markdown",
   "id": "03fd8fd3",
   "metadata": {},
   "source": [
    "Above we see that after cross validation, the model performs with about 78% accuracy on our training *and* testing data. While this is not bad, it is not super accurate."
   ]
  },
  {
   "cell_type": "code",
   "execution_count": 141,
   "id": "89bd5dd0",
   "metadata": {},
   "outputs": [
    {
     "name": "stdout",
     "output_type": "stream",
     "text": [
      "Baseline accuracy: 0.78\n"
     ]
    }
   ],
   "source": [
    "print('Baseline accuracy:', round(model_data.is_positive.sum()/len(model_data),3))"
   ]
  },
  {
   "cell_type": "markdown",
   "id": "f669cf64",
   "metadata": {},
   "source": [
    "Additionally, we see that our baseline accuracy is essentially the same as our model accuracy. This means that if we guessed a review was positive every time, then we would be right just as much as if we used our logistic regression model. This leads us to believe that our model could be improved and consider other factors to better classify positive vs. negative reviews."
   ]
  },
  {
   "cell_type": "markdown",
   "id": "04f66b80",
   "metadata": {},
   "source": [
    "#### Words with Strongest Sentiment\n",
    "\n",
    "Our logistic regression model gives us a coefficient for each word, where positive words have higher coefficients and negative words have negative coefficients. We finally wanted to examine which words were associated more with the positive/negative reviews."
   ]
  },
  {
   "cell_type": "code",
   "execution_count": 142,
   "id": "0287cea1",
   "metadata": {},
   "outputs": [
    {
     "data": {
      "text/html": [
       "<div>\n",
       "<style scoped>\n",
       "    .dataframe tbody tr th:only-of-type {\n",
       "        vertical-align: middle;\n",
       "    }\n",
       "\n",
       "    .dataframe tbody tr th {\n",
       "        vertical-align: top;\n",
       "    }\n",
       "\n",
       "    .dataframe thead th {\n",
       "        text-align: right;\n",
       "    }\n",
       "</style>\n",
       "<table border=\"1\" class=\"dataframe\">\n",
       "  <thead>\n",
       "    <tr style=\"text-align: right;\">\n",
       "      <th></th>\n",
       "      <th>word</th>\n",
       "      <th>coef</th>\n",
       "    </tr>\n",
       "  </thead>\n",
       "  <tbody>\n",
       "    <tr>\n",
       "      <th>0</th>\n",
       "      <td>product</td>\n",
       "      <td>0.012079</td>\n",
       "    </tr>\n",
       "    <tr>\n",
       "      <th>1</th>\n",
       "      <td>love</td>\n",
       "      <td>0.279542</td>\n",
       "    </tr>\n",
       "    <tr>\n",
       "      <th>2</th>\n",
       "      <td>great</td>\n",
       "      <td>0.342493</td>\n",
       "    </tr>\n",
       "    <tr>\n",
       "      <th>3</th>\n",
       "      <td>skin</td>\n",
       "      <td>0.056647</td>\n",
       "    </tr>\n",
       "    <tr>\n",
       "      <th>4</th>\n",
       "      <td>color</td>\n",
       "      <td>0.005541</td>\n",
       "    </tr>\n",
       "    <tr>\n",
       "      <th>...</th>\n",
       "      <td>...</td>\n",
       "      <td>...</td>\n",
       "    </tr>\n",
       "    <tr>\n",
       "      <th>495</th>\n",
       "      <td>age</td>\n",
       "      <td>-0.043372</td>\n",
       "    </tr>\n",
       "    <tr>\n",
       "      <th>496</th>\n",
       "      <td>similar</td>\n",
       "      <td>0.251530</td>\n",
       "    </tr>\n",
       "    <tr>\n",
       "      <th>497</th>\n",
       "      <td>version</td>\n",
       "      <td>-0.428953</td>\n",
       "    </tr>\n",
       "    <tr>\n",
       "      <th>498</th>\n",
       "      <td>consistency</td>\n",
       "      <td>-0.272594</td>\n",
       "    </tr>\n",
       "    <tr>\n",
       "      <th>499</th>\n",
       "      <td>plastic</td>\n",
       "      <td>-0.302880</td>\n",
       "    </tr>\n",
       "  </tbody>\n",
       "</table>\n",
       "<p>500 rows × 2 columns</p>\n",
       "</div>"
      ],
      "text/plain": [
       "            word      coef\n",
       "0        product  0.012079\n",
       "1           love  0.279542\n",
       "2          great  0.342493\n",
       "3           skin  0.056647\n",
       "4          color  0.005541\n",
       "..           ...       ...\n",
       "495          age -0.043372\n",
       "496      similar  0.251530\n",
       "497      version -0.428953\n",
       "498  consistency -0.272594\n",
       "499      plastic -0.302880\n",
       "\n",
       "[500 rows x 2 columns]"
      ]
     },
     "execution_count": 142,
     "metadata": {},
     "output_type": "execute_result"
    }
   ],
   "source": [
    "sentiment_df = pd.DataFrame({'word': X_train.columns, 'coef':LR.coef_[0]})\n",
    "sentiment_df"
   ]
  },
  {
   "cell_type": "markdown",
   "id": "979245aa",
   "metadata": {},
   "source": [
    "##### Negative Words"
   ]
  },
  {
   "cell_type": "code",
   "execution_count": 143,
   "id": "4c561432",
   "metadata": {},
   "outputs": [
    {
     "name": "stdout",
     "output_type": "stream",
     "text": [
      "most negatively associated words:\n"
     ]
    },
    {
     "data": {
      "text/html": [
       "<div>\n",
       "<style scoped>\n",
       "    .dataframe tbody tr th:only-of-type {\n",
       "        vertical-align: middle;\n",
       "    }\n",
       "\n",
       "    .dataframe tbody tr th {\n",
       "        vertical-align: top;\n",
       "    }\n",
       "\n",
       "    .dataframe thead th {\n",
       "        text-align: right;\n",
       "    }\n",
       "</style>\n",
       "<table border=\"1\" class=\"dataframe\">\n",
       "  <thead>\n",
       "    <tr style=\"text-align: right;\">\n",
       "      <th></th>\n",
       "      <th>word</th>\n",
       "      <th>coef</th>\n",
       "    </tr>\n",
       "  </thead>\n",
       "  <tbody>\n",
       "    <tr>\n",
       "      <th>195</th>\n",
       "      <td>disappointed</td>\n",
       "      <td>-0.623281</td>\n",
       "    </tr>\n",
       "    <tr>\n",
       "      <th>207</th>\n",
       "      <td>ok</td>\n",
       "      <td>-0.590007</td>\n",
       "    </tr>\n",
       "    <tr>\n",
       "      <th>346</th>\n",
       "      <td>okay</td>\n",
       "      <td>-0.573309</td>\n",
       "    </tr>\n",
       "    <tr>\n",
       "      <th>281</th>\n",
       "      <td>dried</td>\n",
       "      <td>-0.569644</td>\n",
       "    </tr>\n",
       "    <tr>\n",
       "      <th>484</th>\n",
       "      <td>broken</td>\n",
       "      <td>-0.567694</td>\n",
       "    </tr>\n",
       "    <tr>\n",
       "      <th>446</th>\n",
       "      <td>hate</td>\n",
       "      <td>-0.491040</td>\n",
       "    </tr>\n",
       "    <tr>\n",
       "      <th>497</th>\n",
       "      <td>version</td>\n",
       "      <td>-0.428953</td>\n",
       "    </tr>\n",
       "    <tr>\n",
       "      <th>140</th>\n",
       "      <td>ll</td>\n",
       "      <td>-0.408667</td>\n",
       "    </tr>\n",
       "    <tr>\n",
       "      <th>180</th>\n",
       "      <td>received</td>\n",
       "      <td>-0.380530</td>\n",
       "    </tr>\n",
       "    <tr>\n",
       "      <th>465</th>\n",
       "      <td>package</td>\n",
       "      <td>-0.353667</td>\n",
       "    </tr>\n",
       "    <tr>\n",
       "      <th>464</th>\n",
       "      <td>horrible</td>\n",
       "      <td>-0.343910</td>\n",
       "    </tr>\n",
       "    <tr>\n",
       "      <th>411</th>\n",
       "      <td>wrong</td>\n",
       "      <td>-0.339191</td>\n",
       "    </tr>\n",
       "    <tr>\n",
       "      <th>489</th>\n",
       "      <td>tan</td>\n",
       "      <td>-0.336656</td>\n",
       "    </tr>\n",
       "    <tr>\n",
       "      <th>439</th>\n",
       "      <td>needs</td>\n",
       "      <td>-0.333806</td>\n",
       "    </tr>\n",
       "    <tr>\n",
       "      <th>382</th>\n",
       "      <td>blush</td>\n",
       "      <td>-0.328499</td>\n",
       "    </tr>\n",
       "    <tr>\n",
       "      <th>371</th>\n",
       "      <td>applicator</td>\n",
       "      <td>-0.328342</td>\n",
       "    </tr>\n",
       "    <tr>\n",
       "      <th>295</th>\n",
       "      <td>gave</td>\n",
       "      <td>-0.325134</td>\n",
       "    </tr>\n",
       "    <tr>\n",
       "      <th>383</th>\n",
       "      <td>waste</td>\n",
       "      <td>-0.322340</td>\n",
       "    </tr>\n",
       "    <tr>\n",
       "      <th>336</th>\n",
       "      <td>sally</td>\n",
       "      <td>-0.314809</td>\n",
       "    </tr>\n",
       "    <tr>\n",
       "      <th>154</th>\n",
       "      <td>hours</td>\n",
       "      <td>-0.312361</td>\n",
       "    </tr>\n",
       "  </tbody>\n",
       "</table>\n",
       "</div>"
      ],
      "text/plain": [
       "             word      coef\n",
       "195  disappointed -0.623281\n",
       "207            ok -0.590007\n",
       "346          okay -0.573309\n",
       "281         dried -0.569644\n",
       "484        broken -0.567694\n",
       "446          hate -0.491040\n",
       "497       version -0.428953\n",
       "140            ll -0.408667\n",
       "180      received -0.380530\n",
       "465       package -0.353667\n",
       "464      horrible -0.343910\n",
       "411         wrong -0.339191\n",
       "489           tan -0.336656\n",
       "439         needs -0.333806\n",
       "382         blush -0.328499\n",
       "371    applicator -0.328342\n",
       "295          gave -0.325134\n",
       "383         waste -0.322340\n",
       "336         sally -0.314809\n",
       "154         hours -0.312361"
      ]
     },
     "execution_count": 143,
     "metadata": {},
     "output_type": "execute_result"
    }
   ],
   "source": [
    "print('most negatively associated words:')\n",
    "sentiment_df.sort_values('coef', ascending=True).head(20)"
   ]
  },
  {
   "cell_type": "markdown",
   "id": "f0b93dd0",
   "metadata": {},
   "source": [
    "##### Positive Words"
   ]
  },
  {
   "cell_type": "code",
   "execution_count": 144,
   "id": "a7c7cb72",
   "metadata": {},
   "outputs": [
    {
     "name": "stdout",
     "output_type": "stream",
     "text": [
      "most positively associated words:\n"
     ]
    },
    {
     "data": {
      "text/html": [
       "<div>\n",
       "<style scoped>\n",
       "    .dataframe tbody tr th:only-of-type {\n",
       "        vertical-align: middle;\n",
       "    }\n",
       "\n",
       "    .dataframe tbody tr th {\n",
       "        vertical-align: top;\n",
       "    }\n",
       "\n",
       "    .dataframe thead th {\n",
       "        text-align: right;\n",
       "    }\n",
       "</style>\n",
       "<table border=\"1\" class=\"dataframe\">\n",
       "  <thead>\n",
       "    <tr style=\"text-align: right;\">\n",
       "      <th></th>\n",
       "      <th>word</th>\n",
       "      <th>coef</th>\n",
       "    </tr>\n",
       "  </thead>\n",
       "  <tbody>\n",
       "    <tr>\n",
       "      <th>219</th>\n",
       "      <td>wonderful</td>\n",
       "      <td>0.601454</td>\n",
       "    </tr>\n",
       "    <tr>\n",
       "      <th>418</th>\n",
       "      <td>described</td>\n",
       "      <td>0.571709</td>\n",
       "    </tr>\n",
       "    <tr>\n",
       "      <th>378</th>\n",
       "      <td>cool</td>\n",
       "      <td>0.541899</td>\n",
       "    </tr>\n",
       "    <tr>\n",
       "      <th>367</th>\n",
       "      <td>finally</td>\n",
       "      <td>0.502946</td>\n",
       "    </tr>\n",
       "    <tr>\n",
       "      <th>456</th>\n",
       "      <td>eczema</td>\n",
       "      <td>0.497411</td>\n",
       "    </tr>\n",
       "    <tr>\n",
       "      <th>457</th>\n",
       "      <td>live</td>\n",
       "      <td>0.489697</td>\n",
       "    </tr>\n",
       "    <tr>\n",
       "      <th>435</th>\n",
       "      <td>fantastic</td>\n",
       "      <td>0.481183</td>\n",
       "    </tr>\n",
       "    <tr>\n",
       "      <th>306</th>\n",
       "      <td>says</td>\n",
       "      <td>0.461831</td>\n",
       "    </tr>\n",
       "    <tr>\n",
       "      <th>436</th>\n",
       "      <td>baby</td>\n",
       "      <td>0.428553</td>\n",
       "    </tr>\n",
       "    <tr>\n",
       "      <th>169</th>\n",
       "      <td>beautiful</td>\n",
       "      <td>0.417410</td>\n",
       "    </tr>\n",
       "    <tr>\n",
       "      <th>463</th>\n",
       "      <td>irritate</td>\n",
       "      <td>0.417081</td>\n",
       "    </tr>\n",
       "    <tr>\n",
       "      <th>375</th>\n",
       "      <td>slightly</td>\n",
       "      <td>0.409313</td>\n",
       "    </tr>\n",
       "    <tr>\n",
       "      <th>114</th>\n",
       "      <td>excellent</td>\n",
       "      <td>0.403442</td>\n",
       "    </tr>\n",
       "    <tr>\n",
       "      <th>341</th>\n",
       "      <td>pleased</td>\n",
       "      <td>0.401976</td>\n",
       "    </tr>\n",
       "    <tr>\n",
       "      <th>470</th>\n",
       "      <td>issues</td>\n",
       "      <td>0.395895</td>\n",
       "    </tr>\n",
       "    <tr>\n",
       "      <th>449</th>\n",
       "      <td>drugstore</td>\n",
       "      <td>0.393643</td>\n",
       "    </tr>\n",
       "    <tr>\n",
       "      <th>265</th>\n",
       "      <td>making</td>\n",
       "      <td>0.379513</td>\n",
       "    </tr>\n",
       "    <tr>\n",
       "      <th>179</th>\n",
       "      <td>water</td>\n",
       "      <td>0.372651</td>\n",
       "    </tr>\n",
       "    <tr>\n",
       "      <th>321</th>\n",
       "      <td>fresh</td>\n",
       "      <td>0.371748</td>\n",
       "    </tr>\n",
       "    <tr>\n",
       "      <th>391</th>\n",
       "      <td>hansen</td>\n",
       "      <td>0.368545</td>\n",
       "    </tr>\n",
       "  </tbody>\n",
       "</table>\n",
       "</div>"
      ],
      "text/plain": [
       "          word      coef\n",
       "219  wonderful  0.601454\n",
       "418  described  0.571709\n",
       "378       cool  0.541899\n",
       "367    finally  0.502946\n",
       "456     eczema  0.497411\n",
       "457       live  0.489697\n",
       "435  fantastic  0.481183\n",
       "306       says  0.461831\n",
       "436       baby  0.428553\n",
       "169  beautiful  0.417410\n",
       "463   irritate  0.417081\n",
       "375   slightly  0.409313\n",
       "114  excellent  0.403442\n",
       "341    pleased  0.401976\n",
       "470     issues  0.395895\n",
       "449  drugstore  0.393643\n",
       "265     making  0.379513\n",
       "179      water  0.372651\n",
       "321      fresh  0.371748\n",
       "391     hansen  0.368545"
      ]
     },
     "execution_count": 144,
     "metadata": {},
     "output_type": "execute_result"
    }
   ],
   "source": [
    "print('most positively associated words:')\n",
    "sentiment_df.sort_values('coef', ascending=False).head(20)"
   ]
  },
  {
   "cell_type": "markdown",
   "id": "8a43736b",
   "metadata": {},
   "source": [
    "Based off of these top words, it is unsurprising which words have the strongest positive and negative sentiment. For the negative words, \"disappointed,\" \"dried,\" \"broken,\"\"hate,\" and \"waste\" all seem like common reactions for unhappy customers. On the flip side, \"wonderful,\" \"fantastic,\" \"beauitful,\" \"excellent,\" etc. seem reasonable for a satisfied customer. The strongest coefficents for both positive and negative have an absolute value of around 0.60, which is not that strong, but still enough to make a difference. "
   ]
  },
  {
   "cell_type": "markdown",
   "id": "41eb1ceb",
   "metadata": {},
   "source": [
    "# Multinomial Regression\n",
    "Moving on from text analysis, we will be performing logistic multinomial regression using inputs such a verification status, star reviews, review length, helpful votes to predict the corporation being reviewed.\n",
    "\n",
    "First, I will be converting the beauty_clean dataset to binary values. This way, we will be able to use `LogisticRegression()` on the data."
   ]
  },
  {
   "cell_type": "code",
   "execution_count": 5,
   "id": "5a09f570",
   "metadata": {},
   "outputs": [],
   "source": [
    "col = ['star_rating','helpful_votes','vine','verified_purchase','review_length','corporation']\n",
    "beauty_binary = beauty_clean[col]"
   ]
  },
  {
   "cell_type": "code",
   "execution_count": 6,
   "id": "38004447",
   "metadata": {
    "scrolled": true
   },
   "outputs": [
    {
     "name": "stderr",
     "output_type": "stream",
     "text": [
      "<ipython-input-6-0d5a0d160fb7>:3: SettingWithCopyWarning: \n",
      "A value is trying to be set on a copy of a slice from a DataFrame.\n",
      "Try using .loc[row_indexer,col_indexer] = value instead\n",
      "\n",
      "See the caveats in the documentation: https://pandas.pydata.org/pandas-docs/stable/user_guide/indexing.html#returning-a-view-versus-a-copy\n",
      "  beauty_binary['review_length'] = beauty_clean['review_length'].apply(lambda x: 1 if x >= mn else 0)\n",
      "<ipython-input-6-0d5a0d160fb7>:6: SettingWithCopyWarning: \n",
      "A value is trying to be set on a copy of a slice from a DataFrame.\n",
      "Try using .loc[row_indexer,col_indexer] = value instead\n",
      "\n",
      "See the caveats in the documentation: https://pandas.pydata.org/pandas-docs/stable/user_guide/indexing.html#returning-a-view-versus-a-copy\n",
      "  beauty_binary['vine'] = beauty_binary['vine'].map({'Y': 1, 'N': 0})\n",
      "<ipython-input-6-0d5a0d160fb7>:9: SettingWithCopyWarning: \n",
      "A value is trying to be set on a copy of a slice from a DataFrame.\n",
      "Try using .loc[row_indexer,col_indexer] = value instead\n",
      "\n",
      "See the caveats in the documentation: https://pandas.pydata.org/pandas-docs/stable/user_guide/indexing.html#returning-a-view-versus-a-copy\n",
      "  beauty_binary['verified_purchase'] = beauty_binary['verified_purchase'].map({'Y': 1, 'N': 0})\n",
      "<ipython-input-6-0d5a0d160fb7>:12: SettingWithCopyWarning: \n",
      "A value is trying to be set on a copy of a slice from a DataFrame.\n",
      "Try using .loc[row_indexer,col_indexer] = value instead\n",
      "\n",
      "See the caveats in the documentation: https://pandas.pydata.org/pandas-docs/stable/user_guide/indexing.html#returning-a-view-versus-a-copy\n",
      "  beauty_binary['helpful_votes'] = beauty_clean['helpful_votes'].apply(lambda x: 1 if x > 0 else 0)\n"
     ]
    }
   ],
   "source": [
    "# changing review length to binary\n",
    "mn = beauty_clean['review_length'].mean()\n",
    "beauty_binary['review_length'] = beauty_clean['review_length'].apply(lambda x: 1 if x >= mn else 0)\n",
    "\n",
    "# changing vine reviews to 0 and 1\n",
    "beauty_binary['vine'] = beauty_binary['vine'].map({'Y': 1, 'N': 0})\n",
    "\n",
    "# verified purchases\n",
    "beauty_binary['verified_purchase'] = beauty_binary['verified_purchase'].map({'Y': 1, 'N': 0})\n",
    "\n",
    "# changing helpful votes to 0 for no helpful votes and 1 for helpful votes\n",
    "beauty_binary['helpful_votes'] = beauty_clean['helpful_votes'].apply(lambda x: 1 if x > 0 else 0)"
   ]
  },
  {
   "cell_type": "code",
   "execution_count": 7,
   "id": "1eafdac9",
   "metadata": {},
   "outputs": [],
   "source": [
    "# star rating to binary\n",
    "beauty_binary = pd.get_dummies(beauty_binary, columns=['star_rating'])"
   ]
  },
  {
   "cell_type": "markdown",
   "id": "25227bd6",
   "metadata": {},
   "source": [
    "Here, we are saving the column names that will become inputs for the `LogisticRegression()` model."
   ]
  },
  {
   "cell_type": "code",
   "execution_count": 8,
   "id": "49f1782f",
   "metadata": {},
   "outputs": [],
   "source": [
    "# columns to use for prediction\n",
    "predictors = list(beauty_binary.columns)\n",
    "predictors.remove('corporation')"
   ]
  },
  {
   "cell_type": "markdown",
   "id": "1cb54270",
   "metadata": {},
   "source": [
    "Below, we are mapping the corporation names to their corresponding numbers so that the model can process this."
   ]
  },
  {
   "cell_type": "code",
   "execution_count": 9,
   "id": "baa4da14",
   "metadata": {},
   "outputs": [],
   "source": [
    "# corporation from 0-4\n",
    "corporation_map = {\"Coty\": 0, \n",
    "             \"Johnson & Johnson\": 1, \n",
    "             \"L'oreal\": 2, \n",
    "             \"Proctor & Gamble\": 3, \n",
    "             \"Revlon\": 4}\n",
    "beauty_binary['corporation'] = beauty_binary['corporation'].map(corporation_map)"
   ]
  },
  {
   "cell_type": "code",
   "execution_count": 10,
   "id": "77fe5de6",
   "metadata": {},
   "outputs": [
    {
     "data": {
      "text/html": [
       "<div>\n",
       "<style scoped>\n",
       "    .dataframe tbody tr th:only-of-type {\n",
       "        vertical-align: middle;\n",
       "    }\n",
       "\n",
       "    .dataframe tbody tr th {\n",
       "        vertical-align: top;\n",
       "    }\n",
       "\n",
       "    .dataframe thead th {\n",
       "        text-align: right;\n",
       "    }\n",
       "</style>\n",
       "<table border=\"1\" class=\"dataframe\">\n",
       "  <thead>\n",
       "    <tr style=\"text-align: right;\">\n",
       "      <th></th>\n",
       "      <th>helpful_votes</th>\n",
       "      <th>vine</th>\n",
       "      <th>verified_purchase</th>\n",
       "      <th>review_length</th>\n",
       "      <th>corporation</th>\n",
       "      <th>star_rating_1.0</th>\n",
       "      <th>star_rating_2.0</th>\n",
       "      <th>star_rating_3.0</th>\n",
       "      <th>star_rating_4.0</th>\n",
       "      <th>star_rating_5.0</th>\n",
       "    </tr>\n",
       "  </thead>\n",
       "  <tbody>\n",
       "    <tr>\n",
       "      <th>0</th>\n",
       "      <td>0</td>\n",
       "      <td>0</td>\n",
       "      <td>1</td>\n",
       "      <td>0</td>\n",
       "      <td>4</td>\n",
       "      <td>0</td>\n",
       "      <td>0</td>\n",
       "      <td>1</td>\n",
       "      <td>0</td>\n",
       "      <td>0</td>\n",
       "    </tr>\n",
       "    <tr>\n",
       "      <th>1</th>\n",
       "      <td>0</td>\n",
       "      <td>0</td>\n",
       "      <td>1</td>\n",
       "      <td>1</td>\n",
       "      <td>4</td>\n",
       "      <td>0</td>\n",
       "      <td>0</td>\n",
       "      <td>0</td>\n",
       "      <td>0</td>\n",
       "      <td>1</td>\n",
       "    </tr>\n",
       "    <tr>\n",
       "      <th>2</th>\n",
       "      <td>1</td>\n",
       "      <td>0</td>\n",
       "      <td>1</td>\n",
       "      <td>0</td>\n",
       "      <td>2</td>\n",
       "      <td>0</td>\n",
       "      <td>0</td>\n",
       "      <td>0</td>\n",
       "      <td>0</td>\n",
       "      <td>1</td>\n",
       "    </tr>\n",
       "    <tr>\n",
       "      <th>3</th>\n",
       "      <td>0</td>\n",
       "      <td>0</td>\n",
       "      <td>1</td>\n",
       "      <td>0</td>\n",
       "      <td>1</td>\n",
       "      <td>0</td>\n",
       "      <td>0</td>\n",
       "      <td>0</td>\n",
       "      <td>0</td>\n",
       "      <td>1</td>\n",
       "    </tr>\n",
       "    <tr>\n",
       "      <th>4</th>\n",
       "      <td>0</td>\n",
       "      <td>0</td>\n",
       "      <td>1</td>\n",
       "      <td>0</td>\n",
       "      <td>2</td>\n",
       "      <td>0</td>\n",
       "      <td>0</td>\n",
       "      <td>0</td>\n",
       "      <td>0</td>\n",
       "      <td>1</td>\n",
       "    </tr>\n",
       "    <tr>\n",
       "      <th>...</th>\n",
       "      <td>...</td>\n",
       "      <td>...</td>\n",
       "      <td>...</td>\n",
       "      <td>...</td>\n",
       "      <td>...</td>\n",
       "      <td>...</td>\n",
       "      <td>...</td>\n",
       "      <td>...</td>\n",
       "      <td>...</td>\n",
       "      <td>...</td>\n",
       "    </tr>\n",
       "    <tr>\n",
       "      <th>39995</th>\n",
       "      <td>0</td>\n",
       "      <td>0</td>\n",
       "      <td>1</td>\n",
       "      <td>0</td>\n",
       "      <td>2</td>\n",
       "      <td>0</td>\n",
       "      <td>0</td>\n",
       "      <td>0</td>\n",
       "      <td>0</td>\n",
       "      <td>1</td>\n",
       "    </tr>\n",
       "    <tr>\n",
       "      <th>39996</th>\n",
       "      <td>0</td>\n",
       "      <td>0</td>\n",
       "      <td>1</td>\n",
       "      <td>0</td>\n",
       "      <td>2</td>\n",
       "      <td>0</td>\n",
       "      <td>0</td>\n",
       "      <td>0</td>\n",
       "      <td>0</td>\n",
       "      <td>1</td>\n",
       "    </tr>\n",
       "    <tr>\n",
       "      <th>39997</th>\n",
       "      <td>0</td>\n",
       "      <td>0</td>\n",
       "      <td>1</td>\n",
       "      <td>0</td>\n",
       "      <td>1</td>\n",
       "      <td>0</td>\n",
       "      <td>0</td>\n",
       "      <td>0</td>\n",
       "      <td>0</td>\n",
       "      <td>1</td>\n",
       "    </tr>\n",
       "    <tr>\n",
       "      <th>39998</th>\n",
       "      <td>1</td>\n",
       "      <td>0</td>\n",
       "      <td>1</td>\n",
       "      <td>1</td>\n",
       "      <td>2</td>\n",
       "      <td>0</td>\n",
       "      <td>0</td>\n",
       "      <td>0</td>\n",
       "      <td>1</td>\n",
       "      <td>0</td>\n",
       "    </tr>\n",
       "    <tr>\n",
       "      <th>39999</th>\n",
       "      <td>0</td>\n",
       "      <td>0</td>\n",
       "      <td>1</td>\n",
       "      <td>0</td>\n",
       "      <td>2</td>\n",
       "      <td>0</td>\n",
       "      <td>0</td>\n",
       "      <td>0</td>\n",
       "      <td>0</td>\n",
       "      <td>1</td>\n",
       "    </tr>\n",
       "  </tbody>\n",
       "</table>\n",
       "<p>40000 rows × 10 columns</p>\n",
       "</div>"
      ],
      "text/plain": [
       "       helpful_votes  vine  verified_purchase  review_length  corporation  \\\n",
       "0                  0     0                  1              0            4   \n",
       "1                  0     0                  1              1            4   \n",
       "2                  1     0                  1              0            2   \n",
       "3                  0     0                  1              0            1   \n",
       "4                  0     0                  1              0            2   \n",
       "...              ...   ...                ...            ...          ...   \n",
       "39995              0     0                  1              0            2   \n",
       "39996              0     0                  1              0            2   \n",
       "39997              0     0                  1              0            1   \n",
       "39998              1     0                  1              1            2   \n",
       "39999              0     0                  1              0            2   \n",
       "\n",
       "       star_rating_1.0  star_rating_2.0  star_rating_3.0  star_rating_4.0  \\\n",
       "0                    0                0                1                0   \n",
       "1                    0                0                0                0   \n",
       "2                    0                0                0                0   \n",
       "3                    0                0                0                0   \n",
       "4                    0                0                0                0   \n",
       "...                ...              ...              ...              ...   \n",
       "39995                0                0                0                0   \n",
       "39996                0                0                0                0   \n",
       "39997                0                0                0                0   \n",
       "39998                0                0                0                1   \n",
       "39999                0                0                0                0   \n",
       "\n",
       "       star_rating_5.0  \n",
       "0                    0  \n",
       "1                    1  \n",
       "2                    1  \n",
       "3                    1  \n",
       "4                    1  \n",
       "...                ...  \n",
       "39995                1  \n",
       "39996                1  \n",
       "39997                1  \n",
       "39998                0  \n",
       "39999                1  \n",
       "\n",
       "[40000 rows x 10 columns]"
      ]
     },
     "execution_count": 10,
     "metadata": {},
     "output_type": "execute_result"
    }
   ],
   "source": [
    "beauty_binary"
   ]
  },
  {
   "cell_type": "code",
   "execution_count": 11,
   "id": "d5b57466",
   "metadata": {},
   "outputs": [
    {
     "data": {
      "text/plain": [
       "LogisticRegression(multi_class='ovr')"
      ]
     },
     "execution_count": 11,
     "metadata": {},
     "output_type": "execute_result"
    }
   ],
   "source": [
    "corporation_model = LogisticRegression(multi_class='ovr')\n",
    "corporation_model.fit(beauty_binary[predictors], beauty_binary['corporation']) \n",
    "\n",
    "# figure out multinomial regression, what do i do from here?"
   ]
  },
  {
   "cell_type": "markdown",
   "id": "729e20c9",
   "metadata": {},
   "source": [
    "I fitted the multinomial regression model to beauty_binary. I used One vs Rest (OvR) logistic regression, which splits the corporations into multiple binary variables. The `predictors` are all the input columns except for `corporation`, which is then used as the y-value."
   ]
  },
  {
   "cell_type": "code",
   "execution_count": 16,
   "id": "163f158a",
   "metadata": {},
   "outputs": [],
   "source": [
    "# split into training and testing data\n",
    "X_train, X_test, y_train, y_test = train_test_split(beauty_binary[predictors], \n",
    "                                                    beauty_binary['corporation'], \n",
    "                                                    test_size=0.25)\n",
    "\n",
    "log_model = LogisticRegression(multi_class='ovr').fit(X_train, y_train)\n",
    "log_predict = log_model.predict(X_test)"
   ]
  },
  {
   "cell_type": "markdown",
   "id": "0b44193d",
   "metadata": {},
   "source": [
    "I split the data into training and testing data. Then I fitted the multinomial logistic regression to the x_train and y_train."
   ]
  },
  {
   "cell_type": "code",
   "execution_count": 21,
   "id": "a7bba76e",
   "metadata": {},
   "outputs": [
    {
     "name": "stdout",
     "output_type": "stream",
     "text": [
      "              precision    recall  f1-score   support\n",
      "\n",
      "           0       0.00      0.00      0.00      1335\n",
      "           1       0.41      0.07      0.13      2726\n",
      "           2       0.37      0.96      0.53      3632\n",
      "           3       0.00      0.00      0.00        22\n",
      "           4       0.00      0.00      0.00      2285\n",
      "\n",
      "    accuracy                           0.37     10000\n",
      "   macro avg       0.15      0.21      0.13     10000\n",
      "weighted avg       0.24      0.37      0.23     10000\n",
      "\n"
     ]
    },
    {
     "name": "stderr",
     "output_type": "stream",
     "text": [
      "/Users/michellehui/opt/anaconda3/lib/python3.8/site-packages/sklearn/metrics/_classification.py:1245: UndefinedMetricWarning: Precision and F-score are ill-defined and being set to 0.0 in labels with no predicted samples. Use `zero_division` parameter to control this behavior.\n",
      "  _warn_prf(average, modifier, msg_start, len(result))\n",
      "/Users/michellehui/opt/anaconda3/lib/python3.8/site-packages/sklearn/metrics/_classification.py:1245: UndefinedMetricWarning: Precision and F-score are ill-defined and being set to 0.0 in labels with no predicted samples. Use `zero_division` parameter to control this behavior.\n",
      "  _warn_prf(average, modifier, msg_start, len(result))\n",
      "/Users/michellehui/opt/anaconda3/lib/python3.8/site-packages/sklearn/metrics/_classification.py:1245: UndefinedMetricWarning: Precision and F-score are ill-defined and being set to 0.0 in labels with no predicted samples. Use `zero_division` parameter to control this behavior.\n",
      "  _warn_prf(average, modifier, msg_start, len(result))\n"
     ]
    }
   ],
   "source": [
    "print(classification_report(y_test, log_predict))"
   ]
  },
  {
   "cell_type": "code",
   "execution_count": 22,
   "id": "0785d3a7",
   "metadata": {},
   "outputs": [
    {
     "data": {
      "text/plain": [
       "<seaborn.axisgrid.FacetGrid at 0x7f9dd9100460>"
      ]
     },
     "execution_count": 22,
     "metadata": {},
     "output_type": "execute_result"
    },
    {
     "data": {
      "image/png": "[encoded data removed]",
      "text/plain": [
       "<Figure size 1008x288 with 5 Axes>"
      ]
     },
     "metadata": {
      "needs_background": "light"
     },
     "output_type": "display_data"
    }
   ],
   "source": [
    "sampled_test = pd.DataFrame({'corporation': y_test, 'predict':log_predict})\n",
    "fg = sns.FacetGrid(sampled_test, col='corporation', height=4, aspect=0.7)\n",
    "fg.map_dataframe(sns.histplot, y='predict')"
   ]
  },
  {
   "cell_type": "markdown",
   "id": "b5a0e9c5",
   "metadata": {},
   "source": [
    "Above, is the classification report and horizontal histogram for our prediction model. We see that the precision and accuracy is extremely low. Precision and F1 scores for 3 out of the 5 corporations are zero. While we can see the model is predicting every review to belong to 2, which is the center value. \n",
    "\n",
    "This means the variables between the corporations are too similar and not discernible enough for the model to predict."
   ]
  },
  {
   "cell_type": "markdown",
   "id": "6a374382",
   "metadata": {},
   "source": [
    "# Comparing Star Rating Distribution Shapes\n",
    "Shifting away from multinomial regression, we are applying the Kolmogorov-Smirnov test to compare different distributions of companies and verified purchases against each other. The two-sample test compares two distributions against each other to see if the distributions are similar. A low p-value indicates that the two samples are drawn from different distributions."
   ]
  },
  {
   "cell_type": "code",
   "execution_count": 26,
   "id": "11653a6a",
   "metadata": {},
   "outputs": [],
   "source": [
    "beauty_clean = pd.read_csv('amazonreviews_beauty.csv')"
   ]
  },
  {
   "cell_type": "markdown",
   "id": "cc3848af",
   "metadata": {},
   "source": [
    "### Comparing Star Rating Distribution Between Conglomerates\n",
    "First, we will be using the KStest to compare two brands against each other to see if they have similar star rating distributions."
   ]
  },
  {
   "cell_type": "code",
   "execution_count": 4,
   "id": "1f4b19ff",
   "metadata": {},
   "outputs": [],
   "source": [
    "brands = [\"L'oreal\", 'Coty', 'Revlon', 'Johnson & Johnson','Proctor & Gamble']\n",
    "kstest_pvalue = pd.DataFrame(columns=[\"L'oreal\", 'Coty', 'Revlon', 'Johnson & Johnson', 'Proctor & Gamble','corporation'])\n",
    "\n",
    "# computing KS test p-value\n",
    "kstest_pvalue = kstest_pvalue.append({\n",
    "                            brands[0]:sp.stats.kstest(beauty_clean['star_rating'], \n",
    "                                                         beauty_clean[beauty_clean['corporation']==brands[0]]['star_rating'])[1],\n",
    "                            brands[1]:sp.stats.kstest(beauty_clean['star_rating'], \n",
    "                                                 beauty_clean[beauty_clean['corporation']==brands[1]]['star_rating'])[1],\n",
    "                            brands[2]:sp.stats.kstest(beauty_clean['star_rating'], \n",
    "                                                beauty_clean[beauty_clean['corporation']==brands[2]]['star_rating'])[1],\n",
    "                            brands[3]:sp.stats.kstest(beauty_clean['star_rating'], \n",
    "                                                beauty_clean[beauty_clean['corporation']==brands[3]]['star_rating'])[1],\n",
    "                            brands[4]:sp.stats.kstest(beauty_clean['star_rating'], \n",
    "                                                beauty_clean[beauty_clean['corporation']==brands[4]]['star_rating'])[1],\n",
    "\n",
    "                            'corporation': 'Overall'},\n",
    "                            ignore_index = True)"
   ]
  },
  {
   "cell_type": "markdown",
   "id": "67b5f604",
   "metadata": {},
   "source": [
    "In the cell above, I compared each brand against the overall distrbution using a for loop."
   ]
  },
  {
   "cell_type": "code",
   "execution_count": null,
   "id": "152e1c83",
   "metadata": {},
   "outputs": [],
   "source": [
    "for brand in brands:\n",
    "    kstest_pvalue = kstest_pvalue.append({\n",
    "                            brands[0]:sp.stats.kstest(beauty_clean[beauty_clean['corporation']==brand]['star_rating'], \n",
    "                                                         beauty_clean[beauty_clean['corporation']==brands[0]]['star_rating'])[1],\n",
    "                            brands[1]:sp.stats.kstest(beauty_clean[beauty_clean['corporation']==brand]['star_rating'], \n",
    "                                                 beauty_clean[beauty_clean['corporation']==brands[1]]['star_rating'])[1],\n",
    "                            brands[2]:sp.stats.kstest(beauty_clean[beauty_clean['corporation']==brand]['star_rating'], \n",
    "                                                beauty_clean[beauty_clean['corporation']==brands[2]]['star_rating'])[1],\n",
    "                            brands[3]:sp.stats.kstest(beauty_clean[beauty_clean['corporation']==brand]['star_rating'], \n",
    "                                                beauty_clean[beauty_clean['corporation']==brands[3]]['star_rating'])[1],\n",
    "                            brands[4]:sp.stats.kstest(beauty_clean[beauty_clean['corporation']==brand]['star_rating'], \n",
    "                                                beauty_clean[beauty_clean['corporation']==brands[4]]['star_rating'])[1],\n",
    "                            'corporation': brand},\n",
    "                            ignore_index = True)  \n"
   ]
  },
  {
   "cell_type": "markdown",
   "id": "167224bf",
   "metadata": {},
   "source": [
    "In the cell above, I compared each brand against other brands using another for loop to produce the KStest p-values."
   ]
  },
  {
   "cell_type": "code",
   "execution_count": null,
   "id": "e1a17aa1",
   "metadata": {},
   "outputs": [],
   "source": [
    "kstest_pvalue = kstest_pvalue.set_index('corporation')"
   ]
  },
  {
   "cell_type": "code",
   "execution_count": 12,
   "id": "dc22f960",
   "metadata": {},
   "outputs": [
    {
     "data": {
      "text/html": [
       "<div>\n",
       "<style scoped>\n",
       "    .dataframe tbody tr th:only-of-type {\n",
       "        vertical-align: middle;\n",
       "    }\n",
       "\n",
       "    .dataframe tbody tr th {\n",
       "        vertical-align: top;\n",
       "    }\n",
       "\n",
       "    .dataframe thead th {\n",
       "        text-align: right;\n",
       "    }\n",
       "</style>\n",
       "<table border=\"1\" class=\"dataframe\">\n",
       "  <thead>\n",
       "    <tr style=\"text-align: right;\">\n",
       "      <th></th>\n",
       "      <th>L'oreal</th>\n",
       "      <th>Coty</th>\n",
       "      <th>Revlon</th>\n",
       "      <th>Johnson &amp; Johnson</th>\n",
       "      <th>Proctor &amp; Gamble</th>\n",
       "    </tr>\n",
       "    <tr>\n",
       "      <th>corporation</th>\n",
       "      <th></th>\n",
       "      <th></th>\n",
       "      <th></th>\n",
       "      <th></th>\n",
       "      <th></th>\n",
       "    </tr>\n",
       "  </thead>\n",
       "  <tbody>\n",
       "    <tr>\n",
       "      <th>Overall</th>\n",
       "      <td>2.389256e-03</td>\n",
       "      <td>1.996499e-07</td>\n",
       "      <td>2.489627e-03</td>\n",
       "      <td>4.172724e-20</td>\n",
       "      <td>0.845286</td>\n",
       "    </tr>\n",
       "    <tr>\n",
       "      <th>L'oreal</th>\n",
       "      <td>1.000000e+00</td>\n",
       "      <td>8.145916e-05</td>\n",
       "      <td>2.625683e-03</td>\n",
       "      <td>2.157187e-26</td>\n",
       "      <td>0.991217</td>\n",
       "    </tr>\n",
       "    <tr>\n",
       "      <th>Coty</th>\n",
       "      <td>8.145916e-05</td>\n",
       "      <td>1.000000e+00</td>\n",
       "      <td>3.383141e-02</td>\n",
       "      <td>6.168237e-24</td>\n",
       "      <td>0.996803</td>\n",
       "    </tr>\n",
       "    <tr>\n",
       "      <th>Revlon</th>\n",
       "      <td>2.625683e-03</td>\n",
       "      <td>3.383141e-02</td>\n",
       "      <td>1.000000e+00</td>\n",
       "      <td>1.075449e-17</td>\n",
       "      <td>0.969655</td>\n",
       "    </tr>\n",
       "    <tr>\n",
       "      <th>Johnson &amp; Johnson</th>\n",
       "      <td>2.157187e-26</td>\n",
       "      <td>6.168237e-24</td>\n",
       "      <td>1.075449e-17</td>\n",
       "      <td>1.000000e+00</td>\n",
       "      <td>0.165232</td>\n",
       "    </tr>\n",
       "    <tr>\n",
       "      <th>Proctor &amp; Gamble</th>\n",
       "      <td>9.912174e-01</td>\n",
       "      <td>9.968026e-01</td>\n",
       "      <td>9.696550e-01</td>\n",
       "      <td>1.652320e-01</td>\n",
       "      <td>1.000000</td>\n",
       "    </tr>\n",
       "  </tbody>\n",
       "</table>\n",
       "</div>"
      ],
      "text/plain": [
       "                        L'oreal          Coty        Revlon  \\\n",
       "corporation                                                   \n",
       "Overall            2.389256e-03  1.996499e-07  2.489627e-03   \n",
       "L'oreal            1.000000e+00  8.145916e-05  2.625683e-03   \n",
       "Coty               8.145916e-05  1.000000e+00  3.383141e-02   \n",
       "Revlon             2.625683e-03  3.383141e-02  1.000000e+00   \n",
       "Johnson & Johnson  2.157187e-26  6.168237e-24  1.075449e-17   \n",
       "Proctor & Gamble   9.912174e-01  9.968026e-01  9.696550e-01   \n",
       "\n",
       "                   Johnson & Johnson  Proctor & Gamble  \n",
       "corporation                                             \n",
       "Overall                 4.172724e-20          0.845286  \n",
       "L'oreal                 2.157187e-26          0.991217  \n",
       "Coty                    6.168237e-24          0.996803  \n",
       "Revlon                  1.075449e-17          0.969655  \n",
       "Johnson & Johnson       1.000000e+00          0.165232  \n",
       "Proctor & Gamble        1.652320e-01          1.000000  "
      ]
     },
     "execution_count": 12,
     "metadata": {},
     "output_type": "execute_result"
    },
    {
     "data": {
      "image/png": "[encoded data removed]",
      "text/plain": [
       "<Figure size 432x288 with 2 Axes>"
      ]
     },
     "metadata": {
      "needs_background": "light"
     },
     "output_type": "display_data"
    }
   ],
   "source": [
    "sns.heatmap(kstest_pvalue, vmin=0, vmax=1)\n",
    "kstest_pvalue"
   ]
  },
  {
   "cell_type": "markdown",
   "id": "e5505fd6",
   "metadata": {},
   "source": [
    "The graph and dataframe above represents the respective p-values when each brand is compared against another. \n",
    "\n",
    "Surpisingly, the p-values of indivudal corporations compared against the overall star rating distribution are almost all less than 0.01. The individual corporations compared against  other corporations are also almost all very close to zero. The only exception is Proctor & Gamble, which has p-values close to 1. We hypothesize this is because Proctor & Gamble has a significantly smaller sample size compared the rest.\n",
    "\n",
    "The low p-values mean we are able to confidently reject the null hypothesis that the star rating distributions of each company are drawn from the same distribution for all the companies except Procotr & Gamble.\n",
    "\n",
    "We hypothesize the p-value is so low because of the large dataset we have. Any minute differences in the graphs would greatly influence the KStest. "
   ]
  },
  {
   "cell_type": "markdown",
   "id": "8279788c",
   "metadata": {},
   "source": [
    "#### KStest on Subset of Data \n",
    "To verify the above hypothesis, we are going to subset the data and run the KStest on the smaller star rating distributions again. If this is the case, the p-values should be significantly higher."
   ]
  },
  {
   "cell_type": "code",
   "execution_count": 14,
   "id": "d14fa065",
   "metadata": {},
   "outputs": [],
   "source": [
    "# subset of data as sanity check\n",
    "beauty_sample = beauty_clean.sample(1000)\n",
    "\n",
    "brands = [\"L'oreal\", 'Coty', 'Revlon', 'Johnson & Johnson','Proctor & Gamble']\n",
    "kstest_sample_pvalue = pd.DataFrame(columns=[\"L'oreal\", 'Coty', 'Revlon', 'Johnson & Johnson', 'Proctor & Gamble','corporation'])\n",
    "\n",
    "# computing KS test p-value\n",
    "kstest_sample_pvalue = kstest_sample_pvalue.append({\n",
    "                            brands[0]:sp.stats.kstest(beauty_sample['star_rating'], \n",
    "                                                         beauty_sample[beauty_sample['corporation']==brands[0]]['star_rating'])[1],\n",
    "                            brands[1]:sp.stats.kstest(beauty_sample['star_rating'], \n",
    "                                                 beauty_sample[beauty_sample['corporation']==brands[1]]['star_rating'])[1],\n",
    "                            brands[2]:sp.stats.kstest(beauty_sample['star_rating'], \n",
    "                                                beauty_sample[beauty_sample['corporation']==brands[2]]['star_rating'])[1],\n",
    "                            brands[3]:sp.stats.kstest(beauty_sample['star_rating'], \n",
    "                                                beauty_sample[beauty_sample['corporation']==brands[3]]['star_rating'])[1],\n",
    "                            brands[4]:sp.stats.kstest(beauty_sample['star_rating'], \n",
    "                                                beauty_sample[beauty_sample['corporation']==brands[4]]['star_rating'])[1],\n",
    "                            'corporation': 'Overall'},\n",
    "                            ignore_index = True)\n",
    "for brand in brands:\n",
    "    kstest_sample_pvalue = kstest_sample_pvalue.append({\n",
    "                            brands[0]:sp.stats.kstest(beauty_sample[beauty_sample['corporation']==brand]['star_rating'], \n",
    "                                                         beauty_sample[beauty_sample['corporation']==brands[0]]['star_rating'])[1],\n",
    "                            brands[1]:sp.stats.kstest(beauty_sample[beauty_sample['corporation']==brand]['star_rating'], \n",
    "                                                 beauty_sample[beauty_sample['corporation']==brands[1]]['star_rating'])[1],\n",
    "                            brands[2]:sp.stats.kstest(beauty_sample[beauty_sample['corporation']==brand]['star_rating'], \n",
    "                                                beauty_sample[beauty_sample['corporation']==brands[2]]['star_rating'])[1],\n",
    "                            brands[3]:sp.stats.kstest(beauty_sample[beauty_sample['corporation']==brand]['star_rating'], \n",
    "                                                beauty_sample[beauty_sample['corporation']==brands[3]]['star_rating'])[1],\n",
    "                            brands[4]:sp.stats.kstest(beauty_sample[beauty_sample['corporation']==brand]['star_rating'], \n",
    "                                                beauty_sample[beauty_sample['corporation']==brands[4]]['star_rating'])[1],\n",
    "\n",
    "                            'corporation': brand},\n",
    "                            ignore_index = True)   "
   ]
  },
  {
   "cell_type": "markdown",
   "id": "ba082677",
   "metadata": {},
   "source": [
    "I performed the exact same KStest comparing brands against the overall distritbution and other brands (same as above) on the smaller, subsetted dataset."
   ]
  },
  {
   "cell_type": "code",
   "execution_count": 15,
   "id": "43de274c",
   "metadata": {},
   "outputs": [],
   "source": [
    "kstest_sample_pvalue = kstest_sample_pvalue.set_index('corporation')"
   ]
  },
  {
   "cell_type": "code",
   "execution_count": 16,
   "id": "818fa8eb",
   "metadata": {},
   "outputs": [
    {
     "data": {
      "text/html": [
       "<div>\n",
       "<style scoped>\n",
       "    .dataframe tbody tr th:only-of-type {\n",
       "        vertical-align: middle;\n",
       "    }\n",
       "\n",
       "    .dataframe tbody tr th {\n",
       "        vertical-align: top;\n",
       "    }\n",
       "\n",
       "    .dataframe thead th {\n",
       "        text-align: right;\n",
       "    }\n",
       "</style>\n",
       "<table border=\"1\" class=\"dataframe\">\n",
       "  <thead>\n",
       "    <tr style=\"text-align: right;\">\n",
       "      <th></th>\n",
       "      <th>L'oreal</th>\n",
       "      <th>Coty</th>\n",
       "      <th>Revlon</th>\n",
       "      <th>Johnson &amp; Johnson</th>\n",
       "      <th>Proctor &amp; Gamble</th>\n",
       "    </tr>\n",
       "    <tr>\n",
       "      <th>corporation</th>\n",
       "      <th></th>\n",
       "      <th></th>\n",
       "      <th></th>\n",
       "      <th></th>\n",
       "      <th></th>\n",
       "    </tr>\n",
       "  </thead>\n",
       "  <tbody>\n",
       "    <tr>\n",
       "      <th>Overall</th>\n",
       "      <td>0.482902</td>\n",
       "      <td>0.999925</td>\n",
       "      <td>0.999519</td>\n",
       "      <td>0.073958</td>\n",
       "      <td>0.880421</td>\n",
       "    </tr>\n",
       "    <tr>\n",
       "      <th>L'oreal</th>\n",
       "      <td>1.000000</td>\n",
       "      <td>1.000000</td>\n",
       "      <td>0.866467</td>\n",
       "      <td>0.004564</td>\n",
       "      <td>0.969608</td>\n",
       "    </tr>\n",
       "    <tr>\n",
       "      <th>Coty</th>\n",
       "      <td>1.000000</td>\n",
       "      <td>1.000000</td>\n",
       "      <td>0.999996</td>\n",
       "      <td>0.197630</td>\n",
       "      <td>0.953227</td>\n",
       "    </tr>\n",
       "    <tr>\n",
       "      <th>Revlon</th>\n",
       "      <td>0.866467</td>\n",
       "      <td>0.999996</td>\n",
       "      <td>1.000000</td>\n",
       "      <td>0.300026</td>\n",
       "      <td>0.884665</td>\n",
       "    </tr>\n",
       "    <tr>\n",
       "      <th>Johnson &amp; Johnson</th>\n",
       "      <td>0.004564</td>\n",
       "      <td>0.197630</td>\n",
       "      <td>0.300026</td>\n",
       "      <td>1.000000</td>\n",
       "      <td>0.631216</td>\n",
       "    </tr>\n",
       "    <tr>\n",
       "      <th>Proctor &amp; Gamble</th>\n",
       "      <td>0.969608</td>\n",
       "      <td>0.953227</td>\n",
       "      <td>0.884665</td>\n",
       "      <td>0.631216</td>\n",
       "      <td>1.000000</td>\n",
       "    </tr>\n",
       "  </tbody>\n",
       "</table>\n",
       "</div>"
      ],
      "text/plain": [
       "                    L'oreal      Coty    Revlon  Johnson & Johnson  \\\n",
       "corporation                                                          \n",
       "Overall            0.482902  0.999925  0.999519           0.073958   \n",
       "L'oreal            1.000000  1.000000  0.866467           0.004564   \n",
       "Coty               1.000000  1.000000  0.999996           0.197630   \n",
       "Revlon             0.866467  0.999996  1.000000           0.300026   \n",
       "Johnson & Johnson  0.004564  0.197630  0.300026           1.000000   \n",
       "Proctor & Gamble   0.969608  0.953227  0.884665           0.631216   \n",
       "\n",
       "                   Proctor & Gamble  \n",
       "corporation                          \n",
       "Overall                    0.880421  \n",
       "L'oreal                    0.969608  \n",
       "Coty                       0.953227  \n",
       "Revlon                     0.884665  \n",
       "Johnson & Johnson          0.631216  \n",
       "Proctor & Gamble           1.000000  "
      ]
     },
     "execution_count": 16,
     "metadata": {},
     "output_type": "execute_result"
    },
    {
     "data": {
      "image/png": "[encoded data removed]",
      "text/plain": [
       "<Figure size 432x288 with 2 Axes>"
      ]
     },
     "metadata": {
      "needs_background": "light"
     },
     "output_type": "display_data"
    }
   ],
   "source": [
    "sns.heatmap(kstest_sample_pvalue, vmin=0, vmax=1)\n",
    "kstest_sample_pvalue"
   ]
  },
  {
   "cell_type": "markdown",
   "id": "7f99d68c",
   "metadata": {},
   "source": [
    "When we subset the sample size to n=1000, we can see this set of p-values are significantly larger. This verifies that the kstest p-values from the full review samples are low due to the law of large numbers and not other peculiarities in the data. \n",
    "\n",
    "However, this is still promising as the law of large numbers suggests that any minute differences in summary statistics between corporations are significant. We will be exploring this idea further in the evaluation of significance."
   ]
  },
  {
   "cell_type": "markdown",
   "id": "e8f9cdf9",
   "metadata": {},
   "source": [
    "### Comparying Between Verified and Non-verified reviews\n",
    "As mentioned above, Proctor and Gamble was removed because it only has a few five-star reviews and analysis on it would not be very information nor accurate.\n",
    "\n",
    "Below, I will be performing the KStest comparing the distributions between Verified and Non-Verified reviews."
   ]
  },
  {
   "cell_type": "code",
   "execution_count": 21,
   "id": "eef5409c",
   "metadata": {},
   "outputs": [],
   "source": [
    "brands = [\"L'oreal\", 'Coty', 'Revlon', 'Johnson & Johnson']\n",
    "kstest_verified = pd.DataFrame(columns=['pvalue','company', 'verified_mean', 'nonverified_mean'])\n",
    "verified = beauty_clean[beauty_clean['verified_purchase']=='Y']\n",
    "non_verified = beauty_clean[beauty_clean['verified_purchase']=='N']\n",
    "\n",
    "# computing overall statistics \n",
    "kstest_verified = kstest_verified.append({\n",
    "                        'pvalue':sp.stats.kstest(verified['star_rating'], non_verified['star_rating'])[1],\n",
    "                        'company': 'Overall',\n",
    "                        'verified_mean': verified[verified['corporation']!='Proctor & Gamble']['star_rating'].mean(),\n",
    "                        'nonverified_mean': non_verified[non_verified['corporation']!='Proctor & Gamble']['star_rating'].mean()}, \n",
    "                        ignore_index=True)"
   ]
  },
  {
   "cell_type": "markdown",
   "id": "beedf7e0",
   "metadata": {},
   "source": [
    "Above, I compared the overall distributions verified and non-verified star ratings against each other using the KStest to produce their respective pvalues. I also added in relevant statistics such as the means."
   ]
  },
  {
   "cell_type": "code",
   "execution_count": null,
   "id": "ff0234ef",
   "metadata": {},
   "outputs": [],
   "source": [
    "# computing company specific statistics \n",
    "for brand in brands:\n",
    "    kstest_verified = kstest_verified.append({\n",
    "                            'pvalue':sp.stats.kstest(verified[verified['corporation']==brand]['star_rating'], \n",
    "                                                         non_verified[non_verified['corporation']==brand]['star_rating'])[1],\n",
    "                            'company': brand,\n",
    "                            'verified_mean': verified[verified['corporation']==brand]['star_rating'].mean(),\n",
    "                            'nonverified_mean': non_verified[non_verified['corporation']==brand]['star_rating'].mean()},\n",
    "                            ignore_index = True)\n"
   ]
  },
  {
   "cell_type": "markdown",
   "id": "9c42229f",
   "metadata": {},
   "source": [
    "Here, I am creating a dataframe that has all the relevant statistics and p-values grouped by corporation. I computed the KStest p-values between verified and on-verified star ratings and also their respective means."
   ]
  },
  {
   "cell_type": "code",
   "execution_count": 22,
   "id": "f5d7207d",
   "metadata": {},
   "outputs": [],
   "source": [
    "kstest_verified = kstest_verified.set_index('company')"
   ]
  },
  {
   "cell_type": "code",
   "execution_count": 23,
   "id": "c85c6e69",
   "metadata": {},
   "outputs": [
    {
     "data": {
      "text/html": [
       "<div>\n",
       "<style scoped>\n",
       "    .dataframe tbody tr th:only-of-type {\n",
       "        vertical-align: middle;\n",
       "    }\n",
       "\n",
       "    .dataframe tbody tr th {\n",
       "        vertical-align: top;\n",
       "    }\n",
       "\n",
       "    .dataframe thead th {\n",
       "        text-align: right;\n",
       "    }\n",
       "</style>\n",
       "<table border=\"1\" class=\"dataframe\">\n",
       "  <thead>\n",
       "    <tr style=\"text-align: right;\">\n",
       "      <th></th>\n",
       "      <th>pvalue</th>\n",
       "      <th>verified_mean</th>\n",
       "      <th>nonverified_mean</th>\n",
       "    </tr>\n",
       "    <tr>\n",
       "      <th>company</th>\n",
       "      <th></th>\n",
       "      <th></th>\n",
       "      <th></th>\n",
       "    </tr>\n",
       "  </thead>\n",
       "  <tbody>\n",
       "    <tr>\n",
       "      <th>Overall</th>\n",
       "      <td>1.013610e-89</td>\n",
       "      <td>4.252436</td>\n",
       "      <td>3.727130</td>\n",
       "    </tr>\n",
       "    <tr>\n",
       "      <th>L'oreal</th>\n",
       "      <td>2.124088e-36</td>\n",
       "      <td>4.239289</td>\n",
       "      <td>3.722594</td>\n",
       "    </tr>\n",
       "    <tr>\n",
       "      <th>Coty</th>\n",
       "      <td>2.422721e-09</td>\n",
       "      <td>4.113121</td>\n",
       "      <td>3.636232</td>\n",
       "    </tr>\n",
       "    <tr>\n",
       "      <th>Revlon</th>\n",
       "      <td>3.299000e-18</td>\n",
       "      <td>4.171561</td>\n",
       "      <td>3.534759</td>\n",
       "    </tr>\n",
       "    <tr>\n",
       "      <th>Johnson &amp; Johnson</th>\n",
       "      <td>3.747976e-39</td>\n",
       "      <td>4.410839</td>\n",
       "      <td>3.852088</td>\n",
       "    </tr>\n",
       "  </tbody>\n",
       "</table>\n",
       "</div>"
      ],
      "text/plain": [
       "                         pvalue  verified_mean  nonverified_mean\n",
       "company                                                         \n",
       "Overall            1.013610e-89       4.252436          3.727130\n",
       "L'oreal            2.124088e-36       4.239289          3.722594\n",
       "Coty               2.422721e-09       4.113121          3.636232\n",
       "Revlon             3.299000e-18       4.171561          3.534759\n",
       "Johnson & Johnson  3.747976e-39       4.410839          3.852088"
      ]
     },
     "execution_count": 23,
     "metadata": {},
     "output_type": "execute_result"
    }
   ],
   "source": [
    "kstest_verified"
   ]
  },
  {
   "cell_type": "markdown",
   "id": "240a055d",
   "metadata": {},
   "source": [
    " As the p-values are close to zero, we can reject the null hypothesis that the non-verified and verified star ratings are drawn from the same distributions. As seen in the dataframe above,  the nonverified purchases are averaging consistently lower across all brands. In the distributions of star ratings, we all see they have relatively (percentage wise) more one star reviews. This is an interesting and unexpected pattern. It would be interesting to investigate the confidence intervals which we will perform in evaluation of significance. It would also be interesting to explore and understanding this pattern.                "
   ]
  },
  {
   "cell_type": "markdown",
   "id": "cf13d0bb",
   "metadata": {},
   "source": [
    "# Evaluation of Significance\n",
    "\n",
    "## Text Analysis Evaluation\n",
    "To evaluate the significance of our model, we lastly ran a permutation to estimate the probability of getting a slope more extreme than the one our model predicted. We ran 200 permutations in this case. Since each word had its own coefficient/slope, and there were 500 words, we decided to say the overall slope was more extreme if more than half of the permuted slopes were more extreme than the originals. "
   ]
  },
  {
   "cell_type": "code",
   "execution_count": 149,
   "id": "f5d5a4f0",
   "metadata": {},
   "outputs": [],
   "source": [
    "def permute(input_array):\n",
    "    # shuffle is inplace, so copy to preserve input\n",
    "    permuted = input_array.copy().values #convert to numpy array, avoiding warning\n",
    "    np.random.shuffle(permuted)\n",
    "    return pd.Series(permuted) # convert back to pandas"
   ]
  },
  {
   "cell_type": "code",
   "execution_count": 150,
   "id": "3a7e4b92",
   "metadata": {},
   "outputs": [],
   "source": [
    "observed_slopes = LR.coef_"
   ]
  },
  {
   "cell_type": "code",
   "execution_count": 151,
   "id": "8734c7c7",
   "metadata": {},
   "outputs": [
    {
     "name": "stdout",
     "output_type": "stream",
     "text": [
      "Number of permuted slopes of greater magnitude than original linear regression slope: 0\n",
      "Implied p (slope): 0.0\n"
     ]
    }
   ],
   "source": [
    "model = LogisticRegression().fit(model_data.drop(original_cols, axis = 1), model_data['is_positive'])\n",
    "steeper_slopes = 0\n",
    "n_permutations = 200\n",
    "\n",
    "for i in range(n_permutations):\n",
    "    permuted_model = LogisticRegression().fit(model_data.drop(original_cols, axis = 1), permute(model_data['is_positive']))\n",
    "    \n",
    "    permuted_slopes = permuted_model.coef_\n",
    "    \n",
    "    if sum(np.abs(permuted_model.coef_[0]) > np.abs(observed_slopes[0])) > 250:\n",
    "        steeper_slopes += 1\n",
    "        \n",
    "print('Number of permuted slopes of greater magnitude than original linear regression slope:', steeper_slopes)\n",
    "print('Implied p (slope):', steeper_slopes / n_permutations)"
   ]
  },
  {
   "cell_type": "markdown",
   "id": "d281b10d",
   "metadata": {},
   "source": [
    "After running these permutations, we see that none of the permuted slopes had more than half more extreme than the slopes of our original models. This means that there is definitely a relationship between how often specific words appear in reviews and if they are constituted as positive/negative."
   ]
  },
  {
   "cell_type": "markdown",
   "id": "28e5e27e",
   "metadata": {},
   "source": [
    "## KStest Star Rating Confidence Intervals Evaluation\n",
    "We will be bootstrapping the star ratings by corporation and verified purchases to determine a 95% confidence interval for their mean star ratings. We expect to find very small confidence intervals as our sample size is so large. Therefore, we can be confident even slight differences in our means are not due to variation in the samples and are statistically significant. First we will be analyzing corporations and then analyzing verified vs non-verified star ratings.\n",
    "\n",
    "### Star Rating by Corporation Confidence Intervals\n",
    "By bootstrapping for confidence intervals, we are looking to determine which corporations have definitively higher star ratings than others. "
   ]
  },
  {
   "cell_type": "code",
   "execution_count": 34,
   "id": "891aeda8",
   "metadata": {},
   "outputs": [
    {
     "data": {
      "image/png": "[encoded data removed]",
      "text/plain": [
       "<Figure size 432x288 with 1 Axes>"
      ]
     },
     "metadata": {
      "needs_background": "light"
     },
     "output_type": "display_data"
    },
    {
     "name": "stdout",
     "output_type": "stream",
     "text": [
      "L'oreal bootstraped 95% Confidence Interval: 4.152, 4.192\n"
     ]
    },
    {
     "data": {
      "image/png": "[encoded data removed]",
      "text/plain": [
       "<Figure size 432x288 with 1 Axes>"
      ]
     },
     "metadata": {
      "needs_background": "light"
     },
     "output_type": "display_data"
    },
    {
     "name": "stdout",
     "output_type": "stream",
     "text": [
      "Coty bootstraped 95% Confidence Interval: 4.014, 4.085\n"
     ]
    },
    {
     "data": {
      "image/png": "[encoded data removed]",
      "text/plain": [
       "<Figure size 432x288 with 1 Axes>"
      ]
     },
     "metadata": {
      "needs_background": "light"
     },
     "output_type": "display_data"
    },
    {
     "name": "stdout",
     "output_type": "stream",
     "text": [
      "Revlon bootstraped 95% Confidence Interval: 4.090, 4.147\n"
     ]
    },
    {
     "data": {
      "image/png": "[encoded data removed]",
      "text/plain": [
       "<Figure size 432x288 with 1 Axes>"
      ]
     },
     "metadata": {
      "needs_background": "light"
     },
     "output_type": "display_data"
    },
    {
     "name": "stdout",
     "output_type": "stream",
     "text": [
      "Johnson & Johnson bootstraped 95% Confidence Interval: 4.300, 4.346\n"
     ]
    },
    {
     "data": {
      "image/png": "[encoded data removed]",
      "text/plain": [
       "<Figure size 432x288 with 1 Axes>"
      ]
     },
     "metadata": {
      "needs_background": "light"
     },
     "output_type": "display_data"
    },
    {
     "name": "stdout",
     "output_type": "stream",
     "text": [
      "Proctor & Gamble bootstraped 95% Confidence Interval: 3.824, 4.335\n"
     ]
    }
   ],
   "source": [
    "# bootstrapping for mean star rating by corporation\n",
    "brands = [\"L'oreal\", 'Coty', 'Revlon', 'Johnson & Johnson', 'Proctor & Gamble']\n",
    "CI = pd.DataFrame()\n",
    "\n",
    "for brand in brands:\n",
    "    bootstrap_means = []\n",
    "    for i in range(500):\n",
    "        resampled_data = beauty_clean.sample(n=len(beauty_clean), replace=True)\n",
    "        mean = resampled_data[resampled_data['corporation']==brand]['star_rating'].mean()\n",
    "        bootstrap_means.append(mean)\n",
    "    \n",
    "    plt.hist(bootstrap_means)\n",
    "    plt.title(brand)\n",
    "    plt.vlines(np.quantile(bootstrap_means, q=[0.025])[0], color='green', ymin=0, ymax=100)\n",
    "    plt.vlines(np.quantile(bootstrap_means, q=[0.975])[0], color='green', ymin=0, ymax=100)\n",
    "    plt.show()\n",
    "    \n",
    "    CI_95 = np.quantile(bootstrap_means, q=[0.025, 0.975])\n",
    "    CI = CI.append({'0.025':CI_95[0],'0.975':CI_95[1],'corporation': brand}, ignore_index = True)\n",
    "    print('{} bootstraped 95% Confidence Interval: {:.3f}, {:.3f}'.format(brand, CI_95[0], CI_95[1]))"
   ]
  },
  {
   "cell_type": "markdown",
   "id": "31b9f50a",
   "metadata": {},
   "source": [
    "Here we have calculated the confidence intervals of mean star rating for each company. We also represented the calculations through a histogram and 95% confidence interval lines. "
   ]
  },
  {
   "cell_type": "code",
   "execution_count": 40,
   "id": "82867e56",
   "metadata": {},
   "outputs": [
    {
     "data": {
      "text/html": [
       "<div>\n",
       "<style scoped>\n",
       "    .dataframe tbody tr th:only-of-type {\n",
       "        vertical-align: middle;\n",
       "    }\n",
       "\n",
       "    .dataframe tbody tr th {\n",
       "        vertical-align: top;\n",
       "    }\n",
       "\n",
       "    .dataframe thead th {\n",
       "        text-align: right;\n",
       "    }\n",
       "</style>\n",
       "<table border=\"1\" class=\"dataframe\">\n",
       "  <thead>\n",
       "    <tr style=\"text-align: right;\">\n",
       "      <th></th>\n",
       "      <th>0.025</th>\n",
       "      <th>0.975</th>\n",
       "      <th>mean</th>\n",
       "      <th>count</th>\n",
       "    </tr>\n",
       "    <tr>\n",
       "      <th>corporation</th>\n",
       "      <th></th>\n",
       "      <th></th>\n",
       "      <th></th>\n",
       "      <th></th>\n",
       "    </tr>\n",
       "  </thead>\n",
       "  <tbody>\n",
       "    <tr>\n",
       "      <th>L'oreal</th>\n",
       "      <td>4.151768</td>\n",
       "      <td>4.191530</td>\n",
       "      <td>4.170827</td>\n",
       "      <td>14664</td>\n",
       "    </tr>\n",
       "    <tr>\n",
       "      <th>Coty</th>\n",
       "      <td>4.014075</td>\n",
       "      <td>4.084506</td>\n",
       "      <td>4.050777</td>\n",
       "      <td>5278</td>\n",
       "    </tr>\n",
       "    <tr>\n",
       "      <th>Revlon</th>\n",
       "      <td>4.090187</td>\n",
       "      <td>4.146941</td>\n",
       "      <td>4.118370</td>\n",
       "      <td>8955</td>\n",
       "    </tr>\n",
       "    <tr>\n",
       "      <th>Johnson &amp; Johnson</th>\n",
       "      <td>4.300377</td>\n",
       "      <td>4.345952</td>\n",
       "      <td>4.323308</td>\n",
       "      <td>11005</td>\n",
       "    </tr>\n",
       "    <tr>\n",
       "      <th>Proctor &amp; Gamble</th>\n",
       "      <td>3.823869</td>\n",
       "      <td>4.334882</td>\n",
       "      <td>4.071429</td>\n",
       "      <td>98</td>\n",
       "    </tr>\n",
       "  </tbody>\n",
       "</table>\n",
       "</div>"
      ],
      "text/plain": [
       "                      0.025     0.975      mean  count\n",
       "corporation                                           \n",
       "L'oreal            4.151768  4.191530  4.170827  14664\n",
       "Coty               4.014075  4.084506  4.050777   5278\n",
       "Revlon             4.090187  4.146941  4.118370   8955\n",
       "Johnson & Johnson  4.300377  4.345952  4.323308  11005\n",
       "Proctor & Gamble   3.823869  4.334882  4.071429     98"
      ]
     },
     "execution_count": 40,
     "metadata": {},
     "output_type": "execute_result"
    }
   ],
   "source": [
    "CI_compile = CI.copy()\n",
    "CI_compile = CI_compile.set_index('corporation')\n",
    "CI_compile['mean'] = beauty_clean.groupby(by=['corporation'])['star_rating'].mean()\n",
    "CI_compile['count'] = beauty_clean.groupby(by=['corporation'])['star_rating'].count()\n",
    "CI_compile"
   ]
  },
  {
   "cell_type": "code",
   "execution_count": 53,
   "id": "d8304615",
   "metadata": {},
   "outputs": [
    {
     "data": {
      "text/plain": [
       "Text(0.5, 1.0, 'Confidence Interval of Star Ratings by Corporation')"
      ]
     },
     "execution_count": 53,
     "metadata": {},
     "output_type": "execute_result"
    },
    {
     "data": {
      "image/png": "[encoded data removed]",
      "text/plain": [
       "<Figure size 432x288 with 1 Axes>"
      ]
     },
     "metadata": {
      "needs_background": "light"
     },
     "output_type": "display_data"
    }
   ],
   "source": [
    "plt.barh(CI_compile.index.values.tolist(), width=(CI_compile['0.975']-CI_compile['0.025']), left=CI_compile['0.025'], height=0.5)\n",
    "plt.title('Confidence Interval of Star Ratings by Corporation')"
   ]
  },
  {
   "cell_type": "markdown",
   "id": "bfa47be7",
   "metadata": {},
   "source": [
    "Above is another visualization directly comparing the confidence intervals against each other. We can see that most of the confidence intervals do not overlap.\n",
    "\n",
    "While the differences in mean star ratings between the corporations from our initial summary statistics are small, we can see they are statistically significant. Based on star rating means, here are the company ranks:\n",
    "1. Johnson & Johnson\n",
    "2. L'oreal\n",
    "3. Revlon\n",
    "4. Coty\n",
    "\n",
    "We are unable to include Proctor & Gamble in the rankings as the sample size is too small to narrow down on an accurate mean star rating."
   ]
  },
  {
   "cell_type": "markdown",
   "id": "1c45b0f1",
   "metadata": {},
   "source": [
    "### Verified vs Non-Verified Star Rating Confidence Intervals\n",
    "Next, we will be bootstrapping the star ratings based off of the verification status of the review 500 times to see if there are statistically significant trends between the two categories."
   ]
  },
  {
   "cell_type": "code",
   "execution_count": 55,
   "id": "d2974223",
   "metadata": {},
   "outputs": [
    {
     "name": "stdout",
     "output_type": "stream",
     "text": [
      "Y Star Ratings bootstraped 95% Confidence Interval (4.23841, 4.26469)\n",
      "\n",
      "N Star Ratings bootstraped 95% Confidence Interval (3.68646, 3.77064)\n",
      "\n"
     ]
    }
   ],
   "source": [
    "# bootstrapping for mean star rating by verified vs non-verified\n",
    "verified_status = ['Y','N']\n",
    "CI = pd.DataFrame()\n",
    "\n",
    "for status in verified_status:\n",
    "    bootstrap_means = []\n",
    "    for i in range(500):\n",
    "        resampled_raw = beauty_clean.sample(n=len(beauty_clean), replace=True)\n",
    "        resampled = resampled_raw[resampled_raw['verified_purchase']==status]\n",
    "        mean = resampled['star_rating'].mean()\n",
    "        bootstrap_means.append(mean)\n",
    "        \n",
    "    CI_95 = np.quantile(bootstrap_means, q=[0.025, 0.975])\n",
    "    CI = CI.append({'0.025':CI_95[0],'0.975':CI_95[1],'Verified': status},\n",
    "                   ignore_index = True)\n",
    "    print('{} Star Ratings bootstraped 95% Confidence Interval ({:.5f}, {:.5f})\\n'.format(\n",
    "        status, CI_95[0], CI_95[1]))"
   ]
  },
  {
   "cell_type": "code",
   "execution_count": 56,
   "id": "af5481f3",
   "metadata": {},
   "outputs": [
    {
     "data": {
      "text/html": [
       "<div>\n",
       "<style scoped>\n",
       "    .dataframe tbody tr th:only-of-type {\n",
       "        vertical-align: middle;\n",
       "    }\n",
       "\n",
       "    .dataframe tbody tr th {\n",
       "        vertical-align: top;\n",
       "    }\n",
       "\n",
       "    .dataframe thead th {\n",
       "        text-align: right;\n",
       "    }\n",
       "</style>\n",
       "<table border=\"1\" class=\"dataframe\">\n",
       "  <thead>\n",
       "    <tr style=\"text-align: right;\">\n",
       "      <th></th>\n",
       "      <th>0.025</th>\n",
       "      <th>0.975</th>\n",
       "      <th>mean</th>\n",
       "      <th>count</th>\n",
       "    </tr>\n",
       "    <tr>\n",
       "      <th>Verified</th>\n",
       "      <th></th>\n",
       "      <th></th>\n",
       "      <th></th>\n",
       "      <th></th>\n",
       "    </tr>\n",
       "  </thead>\n",
       "  <tbody>\n",
       "    <tr>\n",
       "      <th>Y</th>\n",
       "      <td>4.238408</td>\n",
       "      <td>4.26469</td>\n",
       "      <td>4.251884</td>\n",
       "      <td>34893</td>\n",
       "    </tr>\n",
       "    <tr>\n",
       "      <th>N</th>\n",
       "      <td>3.686462</td>\n",
       "      <td>3.77064</td>\n",
       "      <td>3.727629</td>\n",
       "      <td>5107</td>\n",
       "    </tr>\n",
       "  </tbody>\n",
       "</table>\n",
       "</div>"
      ],
      "text/plain": [
       "             0.025    0.975      mean  count\n",
       "Verified                                    \n",
       "Y         4.238408  4.26469  4.251884  34893\n",
       "N         3.686462  3.77064  3.727629   5107"
      ]
     },
     "execution_count": 56,
     "metadata": {},
     "output_type": "execute_result"
    }
   ],
   "source": [
    "CI_compile = CI.copy()\n",
    "CI_compile = CI_compile.set_index('Verified')\n",
    "CI_compile['mean'] = beauty_clean.groupby(by='verified_purchase')['star_rating'].mean()\n",
    "CI_compile['count'] = beauty_clean.groupby(by=['verified_purchase'])['star_rating'].count()\n",
    "CI_compile"
   ]
  },
  {
   "cell_type": "markdown",
   "id": "b83a1983",
   "metadata": {},
   "source": [
    "Above are a few relevant statistics for each verification category including confidence intervals, mean, and sample size."
   ]
  },
  {
   "cell_type": "code",
   "execution_count": 57,
   "id": "a1553cb7",
   "metadata": {},
   "outputs": [
    {
     "data": {
      "text/plain": [
       "Text(0.5, 1.0, 'Confidence Interval of Star Ratings by Verification Status')"
      ]
     },
     "execution_count": 57,
     "metadata": {},
     "output_type": "execute_result"
    },
    {
     "data": {
      "image/png": "[encoded data removed]",
      "text/plain": [
       "<Figure size 432x288 with 1 Axes>"
      ]
     },
     "metadata": {
      "needs_background": "light"
     },
     "output_type": "display_data"
    }
   ],
   "source": [
    "plt.barh(CI_compile.index.values.tolist(), width=(CI_compile['0.975']-CI_compile['0.025']), left=CI_compile['0.025'], height=0.5)\n",
    "plt.title('Confidence Interval of Star Ratings by Verification Status')"
   ]
  },
  {
   "cell_type": "markdown",
   "id": "a03d5ad1",
   "metadata": {},
   "source": [
    "We can see from the confidence intervals that the mean for verified star ratings are definitively higher than non-verified star ratings. This is a very interesting pattern that could lead to understanding consumer behavior and fake reviews. We speculate this is lower rating from non-verified purchases could be due to trolls on the internet who like to post negative reviews in their free time. However, we cannot provide further analysis with our current dataset as it would require user data and more complex natural language processing. In addition, providing an explanation might also require a deeper understanding of psychology and behavorial analysis."
   ]
  },
  {
   "cell_type": "markdown",
   "id": "e0b5c056",
   "metadata": {},
   "source": [
    "# Interpretations and Conclusions\n",
    "\n",
    "Having run these three analyses, there are some noticeable observations that we describe below. \n",
    "\n",
    "## Sentiment Analysis\n",
    "In our sentiment analysis, we ultimately discovered little differences between reviews for different companies and star ratings. \n",
    "\n",
    "A possible indicator of market performance that we discovered in our analysis is that \"love\" appears far less in Procter & Gamble reviews than other companies, possibly reflecting the fact that Procter & Gamble was one of the 2 companies that had both share and sale percentage drops over the year, and had the greatest share percent change in the negative direction. Another observation is that the word \"dry\" is only a top appearing word for Johnson & Johnson. J&J's market performance was unique in the sense that it had no change in share percent, but had massive sales growth in the year. Despite that, it still had the lowest sales in millions compared to all the other companies. \n",
    "\n",
    "In terms of difference in words/sentiment across star ratings, it also seemed that the most common words were the same regardless of whether the review was 1 star or 5 stars. This defied our hypothesis that lower star reviews would have more negatively associated words. However, a major hindrance to our analysis was the fact that our CountVectorizer object tokenized words individually, rather than in phrases, meaning there was no way to differentiate between a reviewer who said they “don’t love” versus “love” a product. This might have caused a considerable bias in our results.\n",
    "\n",
    "When we created a Logistic Regression model to use these counts of words to predict whether a review was positive or negative, we saw that it ran with about 78% accuracy. While this is not a horrible model, it was equal to our baseline accuracy. This meant that guessing a review was positive every time was just as effective as analyzing the words in the text. This is most likely due to the fact that most of the reviews in our dataset were positive ones. That meant that guessing positive was going to be correct most of the time since few people contributed negative reviews. However, the lack of overall negative reviews also made it harder for the model to identify common words in negative reviews, which is probably why our model accuracy could only get as high as 78%. \n",
    "\n",
    "Despite these somewhat unpromising results, running 200 permutations of our data revealed something else. Each word (of the top 500 that we identified) had its own coefficient to how strongly it is associated with positive reviews. We wanted to see how many of these permutations had at least half (250) of its coefficients with a steeper slope than our original model. After running these permutations, we found that none of them had more than half of their slopes more extreme than our original model. This seems to suggest that our model represents a strong relationship between variables. \n",
    "\n",
    "Ultimately, due to the high volume of positive reviews and basic language testing, we were not able to draw any strong or definitive conclusions about how a review body might reflect specific sentiments towards a beauty company. \n",
    "In the context of the real world, this demonstrates the fact that while Amazon itself is one of the greatest online retailers, its reviews are not necessarily that meaningful. People cannot necessarily rely on reviews to understand if they should support a company or buy a certain product, and on the flip side, companies cannot examine reviews alone to gauge the popularity of products or their performance. This is a bit disheartening, considering how many customers rely strongly on reviews to buy a product, especially on Amazon where they cannot test the product on themselves or see it before their purchase. \n",
    "\n",
    "## Multinomial Regression\n",
    "In our One vs Rest multinomial regression, we were not able to accurately predict corporations based on review attributes. \n",
    "\n",
    "The precision and F1 score for 3 out of the 5 corporations were zero. From the histograms, we can see that the model was predicting almost every review to belong to corporation 2 on a scale of (0-4), which is the middle value. The model was most likely unable to discern the corporations apart based on star_review, verification status, vine reviews, etc. attributes because they are all fairly uniform across corporations. Therefore, it predicted all the reviews to belong to the middle corporation. \n",
    "\n",
    "This further supports the idea that we cannot aggregate reviews reviewing individual products to represent a larger corporation. Perhaps if we were to do multinomial regression again, it would be more effective on different products with more distinct attributes. \n",
    "\n",
    "\n",
    "## Kolmogorov-Smirnov Test\n",
    "### Comparing Corporations\n",
    "In our Kolmogorov-Smirnov test, we were able to determine that these star rating distributions between each company are not drawn from the same sample. Comparing each company against the overall distribution and other companies, our p-value is almost zero. This means we are able to reject the null hypothesis, which is that the star rating distribution for each company is the same as the overall distribution and other companies distributions. \n",
    "\n",
    "We were very surprised by this result as the initial visualizations do not show significant differences in the shape of the distribution. However, we were able to confirm the low p-values are attributed to the law of large numbers. When we subsetted the data and performed the KS-test on the smaller sample, we received very high p-values. \n",
    "\n",
    "This is promising because our large sample size indicates that minute differences in distribution attributes such as mean and standard deviation are not due to random variability in the data but are significant results. To confirm this, we performed bootstrapping in the evaluation of significance. \n",
    "\n",
    "In our bootstrapping, we found 95% confidence intervals for the star ratings of each corporation.  Based on this, we can be 95% confident that the true mean of all 2015 star ratings per corporation lies in the intervals that we have calculated. Because of the large sample size, the confidence intervals were very narrow and had no overlap between other corporations. From this we were able to determine statistically significant rankings of companies as follows: \n",
    "1. Johnson & Johnson\n",
    "2. L'oreal\n",
    "3. Revlon\n",
    "4. Coty\n",
    "\n",
    "However, these rankings do not match up with the greater market performance. In our beauty market data, we see that L’oreal is the market leader while Johnson & Johnson has the least sales. However, Johnson & Johnson did have the highest growth rate. These Amazon star rating rankings could reflect interesting changes in consumer opinion in 2015. \n",
    "\n",
    "### Comparing Verified and Unverified Reviews\n",
    "Similar to our analysis of star rating distributions between corporations, we also compared star ratings of verified purchases against unverified purchases by performing the Kolmogorov-Smirnov test and then bootstrapping to determine confidence intervals. From our initial summary visualizations, we saw that unverified ratings had relatively more one-star ratings that verified ratings. This difference in distribution was confirmed by the KS-test p-value. We are able to reject the null hypothesis, which is that the verified ratings and unverified ratings are drawn from the same sample. \n",
    "\n",
    "In our bootstrapping, we found 95% confidence intervals for the star ratings between verified and unverified ratings.  Because of the large sample size, the confidence intervals were very narrow and had no overlap between the two. Verified ratings had an interval of (4.23906, 4.26565) while unverified ratings had an interval of (3.69055, 3.77194). We can see that there is a pretty large difference between the two but do not know exactly why this pattern exists. We speculate unverified reviews could be due to internet trolls that like to leave negative comments in their free time. However, proving this would require complex natural language processing, reviewer profiling, and behavioral analysis.\n",
    "\n",
    "## Final Remarks\n",
    "After running through our sentiment and statistical analyses, we can conclude that Amazon reviews are not an accurate reflection of trends in the greater market by company. While we were able to determine trends within Amazon reviews such as star ratings, and postive vs negative sentiment, we cannot merge these reviews describing individual products to represent trends distinguishing larger corporations.\n",
    "\n",
    "One reason we believe 2015 Amazon reviews do not accurately reflect the greater market is because ecommerce was not as prevalent six years ago. Many consumers were still purchasing their products from big-box retail stores such as Walmart and Target. This is evidenced by the fact that Proctor and Gamble, which is a large corporation with brands like Head & Shoulders, only had 88 reviews from our sample. This could be because Proctor and Gamble was not selling a lot of its products on Amazon at the time. It would be interesting to perform these same analyses on 2020 or 2021 data during and post COVID-19, where e-commerce and Amazon has become increasingly more prevalent. Therefore, Amazon might be more reflective of the market in 2021."
   ]
  },
  {
   "cell_type": "markdown",
   "id": "b23cf6b8",
   "metadata": {},
   "source": [
    "# Data Limitations\n",
    "\n",
    "\n",
    "## Beauty Market\n",
    "- We are only able to see the market sales of 4 well known companies, some of which are parent companies that own several beauty brands. This makes it difficult to use with our Amazon dataset which reports reviews of these smaller \"child\" companies. \n",
    "- The data lumps together \"private labels\" and \"others\" into separate categories, which is unclear of which companies it considers under those categories, and might have been valuable in our data analysis.\n",
    "- The data only reports sales and shares for 2015 as a whole, and in the period ending March 22. Not only does this mean it does not include the whole year of 2015, but it is not specific in how the sales were in different months.\n",
    "- The data only analyzes company performance in terms of market shares and sales, no other metrics.\n",
    "\n",
    "## Amazon Reviews\n",
    " - Amazon has a lot of other smaller, indie brands that we had to exclude from the cleaned dataset because the Beauty Market Dataset only included the top few brands. Because we are not including them, our analysis might not accurately reflect the whole market share and beauty space.\n",
    " - It could be difficult to analyze the review text content as it requires in-depth natural language processing, which is beyond the scope of what we will learn in this course. We are only able to look at individual words, which does not take into context phrases and sentences. Therefore, it is tough to come up with definitive results for sentiment analysis.\n",
    " - By selecting only 40,000 reviews, we also risk losing a lot of important observations such as vine reviews, reviews that are voted highly helpful, and various reviews across products that could have very beneficial content. As a result, we had to exclude vine reviews from our analysis and cannot comment on trends on Amazon's vine program.\n",
    " - Proctor and Gamble only had 88 observations. We had to exclude it from certain analyses because it would not produce accurate or legible results. As a result, we are not able to comment on whether Proctor and Gamble amazon ratings match the greater market. \n",
    " - Our data is only looking 2015 reviews, which might not be relevant to the current market today. "
   ]
  },
  {
   "cell_type": "markdown",
   "id": "726c6f3b",
   "metadata": {},
   "source": [
    "# Source Code\n",
    "\n",
    "Github: https://github.com/wansyd20/info2950\n",
    "- Contains all of our exploratory analysis (found in Phase 2)\n",
    "\n",
    "Google Drive: https://drive.google.com/file/d/10BZgEwx-hawo1cRTTAXCwnOjz5o1YZBt/view?usp=sharing\n",
    "- Contains all of our raw data"
   ]
  },
  {
   "cell_type": "markdown",
   "id": "ee0d82af",
   "metadata": {},
   "source": [
    "# Acknowledgements\n",
    "\n",
    "We would like to acknowledge:\n",
    "- Professor Mark Jacobsen (UCSD) who Michelle did research with and performed the Kolmogorov-Smirnov test during this time.\n",
    "- Professor Michael Perlmutter (UCLA) who Sydney learned NLP processes and sentiment analysis from in his Python Applications course. The sentiment analysis processes used in this project were based off of his lecture notes.\n"
   ]
  }
 ],
 "metadata": {
  "kernelspec": {
   "display_name": "Python 3",
   "language": "python",
   "name": "python3"
  },
  "language_info": {
   "codemirror_mode": {
    "name": "ipython",
    "version": 3
   },
   "file_extension": ".py",
   "mimetype": "text/x-python",
   "name": "python",
   "nbconvert_exporter": "python",
   "pygments_lexer": "ipython3",
   "version": "3.8.8"
  }
 },
 "nbformat": 4,
 "nbformat_minor": 5
}
