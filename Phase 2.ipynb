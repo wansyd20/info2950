{
 "cells": [
  {
   "cell_type": "markdown",
   "id": "16f38d1a",
   "metadata": {},
   "source": [
    "Michelle Hui (msh334)\n",
    "Sydney Wan (ssw73)\n",
    "\n",
    "We are comparing two datasets against each other. One is the Amazon Reviews dataset, specifically on products Amazon categorizes as \"Beauty\". The second is a dataset with market data on large beauty corporations in 2014-2015. We performed collection and cleaning, data description, and exploratory data analysis on both datasets. We have labeled in each section which of the two datasets we are looking at."
   ]
  },
  {
   "cell_type": "markdown",
   "id": "2b29dce2",
   "metadata": {},
   "source": [
    "# Research Question\n",
    "**1. Are Amazon Beauty product reviews an accurate representation of how well a brand is doing in the greater market? Are we able to determine general consumer sentiment about a brand based on just Amazon reviews?**"
   ]
  },
  {
   "cell_type": "code",
   "execution_count": 2,
   "id": "1238ec41",
   "metadata": {},
   "outputs": [],
   "source": [
    "import pandas as pd\n",
    "import matplotlib.pyplot as plt\n",
    "import numpy as np"
   ]
  },
  {
   "cell_type": "markdown",
   "id": "ccd7f44e",
   "metadata": {},
   "source": [
    "# Data Collection and Cleaning\n",
    "## Beauty Market Data"
   ]
  },
  {
   "cell_type": "markdown",
   "id": "fafd7e62",
   "metadata": {},
   "source": [
    "Reading in the raw csv file"
   ]
  },
  {
   "cell_type": "code",
   "execution_count": 3,
   "id": "13be1652",
   "metadata": {},
   "outputs": [],
   "source": [
    "market_data_raw = pd.read_csv('beauty_market_sales.csv')"
   ]
  },
  {
   "cell_type": "code",
   "execution_count": 4,
   "id": "3fc1d44a",
   "metadata": {},
   "outputs": [
    {
     "data": {
      "text/html": [
       "<div>\n",
       "<style scoped>\n",
       "    .dataframe tbody tr th:only-of-type {\n",
       "        vertical-align: middle;\n",
       "    }\n",
       "\n",
       "    .dataframe tbody tr th {\n",
       "        vertical-align: top;\n",
       "    }\n",
       "\n",
       "    .dataframe thead th {\n",
       "        text-align: right;\n",
       "    }\n",
       "</style>\n",
       "<table border=\"1\" class=\"dataframe\">\n",
       "  <thead>\n",
       "    <tr style=\"text-align: right;\">\n",
       "      <th></th>\n",
       "      <th>Unnamed: 0</th>\n",
       "      <th>2014_sales_millions</th>\n",
       "      <th>2014_market_share_percent</th>\n",
       "      <th>2015_sales_millions</th>\n",
       "      <th>2015_market_share_percent</th>\n",
       "      <th>sale_change_percent</th>\n",
       "      <th>share_change_percent</th>\n",
       "    </tr>\n",
       "  </thead>\n",
       "  <tbody>\n",
       "    <tr>\n",
       "      <th>0</th>\n",
       "      <td>L'Oréal USA</td>\n",
       "      <td>1,797.9</td>\n",
       "      <td>39.1</td>\n",
       "      <td>1,815.0</td>\n",
       "      <td>38.6</td>\n",
       "      <td>1.0</td>\n",
       "      <td>-0.5</td>\n",
       "    </tr>\n",
       "    <tr>\n",
       "      <th>1</th>\n",
       "      <td>Procter &amp; Gamble</td>\n",
       "      <td>954.7</td>\n",
       "      <td>20.8</td>\n",
       "      <td>946.1</td>\n",
       "      <td>20.1</td>\n",
       "      <td>-0.9</td>\n",
       "      <td>-0.7</td>\n",
       "    </tr>\n",
       "    <tr>\n",
       "      <th>2</th>\n",
       "      <td>Revlon Inc.</td>\n",
       "      <td>670.5</td>\n",
       "      <td>14.6</td>\n",
       "      <td>661.6</td>\n",
       "      <td>14.1</td>\n",
       "      <td>-1.3</td>\n",
       "      <td>-0.5</td>\n",
       "    </tr>\n",
       "    <tr>\n",
       "      <th>3</th>\n",
       "      <td>Coty Beauty</td>\n",
       "      <td>262.3</td>\n",
       "      <td>5.7</td>\n",
       "      <td>263.8</td>\n",
       "      <td>5.6</td>\n",
       "      <td>0.5</td>\n",
       "      <td>-0.1</td>\n",
       "    </tr>\n",
       "    <tr>\n",
       "      <th>4</th>\n",
       "      <td>Johnson &amp; Johnson</td>\n",
       "      <td>171.9</td>\n",
       "      <td>3.7</td>\n",
       "      <td>176.0</td>\n",
       "      <td>3.7</td>\n",
       "      <td>2.4</td>\n",
       "      <td>-</td>\n",
       "    </tr>\n",
       "    <tr>\n",
       "      <th>5</th>\n",
       "      <td>Subtotal</td>\n",
       "      <td>3,857.4</td>\n",
       "      <td>84.0</td>\n",
       "      <td>3,862.5</td>\n",
       "      <td>82.2</td>\n",
       "      <td>0.1</td>\n",
       "      <td>-1.8</td>\n",
       "    </tr>\n",
       "    <tr>\n",
       "      <th>6</th>\n",
       "      <td>Private label</td>\n",
       "      <td>49.5</td>\n",
       "      <td>1.1</td>\n",
       "      <td>56.2</td>\n",
       "      <td>1.2</td>\n",
       "      <td>13.6</td>\n",
       "      <td>0.1</td>\n",
       "    </tr>\n",
       "    <tr>\n",
       "      <th>7</th>\n",
       "      <td>Others</td>\n",
       "      <td>686.2</td>\n",
       "      <td>14.9</td>\n",
       "      <td>780.4</td>\n",
       "      <td>16.6</td>\n",
       "      <td>13.7</td>\n",
       "      <td>1.7</td>\n",
       "    </tr>\n",
       "  </tbody>\n",
       "</table>\n",
       "</div>"
      ],
      "text/plain": [
       "          Unnamed: 0 2014_sales_millions  2014_market_share_percent  \\\n",
       "0        L'Oréal USA             1,797.9                       39.1   \n",
       "1   Procter & Gamble               954.7                       20.8   \n",
       "2        Revlon Inc.               670.5                       14.6   \n",
       "3        Coty Beauty               262.3                        5.7   \n",
       "4  Johnson & Johnson               171.9                        3.7   \n",
       "5           Subtotal             3,857.4                       84.0   \n",
       "6      Private label                49.5                        1.1   \n",
       "7             Others               686.2                       14.9   \n",
       "\n",
       "  2015_sales_millions  2015_market_share_percent  sale_change_percent  \\\n",
       "0             1,815.0                       38.6                  1.0   \n",
       "1               946.1                       20.1                 -0.9   \n",
       "2               661.6                       14.1                 -1.3   \n",
       "3               263.8                        5.6                  0.5   \n",
       "4               176.0                        3.7                  2.4   \n",
       "5             3,862.5                       82.2                  0.1   \n",
       "6                56.2                        1.2                 13.6   \n",
       "7               780.4                       16.6                 13.7   \n",
       "\n",
       "  share_change_percent  \n",
       "0                 -0.5  \n",
       "1                 -0.7  \n",
       "2                 -0.5  \n",
       "3                 -0.1  \n",
       "4                    -  \n",
       "5                 -1.8  \n",
       "6                  0.1  \n",
       "7                  1.7  "
      ]
     },
     "execution_count": 4,
     "metadata": {},
     "output_type": "execute_result"
    }
   ],
   "source": [
    "market_data_raw"
   ]
  },
  {
   "cell_type": "markdown",
   "id": "110eaa70",
   "metadata": {},
   "source": [
    "Renaming the ```Unnamed:0``` column title to company"
   ]
  },
  {
   "cell_type": "code",
   "execution_count": 5,
   "id": "f651ef73",
   "metadata": {},
   "outputs": [],
   "source": [
    "market_data = market_data_raw.rename(columns = {'Unnamed: 0' : \"Company\"})"
   ]
  },
  {
   "cell_type": "markdown",
   "id": "8e445c21",
   "metadata": {},
   "source": [
    "For our research purposes, we only are looking at the top 5 companies with clear company names, so we discard the 'Private label', 'Others', and 'Subtotal' rows"
   ]
  },
  {
   "cell_type": "code",
   "execution_count": 6,
   "id": "c0a66508",
   "metadata": {},
   "outputs": [
    {
     "data": {
      "text/html": [
       "<div>\n",
       "<style scoped>\n",
       "    .dataframe tbody tr th:only-of-type {\n",
       "        vertical-align: middle;\n",
       "    }\n",
       "\n",
       "    .dataframe tbody tr th {\n",
       "        vertical-align: top;\n",
       "    }\n",
       "\n",
       "    .dataframe thead th {\n",
       "        text-align: right;\n",
       "    }\n",
       "</style>\n",
       "<table border=\"1\" class=\"dataframe\">\n",
       "  <thead>\n",
       "    <tr style=\"text-align: right;\">\n",
       "      <th></th>\n",
       "      <th>Company</th>\n",
       "      <th>2014_sales_millions</th>\n",
       "      <th>2014_market_share_percent</th>\n",
       "      <th>2015_sales_millions</th>\n",
       "      <th>2015_market_share_percent</th>\n",
       "      <th>sale_change_percent</th>\n",
       "      <th>share_change_percent</th>\n",
       "    </tr>\n",
       "  </thead>\n",
       "  <tbody>\n",
       "    <tr>\n",
       "      <th>0</th>\n",
       "      <td>L'Oréal USA</td>\n",
       "      <td>1,797.9</td>\n",
       "      <td>39.1</td>\n",
       "      <td>1,815.0</td>\n",
       "      <td>38.6</td>\n",
       "      <td>1.0</td>\n",
       "      <td>-0.5</td>\n",
       "    </tr>\n",
       "    <tr>\n",
       "      <th>1</th>\n",
       "      <td>Procter &amp; Gamble</td>\n",
       "      <td>954.7</td>\n",
       "      <td>20.8</td>\n",
       "      <td>946.1</td>\n",
       "      <td>20.1</td>\n",
       "      <td>-0.9</td>\n",
       "      <td>-0.7</td>\n",
       "    </tr>\n",
       "    <tr>\n",
       "      <th>2</th>\n",
       "      <td>Revlon Inc.</td>\n",
       "      <td>670.5</td>\n",
       "      <td>14.6</td>\n",
       "      <td>661.6</td>\n",
       "      <td>14.1</td>\n",
       "      <td>-1.3</td>\n",
       "      <td>-0.5</td>\n",
       "    </tr>\n",
       "    <tr>\n",
       "      <th>3</th>\n",
       "      <td>Coty Beauty</td>\n",
       "      <td>262.3</td>\n",
       "      <td>5.7</td>\n",
       "      <td>263.8</td>\n",
       "      <td>5.6</td>\n",
       "      <td>0.5</td>\n",
       "      <td>-0.1</td>\n",
       "    </tr>\n",
       "    <tr>\n",
       "      <th>4</th>\n",
       "      <td>Johnson &amp; Johnson</td>\n",
       "      <td>171.9</td>\n",
       "      <td>3.7</td>\n",
       "      <td>176.0</td>\n",
       "      <td>3.7</td>\n",
       "      <td>2.4</td>\n",
       "      <td>-</td>\n",
       "    </tr>\n",
       "  </tbody>\n",
       "</table>\n",
       "</div>"
      ],
      "text/plain": [
       "             Company 2014_sales_millions  2014_market_share_percent  \\\n",
       "0        L'Oréal USA             1,797.9                       39.1   \n",
       "1   Procter & Gamble               954.7                       20.8   \n",
       "2        Revlon Inc.               670.5                       14.6   \n",
       "3        Coty Beauty               262.3                        5.7   \n",
       "4  Johnson & Johnson               171.9                        3.7   \n",
       "\n",
       "  2015_sales_millions  2015_market_share_percent  sale_change_percent  \\\n",
       "0             1,815.0                       38.6                  1.0   \n",
       "1               946.1                       20.1                 -0.9   \n",
       "2               661.6                       14.1                 -1.3   \n",
       "3               263.8                        5.6                  0.5   \n",
       "4               176.0                        3.7                  2.4   \n",
       "\n",
       "  share_change_percent  \n",
       "0                 -0.5  \n",
       "1                 -0.7  \n",
       "2                 -0.5  \n",
       "3                 -0.1  \n",
       "4                    -  "
      ]
     },
     "execution_count": 6,
     "metadata": {},
     "output_type": "execute_result"
    }
   ],
   "source": [
    "market_data = market_data.loc[0:4, :]\n",
    "market_data"
   ]
  },
  {
   "cell_type": "markdown",
   "id": "a8877181",
   "metadata": {},
   "source": [
    "Upon inspection, we see below that the 2014 and 2015 sales in millions, as well as the share change percent columns are strings, are not numerical data types. We hard code these columns and change them to floats so that we can perform statistical analysis on them"
   ]
  },
  {
   "cell_type": "code",
   "execution_count": 7,
   "id": "b360b004",
   "metadata": {},
   "outputs": [
    {
     "data": {
      "text/plain": [
       "Company                       object\n",
       "2014_sales_millions           object\n",
       "2014_market_share_percent    float64\n",
       "2015_sales_millions           object\n",
       "2015_market_share_percent    float64\n",
       "sale_change_percent          float64\n",
       "share_change_percent          object\n",
       "dtype: object"
      ]
     },
     "execution_count": 7,
     "metadata": {},
     "output_type": "execute_result"
    }
   ],
   "source": [
    "market_data.dtypes"
   ]
  },
  {
   "cell_type": "code",
   "execution_count": 8,
   "id": "5ec1f781",
   "metadata": {},
   "outputs": [],
   "source": [
    "market_data.loc[:, '2014_sales_millions'] = [1797.9, 954.7, 670.5, 262.3, 171.9]\n",
    "market_data.loc[:, '2015_sales_millions'] = [1815.0, 946.1, 661.6, 263.8, 176]\n",
    "market_data.loc[:, 'share_change_percent'] = [-0.5, -0.7, -0.5, -0.1, 0]"
   ]
  },
  {
   "cell_type": "code",
   "execution_count": 15,
   "id": "9dcd21ac",
   "metadata": {},
   "outputs": [
    {
     "data": {
      "text/plain": [
       "Company                       object\n",
       "2014_sales_millions          float64\n",
       "2014_market_share_percent    float64\n",
       "2015_sales_millions          float64\n",
       "2015_market_share_percent    float64\n",
       "sale_change_percent          float64\n",
       "share_change_percent         float64\n",
       "dtype: object"
      ]
     },
     "execution_count": 15,
     "metadata": {},
     "output_type": "execute_result"
    }
   ],
   "source": [
    "#verifying that all dtypes are floats\n",
    "market_data.dtypes"
   ]
  },
  {
   "cell_type": "code",
   "execution_count": 10,
   "id": "36ba19a4",
   "metadata": {},
   "outputs": [
    {
     "data": {
      "text/html": [
       "<div>\n",
       "<style scoped>\n",
       "    .dataframe tbody tr th:only-of-type {\n",
       "        vertical-align: middle;\n",
       "    }\n",
       "\n",
       "    .dataframe tbody tr th {\n",
       "        vertical-align: top;\n",
       "    }\n",
       "\n",
       "    .dataframe thead th {\n",
       "        text-align: right;\n",
       "    }\n",
       "</style>\n",
       "<table border=\"1\" class=\"dataframe\">\n",
       "  <thead>\n",
       "    <tr style=\"text-align: right;\">\n",
       "      <th></th>\n",
       "      <th>Company</th>\n",
       "      <th>2014_sales_millions</th>\n",
       "      <th>2014_market_share_percent</th>\n",
       "      <th>2015_sales_millions</th>\n",
       "      <th>2015_market_share_percent</th>\n",
       "      <th>sale_change_percent</th>\n",
       "      <th>share_change_percent</th>\n",
       "    </tr>\n",
       "  </thead>\n",
       "  <tbody>\n",
       "    <tr>\n",
       "      <th>0</th>\n",
       "      <td>L'Oréal USA</td>\n",
       "      <td>1797.9</td>\n",
       "      <td>39.1</td>\n",
       "      <td>1815.0</td>\n",
       "      <td>38.6</td>\n",
       "      <td>1.0</td>\n",
       "      <td>-0.5</td>\n",
       "    </tr>\n",
       "    <tr>\n",
       "      <th>1</th>\n",
       "      <td>Procter &amp; Gamble</td>\n",
       "      <td>954.7</td>\n",
       "      <td>20.8</td>\n",
       "      <td>946.1</td>\n",
       "      <td>20.1</td>\n",
       "      <td>-0.9</td>\n",
       "      <td>-0.7</td>\n",
       "    </tr>\n",
       "    <tr>\n",
       "      <th>2</th>\n",
       "      <td>Revlon Inc.</td>\n",
       "      <td>670.5</td>\n",
       "      <td>14.6</td>\n",
       "      <td>661.6</td>\n",
       "      <td>14.1</td>\n",
       "      <td>-1.3</td>\n",
       "      <td>-0.5</td>\n",
       "    </tr>\n",
       "    <tr>\n",
       "      <th>3</th>\n",
       "      <td>Coty Beauty</td>\n",
       "      <td>262.3</td>\n",
       "      <td>5.7</td>\n",
       "      <td>263.8</td>\n",
       "      <td>5.6</td>\n",
       "      <td>0.5</td>\n",
       "      <td>-0.1</td>\n",
       "    </tr>\n",
       "    <tr>\n",
       "      <th>4</th>\n",
       "      <td>Johnson &amp; Johnson</td>\n",
       "      <td>171.9</td>\n",
       "      <td>3.7</td>\n",
       "      <td>176.0</td>\n",
       "      <td>3.7</td>\n",
       "      <td>2.4</td>\n",
       "      <td>0.0</td>\n",
       "    </tr>\n",
       "  </tbody>\n",
       "</table>\n",
       "</div>"
      ],
      "text/plain": [
       "             Company  2014_sales_millions  2014_market_share_percent  \\\n",
       "0        L'Oréal USA               1797.9                       39.1   \n",
       "1   Procter & Gamble                954.7                       20.8   \n",
       "2        Revlon Inc.                670.5                       14.6   \n",
       "3        Coty Beauty                262.3                        5.7   \n",
       "4  Johnson & Johnson                171.9                        3.7   \n",
       "\n",
       "   2015_sales_millions  2015_market_share_percent  sale_change_percent  \\\n",
       "0               1815.0                       38.6                  1.0   \n",
       "1                946.1                       20.1                 -0.9   \n",
       "2                661.6                       14.1                 -1.3   \n",
       "3                263.8                        5.6                  0.5   \n",
       "4                176.0                        3.7                  2.4   \n",
       "\n",
       "   share_change_percent  \n",
       "0                  -0.5  \n",
       "1                  -0.7  \n",
       "2                  -0.5  \n",
       "3                  -0.1  \n",
       "4                   0.0  "
      ]
     },
     "execution_count": 10,
     "metadata": {},
     "output_type": "execute_result"
    }
   ],
   "source": [
    "market_data"
   ]
  },
  {
   "cell_type": "markdown",
   "id": "9b34403a",
   "metadata": {},
   "source": [
    "Our last step in cleaning this data is to save the newly cleaned data to a new csv file, which we then read in again so that we don't have to rerun the previous code next time we want to use this data."
   ]
  },
  {
   "cell_type": "code",
   "execution_count": 11,
   "id": "ee4db8db",
   "metadata": {},
   "outputs": [],
   "source": [
    "market_data.to_csv('beauty_market_data.csv', index = False)"
   ]
  },
  {
   "cell_type": "code",
   "execution_count": 12,
   "id": "58fde3d4",
   "metadata": {},
   "outputs": [],
   "source": [
    "market_sales = pd.read_csv('beauty_market_data.csv')"
   ]
  },
  {
   "cell_type": "code",
   "execution_count": 13,
   "id": "352978fc",
   "metadata": {},
   "outputs": [
    {
     "data": {
      "text/html": [
       "<div>\n",
       "<style scoped>\n",
       "    .dataframe tbody tr th:only-of-type {\n",
       "        vertical-align: middle;\n",
       "    }\n",
       "\n",
       "    .dataframe tbody tr th {\n",
       "        vertical-align: top;\n",
       "    }\n",
       "\n",
       "    .dataframe thead th {\n",
       "        text-align: right;\n",
       "    }\n",
       "</style>\n",
       "<table border=\"1\" class=\"dataframe\">\n",
       "  <thead>\n",
       "    <tr style=\"text-align: right;\">\n",
       "      <th></th>\n",
       "      <th>Company</th>\n",
       "      <th>2014_sales_millions</th>\n",
       "      <th>2014_market_share_percent</th>\n",
       "      <th>2015_sales_millions</th>\n",
       "      <th>2015_market_share_percent</th>\n",
       "      <th>sale_change_percent</th>\n",
       "      <th>share_change_percent</th>\n",
       "    </tr>\n",
       "  </thead>\n",
       "  <tbody>\n",
       "    <tr>\n",
       "      <th>0</th>\n",
       "      <td>L'Oréal USA</td>\n",
       "      <td>1797.9</td>\n",
       "      <td>39.1</td>\n",
       "      <td>1815.0</td>\n",
       "      <td>38.6</td>\n",
       "      <td>1.0</td>\n",
       "      <td>-0.5</td>\n",
       "    </tr>\n",
       "    <tr>\n",
       "      <th>1</th>\n",
       "      <td>Procter &amp; Gamble</td>\n",
       "      <td>954.7</td>\n",
       "      <td>20.8</td>\n",
       "      <td>946.1</td>\n",
       "      <td>20.1</td>\n",
       "      <td>-0.9</td>\n",
       "      <td>-0.7</td>\n",
       "    </tr>\n",
       "    <tr>\n",
       "      <th>2</th>\n",
       "      <td>Revlon Inc.</td>\n",
       "      <td>670.5</td>\n",
       "      <td>14.6</td>\n",
       "      <td>661.6</td>\n",
       "      <td>14.1</td>\n",
       "      <td>-1.3</td>\n",
       "      <td>-0.5</td>\n",
       "    </tr>\n",
       "    <tr>\n",
       "      <th>3</th>\n",
       "      <td>Coty Beauty</td>\n",
       "      <td>262.3</td>\n",
       "      <td>5.7</td>\n",
       "      <td>263.8</td>\n",
       "      <td>5.6</td>\n",
       "      <td>0.5</td>\n",
       "      <td>-0.1</td>\n",
       "    </tr>\n",
       "    <tr>\n",
       "      <th>4</th>\n",
       "      <td>Johnson &amp; Johnson</td>\n",
       "      <td>171.9</td>\n",
       "      <td>3.7</td>\n",
       "      <td>176.0</td>\n",
       "      <td>3.7</td>\n",
       "      <td>2.4</td>\n",
       "      <td>0.0</td>\n",
       "    </tr>\n",
       "  </tbody>\n",
       "</table>\n",
       "</div>"
      ],
      "text/plain": [
       "             Company  2014_sales_millions  2014_market_share_percent  \\\n",
       "0        L'Oréal USA               1797.9                       39.1   \n",
       "1   Procter & Gamble                954.7                       20.8   \n",
       "2        Revlon Inc.                670.5                       14.6   \n",
       "3        Coty Beauty                262.3                        5.7   \n",
       "4  Johnson & Johnson                171.9                        3.7   \n",
       "\n",
       "   2015_sales_millions  2015_market_share_percent  sale_change_percent  \\\n",
       "0               1815.0                       38.6                  1.0   \n",
       "1                946.1                       20.1                 -0.9   \n",
       "2                661.6                       14.1                 -1.3   \n",
       "3                263.8                        5.6                  0.5   \n",
       "4                176.0                        3.7                  2.4   \n",
       "\n",
       "   share_change_percent  \n",
       "0                  -0.5  \n",
       "1                  -0.7  \n",
       "2                  -0.5  \n",
       "3                  -0.1  \n",
       "4                   0.0  "
      ]
     },
     "execution_count": 13,
     "metadata": {},
     "output_type": "execute_result"
    }
   ],
   "source": [
    "market_sales"
   ]
  },
  {
   "cell_type": "markdown",
   "id": "4313344a",
   "metadata": {},
   "source": [
    "# Data Collection and Cleaning Appendix\n",
    "## Amazon Reviews"
   ]
  },
  {
   "cell_type": "markdown",
   "id": "6f5ad7db",
   "metadata": {},
   "source": [
    "Now we will read in the raw tsv file for the Amazon Beauty Product Reviews. We are skipping the lines that have extra columns in order to create consistency and prevent errors later on . The error_bad_lines skips these rows with weird entries, hence the long warning."
   ]
  },
  {
   "cell_type": "code",
   "execution_count": 16,
   "id": "9a3955fe",
   "metadata": {
    "scrolled": true
   },
   "outputs": [
    {
     "name": "stderr",
     "output_type": "stream",
     "text": [
      "b'Skipping line 10093: expected 15 fields, saw 22\\nSkipping line 31965: expected 15 fields, saw 22\\nSkipping line 49886: expected 15 fields, saw 22\\nSkipping line 49905: expected 15 fields, saw 22\\n'\n",
      "b'Skipping line 67579: expected 15 fields, saw 22\\nSkipping line 75367: expected 15 fields, saw 22\\nSkipping line 92462: expected 15 fields, saw 22\\nSkipping line 105041: expected 15 fields, saw 22\\nSkipping line 109697: expected 15 fields, saw 22\\nSkipping line 121931: expected 15 fields, saw 22\\n'\n",
      "b'Skipping line 139492: expected 15 fields, saw 22\\nSkipping line 158729: expected 15 fields, saw 22\\nSkipping line 165784: expected 15 fields, saw 22\\nSkipping line 176996: expected 15 fields, saw 22\\nSkipping line 182928: expected 15 fields, saw 22\\nSkipping line 195841: expected 15 fields, saw 22\\n'\n",
      "b'Skipping line 196938: expected 15 fields, saw 22\\nSkipping line 202535: expected 15 fields, saw 22\\nSkipping line 261147: expected 15 fields, saw 22\\n'\n",
      "b'Skipping line 265777: expected 15 fields, saw 22\\nSkipping line 277693: expected 15 fields, saw 22\\nSkipping line 280010: expected 15 fields, saw 22\\nSkipping line 296315: expected 15 fields, saw 22\\nSkipping line 299043: expected 15 fields, saw 22\\n'\n",
      "b'Skipping line 334564: expected 15 fields, saw 22\\nSkipping line 337801: expected 15 fields, saw 22\\nSkipping line 341391: expected 15 fields, saw 22\\nSkipping line 354940: expected 15 fields, saw 22\\nSkipping line 366330: expected 15 fields, saw 22\\nSkipping line 367649: expected 15 fields, saw 22\\n'\n",
      "b'Skipping line 399174: expected 15 fields, saw 22\\nSkipping line 414439: expected 15 fields, saw 22\\n'\n",
      "b'Skipping line 473579: expected 15 fields, saw 22\\nSkipping line 483540: expected 15 fields, saw 22\\nSkipping line 499744: expected 15 fields, saw 22\\nSkipping line 505775: expected 15 fields, saw 22\\n'\n",
      "b'Skipping line 547693: expected 15 fields, saw 22\\nSkipping line 561254: expected 15 fields, saw 22\\n'\n",
      "b'Skipping line 609329: expected 15 fields, saw 22\\nSkipping line 642814: expected 15 fields, saw 22\\nSkipping line 643189: expected 15 fields, saw 22\\nSkipping line 647075: expected 15 fields, saw 22\\nSkipping line 647457: expected 15 fields, saw 22\\n'\n",
      "b'Skipping line 660868: expected 15 fields, saw 22\\nSkipping line 668514: expected 15 fields, saw 22\\nSkipping line 673314: expected 15 fields, saw 22\\nSkipping line 700416: expected 15 fields, saw 22\\n'\n",
      "b'Skipping line 723492: expected 15 fields, saw 22\\nSkipping line 725052: expected 15 fields, saw 22\\nSkipping line 726222: expected 15 fields, saw 22\\nSkipping line 744078: expected 15 fields, saw 22\\nSkipping line 753129: expected 15 fields, saw 22\\nSkipping line 758347: expected 15 fields, saw 22\\nSkipping line 759076: expected 15 fields, saw 22\\nSkipping line 759139: expected 15 fields, saw 22\\nSkipping line 768106: expected 15 fields, saw 22\\nSkipping line 777835: expected 15 fields, saw 22\\nSkipping line 779763: expected 15 fields, saw 22\\nSkipping line 781395: expected 15 fields, saw 22\\n'\n",
      "b'Skipping line 787023: expected 15 fields, saw 22\\nSkipping line 811679: expected 15 fields, saw 22\\nSkipping line 811739: expected 15 fields, saw 22\\n'\n",
      "b'Skipping line 855784: expected 15 fields, saw 22\\nSkipping line 878325: expected 15 fields, saw 22\\nSkipping line 886822: expected 15 fields, saw 22\\nSkipping line 890742: expected 15 fields, saw 22\\n'\n",
      "b'Skipping line 919607: expected 15 fields, saw 22\\nSkipping line 920655: expected 15 fields, saw 22\\nSkipping line 923107: expected 15 fields, saw 22\\nSkipping line 930890: expected 15 fields, saw 22\\nSkipping line 932841: expected 15 fields, saw 22\\n'\n",
      "b'Skipping line 1003214: expected 15 fields, saw 22\\nSkipping line 1007588: expected 15 fields, saw 22\\nSkipping line 1018374: expected 15 fields, saw 22\\nSkipping line 1022909: expected 15 fields, saw 22\\nSkipping line 1030983: expected 15 fields, saw 22\\nSkipping line 1048441: expected 15 fields, saw 22\\n'\n",
      "b'Skipping line 1056292: expected 15 fields, saw 22\\nSkipping line 1056518: expected 15 fields, saw 22\\nSkipping line 1073064: expected 15 fields, saw 22\\nSkipping line 1088887: expected 15 fields, saw 22\\nSkipping line 1103881: expected 15 fields, saw 22\\nSkipping line 1111021: expected 15 fields, saw 22\\nSkipping line 1111314: expected 15 fields, saw 22\\n'\n",
      "b'Skipping line 1119421: expected 15 fields, saw 22\\nSkipping line 1119549: expected 15 fields, saw 22\\nSkipping line 1130122: expected 15 fields, saw 22\\nSkipping line 1132767: expected 15 fields, saw 22\\nSkipping line 1143315: expected 15 fields, saw 22\\nSkipping line 1151947: expected 15 fields, saw 22\\nSkipping line 1154207: expected 15 fields, saw 22\\nSkipping line 1154616: expected 15 fields, saw 22\\nSkipping line 1155875: expected 15 fields, saw 22\\nSkipping line 1164714: expected 15 fields, saw 22\\nSkipping line 1164959: expected 15 fields, saw 22\\nSkipping line 1169410: expected 15 fields, saw 22\\n'\n",
      "b'Skipping line 1184604: expected 15 fields, saw 22\\nSkipping line 1203964: expected 15 fields, saw 22\\nSkipping line 1211287: expected 15 fields, saw 22\\nSkipping line 1217834: expected 15 fields, saw 22\\nSkipping line 1235346: expected 15 fields, saw 22\\nSkipping line 1238073: expected 15 fields, saw 22\\nSkipping line 1238439: expected 15 fields, saw 22\\n'\n",
      "b'Skipping line 1246837: expected 15 fields, saw 22\\nSkipping line 1263235: expected 15 fields, saw 22\\nSkipping line 1265620: expected 15 fields, saw 22\\n'\n",
      "b'Skipping line 1312400: expected 15 fields, saw 22\\nSkipping line 1314122: expected 15 fields, saw 22\\nSkipping line 1319707: expected 15 fields, saw 22\\nSkipping line 1337672: expected 15 fields, saw 22\\nSkipping line 1343961: expected 15 fields, saw 22\\nSkipping line 1346372: expected 15 fields, saw 22\\nSkipping line 1358447: expected 15 fields, saw 22\\nSkipping line 1370844: expected 15 fields, saw 22\\n'\n",
      "b'Skipping line 1406108: expected 15 fields, saw 22\\nSkipping line 1435069: expected 15 fields, saw 22\\nSkipping line 1439866: expected 15 fields, saw 22\\n'\n",
      "b'Skipping line 1442123: expected 15 fields, saw 22\\nSkipping line 1463237: expected 15 fields, saw 22\\nSkipping line 1469027: expected 15 fields, saw 22\\nSkipping line 1469598: expected 15 fields, saw 22\\nSkipping line 1482636: expected 15 fields, saw 22\\nSkipping line 1484745: expected 15 fields, saw 22\\nSkipping line 1499831: expected 15 fields, saw 22\\n'\n",
      "b'Skipping line 1508882: expected 15 fields, saw 22\\nSkipping line 1514887: expected 15 fields, saw 22\\nSkipping line 1527564: expected 15 fields, saw 22\\nSkipping line 1569519: expected 15 fields, saw 22\\n'\n",
      "b'Skipping line 1583105: expected 15 fields, saw 22\\nSkipping line 1604380: expected 15 fields, saw 22\\nSkipping line 1607380: expected 15 fields, saw 22\\nSkipping line 1631601: expected 15 fields, saw 22\\n'\n",
      "b'Skipping line 1642095: expected 15 fields, saw 22\\nSkipping line 1646714: expected 15 fields, saw 22\\nSkipping line 1655248: expected 15 fields, saw 22\\nSkipping line 1657807: expected 15 fields, saw 22\\nSkipping line 1667534: expected 15 fields, saw 22\\nSkipping line 1668489: expected 15 fields, saw 22\\nSkipping line 1691733: expected 15 fields, saw 22\\nSkipping line 1701102: expected 15 fields, saw 22\\nSkipping line 1701499: expected 15 fields, saw 22\\n'\n",
      "b'Skipping line 1704450: expected 15 fields, saw 22\\nSkipping line 1706154: expected 15 fields, saw 22\\nSkipping line 1712789: expected 15 fields, saw 22\\n'\n",
      "b'Skipping line 1773984: expected 15 fields, saw 22\\n'\n",
      "b'Skipping line 1846441: expected 15 fields, saw 22\\nSkipping line 1848019: expected 15 fields, saw 22\\nSkipping line 1856015: expected 15 fields, saw 22\\nSkipping line 1858248: expected 15 fields, saw 22\\nSkipping line 1859629: expected 15 fields, saw 22\\nSkipping line 1873117: expected 15 fields, saw 22\\nSkipping line 1894414: expected 15 fields, saw 22\\n'\n",
      "b'Skipping line 1902421: expected 15 fields, saw 22\\nSkipping line 1909201: expected 15 fields, saw 22\\nSkipping line 1914394: expected 15 fields, saw 22\\nSkipping line 1936976: expected 15 fields, saw 22\\nSkipping line 1940327: expected 15 fields, saw 22\\nSkipping line 1945664: expected 15 fields, saw 22\\nSkipping line 1946171: expected 15 fields, saw 22\\nSkipping line 1946284: expected 15 fields, saw 22\\nSkipping line 1946835: expected 15 fields, saw 22\\nSkipping line 1952446: expected 15 fields, saw 22\\nSkipping line 1953387: expected 15 fields, saw 22\\n'\n"
     ]
    },
    {
     "name": "stderr",
     "output_type": "stream",
     "text": [
      "b'Skipping line 1979093: expected 15 fields, saw 22\\nSkipping line 1982997: expected 15 fields, saw 22\\nSkipping line 1992924: expected 15 fields, saw 22\\nSkipping line 1996161: expected 15 fields, saw 22\\nSkipping line 2003175: expected 15 fields, saw 22\\nSkipping line 2024153: expected 15 fields, saw 22\\nSkipping line 2026345: expected 15 fields, saw 22\\n'\n",
      "b'Skipping line 2041159: expected 15 fields, saw 22\\nSkipping line 2042954: expected 15 fields, saw 22\\nSkipping line 2044244: expected 15 fields, saw 22\\nSkipping line 2047949: expected 15 fields, saw 22\\nSkipping line 2051022: expected 15 fields, saw 22\\nSkipping line 2052365: expected 15 fields, saw 22\\nSkipping line 2064460: expected 15 fields, saw 22\\nSkipping line 2077010: expected 15 fields, saw 22\\nSkipping line 2083893: expected 15 fields, saw 22\\n'\n",
      "b'Skipping line 2097514: expected 15 fields, saw 22\\nSkipping line 2100479: expected 15 fields, saw 22\\nSkipping line 2103183: expected 15 fields, saw 22\\nSkipping line 2108608: expected 15 fields, saw 22\\nSkipping line 2116577: expected 15 fields, saw 22\\nSkipping line 2127375: expected 15 fields, saw 22\\nSkipping line 2128053: expected 15 fields, saw 22\\nSkipping line 2135954: expected 15 fields, saw 22\\nSkipping line 2137154: expected 15 fields, saw 22\\nSkipping line 2140279: expected 15 fields, saw 22\\nSkipping line 2150764: expected 15 fields, saw 22\\nSkipping line 2151464: expected 15 fields, saw 22\\nSkipping line 2151588: expected 15 fields, saw 22\\nSkipping line 2157049: expected 15 fields, saw 22\\n'\n",
      "b'Skipping line 2163762: expected 15 fields, saw 22\\nSkipping line 2167939: expected 15 fields, saw 22\\nSkipping line 2172050: expected 15 fields, saw 22\\nSkipping line 2177960: expected 15 fields, saw 22\\nSkipping line 2202813: expected 15 fields, saw 22\\nSkipping line 2207828: expected 15 fields, saw 22\\nSkipping line 2211189: expected 15 fields, saw 22\\nSkipping line 2211589: expected 15 fields, saw 22\\nSkipping line 2214034: expected 15 fields, saw 22\\nSkipping line 2214264: expected 15 fields, saw 22\\nSkipping line 2214462: expected 15 fields, saw 22\\nSkipping line 2215027: expected 15 fields, saw 22\\nSkipping line 2215639: expected 15 fields, saw 22\\nSkipping line 2216007: expected 15 fields, saw 22\\nSkipping line 2217132: expected 15 fields, saw 22\\nSkipping line 2226703: expected 15 fields, saw 22\\n'\n",
      "b'Skipping line 2231683: expected 15 fields, saw 22\\nSkipping line 2245222: expected 15 fields, saw 22\\nSkipping line 2256136: expected 15 fields, saw 22\\nSkipping line 2269399: expected 15 fields, saw 22\\nSkipping line 2283979: expected 15 fields, saw 22\\n'\n",
      "b'Skipping line 2340899: expected 15 fields, saw 22\\nSkipping line 2342134: expected 15 fields, saw 22\\nSkipping line 2342748: expected 15 fields, saw 22\\nSkipping line 2348402: expected 15 fields, saw 22\\nSkipping line 2355164: expected 15 fields, saw 22\\nSkipping line 2357020: expected 15 fields, saw 22\\n'\n",
      "b'Skipping line 2366077: expected 15 fields, saw 22\\nSkipping line 2366997: expected 15 fields, saw 22\\nSkipping line 2367353: expected 15 fields, saw 22\\nSkipping line 2414691: expected 15 fields, saw 22\\n'\n",
      "b'Skipping line 2464571: expected 15 fields, saw 22\\nSkipping line 2466302: expected 15 fields, saw 22\\nSkipping line 2487679: expected 15 fields, saw 22\\nSkipping line 2487771: expected 15 fields, saw 22\\n'\n",
      "b'Skipping line 2506605: expected 15 fields, saw 22\\nSkipping line 2511369: expected 15 fields, saw 22\\n'\n",
      "b'Skipping line 2558281: expected 15 fields, saw 22\\nSkipping line 2607202: expected 15 fields, saw 22\\n'\n",
      "b'Skipping line 2625718: expected 15 fields, saw 22\\nSkipping line 2640978: expected 15 fields, saw 22\\nSkipping line 2650635: expected 15 fields, saw 22\\nSkipping line 2670724: expected 15 fields, saw 22\\n'\n",
      "b'Skipping line 2690954: expected 15 fields, saw 22\\nSkipping line 2713810: expected 15 fields, saw 22\\nSkipping line 2715292: expected 15 fields, saw 22\\nSkipping line 2724453: expected 15 fields, saw 22\\nSkipping line 2724458: expected 15 fields, saw 22\\nSkipping line 2735678: expected 15 fields, saw 22\\nSkipping line 2740358: expected 15 fields, saw 22\\nSkipping line 2751188: expected 15 fields, saw 22\\n'\n",
      "b'Skipping line 2763890: expected 15 fields, saw 22\\nSkipping line 2766982: expected 15 fields, saw 22\\nSkipping line 2813747: expected 15 fields, saw 22\\n'\n",
      "b'Skipping line 2819306: expected 15 fields, saw 22\\nSkipping line 2883075: expected 15 fields, saw 22\\n'\n",
      "b'Skipping line 2975635: expected 15 fields, saw 22\\n'\n",
      "b'Skipping line 3391761: expected 15 fields, saw 22\\n'\n",
      "b'Skipping line 3474241: expected 15 fields, saw 22\\n'\n",
      "b'Skipping line 3690054: expected 15 fields, saw 22\\nSkipping line 3720113: expected 15 fields, saw 22\\n'\n",
      "b'Skipping line 3763182: expected 15 fields, saw 22\\n'\n",
      "b'Skipping line 4929700: expected 15 fields, saw 22\\n'\n",
      "/opt/anaconda3/lib/python3.8/site-packages/IPython/core/interactiveshell.py:3165: DtypeWarning: Columns (7) have mixed types.Specify dtype option on import or set low_memory=False.\n",
      "  has_raised = await self.run_ast_nodes(code_ast.body, cell_name,\n"
     ]
    }
   ],
   "source": [
    "beauty_raw = pd.read_csv('amazon_reviews_us_Beauty_v1_00.tsv', sep = '\\t', error_bad_lines=False)"
   ]
  },
  {
   "cell_type": "markdown",
   "id": "29127e9b",
   "metadata": {},
   "source": [
    "We now save it as a csv file so we do not need to have to read in this large file again"
   ]
  },
  {
   "cell_type": "code",
   "execution_count": 17,
   "id": "b704675d",
   "metadata": {},
   "outputs": [],
   "source": [
    "beauty_raw.to_csv('amazonreviews_beauty_raw.csv',index=False)"
   ]
  },
  {
   "cell_type": "code",
   "execution_count": 18,
   "id": "4a4ba42b",
   "metadata": {},
   "outputs": [],
   "source": [
    "beauty_raw = pd.read_csv('amazonreviews_beauty_raw.csv')"
   ]
  },
  {
   "cell_type": "code",
   "execution_count": 19,
   "id": "b71adfb1",
   "metadata": {},
   "outputs": [],
   "source": [
    "beauty = beauty_raw.copy()"
   ]
  },
  {
   "cell_type": "markdown",
   "id": "09f5ceae",
   "metadata": {},
   "source": [
    "Previewing the data again"
   ]
  },
  {
   "cell_type": "code",
   "execution_count": 20,
   "id": "aa86b0e9",
   "metadata": {},
   "outputs": [
    {
     "data": {
      "text/html": [
       "<div>\n",
       "<style scoped>\n",
       "    .dataframe tbody tr th:only-of-type {\n",
       "        vertical-align: middle;\n",
       "    }\n",
       "\n",
       "    .dataframe tbody tr th {\n",
       "        vertical-align: top;\n",
       "    }\n",
       "\n",
       "    .dataframe thead th {\n",
       "        text-align: right;\n",
       "    }\n",
       "</style>\n",
       "<table border=\"1\" class=\"dataframe\">\n",
       "  <thead>\n",
       "    <tr style=\"text-align: right;\">\n",
       "      <th></th>\n",
       "      <th>marketplace</th>\n",
       "      <th>customer_id</th>\n",
       "      <th>review_id</th>\n",
       "      <th>product_id</th>\n",
       "      <th>product_parent</th>\n",
       "      <th>product_title</th>\n",
       "      <th>product_category</th>\n",
       "      <th>star_rating</th>\n",
       "      <th>helpful_votes</th>\n",
       "      <th>total_votes</th>\n",
       "      <th>vine</th>\n",
       "      <th>verified_purchase</th>\n",
       "      <th>review_headline</th>\n",
       "      <th>review_body</th>\n",
       "      <th>review_date</th>\n",
       "    </tr>\n",
       "  </thead>\n",
       "  <tbody>\n",
       "    <tr>\n",
       "      <th>0</th>\n",
       "      <td>US</td>\n",
       "      <td>1797882</td>\n",
       "      <td>R3I2DHQBR577SS</td>\n",
       "      <td>B001ANOOOE</td>\n",
       "      <td>2102612</td>\n",
       "      <td>The Naked Bee Vitmin C Moisturizing Sunscreen ...</td>\n",
       "      <td>Beauty</td>\n",
       "      <td>5</td>\n",
       "      <td>0.0</td>\n",
       "      <td>0.0</td>\n",
       "      <td>N</td>\n",
       "      <td>Y</td>\n",
       "      <td>Five Stars</td>\n",
       "      <td>Love this, excellent sun block!!</td>\n",
       "      <td>2015-08-31</td>\n",
       "    </tr>\n",
       "    <tr>\n",
       "      <th>1</th>\n",
       "      <td>US</td>\n",
       "      <td>18381298</td>\n",
       "      <td>R1QNE9NQFJC2Y4</td>\n",
       "      <td>B0016J22EQ</td>\n",
       "      <td>106393691</td>\n",
       "      <td>Alba Botanica Sunless Tanning Lotion, 4 Ounce</td>\n",
       "      <td>Beauty</td>\n",
       "      <td>5</td>\n",
       "      <td>0.0</td>\n",
       "      <td>0.0</td>\n",
       "      <td>N</td>\n",
       "      <td>Y</td>\n",
       "      <td>Thank you Alba Bontanica!</td>\n",
       "      <td>The great thing about this cream is that it do...</td>\n",
       "      <td>2015-08-31</td>\n",
       "    </tr>\n",
       "    <tr>\n",
       "      <th>2</th>\n",
       "      <td>US</td>\n",
       "      <td>19242472</td>\n",
       "      <td>R3LIDG2Q4LJBAO</td>\n",
       "      <td>B00HU6UQAG</td>\n",
       "      <td>375449471</td>\n",
       "      <td>Elysee Infusion Skin Therapy Elixir, 2oz.</td>\n",
       "      <td>Beauty</td>\n",
       "      <td>5</td>\n",
       "      <td>0.0</td>\n",
       "      <td>0.0</td>\n",
       "      <td>N</td>\n",
       "      <td>Y</td>\n",
       "      <td>Five Stars</td>\n",
       "      <td>Great Product, I'm 65 years old and this is al...</td>\n",
       "      <td>2015-08-31</td>\n",
       "    </tr>\n",
       "    <tr>\n",
       "      <th>3</th>\n",
       "      <td>US</td>\n",
       "      <td>19551372</td>\n",
       "      <td>R3KSZHPAEVPEAL</td>\n",
       "      <td>B002HWS7RM</td>\n",
       "      <td>255651889</td>\n",
       "      <td>Diane D722 Color, Perm And Conditioner Process...</td>\n",
       "      <td>Beauty</td>\n",
       "      <td>5</td>\n",
       "      <td>0.0</td>\n",
       "      <td>0.0</td>\n",
       "      <td>N</td>\n",
       "      <td>Y</td>\n",
       "      <td>GOOD DEAL!</td>\n",
       "      <td>I use them as shower caps &amp; conditioning caps....</td>\n",
       "      <td>2015-08-31</td>\n",
       "    </tr>\n",
       "    <tr>\n",
       "      <th>4</th>\n",
       "      <td>US</td>\n",
       "      <td>14802407</td>\n",
       "      <td>RAI2OIG50KZ43</td>\n",
       "      <td>B00SM99KWU</td>\n",
       "      <td>116158747</td>\n",
       "      <td>Biore UV Aqua Rich Watery Essence SPF50+/PA+++...</td>\n",
       "      <td>Beauty</td>\n",
       "      <td>5</td>\n",
       "      <td>0.0</td>\n",
       "      <td>0.0</td>\n",
       "      <td>N</td>\n",
       "      <td>Y</td>\n",
       "      <td>this soaks in quick and provides a nice base f...</td>\n",
       "      <td>This is my go-to daily sunblock. It leaves no ...</td>\n",
       "      <td>2015-08-31</td>\n",
       "    </tr>\n",
       "  </tbody>\n",
       "</table>\n",
       "</div>"
      ],
      "text/plain": [
       "  marketplace  customer_id       review_id  product_id  product_parent  \\\n",
       "0          US      1797882  R3I2DHQBR577SS  B001ANOOOE         2102612   \n",
       "1          US     18381298  R1QNE9NQFJC2Y4  B0016J22EQ       106393691   \n",
       "2          US     19242472  R3LIDG2Q4LJBAO  B00HU6UQAG       375449471   \n",
       "3          US     19551372  R3KSZHPAEVPEAL  B002HWS7RM       255651889   \n",
       "4          US     14802407   RAI2OIG50KZ43  B00SM99KWU       116158747   \n",
       "\n",
       "                                       product_title product_category  \\\n",
       "0  The Naked Bee Vitmin C Moisturizing Sunscreen ...           Beauty   \n",
       "1      Alba Botanica Sunless Tanning Lotion, 4 Ounce           Beauty   \n",
       "2          Elysee Infusion Skin Therapy Elixir, 2oz.           Beauty   \n",
       "3  Diane D722 Color, Perm And Conditioner Process...           Beauty   \n",
       "4  Biore UV Aqua Rich Watery Essence SPF50+/PA+++...           Beauty   \n",
       "\n",
       "  star_rating  helpful_votes  total_votes vine verified_purchase  \\\n",
       "0           5            0.0          0.0    N                 Y   \n",
       "1           5            0.0          0.0    N                 Y   \n",
       "2           5            0.0          0.0    N                 Y   \n",
       "3           5            0.0          0.0    N                 Y   \n",
       "4           5            0.0          0.0    N                 Y   \n",
       "\n",
       "                                     review_headline  \\\n",
       "0                                         Five Stars   \n",
       "1                          Thank you Alba Bontanica!   \n",
       "2                                         Five Stars   \n",
       "3                                         GOOD DEAL!   \n",
       "4  this soaks in quick and provides a nice base f...   \n",
       "\n",
       "                                         review_body review_date  \n",
       "0                   Love this, excellent sun block!!  2015-08-31  \n",
       "1  The great thing about this cream is that it do...  2015-08-31  \n",
       "2  Great Product, I'm 65 years old and this is al...  2015-08-31  \n",
       "3  I use them as shower caps & conditioning caps....  2015-08-31  \n",
       "4  This is my go-to daily sunblock. It leaves no ...  2015-08-31  "
      ]
     },
     "execution_count": 20,
     "metadata": {},
     "output_type": "execute_result"
    }
   ],
   "source": [
    "beauty.head()"
   ]
  },
  {
   "cell_type": "markdown",
   "id": "00cf1275",
   "metadata": {},
   "source": [
    "Here we converted the review date to datetime type. We then kept only the reviews written in 2015, which is the most recent year in the dataset. We then made sure that our market data was also for the year 2015 so the relationship would make sense."
   ]
  },
  {
   "cell_type": "code",
   "execution_count": 21,
   "id": "e1f35513",
   "metadata": {},
   "outputs": [],
   "source": [
    "# keeping reviews written in 2015\n",
    "beauty['review_date'] = pd.to_datetime(beauty['review_date'])\n",
    "beauty = beauty.loc[beauty['review_date'].dt.year == 2015]"
   ]
  },
  {
   "cell_type": "markdown",
   "id": "6bdf3f10",
   "metadata": {},
   "source": [
    "As Amazon sells many smaller, indie brands, we are filtering for the select corporate brands that we will be analyzing. The five leading companies we will be looking at are L'oreal, Coty, Revlon, Johnson and Johnson, and Proctor and Gamble. We are including the leading brands that they own as additional brands to filter for."
   ]
  },
  {
   "cell_type": "code",
   "execution_count": 22,
   "id": "2381a41b",
   "metadata": {},
   "outputs": [],
   "source": [
    "loreal = [\"L'oreal\", 'Garnier', 'Maybelline', 'Nyx', 'Cerave']\n",
    "coty = ['Rimmel', 'Covergirl', 'Sally Hansen']\n",
    "revlon = ['Revlon', 'Almay']\n",
    "jnj = ['Clean & Clear', 'Neutrogena', 'Aveeno', 'OGX', 'Lubriderm'] \n",
    "png = ['Olay','Herbal Essences', 'Pantene', 'Head and Shoulders','Aussie']\n",
    "brands = loreal + coty + revlon + jnj #combining all the brands together\n",
    "beauty = beauty.loc[beauty['product_title'].str.contains('|'.join(brands))] #only keeping the rows with our brands"
   ]
  },
  {
   "cell_type": "code",
   "execution_count": 23,
   "id": "e1e77423",
   "metadata": {},
   "outputs": [
    {
     "data": {
      "text/plain": [
       "L'oreal              22512\n",
       "Johnson & Johnson    16946\n",
       "Revlon               13946\n",
       "Coty                  8154\n",
       "Proctor & Gamble       143\n",
       "Name: corporation, dtype: int64"
      ]
     },
     "execution_count": 23,
     "metadata": {},
     "output_type": "execute_result"
    }
   ],
   "source": [
    "# add columns by parent corporation\n",
    "beauty.loc[beauty['product_title'].str.contains('|'.join(loreal)), 'corporation'] = \"L'oreal\"\n",
    "beauty.loc[beauty['product_title'].str.contains('|'.join(coty)), 'corporation'] = \"Coty\"\n",
    "beauty.loc[beauty['product_title'].str.contains('|'.join(revlon)), 'corporation'] = \"Revlon\"\n",
    "beauty.loc[beauty['product_title'].str.contains('|'.join(jnj)), 'corporation'] = \"Johnson & Johnson\"\n",
    "beauty.loc[beauty['product_title'].str.contains('|'.join(png)), 'corporation'] = \"Proctor & Gamble\"\n",
    "beauty.corporation.value_counts()"
   ]
  },
  {
   "cell_type": "markdown",
   "id": "83381042",
   "metadata": {},
   "source": [
    "In order to narrow the dataset down to a more reasonable size, we are randomly sampling 40,000 observations. We then reset the index on each dataset to be from 0-39,999."
   ]
  },
  {
   "cell_type": "code",
   "execution_count": 24,
   "id": "918f9158",
   "metadata": {},
   "outputs": [],
   "source": [
    "# randomly narrowing down to 40,000\n",
    "beauty = beauty.sample(n=40000).reset_index()"
   ]
  },
  {
   "cell_type": "markdown",
   "id": "b8062cf5",
   "metadata": {},
   "source": [
    "Here we are dropping the unecessary columns.\n",
    " - We first dropped the Marketplace column because all the products were sold in the US.\n",
    " - We also dropped the index column as we reset the index. \n",
    " - We dropped product_category as all products fall into Beauty\n",
    " - total_votes is the same as helpful_votes and is redundant"
   ]
  },
  {
   "cell_type": "code",
   "execution_count": 25,
   "id": "57cd6d1c",
   "metadata": {},
   "outputs": [],
   "source": [
    "# dropping marketplace, index column, product category, total votes\n",
    "beauty = beauty.drop(columns= ['marketplace','index','product_category', 'total_votes'], axis=1)"
   ]
  },
  {
   "cell_type": "markdown",
   "id": "40b96a9c",
   "metadata": {},
   "source": [
    "Now we will save the newly cleaned data to a new file so we have all of our intermediary steps"
   ]
  },
  {
   "cell_type": "code",
   "execution_count": 26,
   "id": "793c5308",
   "metadata": {},
   "outputs": [],
   "source": [
    "# downloading cleaned csv file\n",
    "beauty.to_csv('amazonreviews_beauty.csv',index=False)"
   ]
  },
  {
   "cell_type": "markdown",
   "id": "31546c4e",
   "metadata": {},
   "source": [
    "# Data Description\n",
    "\n",
    "## Beauty Market\n",
    "### Motivation\n",
    "- **Why was this dataset created?**\n",
    "    - This dataset was created to explore how the market of cosmetics has evolved through the year or 2015, in regards to trends in sales, market breakdown, which factors contributed to these changes, and which makeup trends might affect the market.\n",
    "    \n",
    "- **Who funded the creation of the dataset?**\n",
    "    - The research was done by Mintel, an independent market analysis company that prides itself on supplying objective information on a whole range of markets and marketing issues.\n",
    "    \n",
    "### Composition\n",
    "- **What are the observations (rows) and the attributes (columns)?**\n",
    "    - The rows are the top cosmetics companies, and the columns are how they performed in the market, specifically: company name, 2014 sales (in millions of dollars), 2014 market share percentage, 2015 sales (in millions of dollars), 2015 market share percentage, the sale change percentage from 2014-2015, and the market share percent change from 2014-2015.\n",
    "    \n",
    "- **How many instances are there in the dataset? Does it contain all possible instances or is it a sample? What processes might have influenced what data was observed and recorded and what was not?**\n",
    "    - The initial dataset had 7 instances, but I removed the \"private labels\" and \"other\" companies as they are not easy to use with our Amazon dataset. The data contained a note that read: \"Data may not equal totals due to rounding The above figures are based on MULO sales data from Information Resources, Inc., InfoScan Reviews. MULO is defined as Multi Outlet, representative of the following channels: total U.S. Grocery, Mass, Total U.S. Drug, Total Walmart, Dollar, Military, and Club.\" \n",
    "    \n",
    "- **Where can your raw source data be found, if applicable? Provide a link to the raw data (hosted in a Cornell Google Drive or Cornell Box).**\n",
    "    - Our data can be found at the same Google Drive as previously listed.\n",
    "    \n",
    "- **Is the data self contained or does it rely on other outside websites?**\n",
    "    - Our data is self contained because it is historical data about sales in 2015, and thus would not rely on outside websites\n",
    "    \n",
    "- **Does this data relate to individuals? Can the individuals be identified? Are there any subpopulations that can be identified?**\n",
    "    - No, the data is not related to individuals, but companies which are entities.\n",
    "    \n",
    "### Collection Process\n",
    "- **If people are involved, were they aware of the data collection and if so, what purpose did they expect the data to be used for?**\n",
    "    - No people were involved, as the data in this specific dataset was from an Information Resrouces company.\n",
    "    \n",
    "- **What time frame was the data collected?**\n",
    "    - This dataset focuses on company sales from 2014 to March 22, 2015.\n",
    "    \n",
    "### Preprocessing\n",
    "- **What preprocessing was done, and how did the data come to be in the form that you are using?**\n",
    "    - Refer to data cleaning appendix to see how we cleaned the data. We mostly just made sure that numerical values were actually float data types, and kept only relevant rows. The original collectors had to process the percent changes between years, decide which companies fell under the \"Private Label\" and \"Other Categories,\" and perhaps calculate overall sales by converting international sales that were not originally in dollars. \n",
    "    \n",
    "- **Are there are any errors, sources of noise, or redundancies in the data?**\n",
    "    - None that are visible to us. The dataset is rather small and informs us of overarching/summarizing statistics, thus there is not much room for errors/noise.\n",
    " \n",
    "### Uses\n",
    "    \n",
    " - **Has this data been used before? If so, what for?**\n",
    "     - There is no evidence that this data has been used before, however it is very likely that it has considering it is a public dataset published for people to use."
   ]
  },
  {
   "cell_type": "markdown",
   "id": "12b7c5fa",
   "metadata": {},
   "source": [
    "## Amazon Reviews\n",
    "\n",
    "### Motivation\n",
    " - **Why was this dataset created?**\n",
    "     - This dataset was intended to facilitate public study into the properties of Amazon customer reviews including how consumers evolve, express, and evaluate Amazon products.\n",
    " \n",
    " - **Who funded the creation of the dataset?**\n",
    "     - Amazon funded and collected this Amazon Customer Reviews Product for public use. The information is publicly available on Amazon Web Services.\n",
    "\n",
    "### Composition\n",
    "  - **What are the observations (rows) and the attributes (columns)?**\n",
    "      - The observations consist of each individual review. Each review has the following column attributes: customer_id, review_id, product_id, product_title, star_rating (Scale of 1-5), helpful_votes, vine (Amazon invites select credible users to review products through their Vine program), verified_purchase, review_headline, review_body, and review_date.\n",
    "  \n",
    " - **How many instances are there in the dataset? Does it contain all possible instances or is it a sample? What processes might have influenced what data was observed and recorded and what was not?**\n",
    "     - There are a total of 40,000 observations. The original dataset with over a million reviews in the beauty category is a sample collected by Amazon. Amazon constructed this dataset hoping to represent a sample of different customer opinions and demographics. We then narrowed the dataset even further by most recent year and then by select brands leading the beauty/hair care industry. \n",
    " \n",
    " - **Where can your raw source data be found, if applicable? Provide a link to the raw data (hosted in a Cornell Google Drive or Cornell Box).**\n",
    "     - The raw source can be found on Amazon Web Services. Here is the link to raw datasets also uploaded on google drive: https://drive.google.com/drive/folders/1F1Z1ERhp18uaB9J1d-dkGYhBCbJnPyXC?usp=sharing\n",
    " \n",
    " - **Is the data self contained or does it rely on other outside websites?**\n",
    "     - The data is self-contained in a downloaded tsv file.\n",
    " \n",
    " - **Does this data relate to individuals? Can the individuals be identified? Are there any subpopulations that can be identified?**\n",
    "     - Each individual review is associated to a reviewer through customer_id. However, there is no further information about this individual and customers cannot be split off into smaller subpopulations by demographics.\n",
    " \n",
    "### Collection Process\n",
    " - **If people are involved, were they aware of the data collection and if so, what purpose did they expect the data to be used for?**\n",
    "     - The reviewers in the dataset are not aware of their reviews being used for this purpose. They gave their consent to Amazon when they published their reviews publicly on Amazon. \n",
    " \n",
    " - **What time frame was the data collected?**\n",
    "     - Amazon collected reviews starting from 1995 all the way to 2015. \n",
    " \n",
    "### Preprocessing\n",
    " - **What preprocessing was done, and how did the data come to be in the form that you are using?**\n",
    "     - We conducted filtering on certain column values by year and product brand. We then randomly selected 40,000 observations to narrow down the size of our dataset. The original creators of the dataset had to do preprocessing that included choosing their own sample of reviews, coding whether each review was a vine/verified purchase, categorize the product, etc. They had to scrape their own website, or had the reviews stored in a database which they then transformed into a .tsv file. Their exact preprocessing steps were undisclosed.\n",
    " \n",
    "  - **Are there are any errors, sources of noise, or redundancies in the data?**\n",
    "      - There were some observations with additional attributes/columns when parsing in the data from a csv file. We handled this by skipping over these lines and not including in the final dataset as it would not be reasonable to comb through the millions of reviews to individually handle each of these errors.\n",
    " \n",
    "### Uses\n",
    " - **Has this data been used before? If so, what for?**\n",
    "     - There are no public publishings using this dataset that could be found. However, we found a few other Amazon review analysis using other Amazon datasets. These analyses consisted mainly of review sentiment analysis. "
   ]
  },
  {
   "cell_type": "markdown",
   "id": "b23cf6b8",
   "metadata": {},
   "source": [
    "# Data Limitations\n",
    "\n",
    "\n",
    "## Beauty Market\n",
    "- We are only able to see the market sales of 4 well known companies, some of which are parent companies that own several beauty brands. This makes it difficult to use with our Amazon dataset which reports reviews of these smaller \"child\" companies. \n",
    "- The data lumps together \"private labels\" and \"others\" into separate categories, which is unclear of which companies it considers under those categories, and might have been valuable in our data analysis.\n",
    "- The data only reports sales and shares for 2015 as a whole, and in the period ending March 22. Not only does this mean it does not include the whole year of 2015, but it is not specific in how the sales were in different months.\n",
    "- The data only analyzes company performance in terms of market shares and sales, no other metrics.\n",
    "\n",
    "## Amazon Reviews\n",
    " - Amazon has a lot of other smaller, indie brands that we had to exclude from the cleaned dataset because the Beauty Market Dataset only included the top few brands. Because we are not including them, our analysis might not accurately reflect the whole market share and beauty space.\n",
    " - It could be difficult to analyze the review text content as it requires in-depth natural language processing, which is beyond the scope of what we will learn in this course. \n",
    " - By selecting only 40,000 reviews, we also risk losing a lot of important observations such as vine reviews, reviews that are voted highly helpful, and various reviews across products that could have very beneficial content.\n",
    " - Some corporations do not have as many observations as others. Additionally some have zero vine reviews. \n",
    " - Our data is only looking 2015 reviews, which might not be relevant to the current market today."
   ]
  },
  {
   "cell_type": "markdown",
   "id": "f188e685",
   "metadata": {},
   "source": [
    "# Exploratory Data Analysis"
   ]
  },
  {
   "cell_type": "markdown",
   "id": "a66a5531",
   "metadata": {},
   "source": [
    "## Beauty Market"
   ]
  },
  {
   "cell_type": "code",
   "execution_count": 27,
   "id": "8ba42aea",
   "metadata": {},
   "outputs": [
    {
     "data": {
      "text/html": [
       "<div>\n",
       "<style scoped>\n",
       "    .dataframe tbody tr th:only-of-type {\n",
       "        vertical-align: middle;\n",
       "    }\n",
       "\n",
       "    .dataframe tbody tr th {\n",
       "        vertical-align: top;\n",
       "    }\n",
       "\n",
       "    .dataframe thead th {\n",
       "        text-align: right;\n",
       "    }\n",
       "</style>\n",
       "<table border=\"1\" class=\"dataframe\">\n",
       "  <thead>\n",
       "    <tr style=\"text-align: right;\">\n",
       "      <th></th>\n",
       "      <th>Company</th>\n",
       "      <th>2014_sales_millions</th>\n",
       "      <th>2014_market_share_percent</th>\n",
       "      <th>2015_sales_millions</th>\n",
       "      <th>2015_market_share_percent</th>\n",
       "      <th>sale_change_percent</th>\n",
       "      <th>share_change_percent</th>\n",
       "    </tr>\n",
       "  </thead>\n",
       "  <tbody>\n",
       "    <tr>\n",
       "      <th>0</th>\n",
       "      <td>L'Oréal USA</td>\n",
       "      <td>1797.9</td>\n",
       "      <td>39.1</td>\n",
       "      <td>1815.0</td>\n",
       "      <td>38.6</td>\n",
       "      <td>1.0</td>\n",
       "      <td>-0.5</td>\n",
       "    </tr>\n",
       "    <tr>\n",
       "      <th>1</th>\n",
       "      <td>Procter &amp; Gamble</td>\n",
       "      <td>954.7</td>\n",
       "      <td>20.8</td>\n",
       "      <td>946.1</td>\n",
       "      <td>20.1</td>\n",
       "      <td>-0.9</td>\n",
       "      <td>-0.7</td>\n",
       "    </tr>\n",
       "    <tr>\n",
       "      <th>2</th>\n",
       "      <td>Revlon Inc.</td>\n",
       "      <td>670.5</td>\n",
       "      <td>14.6</td>\n",
       "      <td>661.6</td>\n",
       "      <td>14.1</td>\n",
       "      <td>-1.3</td>\n",
       "      <td>-0.5</td>\n",
       "    </tr>\n",
       "    <tr>\n",
       "      <th>3</th>\n",
       "      <td>Coty Beauty</td>\n",
       "      <td>262.3</td>\n",
       "      <td>5.7</td>\n",
       "      <td>263.8</td>\n",
       "      <td>5.6</td>\n",
       "      <td>0.5</td>\n",
       "      <td>-0.1</td>\n",
       "    </tr>\n",
       "    <tr>\n",
       "      <th>4</th>\n",
       "      <td>Johnson &amp; Johnson</td>\n",
       "      <td>171.9</td>\n",
       "      <td>3.7</td>\n",
       "      <td>176.0</td>\n",
       "      <td>3.7</td>\n",
       "      <td>2.4</td>\n",
       "      <td>0.0</td>\n",
       "    </tr>\n",
       "  </tbody>\n",
       "</table>\n",
       "</div>"
      ],
      "text/plain": [
       "             Company  2014_sales_millions  2014_market_share_percent  \\\n",
       "0        L'Oréal USA               1797.9                       39.1   \n",
       "1   Procter & Gamble                954.7                       20.8   \n",
       "2        Revlon Inc.                670.5                       14.6   \n",
       "3        Coty Beauty                262.3                        5.7   \n",
       "4  Johnson & Johnson                171.9                        3.7   \n",
       "\n",
       "   2015_sales_millions  2015_market_share_percent  sale_change_percent  \\\n",
       "0               1815.0                       38.6                  1.0   \n",
       "1                946.1                       20.1                 -0.9   \n",
       "2                661.6                       14.1                 -1.3   \n",
       "3                263.8                        5.6                  0.5   \n",
       "4                176.0                        3.7                  2.4   \n",
       "\n",
       "   share_change_percent  \n",
       "0                  -0.5  \n",
       "1                  -0.7  \n",
       "2                  -0.5  \n",
       "3                  -0.1  \n",
       "4                   0.0  "
      ]
     },
     "execution_count": 27,
     "metadata": {},
     "output_type": "execute_result"
    }
   ],
   "source": [
    "market_sales"
   ]
  },
  {
   "cell_type": "markdown",
   "id": "f73919d9",
   "metadata": {},
   "source": [
    "Now we will compare the sales between 2014-2015 by company, as well as their sales/share percentage change. The most appropriate graph for this exploration would be a bar chart."
   ]
  },
  {
   "cell_type": "code",
   "execution_count": 59,
   "id": "57edc05b",
   "metadata": {},
   "outputs": [
    {
     "data": {
      "image/png": "[encoded data removed]",
      "text/plain": [
       "<Figure size 720x576 with 1 Axes>"
      ]
     },
     "metadata": {
      "needs_background": "light"
     },
     "output_type": "display_data"
    }
   ],
   "source": [
    "market_sales.plot(x = \"Company\", y= ['2014_sales_millions', '2015_sales_millions'], kind = 'bar', legend = True, figsize = (10, 8))\n",
    "plt.ylabel(\"Sales in Millions of Dollars\")\n",
    "plt.title(\"Company Sales in 2014 vs. 2015\")\n",
    "plt.show()"
   ]
  },
  {
   "cell_type": "markdown",
   "id": "dc9f03a8",
   "metadata": {},
   "source": [
    "We then wanted to examine the sale and share percent change by company, so we use a bar graph again. Since there are positive and negative values, we know that the graph will look a bit different."
   ]
  },
  {
   "cell_type": "code",
   "execution_count": 50,
   "id": "13fa9b26",
   "metadata": {},
   "outputs": [
    {
     "data": {
      "image/png": "[encoded data removed]",
      "text/plain": [
       "<Figure size 432x360 with 1 Axes>"
      ]
     },
     "metadata": {
      "needs_background": "light"
     },
     "output_type": "display_data"
    }
   ],
   "source": [
    "market_sales.plot(x = \"Company\", y= ['sale_change_percent', 'share_change_percent'], kind = 'bar', legend = True, figsize = (6, 5))\n",
    "plt.axhline(y=0, color='black', linestyle='-')\n",
    "plt.ylabel(\"Percentage Change\")\n",
    "plt.title(\"Company Share and Sale Percentages\")\n",
    "plt.show()"
   ]
  },
  {
   "cell_type": "markdown",
   "id": "8db4cf30",
   "metadata": {},
   "source": [
    "Here we see some interesting data. While the sale change percent grew for L'Oreal and Coty Beauty, their share percentages declined. Additionally, Johnson & Johnson sale percentage grew far more than any other company. It is also noteable that J&J's share percentage did not change at all. Another interesting observation is that while J&J had the largest sales percentage increase, their overall sales still remained the lowest in terms of millions of dollars."
   ]
  },
  {
   "cell_type": "markdown",
   "id": "bcf2a347",
   "metadata": {},
   "source": [
    "## Amazon"
   ]
  },
  {
   "cell_type": "code",
   "execution_count": 30,
   "id": "3f9ef331",
   "metadata": {},
   "outputs": [],
   "source": [
    "# importing cleaned amazon review datasets\n",
    "beauty_clean = pd.read_csv('amazonreviews_beauty.csv')"
   ]
  },
  {
   "cell_type": "code",
   "execution_count": 31,
   "id": "9c202e64",
   "metadata": {},
   "outputs": [
    {
     "data": {
      "text/html": [
       "<div>\n",
       "<style scoped>\n",
       "    .dataframe tbody tr th:only-of-type {\n",
       "        vertical-align: middle;\n",
       "    }\n",
       "\n",
       "    .dataframe tbody tr th {\n",
       "        vertical-align: top;\n",
       "    }\n",
       "\n",
       "    .dataframe thead th {\n",
       "        text-align: right;\n",
       "    }\n",
       "</style>\n",
       "<table border=\"1\" class=\"dataframe\">\n",
       "  <thead>\n",
       "    <tr style=\"text-align: right;\">\n",
       "      <th></th>\n",
       "      <th>customer_id</th>\n",
       "      <th>review_id</th>\n",
       "      <th>product_id</th>\n",
       "      <th>product_parent</th>\n",
       "      <th>product_title</th>\n",
       "      <th>star_rating</th>\n",
       "      <th>helpful_votes</th>\n",
       "      <th>vine</th>\n",
       "      <th>verified_purchase</th>\n",
       "      <th>review_headline</th>\n",
       "      <th>review_body</th>\n",
       "      <th>review_date</th>\n",
       "      <th>corporation</th>\n",
       "    </tr>\n",
       "  </thead>\n",
       "  <tbody>\n",
       "    <tr>\n",
       "      <th>0</th>\n",
       "      <td>50965807</td>\n",
       "      <td>R87VHMM0G6KJA</td>\n",
       "      <td>B004K0OEDK</td>\n",
       "      <td>561281039</td>\n",
       "      <td>Revlon Perfectweeze Tweezer</td>\n",
       "      <td>5.0</td>\n",
       "      <td>0.0</td>\n",
       "      <td>N</td>\n",
       "      <td>Y</td>\n",
       "      <td>I'm glad they still make this simple and pract...</td>\n",
       "      <td>I lost my pair of Tweezers so I bought these. ...</td>\n",
       "      <td>2015-08-31</td>\n",
       "      <td>Revlon</td>\n",
       "    </tr>\n",
       "    <tr>\n",
       "      <th>1</th>\n",
       "      <td>41989158</td>\n",
       "      <td>R4YCBM1UYVP57</td>\n",
       "      <td>B00AXJ9Q7G</td>\n",
       "      <td>841655834</td>\n",
       "      <td>Almay Intense I-Color Bold Nudes, 0.12 Ounce</td>\n",
       "      <td>5.0</td>\n",
       "      <td>0.0</td>\n",
       "      <td>N</td>\n",
       "      <td>Y</td>\n",
       "      <td>Five Stars</td>\n",
       "      <td>Nice color.</td>\n",
       "      <td>2015-06-18</td>\n",
       "      <td>Revlon</td>\n",
       "    </tr>\n",
       "    <tr>\n",
       "      <th>2</th>\n",
       "      <td>18155437</td>\n",
       "      <td>R2SXDTQG1OT596</td>\n",
       "      <td>B00PFCSBVI</td>\n",
       "      <td>821757173</td>\n",
       "      <td>Maybelline New York Eyestudio Brow Drama Sculp...</td>\n",
       "      <td>5.0</td>\n",
       "      <td>0.0</td>\n",
       "      <td>Y</td>\n",
       "      <td>N</td>\n",
       "      <td>Maybelline Brow Gel is a winner!</td>\n",
       "      <td>I have tried a couple of different brands of b...</td>\n",
       "      <td>2015-01-19</td>\n",
       "      <td>L'oreal</td>\n",
       "    </tr>\n",
       "    <tr>\n",
       "      <th>3</th>\n",
       "      <td>31718302</td>\n",
       "      <td>R2CX7KXWO4F5QS</td>\n",
       "      <td>B00S49XI6M</td>\n",
       "      <td>306372274</td>\n",
       "      <td>Neutrogena Rapid Clear Oil-Eliminating Foaming...</td>\n",
       "      <td>5.0</td>\n",
       "      <td>1.0</td>\n",
       "      <td>N</td>\n",
       "      <td>Y</td>\n",
       "      <td>I LOVE this cleanser</td>\n",
       "      <td>Wow!  I LOVE this cleanser!!  It has a very we...</td>\n",
       "      <td>2015-08-20</td>\n",
       "      <td>Johnson &amp; Johnson</td>\n",
       "    </tr>\n",
       "    <tr>\n",
       "      <th>4</th>\n",
       "      <td>39298750</td>\n",
       "      <td>R1CKLU4SGQNU3J</td>\n",
       "      <td>B00JIFWX1M</td>\n",
       "      <td>849281508</td>\n",
       "      <td>Garnier Nutrisse Ultra Color Nourishing Color ...</td>\n",
       "      <td>5.0</td>\n",
       "      <td>0.0</td>\n",
       "      <td>N</td>\n",
       "      <td>Y</td>\n",
       "      <td>Five Stars</td>\n",
       "      <td>at first I was nervous but I get so many compl...</td>\n",
       "      <td>2015-04-10</td>\n",
       "      <td>L'oreal</td>\n",
       "    </tr>\n",
       "  </tbody>\n",
       "</table>\n",
       "</div>"
      ],
      "text/plain": [
       "   customer_id       review_id  product_id  product_parent  \\\n",
       "0     50965807   R87VHMM0G6KJA  B004K0OEDK       561281039   \n",
       "1     41989158   R4YCBM1UYVP57  B00AXJ9Q7G       841655834   \n",
       "2     18155437  R2SXDTQG1OT596  B00PFCSBVI       821757173   \n",
       "3     31718302  R2CX7KXWO4F5QS  B00S49XI6M       306372274   \n",
       "4     39298750  R1CKLU4SGQNU3J  B00JIFWX1M       849281508   \n",
       "\n",
       "                                       product_title  star_rating  \\\n",
       "0                        Revlon Perfectweeze Tweezer          5.0   \n",
       "1       Almay Intense I-Color Bold Nudes, 0.12 Ounce          5.0   \n",
       "2  Maybelline New York Eyestudio Brow Drama Sculp...          5.0   \n",
       "3  Neutrogena Rapid Clear Oil-Eliminating Foaming...          5.0   \n",
       "4  Garnier Nutrisse Ultra Color Nourishing Color ...          5.0   \n",
       "\n",
       "   helpful_votes vine verified_purchase  \\\n",
       "0            0.0    N                 Y   \n",
       "1            0.0    N                 Y   \n",
       "2            0.0    Y                 N   \n",
       "3            1.0    N                 Y   \n",
       "4            0.0    N                 Y   \n",
       "\n",
       "                                     review_headline  \\\n",
       "0  I'm glad they still make this simple and pract...   \n",
       "1                                         Five Stars   \n",
       "2                   Maybelline Brow Gel is a winner!   \n",
       "3                               I LOVE this cleanser   \n",
       "4                                         Five Stars   \n",
       "\n",
       "                                         review_body review_date  \\\n",
       "0  I lost my pair of Tweezers so I bought these. ...  2015-08-31   \n",
       "1                                        Nice color.  2015-06-18   \n",
       "2  I have tried a couple of different brands of b...  2015-01-19   \n",
       "3  Wow!  I LOVE this cleanser!!  It has a very we...  2015-08-20   \n",
       "4  at first I was nervous but I get so many compl...  2015-04-10   \n",
       "\n",
       "         corporation  \n",
       "0             Revlon  \n",
       "1             Revlon  \n",
       "2            L'oreal  \n",
       "3  Johnson & Johnson  \n",
       "4            L'oreal  "
      ]
     },
     "execution_count": 31,
     "metadata": {},
     "output_type": "execute_result"
    }
   ],
   "source": [
    "beauty_clean.head()"
   ]
  },
  {
   "cell_type": "markdown",
   "id": "0ead7ca9",
   "metadata": {},
   "source": [
    "### Histograms of Star Rating Distribution Overall and by Company"
   ]
  },
  {
   "cell_type": "markdown",
   "id": "6a36c3ad",
   "metadata": {},
   "source": [
    "The first thing we wanted to do was figure out how the star ratings of beauty products on Amazon were distributed. Since this was comparing counts, we used histograms. We first decided to look at all products overall, and then how the distributions varied by our 5 main companies."
   ]
  },
  {
   "cell_type": "code",
   "execution_count": 32,
   "id": "71d4030d",
   "metadata": {},
   "outputs": [
    {
     "data": {
      "image/png": "[encoded data removed]",
      "text/plain": [
       "<Figure size 432x288 with 1 Axes>"
      ]
     },
     "metadata": {
      "needs_background": "light"
     },
     "output_type": "display_data"
    }
   ],
   "source": [
    "beauty_clean.star_rating.hist(bins = 5)\n",
    "plt.xticks(range(1, 6))\n",
    "plt.xlabel('Star Rating')\n",
    "plt.ylabel(\"Count\")\n",
    "plt.title(\"Overall Distribution of Star Ratings\")\n",
    "plt.show()"
   ]
  },
  {
   "cell_type": "code",
   "execution_count": 58,
   "id": "5c32420a",
   "metadata": {},
   "outputs": [
    {
     "data": {
      "image/png": "[encoded data removed]",
      "text/plain": [
       "<Figure size 720x864 with 6 Axes>"
      ]
     },
     "metadata": {
      "needs_background": "light"
     },
     "output_type": "display_data"
    }
   ],
   "source": [
    "beauty_clean.star_rating.hist(by=beauty_clean.corporation, figsize = (10, 12), bins = 5)\n",
    "plt.show()"
   ]
  },
  {
   "cell_type": "markdown",
   "id": "7502f8a5",
   "metadata": {},
   "source": [
    "### Basic Statistics of Star Ratings by Corporation"
   ]
  },
  {
   "cell_type": "markdown",
   "id": "04e020fd",
   "metadata": {},
   "source": [
    "#### All Companies"
   ]
  },
  {
   "cell_type": "code",
   "execution_count": 34,
   "id": "10b49008",
   "metadata": {},
   "outputs": [
    {
     "data": {
      "text/html": [
       "<div>\n",
       "<style scoped>\n",
       "    .dataframe tbody tr th:only-of-type {\n",
       "        vertical-align: middle;\n",
       "    }\n",
       "\n",
       "    .dataframe tbody tr th {\n",
       "        vertical-align: top;\n",
       "    }\n",
       "\n",
       "    .dataframe thead th {\n",
       "        text-align: right;\n",
       "    }\n",
       "</style>\n",
       "<table border=\"1\" class=\"dataframe\">\n",
       "  <thead>\n",
       "    <tr style=\"text-align: right;\">\n",
       "      <th></th>\n",
       "      <th>star_rating</th>\n",
       "    </tr>\n",
       "  </thead>\n",
       "  <tbody>\n",
       "    <tr>\n",
       "      <th>mean</th>\n",
       "      <td>4.188150</td>\n",
       "    </tr>\n",
       "    <tr>\n",
       "      <th>median</th>\n",
       "      <td>5.000000</td>\n",
       "    </tr>\n",
       "    <tr>\n",
       "      <th>std</th>\n",
       "      <td>1.286873</td>\n",
       "    </tr>\n",
       "    <tr>\n",
       "      <th>var</th>\n",
       "      <td>1.656041</td>\n",
       "    </tr>\n",
       "  </tbody>\n",
       "</table>\n",
       "</div>"
      ],
      "text/plain": [
       "        star_rating\n",
       "mean       4.188150\n",
       "median     5.000000\n",
       "std        1.286873\n",
       "var        1.656041"
      ]
     },
     "execution_count": 34,
     "metadata": {},
     "output_type": "execute_result"
    }
   ],
   "source": [
    "beauty_clean[['star_rating']].agg([np.mean, np.median, np.std, np.var])"
   ]
  },
  {
   "cell_type": "markdown",
   "id": "bf528a12",
   "metadata": {},
   "source": [
    "#### Star Rating Breakdown by Company"
   ]
  },
  {
   "cell_type": "code",
   "execution_count": 35,
   "id": "37bcd0a8",
   "metadata": {},
   "outputs": [
    {
     "data": {
      "text/html": [
       "<div>\n",
       "<style scoped>\n",
       "    .dataframe tbody tr th:only-of-type {\n",
       "        vertical-align: middle;\n",
       "    }\n",
       "\n",
       "    .dataframe tbody tr th {\n",
       "        vertical-align: top;\n",
       "    }\n",
       "\n",
       "    .dataframe thead th {\n",
       "        text-align: right;\n",
       "    }\n",
       "</style>\n",
       "<table border=\"1\" class=\"dataframe\">\n",
       "  <thead>\n",
       "    <tr style=\"text-align: right;\">\n",
       "      <th></th>\n",
       "      <th>mean</th>\n",
       "      <th>median</th>\n",
       "      <th>std</th>\n",
       "      <th>var</th>\n",
       "    </tr>\n",
       "    <tr>\n",
       "      <th>corporation</th>\n",
       "      <th></th>\n",
       "      <th></th>\n",
       "      <th></th>\n",
       "      <th></th>\n",
       "    </tr>\n",
       "  </thead>\n",
       "  <tbody>\n",
       "    <tr>\n",
       "      <th>Coty</th>\n",
       "      <td>4.050995</td>\n",
       "      <td>5.0</td>\n",
       "      <td>1.380926</td>\n",
       "      <td>1.906955</td>\n",
       "    </tr>\n",
       "    <tr>\n",
       "      <th>Johnson &amp; Johnson</th>\n",
       "      <td>4.321016</td>\n",
       "      <td>5.0</td>\n",
       "      <td>1.201324</td>\n",
       "      <td>1.443180</td>\n",
       "    </tr>\n",
       "    <tr>\n",
       "      <th>L'oreal</th>\n",
       "      <td>4.163419</td>\n",
       "      <td>5.0</td>\n",
       "      <td>1.272502</td>\n",
       "      <td>1.619261</td>\n",
       "    </tr>\n",
       "    <tr>\n",
       "      <th>Proctor &amp; Gamble</th>\n",
       "      <td>4.112360</td>\n",
       "      <td>5.0</td>\n",
       "      <td>1.335173</td>\n",
       "      <td>1.782686</td>\n",
       "    </tr>\n",
       "    <tr>\n",
       "      <th>Revlon</th>\n",
       "      <td>4.147471</td>\n",
       "      <td>5.0</td>\n",
       "      <td>1.338477</td>\n",
       "      <td>1.791522</td>\n",
       "    </tr>\n",
       "  </tbody>\n",
       "</table>\n",
       "</div>"
      ],
      "text/plain": [
       "                       mean  median       std       var\n",
       "corporation                                            \n",
       "Coty               4.050995     5.0  1.380926  1.906955\n",
       "Johnson & Johnson  4.321016     5.0  1.201324  1.443180\n",
       "L'oreal            4.163419     5.0  1.272502  1.619261\n",
       "Proctor & Gamble   4.112360     5.0  1.335173  1.782686\n",
       "Revlon             4.147471     5.0  1.338477  1.791522"
      ]
     },
     "execution_count": 35,
     "metadata": {},
     "output_type": "execute_result"
    }
   ],
   "source": [
    "beauty_clean.groupby('corporation')['star_rating'].agg([np.mean, np.median, np.std, np.var])"
   ]
  },
  {
   "cell_type": "markdown",
   "id": "68461a93",
   "metadata": {},
   "source": [
    "### Review Body Length Analysis"
   ]
  },
  {
   "cell_type": "markdown",
   "id": "776582e2",
   "metadata": {},
   "source": [
    "We then wanted to explore the distribution of review body text length. We decided the best way to do this was through histograms. Like our other graphs, we first explored how this looked across all companies altogther, and then we further broke the data down by company."
   ]
  },
  {
   "cell_type": "markdown",
   "id": "cdbced1f",
   "metadata": {},
   "source": [
    "First we need to calculate how long each review is, which we are doing by counting the number of characters. We added another column for this called review_length."
   ]
  },
  {
   "cell_type": "code",
   "execution_count": 36,
   "id": "c4ae79d4",
   "metadata": {},
   "outputs": [],
   "source": [
    "beauty_clean['review_length'] = beauty_clean['review_body'].str.len()"
   ]
  },
  {
   "cell_type": "code",
   "execution_count": 37,
   "id": "b9063c00",
   "metadata": {},
   "outputs": [
    {
     "data": {
      "text/html": [
       "<div>\n",
       "<style scoped>\n",
       "    .dataframe tbody tr th:only-of-type {\n",
       "        vertical-align: middle;\n",
       "    }\n",
       "\n",
       "    .dataframe tbody tr th {\n",
       "        vertical-align: top;\n",
       "    }\n",
       "\n",
       "    .dataframe thead th {\n",
       "        text-align: right;\n",
       "    }\n",
       "</style>\n",
       "<table border=\"1\" class=\"dataframe\">\n",
       "  <thead>\n",
       "    <tr style=\"text-align: right;\">\n",
       "      <th></th>\n",
       "      <th>customer_id</th>\n",
       "      <th>review_id</th>\n",
       "      <th>product_id</th>\n",
       "      <th>product_parent</th>\n",
       "      <th>product_title</th>\n",
       "      <th>star_rating</th>\n",
       "      <th>helpful_votes</th>\n",
       "      <th>vine</th>\n",
       "      <th>verified_purchase</th>\n",
       "      <th>review_headline</th>\n",
       "      <th>review_body</th>\n",
       "      <th>review_date</th>\n",
       "      <th>corporation</th>\n",
       "      <th>review_length</th>\n",
       "    </tr>\n",
       "  </thead>\n",
       "  <tbody>\n",
       "    <tr>\n",
       "      <th>0</th>\n",
       "      <td>50965807</td>\n",
       "      <td>R87VHMM0G6KJA</td>\n",
       "      <td>B004K0OEDK</td>\n",
       "      <td>561281039</td>\n",
       "      <td>Revlon Perfectweeze Tweezer</td>\n",
       "      <td>5.0</td>\n",
       "      <td>0.0</td>\n",
       "      <td>N</td>\n",
       "      <td>Y</td>\n",
       "      <td>I'm glad they still make this simple and pract...</td>\n",
       "      <td>I lost my pair of Tweezers so I bought these. ...</td>\n",
       "      <td>2015-08-31</td>\n",
       "      <td>Revlon</td>\n",
       "      <td>105.0</td>\n",
       "    </tr>\n",
       "    <tr>\n",
       "      <th>1</th>\n",
       "      <td>41989158</td>\n",
       "      <td>R4YCBM1UYVP57</td>\n",
       "      <td>B00AXJ9Q7G</td>\n",
       "      <td>841655834</td>\n",
       "      <td>Almay Intense I-Color Bold Nudes, 0.12 Ounce</td>\n",
       "      <td>5.0</td>\n",
       "      <td>0.0</td>\n",
       "      <td>N</td>\n",
       "      <td>Y</td>\n",
       "      <td>Five Stars</td>\n",
       "      <td>Nice color.</td>\n",
       "      <td>2015-06-18</td>\n",
       "      <td>Revlon</td>\n",
       "      <td>11.0</td>\n",
       "    </tr>\n",
       "    <tr>\n",
       "      <th>2</th>\n",
       "      <td>18155437</td>\n",
       "      <td>R2SXDTQG1OT596</td>\n",
       "      <td>B00PFCSBVI</td>\n",
       "      <td>821757173</td>\n",
       "      <td>Maybelline New York Eyestudio Brow Drama Sculp...</td>\n",
       "      <td>5.0</td>\n",
       "      <td>0.0</td>\n",
       "      <td>Y</td>\n",
       "      <td>N</td>\n",
       "      <td>Maybelline Brow Gel is a winner!</td>\n",
       "      <td>I have tried a couple of different brands of b...</td>\n",
       "      <td>2015-01-19</td>\n",
       "      <td>L'oreal</td>\n",
       "      <td>286.0</td>\n",
       "    </tr>\n",
       "    <tr>\n",
       "      <th>3</th>\n",
       "      <td>31718302</td>\n",
       "      <td>R2CX7KXWO4F5QS</td>\n",
       "      <td>B00S49XI6M</td>\n",
       "      <td>306372274</td>\n",
       "      <td>Neutrogena Rapid Clear Oil-Eliminating Foaming...</td>\n",
       "      <td>5.0</td>\n",
       "      <td>1.0</td>\n",
       "      <td>N</td>\n",
       "      <td>Y</td>\n",
       "      <td>I LOVE this cleanser</td>\n",
       "      <td>Wow!  I LOVE this cleanser!!  It has a very we...</td>\n",
       "      <td>2015-08-20</td>\n",
       "      <td>Johnson &amp; Johnson</td>\n",
       "      <td>490.0</td>\n",
       "    </tr>\n",
       "    <tr>\n",
       "      <th>4</th>\n",
       "      <td>39298750</td>\n",
       "      <td>R1CKLU4SGQNU3J</td>\n",
       "      <td>B00JIFWX1M</td>\n",
       "      <td>849281508</td>\n",
       "      <td>Garnier Nutrisse Ultra Color Nourishing Color ...</td>\n",
       "      <td>5.0</td>\n",
       "      <td>0.0</td>\n",
       "      <td>N</td>\n",
       "      <td>Y</td>\n",
       "      <td>Five Stars</td>\n",
       "      <td>at first I was nervous but I get so many compl...</td>\n",
       "      <td>2015-04-10</td>\n",
       "      <td>L'oreal</td>\n",
       "      <td>53.0</td>\n",
       "    </tr>\n",
       "  </tbody>\n",
       "</table>\n",
       "</div>"
      ],
      "text/plain": [
       "   customer_id       review_id  product_id  product_parent  \\\n",
       "0     50965807   R87VHMM0G6KJA  B004K0OEDK       561281039   \n",
       "1     41989158   R4YCBM1UYVP57  B00AXJ9Q7G       841655834   \n",
       "2     18155437  R2SXDTQG1OT596  B00PFCSBVI       821757173   \n",
       "3     31718302  R2CX7KXWO4F5QS  B00S49XI6M       306372274   \n",
       "4     39298750  R1CKLU4SGQNU3J  B00JIFWX1M       849281508   \n",
       "\n",
       "                                       product_title  star_rating  \\\n",
       "0                        Revlon Perfectweeze Tweezer          5.0   \n",
       "1       Almay Intense I-Color Bold Nudes, 0.12 Ounce          5.0   \n",
       "2  Maybelline New York Eyestudio Brow Drama Sculp...          5.0   \n",
       "3  Neutrogena Rapid Clear Oil-Eliminating Foaming...          5.0   \n",
       "4  Garnier Nutrisse Ultra Color Nourishing Color ...          5.0   \n",
       "\n",
       "   helpful_votes vine verified_purchase  \\\n",
       "0            0.0    N                 Y   \n",
       "1            0.0    N                 Y   \n",
       "2            0.0    Y                 N   \n",
       "3            1.0    N                 Y   \n",
       "4            0.0    N                 Y   \n",
       "\n",
       "                                     review_headline  \\\n",
       "0  I'm glad they still make this simple and pract...   \n",
       "1                                         Five Stars   \n",
       "2                   Maybelline Brow Gel is a winner!   \n",
       "3                               I LOVE this cleanser   \n",
       "4                                         Five Stars   \n",
       "\n",
       "                                         review_body review_date  \\\n",
       "0  I lost my pair of Tweezers so I bought these. ...  2015-08-31   \n",
       "1                                        Nice color.  2015-06-18   \n",
       "2  I have tried a couple of different brands of b...  2015-01-19   \n",
       "3  Wow!  I LOVE this cleanser!!  It has a very we...  2015-08-20   \n",
       "4  at first I was nervous but I get so many compl...  2015-04-10   \n",
       "\n",
       "         corporation  review_length  \n",
       "0             Revlon          105.0  \n",
       "1             Revlon           11.0  \n",
       "2            L'oreal          286.0  \n",
       "3  Johnson & Johnson          490.0  \n",
       "4            L'oreal           53.0  "
      ]
     },
     "execution_count": 37,
     "metadata": {},
     "output_type": "execute_result"
    }
   ],
   "source": [
    "beauty_clean.head() #now we see our new review_length column"
   ]
  },
  {
   "cell_type": "markdown",
   "id": "6b8060cd",
   "metadata": {},
   "source": [
    "Now that we have this new column, we can visualize this data through some more histograms. As we have been doing throughout, we will begin with an examination of all companies together, and then break the data down by company."
   ]
  },
  {
   "cell_type": "code",
   "execution_count": 38,
   "id": "28e24188",
   "metadata": {},
   "outputs": [
    {
     "data": {
      "image/png": "[encoded data removed]",
      "text/plain": [
       "<Figure size 432x288 with 1 Axes>"
      ]
     },
     "metadata": {
      "needs_background": "light"
     },
     "output_type": "display_data"
    }
   ],
   "source": [
    "beauty_clean.review_length.hist(bins=50)\n",
    "plt.xlabel('Review Text Length')\n",
    "plt.ylabel(\"Count\")\n",
    "plt.title(\"Overall Distribution of Review Text Length\")\n",
    "plt.show()"
   ]
  },
  {
   "cell_type": "code",
   "execution_count": 39,
   "id": "da9dea0e",
   "metadata": {},
   "outputs": [
    {
     "data": {
      "text/plain": [
       "68"
      ]
     },
     "execution_count": 39,
     "metadata": {},
     "output_type": "execute_result"
    }
   ],
   "source": [
    "len(beauty_clean[beauty_clean['review_length'] > 2000])"
   ]
  },
  {
   "cell_type": "markdown",
   "id": "728eeece",
   "metadata": {},
   "source": [
    "Looking at the overall review text distribution, we see that most reviews are less than 2000 characters, but the chart is being skewed by 68 observations. Let's take a look at this histogram when we only consider the reviews with less than 2000 characters."
   ]
  },
  {
   "cell_type": "code",
   "execution_count": 40,
   "id": "02c150f1",
   "metadata": {},
   "outputs": [
    {
     "data": {
      "image/png": "[encoded data removed]",
      "text/plain": [
       "<Figure size 432x288 with 1 Axes>"
      ]
     },
     "metadata": {
      "needs_background": "light"
     },
     "output_type": "display_data"
    }
   ],
   "source": [
    "beauty_clean[beauty_clean['review_length'] < 2000].review_length.hist(bins=30)\n",
    "plt.xlabel('Review Text Length')\n",
    "plt.ylabel(\"Count\")\n",
    "plt.title(\"Overall Distribution of Review Text Length (without outliers)\")\n",
    "plt.show()"
   ]
  },
  {
   "cell_type": "markdown",
   "id": "0c1d732b",
   "metadata": {},
   "source": [
    "Looking at this histogram, we still see that most reviews are 250 words or less.\n",
    "\n",
    "Now analyzing review length by distribution, we will also only look at reviews with 1000 characters or less separately."
   ]
  },
  {
   "cell_type": "markdown",
   "id": "14b06df6",
   "metadata": {},
   "source": [
    "### Histograms of Review Text Lengths of Reviews with <1000 Characters"
   ]
  },
  {
   "cell_type": "code",
   "execution_count": 41,
   "id": "7f3305e0",
   "metadata": {},
   "outputs": [
    {
     "data": {
      "image/png": "[encoded data removed]",
      "text/plain": [
       "<Figure size 720x864 with 6 Axes>"
      ]
     },
     "metadata": {
      "needs_background": "light"
     },
     "output_type": "display_data"
    }
   ],
   "source": [
    "beauty_clean[beauty_clean['review_length'] < 1000].review_length.hist(by=beauty_clean.corporation, figsize = (10, 12), bins = 50)\n",
    "plt.show()"
   ]
  },
  {
   "cell_type": "markdown",
   "id": "d488ee64",
   "metadata": {},
   "source": [
    "Note that the axes tick marks are not the same between all graphs. Despite this, we see a similar shape in all these histograms."
   ]
  },
  {
   "cell_type": "markdown",
   "id": "21e9e599",
   "metadata": {},
   "source": [
    "### Examining the Correlation Between Review Length & Star Rating"
   ]
  },
  {
   "cell_type": "markdown",
   "id": "5a6c2987",
   "metadata": {},
   "source": [
    "Now that we've analyzed just the distribution of review text length, we also want to see how this is correlated to star ratings."
   ]
  },
  {
   "cell_type": "code",
   "execution_count": 42,
   "id": "bd6ed17e",
   "metadata": {
    "scrolled": true
   },
   "outputs": [
    {
     "data": {
      "image/png": "[encoded data removed]",
      "text/plain": [
       "<Figure size 432x288 with 1 Axes>"
      ]
     },
     "metadata": {
      "needs_background": "light"
     },
     "output_type": "display_data"
    }
   ],
   "source": [
    "plt.scatter(beauty_clean['review_length'], beauty_clean['star_rating'])\n",
    "plt.yticks(range(1, 6)) #only include ticks for the whole numbers of the star ratings\n",
    "plt.xlabel(\"review length\")\n",
    "plt.ylabel('star rating')\n",
    "plt.title('Review Length vs. Star Rating')\n",
    "plt.show()"
   ]
  },
  {
   "cell_type": "code",
   "execution_count": 43,
   "id": "a28236d8",
   "metadata": {},
   "outputs": [
    {
     "data": {
      "text/plain": [
       "-0.11149236206217729"
      ]
     },
     "execution_count": 43,
     "metadata": {},
     "output_type": "execute_result"
    }
   ],
   "source": [
    "beauty_clean['review_length'].corr(beauty_clean['star_rating'])"
   ]
  },
  {
   "cell_type": "markdown",
   "id": "1a5fd9f2",
   "metadata": {},
   "source": [
    "Clearly, most of the data is concentrated near the smaller review text length. We will do the same thing now zooming into reviews just under 3000 characters."
   ]
  },
  {
   "cell_type": "code",
   "execution_count": 63,
   "id": "3ce5e4fa",
   "metadata": {},
   "outputs": [
    {
     "data": {
      "image/png": "[encoded data removed]",
      "text/plain": [
       "<Figure size 432x288 with 1 Axes>"
      ]
     },
     "metadata": {
      "needs_background": "light"
     },
     "output_type": "display_data"
    }
   ],
   "source": [
    "plt.scatter(beauty_clean[beauty_clean['review_length'] < 3000]['review_length'], beauty_clean[beauty_clean['review_length'] < 3000]['star_rating'])\n",
    "plt.yticks(range(1, 6)) #only include ticks for the whole numbers of the star ratings\n",
    "plt.xlabel(\"review length\")\n",
    "plt.ylabel('star rating')\n",
    "plt.title('Review Length vs. Star Rating of Reviews <3000 Characters')\n",
    "plt.show()"
   ]
  },
  {
   "cell_type": "code",
   "execution_count": 65,
   "id": "aae8e4b7",
   "metadata": {},
   "outputs": [
    {
     "data": {
      "text/plain": [
       "-0.1184820316572932"
      ]
     },
     "execution_count": 65,
     "metadata": {},
     "output_type": "execute_result"
    }
   ],
   "source": [
    "beauty_clean[beauty_clean['review_length'] < 3000]['review_length'].corr(beauty_clean[beauty_clean['review_length'] < 3000]['star_rating'])"
   ]
  },
  {
   "cell_type": "markdown",
   "id": "512de816",
   "metadata": {},
   "source": [
    "Even after narrowing in on these observations, the correlation remains almost exatcly the same"
   ]
  },
  {
   "cell_type": "markdown",
   "id": "694f79d3",
   "metadata": {},
   "source": [
    "Based on the graph and correlation coefficient, there is virtually no correlation between review length and star ratings. This is contrary to our prediction that longer reviews might indicate extremely positive/negative ratings. "
   ]
  },
  {
   "cell_type": "markdown",
   "id": "d10ed5c1",
   "metadata": {},
   "source": [
    "### Distribution of Helpful Votes"
   ]
  },
  {
   "cell_type": "markdown",
   "id": "ca8c779c",
   "metadata": {},
   "source": [
    "Next we want to explore if certain brands receive more helpful review votes than others."
   ]
  },
  {
   "cell_type": "code",
   "execution_count": 44,
   "id": "850d2dc9",
   "metadata": {},
   "outputs": [],
   "source": [
    "# subsetting reviews by corporation\n",
    "loreal_reviews = beauty_clean[beauty_clean['corporation']==\"L'oreal\"]\n",
    "coty_reviews = beauty_clean[beauty_clean['corporation']==\"Coty\"]\n",
    "revlon_reviews = beauty_clean[beauty_clean['corporation']==\"Revlon\"]\n",
    "jnj_reviews = beauty_clean[beauty_clean['corporation']==\"Johnson & Johnson\"]\n",
    "png_reviews = beauty_clean[beauty_clean['corporation']==\"Proctor & Gamble\"]"
   ]
  },
  {
   "cell_type": "code",
   "execution_count": 45,
   "id": "6ae22266",
   "metadata": {
    "scrolled": false
   },
   "outputs": [
    {
     "data": {
      "text/plain": [
       "0.0      30856\n",
       "1.0       5456\n",
       "2.0       1544\n",
       "3.0        715\n",
       "4.0        350\n",
       "         ...  \n",
       "46.0         1\n",
       "109.0        1\n",
       "135.0        1\n",
       "78.0         1\n",
       "72.0         1\n",
       "Name: helpful_votes, Length: 98, dtype: int64"
      ]
     },
     "execution_count": 45,
     "metadata": {},
     "output_type": "execute_result"
    },
    {
     "data": {
      "image/png": "[encoded data removed]",
      "text/plain": [
       "<Figure size 720x864 with 6 Axes>"
      ]
     },
     "metadata": {
      "needs_background": "light"
     },
     "output_type": "display_data"
    }
   ],
   "source": [
    "# plotting distribution of helpful votes\n",
    "beauty_clean['helpful_votes'].hist(by=beauty_clean.corporation, figsize = (10, 12))\n",
    "plt.title('Distribution of Helpful Votes')\n",
    "\n",
    "beauty_clean['helpful_votes'].value_counts()"
   ]
  },
  {
   "cell_type": "markdown",
   "id": "2c83ea33",
   "metadata": {},
   "source": [
    "As we can see, there are a lot of reviews with zero helpful votes and only a few reviews with many helpful votes. When the distribution is plotted out, it is very hard to analyze the graph and not much can be taken away. We will be applying square root transformation to the graphs in an attempt to reduce the range."
   ]
  },
  {
   "cell_type": "code",
   "execution_count": 64,
   "id": "66bd0771",
   "metadata": {},
   "outputs": [
    {
     "data": {
      "image/png": "[encoded data removed]",
      "text/plain": [
       "<Figure size 720x864 with 6 Axes>"
      ]
     },
     "metadata": {
      "needs_background": "light"
     },
     "output_type": "display_data"
    },
    {
     "data": {
      "text/plain": [
       "corporation\n",
       "Coty                 19.052559\n",
       "Johnson & Johnson    21.260292\n",
       "L'oreal              19.416488\n",
       "Proctor & Gamble      2.236068\n",
       "Revlon               14.035669\n",
       "Name: helpful_votes, dtype: float64"
      ]
     },
     "execution_count": 64,
     "metadata": {},
     "output_type": "execute_result"
    }
   ],
   "source": [
    "# square root transformed graphs \n",
    "beauty_clean['helpful_votes'].apply(np.sqrt).hist(by=beauty_clean.corporation, figsize = (10, 12))\n",
    "plt.show()\n",
    "\n",
    "beauty_clean['helpful_votes'].apply(np.sqrt).groupby(by=beauty_clean['corporation']).max()"
   ]
  },
  {
   "cell_type": "markdown",
   "id": "9791b126",
   "metadata": {},
   "source": [
    "Unfortunately, there is still an extremely strong right skew in helpful votes. It is also not possible to apply log transform to this dataset as a lot of the values are zero."
   ]
  },
  {
   "cell_type": "markdown",
   "id": "e91e6bb9",
   "metadata": {},
   "source": [
    "### Analyzing Verified Purchases and Vine Reviews by Company"
   ]
  },
  {
   "cell_type": "markdown",
   "id": "c1c46ec7",
   "metadata": {},
   "source": [
    "Another area we want to explore is how Verified Purchases and Vine Reviews might create differences from non-verified/vine reviews."
   ]
  },
  {
   "cell_type": "markdown",
   "id": "3f9eea50",
   "metadata": {},
   "source": [
    "#### Percentages of Verified Purchases and Vine Reviews"
   ]
  },
  {
   "cell_type": "markdown",
   "id": "10a880cb",
   "metadata": {},
   "source": [
    "First we must calculate the percentage and counts of vine/verified reviews in each corporation. We use some basic list comprehensions for this."
   ]
  },
  {
   "cell_type": "code",
   "execution_count": 47,
   "id": "a8aee3b3",
   "metadata": {},
   "outputs": [
    {
     "data": {
      "text/html": [
       "<div>\n",
       "<style scoped>\n",
       "    .dataframe tbody tr th:only-of-type {\n",
       "        vertical-align: middle;\n",
       "    }\n",
       "\n",
       "    .dataframe tbody tr th {\n",
       "        vertical-align: top;\n",
       "    }\n",
       "\n",
       "    .dataframe thead th {\n",
       "        text-align: right;\n",
       "    }\n",
       "</style>\n",
       "<table border=\"1\" class=\"dataframe\">\n",
       "  <thead>\n",
       "    <tr style=\"text-align: right;\">\n",
       "      <th></th>\n",
       "      <th>brand</th>\n",
       "      <th>vine_percent</th>\n",
       "      <th>vine_counts</th>\n",
       "      <th>verified_percent</th>\n",
       "      <th>verified_counts</th>\n",
       "      <th>total</th>\n",
       "    </tr>\n",
       "  </thead>\n",
       "  <tbody>\n",
       "    <tr>\n",
       "      <th>0</th>\n",
       "      <td>L'oreal</td>\n",
       "      <td>1.049671</td>\n",
       "      <td>153</td>\n",
       "      <td>86.244512</td>\n",
       "      <td>12571</td>\n",
       "      <td>14576</td>\n",
       "    </tr>\n",
       "    <tr>\n",
       "      <th>1</th>\n",
       "      <td>Coty</td>\n",
       "      <td>0.000000</td>\n",
       "      <td>0</td>\n",
       "      <td>86.597156</td>\n",
       "      <td>4568</td>\n",
       "      <td>5275</td>\n",
       "    </tr>\n",
       "    <tr>\n",
       "      <th>2</th>\n",
       "      <td>Revlon</td>\n",
       "      <td>0.418825</td>\n",
       "      <td>38</td>\n",
       "      <td>91.722694</td>\n",
       "      <td>8322</td>\n",
       "      <td>9073</td>\n",
       "    </tr>\n",
       "    <tr>\n",
       "      <th>3</th>\n",
       "      <td>Johnson &amp; Johnson</td>\n",
       "      <td>1.947756</td>\n",
       "      <td>214</td>\n",
       "      <td>84.390643</td>\n",
       "      <td>9272</td>\n",
       "      <td>10987</td>\n",
       "    </tr>\n",
       "    <tr>\n",
       "      <th>4</th>\n",
       "      <td>Proctor &amp; Gamble</td>\n",
       "      <td>0.000000</td>\n",
       "      <td>0</td>\n",
       "      <td>96.629213</td>\n",
       "      <td>86</td>\n",
       "      <td>89</td>\n",
       "    </tr>\n",
       "  </tbody>\n",
       "</table>\n",
       "</div>"
      ],
      "text/plain": [
       "               brand  vine_percent  vine_counts  verified_percent  \\\n",
       "0            L'oreal      1.049671          153         86.244512   \n",
       "1               Coty      0.000000            0         86.597156   \n",
       "2             Revlon      0.418825           38         91.722694   \n",
       "3  Johnson & Johnson      1.947756          214         84.390643   \n",
       "4   Proctor & Gamble      0.000000            0         96.629213   \n",
       "\n",
       "   verified_counts  total  \n",
       "0            12571  14576  \n",
       "1             4568   5275  \n",
       "2             8322   9073  \n",
       "3             9272  10987  \n",
       "4               86     89  "
      ]
     },
     "execution_count": 47,
     "metadata": {},
     "output_type": "execute_result"
    }
   ],
   "source": [
    "brand_reviews = [loreal_reviews, coty_reviews, revlon_reviews, jnj_reviews, png_reviews]\n",
    "\n",
    "#calculating the percents and counts of vine reviews for each brand\n",
    "vine_percent = [len(brand[brand['vine']=='Y'])/len(brand)*100 for brand in brand_reviews]\n",
    "vine_counts = [len(brand[brand['vine']=='Y']) for brand in brand_reviews]\n",
    "\n",
    "#calculating the percents and counts of verified purchase reviews for each brand\n",
    "ver_percent = [len(brand[brand['verified_purchase']=='Y'])/len(brand)*100 for brand in brand_reviews]\n",
    "ver_counts = [len(brand[brand['verified_purchase']=='Y']) for brand in brand_reviews]\n",
    "\n",
    "total = [len(brand) for brand in brand_reviews]\n",
    "\n",
    "percentile = pd.DataFrame({\n",
    "    'brand':[\"L'oreal\", 'Coty', 'Revlon', 'Johnson & Johnson', 'Proctor & Gamble'],\n",
    "    'vine_percent':vine_percent,\n",
    "    'vine_counts':vine_counts,\n",
    "    'verified_percent':ver_percent,\n",
    "    'verified_counts':ver_counts,\n",
    "    'total':total\n",
    "})\n",
    "percentile"
   ]
  },
  {
   "cell_type": "markdown",
   "id": "26e15a57",
   "metadata": {},
   "source": [
    "Our biggests concern is working with Proctor & Gamble data, which only has a total of 98 observations. \n",
    "\n",
    "While analyzing vine reviews would have been very interesting, due to its limited observations, we are unable to perform data analysis on all the brands' vine reviews. "
   ]
  },
  {
   "cell_type": "markdown",
   "id": "dd593188",
   "metadata": {},
   "source": [
    "#### Relationship between Helpful Votes and Verified Purchases"
   ]
  },
  {
   "cell_type": "markdown",
   "id": "5ea8f24a",
   "metadata": {},
   "source": [
    "Now we want to see if verified purchase reviews get more helpful votes, as one would initially assume so."
   ]
  },
  {
   "cell_type": "code",
   "execution_count": 48,
   "id": "0c349e29",
   "metadata": {},
   "outputs": [
    {
     "data": {
      "text/plain": [
       "verified_purchase  corporation      \n",
       "N                  Coty                 2.585573\n",
       "                   Johnson & Johnson    1.483382\n",
       "                   L'oreal              1.524688\n",
       "                   Proctor & Gamble     0.666667\n",
       "                   Revlon               2.503329\n",
       "Y                  Coty                 0.653897\n",
       "                   Johnson & Johnson    0.707075\n",
       "                   L'oreal              0.709570\n",
       "                   Proctor & Gamble     0.534884\n",
       "                   Revlon               0.511656\n",
       "Name: helpful_votes, dtype: float64"
      ]
     },
     "execution_count": 48,
     "metadata": {},
     "output_type": "execute_result"
    },
    {
     "data": {
      "image/png": "[encoded data removed]",
      "text/plain": [
       "<Figure size 1008x432 with 2 Axes>"
      ]
     },
     "metadata": {
      "needs_background": "light"
     },
     "output_type": "display_data"
    }
   ],
   "source": [
    "# boxplot\n",
    "ax = beauty_clean.groupby(['verified_purchase']).boxplot(column=['helpful_votes'], \n",
    "                                                    by=['corporation'], \n",
    "                                                    figsize = (14, 6)\n",
    "                                                    )\n",
    "ax[0].set_ylabel(\"Helpful Votes\")\n",
    "ax[0].set_title(\"Non-Verified Purchase\")\n",
    "ax[1].set_title(\"Verified Purchase\")\n",
    "\n",
    "# summary statistics: mean\n",
    "beauty_clean.groupby(['verified_purchase','corporation'])['helpful_votes'].mean()"
   ]
  },
  {
   "cell_type": "markdown",
   "id": "102f9b22",
   "metadata": {},
   "source": [
    "From the boxplots, there is not clear discernible difference in helpful votes between verified and non-verified purchases. From the means however, there is a consistently higher mean in number of helpful votes for non verified purchases. This is a suprising result as we would expect verified purchases to be more reliable. However, this could be because there are a smaller amount of non-verified purchases and the mean is more susceptible to outliers."
   ]
  },
  {
   "cell_type": "markdown",
   "id": "50423f5c",
   "metadata": {},
   "source": [
    "#### Verfied Purchases and Star Ratings"
   ]
  },
  {
   "cell_type": "markdown",
   "id": "c4be1218",
   "metadata": {},
   "source": [
    "The final area we are exploring is to see if verified purchases tend to receive different star ratings than non-verified purchases. We will visualize this through histograms by company."
   ]
  },
  {
   "cell_type": "code",
   "execution_count": 49,
   "id": "1977c2d8",
   "metadata": {},
   "outputs": [
    {
     "data": {
      "image/png": "[encoded data removed]",
      "text/plain": [
       "<Figure size 720x216 with 2 Axes>"
      ]
     },
     "metadata": {
      "needs_background": "light"
     },
     "output_type": "display_data"
    },
    {
     "data": {
      "image/png": "[encoded data removed]",
      "text/plain": [
       "<Figure size 720x216 with 2 Axes>"
      ]
     },
     "metadata": {
      "needs_background": "light"
     },
     "output_type": "display_data"
    },
    {
     "data": {
      "image/png": "[encoded data removed]",
      "text/plain": [
       "<Figure size 720x216 with 2 Axes>"
      ]
     },
     "metadata": {
      "needs_background": "light"
     },
     "output_type": "display_data"
    },
    {
     "data": {
      "image/png": "[encoded data removed]",
      "text/plain": [
       "<Figure size 720x216 with 2 Axes>"
      ]
     },
     "metadata": {
      "needs_background": "light"
     },
     "output_type": "display_data"
    },
    {
     "data": {
      "image/png": "[encoded data removed]",
      "text/plain": [
       "<Figure size 720x216 with 2 Axes>"
      ]
     },
     "metadata": {
      "needs_background": "light"
     },
     "output_type": "display_data"
    },
    {
     "data": {
      "text/plain": [
       "verified_purchase  corporation      \n",
       "N                  Coty                 3.623762\n",
       "                   Johnson & Johnson    3.876968\n",
       "                   L'oreal              3.739152\n",
       "                   Proctor & Gamble     5.000000\n",
       "                   Revlon               3.580559\n",
       "Y                  Coty                 4.117119\n",
       "                   Johnson & Johnson    4.403149\n",
       "                   L'oreal              4.231087\n",
       "                   Proctor & Gamble     4.081395\n",
       "                   Revlon               4.198630\n",
       "Name: star_rating, dtype: float64"
      ]
     },
     "execution_count": 49,
     "metadata": {},
     "output_type": "execute_result"
    }
   ],
   "source": [
    "# histogram of star rating grouped by verified vs non-verified purchases\n",
    "plot = beauty_clean[beauty_clean['corporation']==\"L'oreal\"]['star_rating'].hist(by=beauty_clean['verified_purchase'], \n",
    "                                                                              figsize = (10, 3), \n",
    "                                                                              bins=5)\n",
    "plot[1].set_title(\"L'oreal: Verified Purchase\")\n",
    "plot[1].set_xlabel('Star Rating')\n",
    "plot[0].set_title(\"L'oreal: Non-Verified Purchase\")\n",
    "plot[0].set_xlabel('Star Rating')\n",
    "plt.show()\n",
    "\n",
    "plot = beauty_clean[beauty_clean['corporation']==\"Coty\"]['star_rating'].hist(by=beauty_clean['verified_purchase'], \n",
    "                                                                              figsize = (10, 3), \n",
    "                                                                              bins=5)\n",
    "plot[1].set_title(\"Coty: Verified Purchase\")\n",
    "plot[1].set_xlabel('Star Rating')\n",
    "plot[0].set_title(\"Coty: Non-Verified Purchase\")\n",
    "plot[0].set_xlabel('Star Rating')\n",
    "plt.show()\n",
    "\n",
    "plot = beauty_clean[beauty_clean['corporation']==\"Revlon\"]['star_rating'].hist(by=beauty_clean['verified_purchase'], \n",
    "                                                                              figsize = (10, 3), \n",
    "                                                                              bins=5)\n",
    "plot[1].set_title(\"Revlon: Verified Purchase\")\n",
    "plot[1].set_xlabel('Star Rating')\n",
    "plot[0].set_title(\"Revlon: Non-Verified Purchase\")\n",
    "plot[0].set_xlabel('Star Rating')\n",
    "plt.show()\n",
    "\n",
    "plot = beauty_clean[beauty_clean['corporation']==\"Johnson & Johnson\"]['star_rating'].hist(by=beauty_clean['verified_purchase'], \n",
    "                                                                              figsize = (10, 3), \n",
    "                                                                              bins=5)\n",
    "plot[1].set_title(\"Johnson & Johnson: Verified Purchase\")\n",
    "plot[1].set_xlabel('Star Rating')\n",
    "plot[0].set_title(\"Johnson & Johnson: Non-Verified Purchase\")\n",
    "plot[0].set_xlabel('Star Rating')\n",
    "plt.show()\n",
    "\n",
    "plot = beauty_clean[beauty_clean['corporation']==\"Proctor & Gamble\"]['star_rating'].hist(by=beauty_clean['verified_purchase'], \n",
    "                                                                              figsize = (10, 3), \n",
    "                                                                              bins=5)\n",
    "plot[1].set_title(\"Proctor & Gamble: Verified Purchase\")\n",
    "plot[1].set_xlabel('Star Rating')\n",
    "plot[0].set_title(\"Proctor & Gamble: Non-Verified Purchase\")\n",
    "plot[0].set_xlabel('Star Rating')\n",
    "plt.show()\n",
    "\n",
    "# summary statistics: mean\n",
    "beauty_clean.groupby(['verified_purchase','corporation'])['star_rating'].mean()"
   ]
  },
  {
   "cell_type": "markdown",
   "id": "72eea917",
   "metadata": {},
   "source": [
    "Non-verified purchases tend to have more one star ratings relative to its other ratings. The Proctor and Gamble: Non-verified purchases graph only has one observation and is an anomaly. I am not planning on using this graph/data point.\n",
    "\n",
    "Additionally, comparing the means between verified and non-verified purchases, we can see that verified ourchases have consistently higher star_rating means. "
   ]
  },
  {
   "cell_type": "markdown",
   "id": "4e58e308",
   "metadata": {},
   "source": [
    "## Initial Thoughts From Exploratory Analysis\n",
    "\n",
    "It appears that there is not much difference in review trends between the different companies. Each company has pretty similar star rating distributions, review text length, helpful vote distribution, etc. This might make it very difficult to see if these reviews represent the differences that we see in the 5 major companies' market performance.\n",
    "\n",
    "Another area we might want to explore is the sentiment of reviews by seeing which words are more common than others. Or, we might want to compare Amazon reviews to Walmart review or another company to see if there are noticeable differences.\n",
    "\n",
    "Additionally, since the data seems so concentrated in certain areas, we might want to narrow our scope of data to see clearer trends. Of course this also has implications as we would intentionally exclude potentially important data if we do this."
   ]
  },
  {
   "cell_type": "markdown",
   "id": "fbda57aa",
   "metadata": {},
   "source": [
    "# Question for Reviewers\n",
    "1. Are we able to make predictions from observed trends in the Amazon beauty reviews? If so, what types of predictions will we be able to reliably make?\n",
    "2. Should we attempt to conduct natural language processing/sentiment analysis on the review text? Will that be beyond our capabilities as introductory students.\n",
    "3. Should we expand on into new product categories/corporations to get a more well-rounded overview of consumer review trends?\n",
    "4. Is it concerning that there doesn't seem to be any clear differences in review trends between corporations? Should we and is it possible to pivot our project?"
   ]
  }
 ],
 "metadata": {
  "kernelspec": {
   "display_name": "Python 3",
   "language": "python",
   "name": "python3"
  },
  "language_info": {
   "codemirror_mode": {
    "name": "ipython",
    "version": 3
   },
   "file_extension": ".py",
   "mimetype": "text/x-python",
   "name": "python",
   "nbconvert_exporter": "python",
   "pygments_lexer": "ipython3",
   "version": "3.8.8"
  }
 },
 "nbformat": 4,
 "nbformat_minor": 5
}
