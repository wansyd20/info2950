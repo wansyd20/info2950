{
 "cells": [
  {
   "cell_type": "markdown",
   "id": "78e3ccb5",
   "metadata": {},
   "source": [
    "Michelle Hui (msh334)\n",
    "Sydney Wan ()\n",
    "\n",
    "We are comparing two datasets against each other. One the Amazon Reviews dataset. Two, a dataset with market data on large beauty corporations. We performed collection and clean, data description, and exploratory data analysis on both datasets. We have tried our best to label and specify which datasets we are working on."
   ]
  },
  {
   "cell_type": "markdown",
   "id": "2b29dce2",
   "metadata": {},
   "source": [
    "# Research Question\n",
    "1. Are Amazon Beauty product reviews an accurate representation of how well a brand is doing in the greater market? Are we able to determine general consumer sentiment about a brand based on just Amazon reviews?"
   ]
  },
  {
   "cell_type": "code",
   "execution_count": 74,
   "id": "1238ec41",
   "metadata": {},
   "outputs": [],
   "source": [
    "import pandas as pd\n",
    "import matplotlib.pyplot as plt\n",
    "import numpy as np"
   ]
  },
  {
   "cell_type": "markdown",
   "id": "eb290e2b",
   "metadata": {},
   "source": [
    "# Data Collection and Cleaning\n",
    "## Beauty Market"
   ]
  },
  {
   "cell_type": "markdown",
   "id": "fa8f977a",
   "metadata": {},
   "source": [
    "Reading in the raw csv file"
   ]
  },
  {
   "cell_type": "code",
   "execution_count": 78,
   "id": "b39a201f",
   "metadata": {},
   "outputs": [],
   "source": [
    "market_data_raw = pd.read_csv('beauty_market_sales.csv')"
   ]
  },
  {
   "cell_type": "code",
   "execution_count": 79,
   "id": "e25141f7",
   "metadata": {},
   "outputs": [
    {
     "data": {
      "text/html": [
       "<div>\n",
       "<style scoped>\n",
       "    .dataframe tbody tr th:only-of-type {\n",
       "        vertical-align: middle;\n",
       "    }\n",
       "\n",
       "    .dataframe tbody tr th {\n",
       "        vertical-align: top;\n",
       "    }\n",
       "\n",
       "    .dataframe thead th {\n",
       "        text-align: right;\n",
       "    }\n",
       "</style>\n",
       "<table border=\"1\" class=\"dataframe\">\n",
       "  <thead>\n",
       "    <tr style=\"text-align: right;\">\n",
       "      <th></th>\n",
       "      <th>Unnamed: 0</th>\n",
       "      <th>2014_sales_millions</th>\n",
       "      <th>2014_market_share_percent</th>\n",
       "      <th>2015_sales_millions</th>\n",
       "      <th>2015_market_share_percent</th>\n",
       "      <th>sale_change_percent</th>\n",
       "      <th>share_change_percent</th>\n",
       "    </tr>\n",
       "  </thead>\n",
       "  <tbody>\n",
       "    <tr>\n",
       "      <th>0</th>\n",
       "      <td>L'Oréal USA</td>\n",
       "      <td>1,797.9</td>\n",
       "      <td>39.1</td>\n",
       "      <td>1,815.0</td>\n",
       "      <td>38.6</td>\n",
       "      <td>1.0</td>\n",
       "      <td>-0.5</td>\n",
       "    </tr>\n",
       "    <tr>\n",
       "      <th>1</th>\n",
       "      <td>Procter &amp; Gamble</td>\n",
       "      <td>954.7</td>\n",
       "      <td>20.8</td>\n",
       "      <td>946.1</td>\n",
       "      <td>20.1</td>\n",
       "      <td>-0.9</td>\n",
       "      <td>-0.7</td>\n",
       "    </tr>\n",
       "    <tr>\n",
       "      <th>2</th>\n",
       "      <td>Revlon Inc.</td>\n",
       "      <td>670.5</td>\n",
       "      <td>14.6</td>\n",
       "      <td>661.6</td>\n",
       "      <td>14.1</td>\n",
       "      <td>-1.3</td>\n",
       "      <td>-0.5</td>\n",
       "    </tr>\n",
       "    <tr>\n",
       "      <th>3</th>\n",
       "      <td>Coty Beauty</td>\n",
       "      <td>262.3</td>\n",
       "      <td>5.7</td>\n",
       "      <td>263.8</td>\n",
       "      <td>5.6</td>\n",
       "      <td>0.5</td>\n",
       "      <td>-0.1</td>\n",
       "    </tr>\n",
       "    <tr>\n",
       "      <th>4</th>\n",
       "      <td>Johnson &amp; Johnson</td>\n",
       "      <td>171.9</td>\n",
       "      <td>3.7</td>\n",
       "      <td>176.0</td>\n",
       "      <td>3.7</td>\n",
       "      <td>2.4</td>\n",
       "      <td>-</td>\n",
       "    </tr>\n",
       "    <tr>\n",
       "      <th>5</th>\n",
       "      <td>Subtotal</td>\n",
       "      <td>3,857.4</td>\n",
       "      <td>84.0</td>\n",
       "      <td>3,862.5</td>\n",
       "      <td>82.2</td>\n",
       "      <td>0.1</td>\n",
       "      <td>-1.8</td>\n",
       "    </tr>\n",
       "    <tr>\n",
       "      <th>6</th>\n",
       "      <td>Private label</td>\n",
       "      <td>49.5</td>\n",
       "      <td>1.1</td>\n",
       "      <td>56.2</td>\n",
       "      <td>1.2</td>\n",
       "      <td>13.6</td>\n",
       "      <td>0.1</td>\n",
       "    </tr>\n",
       "    <tr>\n",
       "      <th>7</th>\n",
       "      <td>Others</td>\n",
       "      <td>686.2</td>\n",
       "      <td>14.9</td>\n",
       "      <td>780.4</td>\n",
       "      <td>16.6</td>\n",
       "      <td>13.7</td>\n",
       "      <td>1.7</td>\n",
       "    </tr>\n",
       "  </tbody>\n",
       "</table>\n",
       "</div>"
      ],
      "text/plain": [
       "          Unnamed: 0 2014_sales_millions  2014_market_share_percent  \\\n",
       "0        L'Oréal USA             1,797.9                       39.1   \n",
       "1   Procter & Gamble               954.7                       20.8   \n",
       "2        Revlon Inc.               670.5                       14.6   \n",
       "3        Coty Beauty               262.3                        5.7   \n",
       "4  Johnson & Johnson               171.9                        3.7   \n",
       "5           Subtotal             3,857.4                       84.0   \n",
       "6      Private label                49.5                        1.1   \n",
       "7             Others               686.2                       14.9   \n",
       "\n",
       "  2015_sales_millions  2015_market_share_percent  sale_change_percent  \\\n",
       "0             1,815.0                       38.6                  1.0   \n",
       "1               946.1                       20.1                 -0.9   \n",
       "2               661.6                       14.1                 -1.3   \n",
       "3               263.8                        5.6                  0.5   \n",
       "4               176.0                        3.7                  2.4   \n",
       "5             3,862.5                       82.2                  0.1   \n",
       "6                56.2                        1.2                 13.6   \n",
       "7               780.4                       16.6                 13.7   \n",
       "\n",
       "  share_change_percent  \n",
       "0                 -0.5  \n",
       "1                 -0.7  \n",
       "2                 -0.5  \n",
       "3                 -0.1  \n",
       "4                    -  \n",
       "5                 -1.8  \n",
       "6                  0.1  \n",
       "7                  1.7  "
      ]
     },
     "execution_count": 79,
     "metadata": {},
     "output_type": "execute_result"
    }
   ],
   "source": [
    "market_data_raw"
   ]
  },
  {
   "cell_type": "markdown",
   "id": "1e605bd9",
   "metadata": {},
   "source": [
    "Renaming the weird column title to company"
   ]
  },
  {
   "cell_type": "code",
   "execution_count": 81,
   "id": "6701022f",
   "metadata": {},
   "outputs": [],
   "source": [
    "market_data = market_data_raw.rename(columns = {'Unnamed: 0' : \"Company\"})"
   ]
  },
  {
   "cell_type": "markdown",
   "id": "e5e67ad2",
   "metadata": {},
   "source": [
    "Here we only are looking at the top 4 companies with clear company names, so we discard the 'Private label', 'Others', and 'Subtotal' rows"
   ]
  },
  {
   "cell_type": "code",
   "execution_count": 82,
   "id": "653f38fa",
   "metadata": {},
   "outputs": [
    {
     "data": {
      "text/html": [
       "<div>\n",
       "<style scoped>\n",
       "    .dataframe tbody tr th:only-of-type {\n",
       "        vertical-align: middle;\n",
       "    }\n",
       "\n",
       "    .dataframe tbody tr th {\n",
       "        vertical-align: top;\n",
       "    }\n",
       "\n",
       "    .dataframe thead th {\n",
       "        text-align: right;\n",
       "    }\n",
       "</style>\n",
       "<table border=\"1\" class=\"dataframe\">\n",
       "  <thead>\n",
       "    <tr style=\"text-align: right;\">\n",
       "      <th></th>\n",
       "      <th>Company</th>\n",
       "      <th>2014_sales_millions</th>\n",
       "      <th>2014_market_share_percent</th>\n",
       "      <th>2015_sales_millions</th>\n",
       "      <th>2015_market_share_percent</th>\n",
       "      <th>sale_change_percent</th>\n",
       "      <th>share_change_percent</th>\n",
       "    </tr>\n",
       "  </thead>\n",
       "  <tbody>\n",
       "    <tr>\n",
       "      <th>0</th>\n",
       "      <td>L'Oréal USA</td>\n",
       "      <td>1,797.9</td>\n",
       "      <td>39.1</td>\n",
       "      <td>1,815.0</td>\n",
       "      <td>38.6</td>\n",
       "      <td>1.0</td>\n",
       "      <td>-0.5</td>\n",
       "    </tr>\n",
       "    <tr>\n",
       "      <th>1</th>\n",
       "      <td>Procter &amp; Gamble</td>\n",
       "      <td>954.7</td>\n",
       "      <td>20.8</td>\n",
       "      <td>946.1</td>\n",
       "      <td>20.1</td>\n",
       "      <td>-0.9</td>\n",
       "      <td>-0.7</td>\n",
       "    </tr>\n",
       "    <tr>\n",
       "      <th>2</th>\n",
       "      <td>Revlon Inc.</td>\n",
       "      <td>670.5</td>\n",
       "      <td>14.6</td>\n",
       "      <td>661.6</td>\n",
       "      <td>14.1</td>\n",
       "      <td>-1.3</td>\n",
       "      <td>-0.5</td>\n",
       "    </tr>\n",
       "    <tr>\n",
       "      <th>3</th>\n",
       "      <td>Coty Beauty</td>\n",
       "      <td>262.3</td>\n",
       "      <td>5.7</td>\n",
       "      <td>263.8</td>\n",
       "      <td>5.6</td>\n",
       "      <td>0.5</td>\n",
       "      <td>-0.1</td>\n",
       "    </tr>\n",
       "    <tr>\n",
       "      <th>4</th>\n",
       "      <td>Johnson &amp; Johnson</td>\n",
       "      <td>171.9</td>\n",
       "      <td>3.7</td>\n",
       "      <td>176.0</td>\n",
       "      <td>3.7</td>\n",
       "      <td>2.4</td>\n",
       "      <td>-</td>\n",
       "    </tr>\n",
       "  </tbody>\n",
       "</table>\n",
       "</div>"
      ],
      "text/plain": [
       "             Company 2014_sales_millions  2014_market_share_percent  \\\n",
       "0        L'Oréal USA             1,797.9                       39.1   \n",
       "1   Procter & Gamble               954.7                       20.8   \n",
       "2        Revlon Inc.               670.5                       14.6   \n",
       "3        Coty Beauty               262.3                        5.7   \n",
       "4  Johnson & Johnson               171.9                        3.7   \n",
       "\n",
       "  2015_sales_millions  2015_market_share_percent  sale_change_percent  \\\n",
       "0             1,815.0                       38.6                  1.0   \n",
       "1               946.1                       20.1                 -0.9   \n",
       "2               661.6                       14.1                 -1.3   \n",
       "3               263.8                        5.6                  0.5   \n",
       "4               176.0                        3.7                  2.4   \n",
       "\n",
       "  share_change_percent  \n",
       "0                 -0.5  \n",
       "1                 -0.7  \n",
       "2                 -0.5  \n",
       "3                 -0.1  \n",
       "4                    -  "
      ]
     },
     "execution_count": 82,
     "metadata": {},
     "output_type": "execute_result"
    }
   ],
   "source": [
    "market_data = market_data.loc[0:4, :]\n",
    "market_data"
   ]
  },
  {
   "cell_type": "markdown",
   "id": "56bdefb6",
   "metadata": {},
   "source": [
    "Upon inspection, we see that the 2014 and 2015 sales in millions, as well as the share change percent columns are strings, not numerical data types. We hard code these columns and change them to floats so that we can perform statistical analysis on them"
   ]
  },
  {
   "cell_type": "code",
   "execution_count": 83,
   "id": "4b349ccd",
   "metadata": {},
   "outputs": [
    {
     "data": {
      "text/plain": [
       "Company                       object\n",
       "2014_sales_millions           object\n",
       "2014_market_share_percent    float64\n",
       "2015_sales_millions           object\n",
       "2015_market_share_percent    float64\n",
       "sale_change_percent          float64\n",
       "share_change_percent          object\n",
       "dtype: object"
      ]
     },
     "execution_count": 83,
     "metadata": {},
     "output_type": "execute_result"
    }
   ],
   "source": [
    "market_data.dtypes"
   ]
  },
  {
   "cell_type": "code",
   "execution_count": 84,
   "id": "d53b389a",
   "metadata": {},
   "outputs": [],
   "source": [
    "market_data.loc[:, '2014_sales_millions'] = [1797.9, 954.7, 670.5, 262.3, 171.9]\n",
    "market_data.loc[:, '2015_sales_millions'] = [1815.0, 946.1, 661.6, 263.8, 176]\n",
    "market_data.loc[:, 'share_change_percent'] = [-0.5, -0.7, -0.5, -0.1, 0]"
   ]
  },
  {
   "cell_type": "code",
   "execution_count": 85,
   "id": "15497901",
   "metadata": {},
   "outputs": [
    {
     "data": {
      "text/plain": [
       "Company                       object\n",
       "2014_sales_millions          float64\n",
       "2014_market_share_percent    float64\n",
       "2015_sales_millions          float64\n",
       "2015_market_share_percent    float64\n",
       "sale_change_percent          float64\n",
       "share_change_percent         float64\n",
       "dtype: object"
      ]
     },
     "execution_count": 85,
     "metadata": {},
     "output_type": "execute_result"
    }
   ],
   "source": [
    "market_data.dtypes"
   ]
  },
  {
   "cell_type": "code",
   "execution_count": 86,
   "id": "9a5a4a55",
   "metadata": {},
   "outputs": [
    {
     "data": {
      "text/html": [
       "<div>\n",
       "<style scoped>\n",
       "    .dataframe tbody tr th:only-of-type {\n",
       "        vertical-align: middle;\n",
       "    }\n",
       "\n",
       "    .dataframe tbody tr th {\n",
       "        vertical-align: top;\n",
       "    }\n",
       "\n",
       "    .dataframe thead th {\n",
       "        text-align: right;\n",
       "    }\n",
       "</style>\n",
       "<table border=\"1\" class=\"dataframe\">\n",
       "  <thead>\n",
       "    <tr style=\"text-align: right;\">\n",
       "      <th></th>\n",
       "      <th>Company</th>\n",
       "      <th>2014_sales_millions</th>\n",
       "      <th>2014_market_share_percent</th>\n",
       "      <th>2015_sales_millions</th>\n",
       "      <th>2015_market_share_percent</th>\n",
       "      <th>sale_change_percent</th>\n",
       "      <th>share_change_percent</th>\n",
       "    </tr>\n",
       "  </thead>\n",
       "  <tbody>\n",
       "    <tr>\n",
       "      <th>0</th>\n",
       "      <td>L'Oréal USA</td>\n",
       "      <td>1797.9</td>\n",
       "      <td>39.1</td>\n",
       "      <td>1815.0</td>\n",
       "      <td>38.6</td>\n",
       "      <td>1.0</td>\n",
       "      <td>-0.5</td>\n",
       "    </tr>\n",
       "    <tr>\n",
       "      <th>1</th>\n",
       "      <td>Procter &amp; Gamble</td>\n",
       "      <td>954.7</td>\n",
       "      <td>20.8</td>\n",
       "      <td>946.1</td>\n",
       "      <td>20.1</td>\n",
       "      <td>-0.9</td>\n",
       "      <td>-0.7</td>\n",
       "    </tr>\n",
       "    <tr>\n",
       "      <th>2</th>\n",
       "      <td>Revlon Inc.</td>\n",
       "      <td>670.5</td>\n",
       "      <td>14.6</td>\n",
       "      <td>661.6</td>\n",
       "      <td>14.1</td>\n",
       "      <td>-1.3</td>\n",
       "      <td>-0.5</td>\n",
       "    </tr>\n",
       "    <tr>\n",
       "      <th>3</th>\n",
       "      <td>Coty Beauty</td>\n",
       "      <td>262.3</td>\n",
       "      <td>5.7</td>\n",
       "      <td>263.8</td>\n",
       "      <td>5.6</td>\n",
       "      <td>0.5</td>\n",
       "      <td>-0.1</td>\n",
       "    </tr>\n",
       "    <tr>\n",
       "      <th>4</th>\n",
       "      <td>Johnson &amp; Johnson</td>\n",
       "      <td>171.9</td>\n",
       "      <td>3.7</td>\n",
       "      <td>176.0</td>\n",
       "      <td>3.7</td>\n",
       "      <td>2.4</td>\n",
       "      <td>0.0</td>\n",
       "    </tr>\n",
       "  </tbody>\n",
       "</table>\n",
       "</div>"
      ],
      "text/plain": [
       "             Company  2014_sales_millions  2014_market_share_percent  \\\n",
       "0        L'Oréal USA               1797.9                       39.1   \n",
       "1   Procter & Gamble                954.7                       20.8   \n",
       "2        Revlon Inc.                670.5                       14.6   \n",
       "3        Coty Beauty                262.3                        5.7   \n",
       "4  Johnson & Johnson                171.9                        3.7   \n",
       "\n",
       "   2015_sales_millions  2015_market_share_percent  sale_change_percent  \\\n",
       "0               1815.0                       38.6                  1.0   \n",
       "1                946.1                       20.1                 -0.9   \n",
       "2                661.6                       14.1                 -1.3   \n",
       "3                263.8                        5.6                  0.5   \n",
       "4                176.0                        3.7                  2.4   \n",
       "\n",
       "   share_change_percent  \n",
       "0                  -0.5  \n",
       "1                  -0.7  \n",
       "2                  -0.5  \n",
       "3                  -0.1  \n",
       "4                   0.0  "
      ]
     },
     "execution_count": 86,
     "metadata": {},
     "output_type": "execute_result"
    }
   ],
   "source": [
    "market_data"
   ]
  },
  {
   "cell_type": "markdown",
   "id": "30b3b380",
   "metadata": {},
   "source": [
    "Our last step in cleaning this data is to save the newly cleaned data to a new csv file, which we then read in again so that we don't have to rerun the previous code next time we want to use this data."
   ]
  },
  {
   "cell_type": "code",
   "execution_count": 87,
   "id": "c96e1333",
   "metadata": {},
   "outputs": [],
   "source": [
    "market_data.to_csv('beauty_market_data.csv', index = False)"
   ]
  },
  {
   "cell_type": "code",
   "execution_count": 88,
   "id": "a3df6500",
   "metadata": {},
   "outputs": [],
   "source": [
    "market_sales = pd.read_csv('beauty_market_data.csv')"
   ]
  },
  {
   "cell_type": "code",
   "execution_count": 89,
   "id": "8e604d04",
   "metadata": {},
   "outputs": [
    {
     "data": {
      "text/html": [
       "<div>\n",
       "<style scoped>\n",
       "    .dataframe tbody tr th:only-of-type {\n",
       "        vertical-align: middle;\n",
       "    }\n",
       "\n",
       "    .dataframe tbody tr th {\n",
       "        vertical-align: top;\n",
       "    }\n",
       "\n",
       "    .dataframe thead th {\n",
       "        text-align: right;\n",
       "    }\n",
       "</style>\n",
       "<table border=\"1\" class=\"dataframe\">\n",
       "  <thead>\n",
       "    <tr style=\"text-align: right;\">\n",
       "      <th></th>\n",
       "      <th>Company</th>\n",
       "      <th>2014_sales_millions</th>\n",
       "      <th>2014_market_share_percent</th>\n",
       "      <th>2015_sales_millions</th>\n",
       "      <th>2015_market_share_percent</th>\n",
       "      <th>sale_change_percent</th>\n",
       "      <th>share_change_percent</th>\n",
       "    </tr>\n",
       "  </thead>\n",
       "  <tbody>\n",
       "    <tr>\n",
       "      <th>0</th>\n",
       "      <td>L'Oréal USA</td>\n",
       "      <td>1797.9</td>\n",
       "      <td>39.1</td>\n",
       "      <td>1815.0</td>\n",
       "      <td>38.6</td>\n",
       "      <td>1.0</td>\n",
       "      <td>-0.5</td>\n",
       "    </tr>\n",
       "    <tr>\n",
       "      <th>1</th>\n",
       "      <td>Procter &amp; Gamble</td>\n",
       "      <td>954.7</td>\n",
       "      <td>20.8</td>\n",
       "      <td>946.1</td>\n",
       "      <td>20.1</td>\n",
       "      <td>-0.9</td>\n",
       "      <td>-0.7</td>\n",
       "    </tr>\n",
       "    <tr>\n",
       "      <th>2</th>\n",
       "      <td>Revlon Inc.</td>\n",
       "      <td>670.5</td>\n",
       "      <td>14.6</td>\n",
       "      <td>661.6</td>\n",
       "      <td>14.1</td>\n",
       "      <td>-1.3</td>\n",
       "      <td>-0.5</td>\n",
       "    </tr>\n",
       "    <tr>\n",
       "      <th>3</th>\n",
       "      <td>Coty Beauty</td>\n",
       "      <td>262.3</td>\n",
       "      <td>5.7</td>\n",
       "      <td>263.8</td>\n",
       "      <td>5.6</td>\n",
       "      <td>0.5</td>\n",
       "      <td>-0.1</td>\n",
       "    </tr>\n",
       "    <tr>\n",
       "      <th>4</th>\n",
       "      <td>Johnson &amp; Johnson</td>\n",
       "      <td>171.9</td>\n",
       "      <td>3.7</td>\n",
       "      <td>176.0</td>\n",
       "      <td>3.7</td>\n",
       "      <td>2.4</td>\n",
       "      <td>0.0</td>\n",
       "    </tr>\n",
       "  </tbody>\n",
       "</table>\n",
       "</div>"
      ],
      "text/plain": [
       "             Company  2014_sales_millions  2014_market_share_percent  \\\n",
       "0        L'Oréal USA               1797.9                       39.1   \n",
       "1   Procter & Gamble                954.7                       20.8   \n",
       "2        Revlon Inc.                670.5                       14.6   \n",
       "3        Coty Beauty                262.3                        5.7   \n",
       "4  Johnson & Johnson                171.9                        3.7   \n",
       "\n",
       "   2015_sales_millions  2015_market_share_percent  sale_change_percent  \\\n",
       "0               1815.0                       38.6                  1.0   \n",
       "1                946.1                       20.1                 -0.9   \n",
       "2                661.6                       14.1                 -1.3   \n",
       "3                263.8                        5.6                  0.5   \n",
       "4                176.0                        3.7                  2.4   \n",
       "\n",
       "   share_change_percent  \n",
       "0                  -0.5  \n",
       "1                  -0.7  \n",
       "2                  -0.5  \n",
       "3                  -0.1  \n",
       "4                   0.0  "
      ]
     },
     "execution_count": 89,
     "metadata": {},
     "output_type": "execute_result"
    }
   ],
   "source": [
    "market_sales"
   ]
  },
  {
   "cell_type": "markdown",
   "id": "4313344a",
   "metadata": {},
   "source": [
    "# Data Collection and Cleaning\n",
    "## Amazon Reviews"
   ]
  },
  {
   "cell_type": "code",
   "execution_count": 2,
   "id": "9a3955fe",
   "metadata": {
    "scrolled": true
   },
   "outputs": [
    {
     "name": "stderr",
     "output_type": "stream",
     "text": [
      "b'Skipping line 10093: expected 15 fields, saw 22\\nSkipping line 31965: expected 15 fields, saw 22\\nSkipping line 49886: expected 15 fields, saw 22\\nSkipping line 49905: expected 15 fields, saw 22\\n'\n",
      "b'Skipping line 67579: expected 15 fields, saw 22\\nSkipping line 75367: expected 15 fields, saw 22\\nSkipping line 92462: expected 15 fields, saw 22\\nSkipping line 105041: expected 15 fields, saw 22\\nSkipping line 109697: expected 15 fields, saw 22\\nSkipping line 121931: expected 15 fields, saw 22\\n'\n",
      "b'Skipping line 139492: expected 15 fields, saw 22\\nSkipping line 158729: expected 15 fields, saw 22\\nSkipping line 165784: expected 15 fields, saw 22\\nSkipping line 176996: expected 15 fields, saw 22\\nSkipping line 182928: expected 15 fields, saw 22\\nSkipping line 195841: expected 15 fields, saw 22\\n'\n",
      "b'Skipping line 196938: expected 15 fields, saw 22\\nSkipping line 202535: expected 15 fields, saw 22\\nSkipping line 261147: expected 15 fields, saw 22\\n'\n",
      "b'Skipping line 265777: expected 15 fields, saw 22\\nSkipping line 277693: expected 15 fields, saw 22\\nSkipping line 280010: expected 15 fields, saw 22\\nSkipping line 296315: expected 15 fields, saw 22\\nSkipping line 299043: expected 15 fields, saw 22\\n'\n",
      "b'Skipping line 334564: expected 15 fields, saw 22\\nSkipping line 337801: expected 15 fields, saw 22\\nSkipping line 341391: expected 15 fields, saw 22\\nSkipping line 354940: expected 15 fields, saw 22\\nSkipping line 366330: expected 15 fields, saw 22\\nSkipping line 367649: expected 15 fields, saw 22\\n'\n",
      "b'Skipping line 399174: expected 15 fields, saw 22\\nSkipping line 414439: expected 15 fields, saw 22\\n'\n",
      "b'Skipping line 473579: expected 15 fields, saw 22\\nSkipping line 483540: expected 15 fields, saw 22\\nSkipping line 499744: expected 15 fields, saw 22\\nSkipping line 505775: expected 15 fields, saw 22\\n'\n",
      "b'Skipping line 547693: expected 15 fields, saw 22\\nSkipping line 561254: expected 15 fields, saw 22\\n'\n",
      "b'Skipping line 609329: expected 15 fields, saw 22\\nSkipping line 642814: expected 15 fields, saw 22\\nSkipping line 643189: expected 15 fields, saw 22\\nSkipping line 647075: expected 15 fields, saw 22\\nSkipping line 647457: expected 15 fields, saw 22\\n'\n",
      "b'Skipping line 660868: expected 15 fields, saw 22\\nSkipping line 668514: expected 15 fields, saw 22\\nSkipping line 673314: expected 15 fields, saw 22\\nSkipping line 700416: expected 15 fields, saw 22\\n'\n",
      "b'Skipping line 723492: expected 15 fields, saw 22\\nSkipping line 725052: expected 15 fields, saw 22\\nSkipping line 726222: expected 15 fields, saw 22\\nSkipping line 744078: expected 15 fields, saw 22\\nSkipping line 753129: expected 15 fields, saw 22\\nSkipping line 758347: expected 15 fields, saw 22\\nSkipping line 759076: expected 15 fields, saw 22\\nSkipping line 759139: expected 15 fields, saw 22\\nSkipping line 768106: expected 15 fields, saw 22\\nSkipping line 777835: expected 15 fields, saw 22\\nSkipping line 779763: expected 15 fields, saw 22\\nSkipping line 781395: expected 15 fields, saw 22\\n'\n",
      "b'Skipping line 787023: expected 15 fields, saw 22\\nSkipping line 811679: expected 15 fields, saw 22\\nSkipping line 811739: expected 15 fields, saw 22\\n'\n",
      "b'Skipping line 855784: expected 15 fields, saw 22\\nSkipping line 878325: expected 15 fields, saw 22\\nSkipping line 886822: expected 15 fields, saw 22\\nSkipping line 890742: expected 15 fields, saw 22\\n'\n",
      "b'Skipping line 919607: expected 15 fields, saw 22\\nSkipping line 920655: expected 15 fields, saw 22\\nSkipping line 923107: expected 15 fields, saw 22\\nSkipping line 930890: expected 15 fields, saw 22\\nSkipping line 932841: expected 15 fields, saw 22\\n'\n",
      "b'Skipping line 1003214: expected 15 fields, saw 22\\nSkipping line 1007588: expected 15 fields, saw 22\\nSkipping line 1018374: expected 15 fields, saw 22\\nSkipping line 1022909: expected 15 fields, saw 22\\nSkipping line 1030983: expected 15 fields, saw 22\\nSkipping line 1048441: expected 15 fields, saw 22\\n'\n",
      "b'Skipping line 1056292: expected 15 fields, saw 22\\nSkipping line 1056518: expected 15 fields, saw 22\\nSkipping line 1073064: expected 15 fields, saw 22\\nSkipping line 1088887: expected 15 fields, saw 22\\nSkipping line 1103881: expected 15 fields, saw 22\\nSkipping line 1111021: expected 15 fields, saw 22\\nSkipping line 1111314: expected 15 fields, saw 22\\n'\n",
      "b'Skipping line 1119421: expected 15 fields, saw 22\\nSkipping line 1119549: expected 15 fields, saw 22\\nSkipping line 1130122: expected 15 fields, saw 22\\nSkipping line 1132767: expected 15 fields, saw 22\\nSkipping line 1143315: expected 15 fields, saw 22\\nSkipping line 1151947: expected 15 fields, saw 22\\nSkipping line 1154207: expected 15 fields, saw 22\\nSkipping line 1154616: expected 15 fields, saw 22\\nSkipping line 1155875: expected 15 fields, saw 22\\nSkipping line 1164714: expected 15 fields, saw 22\\nSkipping line 1164959: expected 15 fields, saw 22\\nSkipping line 1169410: expected 15 fields, saw 22\\n'\n",
      "b'Skipping line 1184604: expected 15 fields, saw 22\\nSkipping line 1203964: expected 15 fields, saw 22\\nSkipping line 1211287: expected 15 fields, saw 22\\nSkipping line 1217834: expected 15 fields, saw 22\\nSkipping line 1235346: expected 15 fields, saw 22\\nSkipping line 1238073: expected 15 fields, saw 22\\nSkipping line 1238439: expected 15 fields, saw 22\\n'\n",
      "b'Skipping line 1246837: expected 15 fields, saw 22\\nSkipping line 1263235: expected 15 fields, saw 22\\nSkipping line 1265620: expected 15 fields, saw 22\\n'\n",
      "b'Skipping line 1312400: expected 15 fields, saw 22\\nSkipping line 1314122: expected 15 fields, saw 22\\nSkipping line 1319707: expected 15 fields, saw 22\\nSkipping line 1337672: expected 15 fields, saw 22\\nSkipping line 1343961: expected 15 fields, saw 22\\nSkipping line 1346372: expected 15 fields, saw 22\\nSkipping line 1358447: expected 15 fields, saw 22\\nSkipping line 1370844: expected 15 fields, saw 22\\n'\n",
      "b'Skipping line 1406108: expected 15 fields, saw 22\\nSkipping line 1435069: expected 15 fields, saw 22\\nSkipping line 1439866: expected 15 fields, saw 22\\n'\n",
      "b'Skipping line 1442123: expected 15 fields, saw 22\\nSkipping line 1463237: expected 15 fields, saw 22\\nSkipping line 1469027: expected 15 fields, saw 22\\nSkipping line 1469598: expected 15 fields, saw 22\\nSkipping line 1482636: expected 15 fields, saw 22\\nSkipping line 1484745: expected 15 fields, saw 22\\nSkipping line 1499831: expected 15 fields, saw 22\\n'\n",
      "b'Skipping line 1508882: expected 15 fields, saw 22\\nSkipping line 1514887: expected 15 fields, saw 22\\nSkipping line 1527564: expected 15 fields, saw 22\\nSkipping line 1569519: expected 15 fields, saw 22\\n'\n",
      "b'Skipping line 1583105: expected 15 fields, saw 22\\nSkipping line 1604380: expected 15 fields, saw 22\\nSkipping line 1607380: expected 15 fields, saw 22\\nSkipping line 1631601: expected 15 fields, saw 22\\n'\n",
      "b'Skipping line 1642095: expected 15 fields, saw 22\\nSkipping line 1646714: expected 15 fields, saw 22\\nSkipping line 1655248: expected 15 fields, saw 22\\nSkipping line 1657807: expected 15 fields, saw 22\\nSkipping line 1667534: expected 15 fields, saw 22\\nSkipping line 1668489: expected 15 fields, saw 22\\nSkipping line 1691733: expected 15 fields, saw 22\\nSkipping line 1701102: expected 15 fields, saw 22\\nSkipping line 1701499: expected 15 fields, saw 22\\n'\n",
      "b'Skipping line 1704450: expected 15 fields, saw 22\\nSkipping line 1706154: expected 15 fields, saw 22\\nSkipping line 1712789: expected 15 fields, saw 22\\n'\n",
      "b'Skipping line 1773984: expected 15 fields, saw 22\\n'\n",
      "b'Skipping line 1846441: expected 15 fields, saw 22\\nSkipping line 1848019: expected 15 fields, saw 22\\nSkipping line 1856015: expected 15 fields, saw 22\\nSkipping line 1858248: expected 15 fields, saw 22\\nSkipping line 1859629: expected 15 fields, saw 22\\nSkipping line 1873117: expected 15 fields, saw 22\\nSkipping line 1894414: expected 15 fields, saw 22\\n'\n",
      "b'Skipping line 1902421: expected 15 fields, saw 22\\nSkipping line 1909201: expected 15 fields, saw 22\\nSkipping line 1914394: expected 15 fields, saw 22\\nSkipping line 1936976: expected 15 fields, saw 22\\nSkipping line 1940327: expected 15 fields, saw 22\\nSkipping line 1945664: expected 15 fields, saw 22\\nSkipping line 1946171: expected 15 fields, saw 22\\nSkipping line 1946284: expected 15 fields, saw 22\\nSkipping line 1946835: expected 15 fields, saw 22\\nSkipping line 1952446: expected 15 fields, saw 22\\nSkipping line 1953387: expected 15 fields, saw 22\\n'\n"
     ]
    },
    {
     "name": "stderr",
     "output_type": "stream",
     "text": [
      "b'Skipping line 1979093: expected 15 fields, saw 22\\nSkipping line 1982997: expected 15 fields, saw 22\\nSkipping line 1992924: expected 15 fields, saw 22\\nSkipping line 1996161: expected 15 fields, saw 22\\nSkipping line 2003175: expected 15 fields, saw 22\\nSkipping line 2024153: expected 15 fields, saw 22\\nSkipping line 2026345: expected 15 fields, saw 22\\n'\n",
      "b'Skipping line 2041159: expected 15 fields, saw 22\\nSkipping line 2042954: expected 15 fields, saw 22\\nSkipping line 2044244: expected 15 fields, saw 22\\nSkipping line 2047949: expected 15 fields, saw 22\\nSkipping line 2051022: expected 15 fields, saw 22\\nSkipping line 2052365: expected 15 fields, saw 22\\nSkipping line 2064460: expected 15 fields, saw 22\\nSkipping line 2077010: expected 15 fields, saw 22\\nSkipping line 2083893: expected 15 fields, saw 22\\n'\n",
      "b'Skipping line 2097514: expected 15 fields, saw 22\\nSkipping line 2100479: expected 15 fields, saw 22\\nSkipping line 2103183: expected 15 fields, saw 22\\nSkipping line 2108608: expected 15 fields, saw 22\\nSkipping line 2116577: expected 15 fields, saw 22\\nSkipping line 2127375: expected 15 fields, saw 22\\nSkipping line 2128053: expected 15 fields, saw 22\\nSkipping line 2135954: expected 15 fields, saw 22\\nSkipping line 2137154: expected 15 fields, saw 22\\nSkipping line 2140279: expected 15 fields, saw 22\\nSkipping line 2150764: expected 15 fields, saw 22\\nSkipping line 2151464: expected 15 fields, saw 22\\nSkipping line 2151588: expected 15 fields, saw 22\\nSkipping line 2157049: expected 15 fields, saw 22\\n'\n",
      "b'Skipping line 2163762: expected 15 fields, saw 22\\nSkipping line 2167939: expected 15 fields, saw 22\\nSkipping line 2172050: expected 15 fields, saw 22\\nSkipping line 2177960: expected 15 fields, saw 22\\nSkipping line 2202813: expected 15 fields, saw 22\\nSkipping line 2207828: expected 15 fields, saw 22\\nSkipping line 2211189: expected 15 fields, saw 22\\nSkipping line 2211589: expected 15 fields, saw 22\\nSkipping line 2214034: expected 15 fields, saw 22\\nSkipping line 2214264: expected 15 fields, saw 22\\nSkipping line 2214462: expected 15 fields, saw 22\\nSkipping line 2215027: expected 15 fields, saw 22\\nSkipping line 2215639: expected 15 fields, saw 22\\nSkipping line 2216007: expected 15 fields, saw 22\\nSkipping line 2217132: expected 15 fields, saw 22\\nSkipping line 2226703: expected 15 fields, saw 22\\n'\n",
      "b'Skipping line 2231683: expected 15 fields, saw 22\\nSkipping line 2245222: expected 15 fields, saw 22\\nSkipping line 2256136: expected 15 fields, saw 22\\nSkipping line 2269399: expected 15 fields, saw 22\\nSkipping line 2283979: expected 15 fields, saw 22\\n'\n",
      "b'Skipping line 2340899: expected 15 fields, saw 22\\nSkipping line 2342134: expected 15 fields, saw 22\\nSkipping line 2342748: expected 15 fields, saw 22\\nSkipping line 2348402: expected 15 fields, saw 22\\nSkipping line 2355164: expected 15 fields, saw 22\\nSkipping line 2357020: expected 15 fields, saw 22\\n'\n",
      "b'Skipping line 2366077: expected 15 fields, saw 22\\nSkipping line 2366997: expected 15 fields, saw 22\\nSkipping line 2367353: expected 15 fields, saw 22\\nSkipping line 2414691: expected 15 fields, saw 22\\n'\n",
      "b'Skipping line 2464571: expected 15 fields, saw 22\\nSkipping line 2466302: expected 15 fields, saw 22\\nSkipping line 2487679: expected 15 fields, saw 22\\nSkipping line 2487771: expected 15 fields, saw 22\\n'\n",
      "b'Skipping line 2506605: expected 15 fields, saw 22\\nSkipping line 2511369: expected 15 fields, saw 22\\n'\n",
      "b'Skipping line 2558281: expected 15 fields, saw 22\\nSkipping line 2607202: expected 15 fields, saw 22\\n'\n",
      "b'Skipping line 2625718: expected 15 fields, saw 22\\nSkipping line 2640978: expected 15 fields, saw 22\\nSkipping line 2650635: expected 15 fields, saw 22\\nSkipping line 2670724: expected 15 fields, saw 22\\n'\n",
      "b'Skipping line 2690954: expected 15 fields, saw 22\\nSkipping line 2713810: expected 15 fields, saw 22\\nSkipping line 2715292: expected 15 fields, saw 22\\nSkipping line 2724453: expected 15 fields, saw 22\\nSkipping line 2724458: expected 15 fields, saw 22\\nSkipping line 2735678: expected 15 fields, saw 22\\nSkipping line 2740358: expected 15 fields, saw 22\\nSkipping line 2751188: expected 15 fields, saw 22\\n'\n",
      "b'Skipping line 2763890: expected 15 fields, saw 22\\nSkipping line 2766982: expected 15 fields, saw 22\\nSkipping line 2813747: expected 15 fields, saw 22\\n'\n",
      "b'Skipping line 2819306: expected 15 fields, saw 22\\nSkipping line 2883075: expected 15 fields, saw 22\\n'\n",
      "b'Skipping line 2975635: expected 15 fields, saw 22\\n'\n",
      "b'Skipping line 3391761: expected 15 fields, saw 22\\n'\n",
      "b'Skipping line 3474241: expected 15 fields, saw 22\\n'\n",
      "b'Skipping line 3690054: expected 15 fields, saw 22\\nSkipping line 3720113: expected 15 fields, saw 22\\n'\n",
      "b'Skipping line 3763182: expected 15 fields, saw 22\\n'\n",
      "b'Skipping line 4929700: expected 15 fields, saw 22\\n'\n",
      "/Users/michellehui/opt/anaconda3/lib/python3.8/site-packages/IPython/core/interactiveshell.py:3165: DtypeWarning: Columns (7) have mixed types.Specify dtype option on import or set low_memory=False.\n",
      "  has_raised = await self.run_ast_nodes(code_ast.body, cell_name,\n"
     ]
    }
   ],
   "source": [
    "beauty_raw = pd.read_csv('/Users/michellehui/info2950_project/amazon_reviews_us_Beauty_v1_00.tsv', sep = '\\t', error_bad_lines=False)"
   ]
  },
  {
   "cell_type": "code",
   "execution_count": 3,
   "id": "b704675d",
   "metadata": {},
   "outputs": [],
   "source": [
    "beauty_raw.to_csv('amazonreviews_beauty_raw.csv',index=False)"
   ]
  },
  {
   "cell_type": "code",
   "execution_count": 4,
   "id": "4a4ba42b",
   "metadata": {},
   "outputs": [],
   "source": [
    "beauty_raw = pd.read_csv('amazonreviews_beauty_raw.csv')"
   ]
  },
  {
   "cell_type": "code",
   "execution_count": 5,
   "id": "b71adfb1",
   "metadata": {},
   "outputs": [],
   "source": [
    "beauty = beauty_raw.copy()"
   ]
  },
  {
   "cell_type": "markdown",
   "id": "00cf1275",
   "metadata": {},
   "source": [
    "Here we converted the review date to datetime type. When then kept only the reviews written in 2015, which is the most recent year in the dataset. We chose 2015 so that we are able to compare against our 2015 market share data."
   ]
  },
  {
   "cell_type": "code",
   "execution_count": 6,
   "id": "e1f35513",
   "metadata": {},
   "outputs": [],
   "source": [
    "# keeping reviews written in 2015\n",
    "beauty['review_date'] = pd.to_datetime(beauty['review_date'])\n",
    "beauty = beauty.loc[beauty['review_date'].dt.year == 2015]"
   ]
  },
  {
   "cell_type": "markdown",
   "id": "6bdf3f10",
   "metadata": {},
   "source": [
    "As Amazon sells many smaller, indie brands, we are filtering for the select corporate brands that we will be analyzing. The five leading companies we will be looking at are L'oreal, Coty, Revlon, Johnson and Johnson, and Proctor and Gamble. We are including the leading brands that they own as additional brands to filter for."
   ]
  },
  {
   "cell_type": "code",
   "execution_count": 7,
   "id": "2381a41b",
   "metadata": {},
   "outputs": [],
   "source": [
    "loreal = [\"L'oreal\", 'Garnier', 'Maybelline', 'Nyx', 'Cerave']\n",
    "coty = ['Rimmel', 'Covergirl', 'Sally Hansen']\n",
    "revlon = ['Revlon', 'Almay']\n",
    "jnj = ['Clean & Clear', 'Neutrogena', 'Aveeno', 'OGX', 'Lubriderm'] \n",
    "png = ['Olay','Herbal Essences', 'Pantene', 'Head and Shoulders','Aussie']\n",
    "brands = loreal + coty + revlon + jnj\n",
    "beauty = beauty.loc[beauty['product_title'].str.contains('|'.join(brands))]"
   ]
  },
  {
   "cell_type": "code",
   "execution_count": 23,
   "id": "e1e77423",
   "metadata": {},
   "outputs": [
    {
     "data": {
      "text/plain": [
       "L'oreal              14664\n",
       "Johnson & Johnson    11005\n",
       "Revlon                8955\n",
       "Coty                  5278\n",
       "Proctor & Gamble        98\n",
       "Name: corporation, dtype: int64"
      ]
     },
     "execution_count": 23,
     "metadata": {},
     "output_type": "execute_result"
    }
   ],
   "source": [
    "# add columns by parent corporation\n",
    "beauty.loc[beauty['product_title'].str.contains('|'.join(loreal)), 'corporation'] = \"L'oreal\"\n",
    "beauty.loc[beauty['product_title'].str.contains('|'.join(coty)), 'corporation'] = \"Coty\"\n",
    "beauty.loc[beauty['product_title'].str.contains('|'.join(revlon)), 'corporation'] = \"Revlon\"\n",
    "beauty.loc[beauty['product_title'].str.contains('|'.join(jnj)), 'corporation'] = \"Johnson & Johnson\"\n",
    "beauty.loc[beauty['product_title'].str.contains('|'.join(png)), 'corporation'] = \"Proctor & Gamble\"\n",
    "beauty.corporation.value_counts()"
   ]
  },
  {
   "cell_type": "markdown",
   "id": "83381042",
   "metadata": {},
   "source": [
    "In order to narrow the dataset down to a more reasonable size, we are randomly selecting 40,000 observations. We then reset the index on each dataset to be from 0-39,999."
   ]
  },
  {
   "cell_type": "code",
   "execution_count": 9,
   "id": "918f9158",
   "metadata": {},
   "outputs": [],
   "source": [
    "# randomly narrowing down to 40,000\n",
    "beauty = beauty.sample(n=40000).reset_index()"
   ]
  },
  {
   "cell_type": "markdown",
   "id": "b8062cf5",
   "metadata": {},
   "source": [
    "Here we are dropping the unecessary columns.\n",
    " - We first dropped the Marketplace column because all the products were sold in the US.\n",
    " - We also dropped the index column as we reset the index. \n",
    " - We dropped product_category as all products fall into Beauty\n",
    " - total_votes is the same as helpful_votes and is redundant"
   ]
  },
  {
   "cell_type": "code",
   "execution_count": 10,
   "id": "57cd6d1c",
   "metadata": {},
   "outputs": [],
   "source": [
    "# dropping marketplace, index column, product category, total votes\n",
    "beauty = beauty.drop(columns= ['marketplace','index','product_category', 'total_votes'], axis=1)"
   ]
  },
  {
   "cell_type": "code",
   "execution_count": 11,
   "id": "793c5308",
   "metadata": {},
   "outputs": [],
   "source": [
    "# downloading cleaned csv file\n",
    "beauty.to_csv('amazonreviews_beauty.csv',index=False)"
   ]
  },
  {
   "cell_type": "markdown",
   "id": "e4ed1a08",
   "metadata": {},
   "source": [
    "# Data Description\n",
    "\n",
    "## Beauty Market\n",
    "### Motivation\n",
    "- **Why was this dataset created?**\n",
    "    - This dataset was created to explore how the market of cosmetics has evolved through the year or 2015, in regards to trends in sales, market breakdown, which factors contributed to these changes, and which makeup trends might affect the market.\n",
    "    \n",
    "- **Who funded the creation of the dataset? **\n",
    "    - The research was done by Mintel, an independent market analysis company that prides itself on supplying objective information on a whole range of markets and marketing issues.\n",
    "    \n",
    "### Composition\n",
    "- **What are the observations (rows) and the attributes (columns)? **\n",
    "    - The rows are the top cosmetics companies, and the columns are how they performed in the market, specifically: company name, 2014 sales (in millions of dollars), 2014 market share percentage, 2015 sales (in millions of dollars), 2015 market share percentage, the sale change percentage from 2014-2015, and the market share percent change from 2014-2015.\n",
    "    \n",
    "- **How many instances are there in the dataset? Does it contain all possible instances or is it a sample? What processes might have influenced what data was observed and recorded and what was not?**\n",
    "    - The initial dataset had 7 instances, but I removed the \"private labels\" and \"other\" companies as they are not easy to use with our Amazon dataset. The data contained a note that read: \"Data may not equal totals due to rounding The above figures are based on MULO sales data from Information Resources, Inc., InfoScan Reviews. MULO is defined as Multi Outlet, representative of the following channels: total U.S. Grocery, Mass, Total U.S. Drug, Total Walmart, Dollar, Military, and Club.\" \n",
    "    \n",
    "- **Where can your raw source data be found, if applicable? Provide a link to the raw data (hosted in a Cornell Google Drive or Cornell Box).**\n",
    "    - Our data can be found at the same Google Drive as previously listed.\n",
    "    \n",
    "- **Is the data self contained or does it rely on other outside websites?**\n",
    "    - Our data is self contained because it is historical data about sales in 2015, and thus would not rely on outside websites\n",
    "    \n",
    "- **Does this data relate to individuals? Can the individuals be identified? Are there any subpopulations that can be identified?**\n",
    "    - No, the data is not related to individuals, but companies which are entities.\n",
    "    \n",
    "### Collection Process\n",
    "- **If people are involved, were they aware of the data collection and if so, what purpose did they expect the data to be used for?**\n",
    "    - No people were involved, as the data in this specific dataset was from an Information Resrouces company.\n",
    "    \n",
    "- **What time frame was the data collected?**\n",
    "    - This dataset focuses on company sales from 2014 to March 22, 2015.\n",
    "    \n",
    "### Preprocessing\n",
    "- **What preprocessing was done, and how did the data come to be in the form that you are using?**\n",
    "    - Refer to data cleaning appendix.\n",
    "    \n",
    "- **Are there are any errors, sources of noise, or redundancies in the data?**\n",
    "    - None that are visible to us. The dataset is rather small and informs us of overarching/summarizing statistics, thus there is not much room for errors/noise.\n",
    " \n",
    "### Uses\n",
    "    \n",
    " - **Has this data been used before? If so, what for?**\n",
    "     - There is no evidence that this data has been used before, however it is very likely that it has considering it is a public dataset published for people to use."
   ]
  },
  {
   "cell_type": "markdown",
   "id": "12b7c5fa",
   "metadata": {},
   "source": [
    "## Amazon Reviews\n",
    "\n",
    "### Motivation\n",
    " - **Why was this dataset created?**\n",
    "     - This dataset was intended to facilitate public study into the properties of Amazon customer reviews including how consumers evolve, express, and evaluate Amazon products.\n",
    " \n",
    " - **Who funded the creation of the dataset?**\n",
    "     - Amazon funded and collected this Amazon Customer Reviews Product for public use. The information is publicly available on Amazon Web Services.\n",
    "\n",
    "### Composition\n",
    "  - **What are the observations (rows) and the attributes (columns)?**\n",
    "      - The observations consist of each individual review. Each review has the following column attributes: customer_id, review_id, product_id, product_title, star_rating (Scale of 1-5), helpful_votes, vine (Amazon invites select credible users to review products through their Vine program), verified_purchase, review_headline, review_body, and review_date.\n",
    "  \n",
    " - **How many instances are there in the dataset? Does it contain all possible instances or is it a sample? What processes might have influenced what data was observed and recorded and what was not?**\n",
    "     - There are a total of 40,000 observations. The original dataset with over a million reviews in the beauty category is a sample collected by Amazon. Amazon constructed this dataset hoping to represent a sample of different customer opinions and demographics. We then narrowed the dataset even further by most recent year and then by select brands leading the beauty/hair care industry. \n",
    " \n",
    " - **Where can your raw source data be found, if applicable? Provide a link to the raw data (hosted in a Cornell Google Drive or Cornell Box).**\n",
    "     - The raw source can be found on Amazon Web Services. Here is the link to raw datasets also uploaded on google drive: https://drive.google.com/drive/folders/1F1Z1ERhp18uaB9J1d-dkGYhBCbJnPyXC?usp=sharing\n",
    " \n",
    " - **Is the data self contained or does it rely on other outside websites?**\n",
    "     - The data is self-contained in a downloaded tsv file.\n",
    " \n",
    " - **Does this data relate to individuals? Can the individuals be identified? Are there any subpopulations that can be identified?**\n",
    "     - Each individual review is associated to a reviewer through customer_id. However, there is no further information about this individual and customers cannot be split off into smaller subpopulations by demographics.\n",
    " \n",
    "### Collection Process\n",
    " - **If people are involved, were they aware of the data collection and if so, what purpose did they expect the data to be used for?**\n",
    "     - The reviewers in the dataset are not aware of their reviews being used for this purpose. They gave their consent to Amazon when they published their reviews publicly on Amazon. \n",
    " \n",
    " - **What time frame was the data collected?**\n",
    "     - Amazon collected reviews starting from 1995 all the way to 2015. \n",
    " \n",
    "### Preprocessing\n",
    " - **What preprocessing was done, and how did the data come to be in the form that you are using?**\n",
    "     - We conducted filtering on certain column values by year and product brand. We then randomly selected 40,000 observations to narrow down the size of our dataset.\n",
    " \n",
    "  - **Are there are any errors, sources of noise, or redundancies in the data?**\n",
    "      - There were some observations with additional attributes/columns when parsing in the data from a csv file. We handled this by skipping over these lines and not including in the final dataset as it would not be reasonable to comb through the millions of reviews to individually handle each of these errors.\n",
    " \n",
    "### Uses\n",
    " - **Has this data been used before? If so, what for?**\n",
    "     - There are no public publishings using this dataset that could be found. However, we found a few other Amazon review analysis using other Amazon datasets. These analyses consisted mainly of review sentiment analysis. "
   ]
  },
  {
   "cell_type": "markdown",
   "id": "6cb40e27",
   "metadata": {},
   "source": [
    "# Data Limitations\n",
    "\n",
    "\n",
    "## Beauty Market\n",
    "- We are only able to see the market sales of 4 well known companies, some of which are parent companies that own several beauty brands. This makes it difficult to use with our Amazon dataset which reports reviews of these smaller \"child\" companies. \n",
    "- The data lumps together \"private labels\" and \"others\" into separate categories, which is unclear of which companies it considers under those categories, and might have been valuable in our data analysis.\n",
    "- The data only reports sales and shares for 2015 as a whole, and in the period ending March 22. Not only does this mean it does not include the whole year of 2015, but it is not specific in how the sales were in different months.\n",
    "- The data only analyzes company performance in terms of market shares and sales, no other metrics.\n",
    "\n",
    "## Amazon Reviews\n",
    " - Amazon has a lot of other smaller, indie brands that we had to exclude from the cleaned dataset because the Beauty Market Dataset only included the top few brands. Because we are not including them, our analysis might not accurately reflect the whole market share and beauty space.\n",
    " - It could be difficult to analyze the review text content as it requires in-depth natural language processing, which is beyond the scope of what we will learn in this course. \n",
    " - By selecting only 40,000 reviews, we also risk losing a lot of important observations such as vine reviews, reviews that are voted highly helpful, and various reviews across products that could have very beneficial content.\n",
    " - Some corporations do not have as many observations as others. Additionally some have zero vine reviews. \n",
    " - Our data is only looking 2015 reviews, which might not be relevant to the current market today."
   ]
  },
  {
   "cell_type": "markdown",
   "id": "7b850a47",
   "metadata": {},
   "source": [
    "# Exploratory Data Analysis"
   ]
  },
  {
   "cell_type": "markdown",
   "id": "139bf6fa",
   "metadata": {},
   "source": [
    "## Beauty Market"
   ]
  },
  {
   "cell_type": "code",
   "execution_count": 90,
   "id": "127b587a",
   "metadata": {},
   "outputs": [
    {
     "data": {
      "text/html": [
       "<div>\n",
       "<style scoped>\n",
       "    .dataframe tbody tr th:only-of-type {\n",
       "        vertical-align: middle;\n",
       "    }\n",
       "\n",
       "    .dataframe tbody tr th {\n",
       "        vertical-align: top;\n",
       "    }\n",
       "\n",
       "    .dataframe thead th {\n",
       "        text-align: right;\n",
       "    }\n",
       "</style>\n",
       "<table border=\"1\" class=\"dataframe\">\n",
       "  <thead>\n",
       "    <tr style=\"text-align: right;\">\n",
       "      <th></th>\n",
       "      <th>Company</th>\n",
       "      <th>2014_sales_millions</th>\n",
       "      <th>2014_market_share_percent</th>\n",
       "      <th>2015_sales_millions</th>\n",
       "      <th>2015_market_share_percent</th>\n",
       "      <th>sale_change_percent</th>\n",
       "      <th>share_change_percent</th>\n",
       "    </tr>\n",
       "  </thead>\n",
       "  <tbody>\n",
       "    <tr>\n",
       "      <th>0</th>\n",
       "      <td>L'Oréal USA</td>\n",
       "      <td>1797.9</td>\n",
       "      <td>39.1</td>\n",
       "      <td>1815.0</td>\n",
       "      <td>38.6</td>\n",
       "      <td>1.0</td>\n",
       "      <td>-0.5</td>\n",
       "    </tr>\n",
       "    <tr>\n",
       "      <th>1</th>\n",
       "      <td>Procter &amp; Gamble</td>\n",
       "      <td>954.7</td>\n",
       "      <td>20.8</td>\n",
       "      <td>946.1</td>\n",
       "      <td>20.1</td>\n",
       "      <td>-0.9</td>\n",
       "      <td>-0.7</td>\n",
       "    </tr>\n",
       "    <tr>\n",
       "      <th>2</th>\n",
       "      <td>Revlon Inc.</td>\n",
       "      <td>670.5</td>\n",
       "      <td>14.6</td>\n",
       "      <td>661.6</td>\n",
       "      <td>14.1</td>\n",
       "      <td>-1.3</td>\n",
       "      <td>-0.5</td>\n",
       "    </tr>\n",
       "    <tr>\n",
       "      <th>3</th>\n",
       "      <td>Coty Beauty</td>\n",
       "      <td>262.3</td>\n",
       "      <td>5.7</td>\n",
       "      <td>263.8</td>\n",
       "      <td>5.6</td>\n",
       "      <td>0.5</td>\n",
       "      <td>-0.1</td>\n",
       "    </tr>\n",
       "    <tr>\n",
       "      <th>4</th>\n",
       "      <td>Johnson &amp; Johnson</td>\n",
       "      <td>171.9</td>\n",
       "      <td>3.7</td>\n",
       "      <td>176.0</td>\n",
       "      <td>3.7</td>\n",
       "      <td>2.4</td>\n",
       "      <td>0.0</td>\n",
       "    </tr>\n",
       "  </tbody>\n",
       "</table>\n",
       "</div>"
      ],
      "text/plain": [
       "             Company  2014_sales_millions  2014_market_share_percent  \\\n",
       "0        L'Oréal USA               1797.9                       39.1   \n",
       "1   Procter & Gamble                954.7                       20.8   \n",
       "2        Revlon Inc.                670.5                       14.6   \n",
       "3        Coty Beauty                262.3                        5.7   \n",
       "4  Johnson & Johnson                171.9                        3.7   \n",
       "\n",
       "   2015_sales_millions  2015_market_share_percent  sale_change_percent  \\\n",
       "0               1815.0                       38.6                  1.0   \n",
       "1                946.1                       20.1                 -0.9   \n",
       "2                661.6                       14.1                 -1.3   \n",
       "3                263.8                        5.6                  0.5   \n",
       "4                176.0                        3.7                  2.4   \n",
       "\n",
       "   share_change_percent  \n",
       "0                  -0.5  \n",
       "1                  -0.7  \n",
       "2                  -0.5  \n",
       "3                  -0.1  \n",
       "4                   0.0  "
      ]
     },
     "execution_count": 90,
     "metadata": {},
     "output_type": "execute_result"
    }
   ],
   "source": [
    "market_sales"
   ]
  },
  {
   "cell_type": "markdown",
   "id": "1e1645f1",
   "metadata": {},
   "source": [
    "Now we will compare the sales between 2014-2015 by company, as well as their sales/share percentage change."
   ]
  },
  {
   "cell_type": "code",
   "execution_count": 91,
   "id": "b24d7aa6",
   "metadata": {},
   "outputs": [
    {
     "data": {
      "image/png": "[encoded data removed]",
      "text/plain": [
       "<Figure size 720x576 with 1 Axes>"
      ]
     },
     "metadata": {
      "needs_background": "light"
     },
     "output_type": "display_data"
    }
   ],
   "source": [
    "market_sales.plot(x = \"Company\", y= ['2014_sales_millions', '2015_sales_millions'], kind = 'bar', legend = True, figsize = (10, 8))\n",
    "plt.ylabel(\"Sales in Millions of Dollars\")\n",
    "plt.title(\"Company Sales in 2014 vs. 2015\")\n",
    "plt.show()"
   ]
  },
  {
   "cell_type": "code",
   "execution_count": 92,
   "id": "f4916dbd",
   "metadata": {},
   "outputs": [
    {
     "data": {
      "image/png": "[encoded data removed]",
      "text/plain": [
       "<Figure size 432x360 with 1 Axes>"
      ]
     },
     "metadata": {
      "needs_background": "light"
     },
     "output_type": "display_data"
    }
   ],
   "source": [
    "market_sales.plot(x = \"Company\", y= ['sale_change_percent', 'share_change_percent'], kind = 'bar', legend = True, figsize = (6, 5))\n",
    "plt.axhline(y=0, color='black', linestyle='-')\n",
    "plt.ylabel(\"Percentage Change\")\n",
    "plt.title(\"Company\")\n",
    "plt.show()"
   ]
  },
  {
   "cell_type": "markdown",
   "id": "48326775",
   "metadata": {},
   "source": [
    "Here we see some interesting data. While the sale change percent grew for L'Oreal and Coty Beauty, their share percentages declined. Additionally, Johnson & Johnson sale percentage grew far more than any other company. It is also noteable that J&J's share percentage did not change at all. Another interesting observation is that while J&J had the largest sales percentage increase, their overall sales still remained the lowest in terms of millions of dollars."
   ]
  },
  {
   "cell_type": "markdown",
   "id": "bcf2a347",
   "metadata": {},
   "source": [
    "## Amazon\n",
    " Sydney:\n",
    " - histogram of star ratings by parent company vs overall distribution\n",
    "     - summary statistics: mean, median, standard deviation\n",
    " - historgram of review length by parent company vs overall distribution\n",
    "     - summary statistics\n",
    " - correlation between review length and star ratings\n",
    "     - correlation coefficients\n",
    " - market share graphs\n",
    " - writing \n",
    "     \n",
    " Michelle:    \n",
    " - bar chart (bins of helpful votes) to see distribution of helpful votes\n",
    " - percentage of verified purchases, vine reviews by parent company\n",
    "     - correlation between verified purchases and helpful votes\n",
    "     - correlation between vine and helpful votes\n",
    " - distribution of vine, verified purchases, etc. ratings compare\n",
    " - markdown and cleaning of data"
   ]
  },
  {
   "cell_type": "code",
   "execution_count": 93,
   "id": "3f9ef331",
   "metadata": {},
   "outputs": [],
   "source": [
    "# importing cleaned amazon review datasets\n",
    "beauty_clean = pd.read_csv('amazonreviews_beauty.csv')"
   ]
  },
  {
   "cell_type": "code",
   "execution_count": 94,
   "id": "dbb519ec",
   "metadata": {},
   "outputs": [
    {
     "data": {
      "text/html": [
       "<div>\n",
       "<style scoped>\n",
       "    .dataframe tbody tr th:only-of-type {\n",
       "        vertical-align: middle;\n",
       "    }\n",
       "\n",
       "    .dataframe tbody tr th {\n",
       "        vertical-align: top;\n",
       "    }\n",
       "\n",
       "    .dataframe thead th {\n",
       "        text-align: right;\n",
       "    }\n",
       "</style>\n",
       "<table border=\"1\" class=\"dataframe\">\n",
       "  <thead>\n",
       "    <tr style=\"text-align: right;\">\n",
       "      <th></th>\n",
       "      <th>customer_id</th>\n",
       "      <th>review_id</th>\n",
       "      <th>product_id</th>\n",
       "      <th>product_parent</th>\n",
       "      <th>product_title</th>\n",
       "      <th>star_rating</th>\n",
       "      <th>helpful_votes</th>\n",
       "      <th>vine</th>\n",
       "      <th>verified_purchase</th>\n",
       "      <th>review_headline</th>\n",
       "      <th>review_body</th>\n",
       "      <th>review_date</th>\n",
       "      <th>corporation</th>\n",
       "    </tr>\n",
       "  </thead>\n",
       "  <tbody>\n",
       "    <tr>\n",
       "      <th>0</th>\n",
       "      <td>24767754</td>\n",
       "      <td>R1XFL3Z2OT99W8</td>\n",
       "      <td>B003LSZHQ0</td>\n",
       "      <td>192111987</td>\n",
       "      <td>Revlon Beyond Natural Blush &amp; Bronzer, Peach (...</td>\n",
       "      <td>3.0</td>\n",
       "      <td>0.0</td>\n",
       "      <td>N</td>\n",
       "      <td>Y</td>\n",
       "      <td>Three Stars</td>\n",
       "      <td>This blush and bronzer was no big deal.  It's ...</td>\n",
       "      <td>2015-06-10</td>\n",
       "      <td>Revlon</td>\n",
       "    </tr>\n",
       "    <tr>\n",
       "      <th>1</th>\n",
       "      <td>28040275</td>\n",
       "      <td>R3AKWI2QG78Y6W</td>\n",
       "      <td>B00A9KBHR6</td>\n",
       "      <td>533375687</td>\n",
       "      <td>Exclusive By Revlon Crazy Shine Nail Buffer # ...</td>\n",
       "      <td>5.0</td>\n",
       "      <td>0.0</td>\n",
       "      <td>N</td>\n",
       "      <td>Y</td>\n",
       "      <td>These make your natural nails so shiny. The gr...</td>\n",
       "      <td>These make your natural nails so shiny.  The g...</td>\n",
       "      <td>2015-08-28</td>\n",
       "      <td>Revlon</td>\n",
       "    </tr>\n",
       "    <tr>\n",
       "      <th>2</th>\n",
       "      <td>34986371</td>\n",
       "      <td>R1UU0O9IDQAJ90</td>\n",
       "      <td>B001DPMETG</td>\n",
       "      <td>105754500</td>\n",
       "      <td>Garnier SkinActive Clearly Brighter Anti-Puff ...</td>\n",
       "      <td>5.0</td>\n",
       "      <td>1.0</td>\n",
       "      <td>N</td>\n",
       "      <td>Y</td>\n",
       "      <td>This works well because it lets me massage awa...</td>\n",
       "      <td>This works well because it lets me massage awa...</td>\n",
       "      <td>2015-07-23</td>\n",
       "      <td>L'oreal</td>\n",
       "    </tr>\n",
       "    <tr>\n",
       "      <th>3</th>\n",
       "      <td>36407464</td>\n",
       "      <td>R1XQ88PJ7HPGYQ</td>\n",
       "      <td>B00113HO90</td>\n",
       "      <td>78786137</td>\n",
       "      <td>Neutrogena Rainbath Refreshing Shower and Bath...</td>\n",
       "      <td>5.0</td>\n",
       "      <td>0.0</td>\n",
       "      <td>N</td>\n",
       "      <td>Y</td>\n",
       "      <td>Neutrogena Rocks!!</td>\n",
       "      <td>Awesome products!!</td>\n",
       "      <td>2015-05-25</td>\n",
       "      <td>Johnson &amp; Johnson</td>\n",
       "    </tr>\n",
       "    <tr>\n",
       "      <th>4</th>\n",
       "      <td>889672</td>\n",
       "      <td>R1YLPTSI256CM6</td>\n",
       "      <td>B004Y9H1QO</td>\n",
       "      <td>511887159</td>\n",
       "      <td>Maybelline New York Baby Lips Moisturizing Lip...</td>\n",
       "      <td>5.0</td>\n",
       "      <td>0.0</td>\n",
       "      <td>N</td>\n",
       "      <td>Y</td>\n",
       "      <td>Five Stars</td>\n",
       "      <td>ok</td>\n",
       "      <td>2015-02-07</td>\n",
       "      <td>L'oreal</td>\n",
       "    </tr>\n",
       "  </tbody>\n",
       "</table>\n",
       "</div>"
      ],
      "text/plain": [
       "   customer_id       review_id  product_id  product_parent  \\\n",
       "0     24767754  R1XFL3Z2OT99W8  B003LSZHQ0       192111987   \n",
       "1     28040275  R3AKWI2QG78Y6W  B00A9KBHR6       533375687   \n",
       "2     34986371  R1UU0O9IDQAJ90  B001DPMETG       105754500   \n",
       "3     36407464  R1XQ88PJ7HPGYQ  B00113HO90        78786137   \n",
       "4       889672  R1YLPTSI256CM6  B004Y9H1QO       511887159   \n",
       "\n",
       "                                       product_title  star_rating  \\\n",
       "0  Revlon Beyond Natural Blush & Bronzer, Peach (...          3.0   \n",
       "1  Exclusive By Revlon Crazy Shine Nail Buffer # ...          5.0   \n",
       "2  Garnier SkinActive Clearly Brighter Anti-Puff ...          5.0   \n",
       "3  Neutrogena Rainbath Refreshing Shower and Bath...          5.0   \n",
       "4  Maybelline New York Baby Lips Moisturizing Lip...          5.0   \n",
       "\n",
       "   helpful_votes vine verified_purchase  \\\n",
       "0            0.0    N                 Y   \n",
       "1            0.0    N                 Y   \n",
       "2            1.0    N                 Y   \n",
       "3            0.0    N                 Y   \n",
       "4            0.0    N                 Y   \n",
       "\n",
       "                                     review_headline  \\\n",
       "0                                        Three Stars   \n",
       "1  These make your natural nails so shiny. The gr...   \n",
       "2  This works well because it lets me massage awa...   \n",
       "3                                 Neutrogena Rocks!!   \n",
       "4                                         Five Stars   \n",
       "\n",
       "                                         review_body review_date  \\\n",
       "0  This blush and bronzer was no big deal.  It's ...  2015-06-10   \n",
       "1  These make your natural nails so shiny.  The g...  2015-08-28   \n",
       "2  This works well because it lets me massage awa...  2015-07-23   \n",
       "3                                 Awesome products!!  2015-05-25   \n",
       "4                                                 ok  2015-02-07   \n",
       "\n",
       "         corporation  \n",
       "0             Revlon  \n",
       "1             Revlon  \n",
       "2            L'oreal  \n",
       "3  Johnson & Johnson  \n",
       "4            L'oreal  "
      ]
     },
     "execution_count": 94,
     "metadata": {},
     "output_type": "execute_result"
    }
   ],
   "source": [
    "beauty_clean.head()"
   ]
  },
  {
   "cell_type": "markdown",
   "id": "b9d4d184",
   "metadata": {},
   "source": [
    "### Histograms of Star Rating Distribution Overall and by Company"
   ]
  },
  {
   "cell_type": "code",
   "execution_count": 95,
   "id": "45fdcf8d",
   "metadata": {},
   "outputs": [
    {
     "data": {
      "image/png": "[encoded data removed]",
      "text/plain": [
       "<Figure size 432x288 with 1 Axes>"
      ]
     },
     "metadata": {
      "needs_background": "light"
     },
     "output_type": "display_data"
    }
   ],
   "source": [
    "beauty_clean.star_rating.hist(bins = 5)\n",
    "plt.xticks(range(1, 6))\n",
    "plt.xlabel('Star Rating')\n",
    "plt.ylabel(\"Count\")\n",
    "plt.title(\"Overall Distribution of Star Ratings\")\n",
    "plt.show()"
   ]
  },
  {
   "cell_type": "code",
   "execution_count": 77,
   "id": "414ffcda",
   "metadata": {},
   "outputs": [
    {
     "data": {
      "image/png": "[encoded data removed]",
      "text/plain": [
       "<Figure size 720x864 with 6 Axes>"
      ]
     },
     "metadata": {
      "needs_background": "light"
     },
     "output_type": "display_data"
    }
   ],
   "source": [
    "beauty_clean.star_rating.hist(by=beauty_clean.corporation, figsize = (10, 12), bins = 5)\n",
    "plt.title('Distribution of Star Ratings by Company')\n",
    "plt.show()"
   ]
  },
  {
   "cell_type": "markdown",
   "id": "d6d3770a",
   "metadata": {},
   "source": [
    "### Basic Statistics of Star Ratings by Corporation"
   ]
  },
  {
   "cell_type": "markdown",
   "id": "5f128c26",
   "metadata": {},
   "source": [
    "#### All Companies"
   ]
  },
  {
   "cell_type": "code",
   "execution_count": 96,
   "id": "a7aad403",
   "metadata": {},
   "outputs": [
    {
     "data": {
      "text/html": [
       "<div>\n",
       "<style scoped>\n",
       "    .dataframe tbody tr th:only-of-type {\n",
       "        vertical-align: middle;\n",
       "    }\n",
       "\n",
       "    .dataframe tbody tr th {\n",
       "        vertical-align: top;\n",
       "    }\n",
       "\n",
       "    .dataframe thead th {\n",
       "        text-align: right;\n",
       "    }\n",
       "</style>\n",
       "<table border=\"1\" class=\"dataframe\">\n",
       "  <thead>\n",
       "    <tr style=\"text-align: right;\">\n",
       "      <th></th>\n",
       "      <th>star_rating</th>\n",
       "    </tr>\n",
       "  </thead>\n",
       "  <tbody>\n",
       "    <tr>\n",
       "      <th>mean</th>\n",
       "      <td>4.184950</td>\n",
       "    </tr>\n",
       "    <tr>\n",
       "      <th>median</th>\n",
       "      <td>5.000000</td>\n",
       "    </tr>\n",
       "    <tr>\n",
       "      <th>std</th>\n",
       "      <td>1.290905</td>\n",
       "    </tr>\n",
       "    <tr>\n",
       "      <th>var</th>\n",
       "      <td>1.666435</td>\n",
       "    </tr>\n",
       "  </tbody>\n",
       "</table>\n",
       "</div>"
      ],
      "text/plain": [
       "        star_rating\n",
       "mean       4.184950\n",
       "median     5.000000\n",
       "std        1.290905\n",
       "var        1.666435"
      ]
     },
     "execution_count": 96,
     "metadata": {},
     "output_type": "execute_result"
    }
   ],
   "source": [
    "beauty_clean[['star_rating']].agg([np.mean, np.median, np.std, np.var])"
   ]
  },
  {
   "cell_type": "markdown",
   "id": "8a72d211",
   "metadata": {},
   "source": [
    "#### Breakdown by Company"
   ]
  },
  {
   "cell_type": "code",
   "execution_count": 97,
   "id": "41d44f85",
   "metadata": {},
   "outputs": [
    {
     "data": {
      "text/html": [
       "<div>\n",
       "<style scoped>\n",
       "    .dataframe tbody tr th:only-of-type {\n",
       "        vertical-align: middle;\n",
       "    }\n",
       "\n",
       "    .dataframe tbody tr th {\n",
       "        vertical-align: top;\n",
       "    }\n",
       "\n",
       "    .dataframe thead th {\n",
       "        text-align: right;\n",
       "    }\n",
       "</style>\n",
       "<table border=\"1\" class=\"dataframe\">\n",
       "  <thead>\n",
       "    <tr style=\"text-align: right;\">\n",
       "      <th></th>\n",
       "      <th>mean</th>\n",
       "      <th>median</th>\n",
       "      <th>std</th>\n",
       "      <th>var</th>\n",
       "    </tr>\n",
       "    <tr>\n",
       "      <th>corporation</th>\n",
       "      <th></th>\n",
       "      <th></th>\n",
       "      <th></th>\n",
       "      <th></th>\n",
       "    </tr>\n",
       "  </thead>\n",
       "  <tbody>\n",
       "    <tr>\n",
       "      <th>Coty</th>\n",
       "      <td>4.050777</td>\n",
       "      <td>5.0</td>\n",
       "      <td>1.386499</td>\n",
       "      <td>1.922379</td>\n",
       "    </tr>\n",
       "    <tr>\n",
       "      <th>Johnson &amp; Johnson</th>\n",
       "      <td>4.323308</td>\n",
       "      <td>5.0</td>\n",
       "      <td>1.198936</td>\n",
       "      <td>1.437447</td>\n",
       "    </tr>\n",
       "    <tr>\n",
       "      <th>L'oreal</th>\n",
       "      <td>4.170827</td>\n",
       "      <td>5.0</td>\n",
       "      <td>1.272123</td>\n",
       "      <td>1.618296</td>\n",
       "    </tr>\n",
       "    <tr>\n",
       "      <th>Proctor &amp; Gamble</th>\n",
       "      <td>4.071429</td>\n",
       "      <td>5.0</td>\n",
       "      <td>1.325795</td>\n",
       "      <td>1.757732</td>\n",
       "    </tr>\n",
       "    <tr>\n",
       "      <th>Revlon</th>\n",
       "      <td>4.118370</td>\n",
       "      <td>5.0</td>\n",
       "      <td>1.355196</td>\n",
       "      <td>1.836557</td>\n",
       "    </tr>\n",
       "  </tbody>\n",
       "</table>\n",
       "</div>"
      ],
      "text/plain": [
       "                       mean  median       std       var\n",
       "corporation                                            \n",
       "Coty               4.050777     5.0  1.386499  1.922379\n",
       "Johnson & Johnson  4.323308     5.0  1.198936  1.437447\n",
       "L'oreal            4.170827     5.0  1.272123  1.618296\n",
       "Proctor & Gamble   4.071429     5.0  1.325795  1.757732\n",
       "Revlon             4.118370     5.0  1.355196  1.836557"
      ]
     },
     "execution_count": 97,
     "metadata": {},
     "output_type": "execute_result"
    }
   ],
   "source": [
    "beauty_clean.groupby('corporation')['star_rating'].agg([np.mean, np.median, np.std, np.var])"
   ]
  },
  {
   "cell_type": "code",
   "execution_count": 98,
   "id": "578cc5e8",
   "metadata": {},
   "outputs": [],
   "source": [
    "beauty_clean['review_length'] = beauty_clean['review_body'].str.len()"
   ]
  },
  {
   "cell_type": "code",
   "execution_count": 100,
   "id": "84d66662",
   "metadata": {},
   "outputs": [
    {
     "data": {
      "text/html": [
       "<div>\n",
       "<style scoped>\n",
       "    .dataframe tbody tr th:only-of-type {\n",
       "        vertical-align: middle;\n",
       "    }\n",
       "\n",
       "    .dataframe tbody tr th {\n",
       "        vertical-align: top;\n",
       "    }\n",
       "\n",
       "    .dataframe thead th {\n",
       "        text-align: right;\n",
       "    }\n",
       "</style>\n",
       "<table border=\"1\" class=\"dataframe\">\n",
       "  <thead>\n",
       "    <tr style=\"text-align: right;\">\n",
       "      <th></th>\n",
       "      <th>customer_id</th>\n",
       "      <th>review_id</th>\n",
       "      <th>product_id</th>\n",
       "      <th>product_parent</th>\n",
       "      <th>product_title</th>\n",
       "      <th>star_rating</th>\n",
       "      <th>helpful_votes</th>\n",
       "      <th>vine</th>\n",
       "      <th>verified_purchase</th>\n",
       "      <th>review_headline</th>\n",
       "      <th>review_body</th>\n",
       "      <th>review_date</th>\n",
       "      <th>corporation</th>\n",
       "      <th>review_length</th>\n",
       "    </tr>\n",
       "  </thead>\n",
       "  <tbody>\n",
       "    <tr>\n",
       "      <th>0</th>\n",
       "      <td>24767754</td>\n",
       "      <td>R1XFL3Z2OT99W8</td>\n",
       "      <td>B003LSZHQ0</td>\n",
       "      <td>192111987</td>\n",
       "      <td>Revlon Beyond Natural Blush &amp; Bronzer, Peach (...</td>\n",
       "      <td>3.0</td>\n",
       "      <td>0.0</td>\n",
       "      <td>N</td>\n",
       "      <td>Y</td>\n",
       "      <td>Three Stars</td>\n",
       "      <td>This blush and bronzer was no big deal.  It's ...</td>\n",
       "      <td>2015-06-10</td>\n",
       "      <td>Revlon</td>\n",
       "      <td>72.0</td>\n",
       "    </tr>\n",
       "    <tr>\n",
       "      <th>1</th>\n",
       "      <td>28040275</td>\n",
       "      <td>R3AKWI2QG78Y6W</td>\n",
       "      <td>B00A9KBHR6</td>\n",
       "      <td>533375687</td>\n",
       "      <td>Exclusive By Revlon Crazy Shine Nail Buffer # ...</td>\n",
       "      <td>5.0</td>\n",
       "      <td>0.0</td>\n",
       "      <td>N</td>\n",
       "      <td>Y</td>\n",
       "      <td>These make your natural nails so shiny. The gr...</td>\n",
       "      <td>These make your natural nails so shiny.  The g...</td>\n",
       "      <td>2015-08-28</td>\n",
       "      <td>Revlon</td>\n",
       "      <td>189.0</td>\n",
       "    </tr>\n",
       "    <tr>\n",
       "      <th>2</th>\n",
       "      <td>34986371</td>\n",
       "      <td>R1UU0O9IDQAJ90</td>\n",
       "      <td>B001DPMETG</td>\n",
       "      <td>105754500</td>\n",
       "      <td>Garnier SkinActive Clearly Brighter Anti-Puff ...</td>\n",
       "      <td>5.0</td>\n",
       "      <td>1.0</td>\n",
       "      <td>N</td>\n",
       "      <td>Y</td>\n",
       "      <td>This works well because it lets me massage awa...</td>\n",
       "      <td>This works well because it lets me massage awa...</td>\n",
       "      <td>2015-07-23</td>\n",
       "      <td>L'oreal</td>\n",
       "      <td>119.0</td>\n",
       "    </tr>\n",
       "    <tr>\n",
       "      <th>3</th>\n",
       "      <td>36407464</td>\n",
       "      <td>R1XQ88PJ7HPGYQ</td>\n",
       "      <td>B00113HO90</td>\n",
       "      <td>78786137</td>\n",
       "      <td>Neutrogena Rainbath Refreshing Shower and Bath...</td>\n",
       "      <td>5.0</td>\n",
       "      <td>0.0</td>\n",
       "      <td>N</td>\n",
       "      <td>Y</td>\n",
       "      <td>Neutrogena Rocks!!</td>\n",
       "      <td>Awesome products!!</td>\n",
       "      <td>2015-05-25</td>\n",
       "      <td>Johnson &amp; Johnson</td>\n",
       "      <td>18.0</td>\n",
       "    </tr>\n",
       "    <tr>\n",
       "      <th>4</th>\n",
       "      <td>889672</td>\n",
       "      <td>R1YLPTSI256CM6</td>\n",
       "      <td>B004Y9H1QO</td>\n",
       "      <td>511887159</td>\n",
       "      <td>Maybelline New York Baby Lips Moisturizing Lip...</td>\n",
       "      <td>5.0</td>\n",
       "      <td>0.0</td>\n",
       "      <td>N</td>\n",
       "      <td>Y</td>\n",
       "      <td>Five Stars</td>\n",
       "      <td>ok</td>\n",
       "      <td>2015-02-07</td>\n",
       "      <td>L'oreal</td>\n",
       "      <td>2.0</td>\n",
       "    </tr>\n",
       "  </tbody>\n",
       "</table>\n",
       "</div>"
      ],
      "text/plain": [
       "   customer_id       review_id  product_id  product_parent  \\\n",
       "0     24767754  R1XFL3Z2OT99W8  B003LSZHQ0       192111987   \n",
       "1     28040275  R3AKWI2QG78Y6W  B00A9KBHR6       533375687   \n",
       "2     34986371  R1UU0O9IDQAJ90  B001DPMETG       105754500   \n",
       "3     36407464  R1XQ88PJ7HPGYQ  B00113HO90        78786137   \n",
       "4       889672  R1YLPTSI256CM6  B004Y9H1QO       511887159   \n",
       "\n",
       "                                       product_title  star_rating  \\\n",
       "0  Revlon Beyond Natural Blush & Bronzer, Peach (...          3.0   \n",
       "1  Exclusive By Revlon Crazy Shine Nail Buffer # ...          5.0   \n",
       "2  Garnier SkinActive Clearly Brighter Anti-Puff ...          5.0   \n",
       "3  Neutrogena Rainbath Refreshing Shower and Bath...          5.0   \n",
       "4  Maybelline New York Baby Lips Moisturizing Lip...          5.0   \n",
       "\n",
       "   helpful_votes vine verified_purchase  \\\n",
       "0            0.0    N                 Y   \n",
       "1            0.0    N                 Y   \n",
       "2            1.0    N                 Y   \n",
       "3            0.0    N                 Y   \n",
       "4            0.0    N                 Y   \n",
       "\n",
       "                                     review_headline  \\\n",
       "0                                        Three Stars   \n",
       "1  These make your natural nails so shiny. The gr...   \n",
       "2  This works well because it lets me massage awa...   \n",
       "3                                 Neutrogena Rocks!!   \n",
       "4                                         Five Stars   \n",
       "\n",
       "                                         review_body review_date  \\\n",
       "0  This blush and bronzer was no big deal.  It's ...  2015-06-10   \n",
       "1  These make your natural nails so shiny.  The g...  2015-08-28   \n",
       "2  This works well because it lets me massage awa...  2015-07-23   \n",
       "3                                 Awesome products!!  2015-05-25   \n",
       "4                                                 ok  2015-02-07   \n",
       "\n",
       "         corporation  review_length  \n",
       "0             Revlon           72.0  \n",
       "1             Revlon          189.0  \n",
       "2            L'oreal          119.0  \n",
       "3  Johnson & Johnson           18.0  \n",
       "4            L'oreal            2.0  "
      ]
     },
     "execution_count": 100,
     "metadata": {},
     "output_type": "execute_result"
    }
   ],
   "source": [
    "beauty_clean.head()"
   ]
  },
  {
   "cell_type": "markdown",
   "id": "56669acc",
   "metadata": {},
   "source": [
    "### Review Body Length Analysis"
   ]
  },
  {
   "cell_type": "code",
   "execution_count": 101,
   "id": "ff3d6a9d",
   "metadata": {},
   "outputs": [
    {
     "data": {
      "image/png": "[encoded data removed]",
      "text/plain": [
       "<Figure size 432x288 with 1 Axes>"
      ]
     },
     "metadata": {
      "needs_background": "light"
     },
     "output_type": "display_data"
    }
   ],
   "source": [
    "beauty_clean.review_length.hist(bins=50)\n",
    "plt.xlabel('Review Text Length')\n",
    "plt.ylabel(\"Count\")\n",
    "plt.title(\"Overall Distribution of Review Text Length\")\n",
    "plt.show()"
   ]
  },
  {
   "cell_type": "code",
   "execution_count": 102,
   "id": "bc5a9a67",
   "metadata": {},
   "outputs": [
    {
     "data": {
      "text/plain": [
       "68"
      ]
     },
     "execution_count": 102,
     "metadata": {},
     "output_type": "execute_result"
    }
   ],
   "source": [
    "len(beauty_clean[beauty_clean['review_length'] > 2000])"
   ]
  },
  {
   "cell_type": "markdown",
   "id": "227db502",
   "metadata": {},
   "source": [
    "Looking at the overall review text distribution, we see that most reviews are less than 2000 characters, but the chart is being skewed by 68 observations. Let's take a look at this histogram when we only consider the reviews with less than 2000 characters."
   ]
  },
  {
   "cell_type": "code",
   "execution_count": 103,
   "id": "dc4effb9",
   "metadata": {},
   "outputs": [
    {
     "data": {
      "image/png": "[encoded data removed]",
      "text/plain": [
       "<Figure size 432x288 with 1 Axes>"
      ]
     },
     "metadata": {
      "needs_background": "light"
     },
     "output_type": "display_data"
    }
   ],
   "source": [
    "beauty_clean[beauty_clean['review_length'] < 2000].review_length.hist(bins=30)\n",
    "plt.xlabel('Review Text Length')\n",
    "plt.ylabel(\"Count\")\n",
    "plt.title(\"Overall Distribution of Review Text Length (without outliers)\")\n",
    "plt.show()"
   ]
  },
  {
   "cell_type": "markdown",
   "id": "b57e06e3",
   "metadata": {},
   "source": [
    "Looking at this histogram, we still see that most reviews are 250 words or less.\n",
    "\n",
    "Now analyzing review length by distribution, we will also only look at reviews with 1000 characters or less separately."
   ]
  },
  {
   "cell_type": "markdown",
   "id": "051aa25b",
   "metadata": {},
   "source": [
    "### Histograms of Review Text Lengths of Reviews with <1000 Characters"
   ]
  },
  {
   "cell_type": "code",
   "execution_count": 104,
   "id": "06750329",
   "metadata": {},
   "outputs": [
    {
     "data": {
      "image/png": "[encoded data removed]",
      "text/plain": [
       "<Figure size 720x864 with 6 Axes>"
      ]
     },
     "metadata": {
      "needs_background": "light"
     },
     "output_type": "display_data"
    }
   ],
   "source": [
    "beauty_clean[beauty_clean['review_length'] < 1000].review_length.hist(by=beauty_clean.corporation, figsize = (10, 12), bins = 50)\n",
    "plt.show()"
   ]
  },
  {
   "cell_type": "markdown",
   "id": "adfcc695",
   "metadata": {},
   "source": [
    "### Examining the Correlation Between Review Length & Star Rating"
   ]
  },
  {
   "cell_type": "code",
   "execution_count": 105,
   "id": "81c1cbd6",
   "metadata": {},
   "outputs": [
    {
     "data": {
      "image/png": "[encoded data removed]",
      "text/plain": [
       "<Figure size 432x288 with 1 Axes>"
      ]
     },
     "metadata": {
      "needs_background": "light"
     },
     "output_type": "display_data"
    }
   ],
   "source": [
    "plt.scatter(beauty_clean['review_length'], beauty_clean['star_rating'])\n",
    "plt.yticks(range(1, 6)) #only include ticks for the whole numbers of the star ratings\n",
    "plt.xlabel(\"review length\")\n",
    "plt.ylabel('star rating')\n",
    "plt.title('Review Length vs. Star Rating')\n",
    "plt.show()"
   ]
  },
  {
   "cell_type": "code",
   "execution_count": 106,
   "id": "59a67cae",
   "metadata": {},
   "outputs": [
    {
     "data": {
      "text/plain": [
       "-0.10873734795964711"
      ]
     },
     "execution_count": 106,
     "metadata": {},
     "output_type": "execute_result"
    }
   ],
   "source": [
    "beauty_clean['review_length'].corr(beauty_clean['star_rating'])"
   ]
  },
  {
   "cell_type": "markdown",
   "id": "02348d51",
   "metadata": {},
   "source": [
    "Based on the graph and correlation coefficient, there is virtually no correlation between review length and star ratings. This is contrary to our prediction that longer reviews might indicate extremely positive/negative ratings."
   ]
  },
  {
   "cell_type": "markdown",
   "id": "12df7353",
   "metadata": {},
   "source": [
    "### Distribution of Helpful Votes"
   ]
  },
  {
   "cell_type": "code",
   "execution_count": 107,
   "id": "850d2dc9",
   "metadata": {},
   "outputs": [],
   "source": [
    "# subsetting reviews by corporation\n",
    "loreal_reviews = beauty_clean[beauty_clean['corporation']==\"L'oreal\"]\n",
    "coty_reviews = beauty_clean[beauty_clean['corporation']==\"Coty\"]\n",
    "revlon_reviews = beauty_clean[beauty_clean['corporation']==\"Revlon\"]\n",
    "jnj_reviews = beauty_clean[beauty_clean['corporation']==\"Johnson & Johnson\"]\n",
    "png_reviews = beauty_clean[beauty_clean['corporation']==\"Proctor & Gamble\"]"
   ]
  },
  {
   "cell_type": "code",
   "execution_count": 111,
   "id": "6ae22266",
   "metadata": {
    "scrolled": false
   },
   "outputs": [
    {
     "data": {
      "text/plain": [
       "0.0      30921\n",
       "1.0       5371\n",
       "2.0       1540\n",
       "3.0        702\n",
       "4.0        360\n",
       "         ...  \n",
       "193.0        1\n",
       "377.0        1\n",
       "363.0        1\n",
       "135.0        1\n",
       "58.0         1\n",
       "Name: helpful_votes, Length: 104, dtype: int64"
      ]
     },
     "execution_count": 111,
     "metadata": {},
     "output_type": "execute_result"
    },
    {
     "data": {
      "image/png": "[encoded data removed]",
      "text/plain": [
       "<Figure size 720x864 with 6 Axes>"
      ]
     },
     "metadata": {
      "needs_background": "light"
     },
     "output_type": "display_data"
    }
   ],
   "source": [
    "# plotting distribution of helpful votes\n",
    "beauty_clean['helpful_votes'].hist(by=beauty_clean.corporation, figsize = (10, 12))\n",
    "plt.title('Distribution of Helpful Votes')\n",
    "\n",
    "beauty_clean['helpful_votes'].value_counts()"
   ]
  },
  {
   "cell_type": "markdown",
   "id": "de3d1cb4",
   "metadata": {},
   "source": [
    "As we can see, there are a lot of reviews with zero helpful votes and only a few reviews with many helpfu votes. When the distribution is plotted out, it is very hard to analyze the graph and not much can be taken away. I will be applying square root transformation to the graphs in an attempt to reduce the range."
   ]
  },
  {
   "cell_type": "code",
   "execution_count": 113,
   "id": "060c0f94",
   "metadata": {},
   "outputs": [
    {
     "data": {
      "image/png": "[encoded data removed]",
      "text/plain": [
       "<Figure size 720x864 with 6 Axes>"
      ]
     },
     "metadata": {
      "needs_background": "light"
     },
     "output_type": "display_data"
    }
   ],
   "source": [
    "# square root transformed graphs \n",
    "beauty_clean['helpful_votes'].apply(np.sqrt).hist(by=beauty_clean.corporation, figsize = (10, 12))\n",
    "plt.title('TransformedDistribution of Helpful Votes')\n",
    "plt.show()"
   ]
  },
  {
   "cell_type": "markdown",
   "id": "06800153",
   "metadata": {},
   "source": [
    "Unfortunately, there is still an extremely strong right skew in helpful votes. It is also not possible to apply log transform to this dataset as a lot of the values are zero."
   ]
  },
  {
   "cell_type": "markdown",
   "id": "f017a1d1",
   "metadata": {},
   "source": [
    "### Analyzing Verified Purchases and Vine Reviews by Company"
   ]
  },
  {
   "cell_type": "markdown",
   "id": "6d2ecccc",
   "metadata": {},
   "source": [
    "#### Percentages of Verified Purchases and Vine Reviews"
   ]
  },
  {
   "cell_type": "code",
   "execution_count": 66,
   "id": "2cf78a7a",
   "metadata": {},
   "outputs": [
    {
     "data": {
      "text/html": [
       "<div>\n",
       "<style scoped>\n",
       "    .dataframe tbody tr th:only-of-type {\n",
       "        vertical-align: middle;\n",
       "    }\n",
       "\n",
       "    .dataframe tbody tr th {\n",
       "        vertical-align: top;\n",
       "    }\n",
       "\n",
       "    .dataframe thead th {\n",
       "        text-align: right;\n",
       "    }\n",
       "</style>\n",
       "<table border=\"1\" class=\"dataframe\">\n",
       "  <thead>\n",
       "    <tr style=\"text-align: right;\">\n",
       "      <th></th>\n",
       "      <th>brand</th>\n",
       "      <th>vine_percent</th>\n",
       "      <th>vine_counts</th>\n",
       "      <th>verified_percent</th>\n",
       "      <th>verified_counts</th>\n",
       "      <th>total</th>\n",
       "    </tr>\n",
       "  </thead>\n",
       "  <tbody>\n",
       "    <tr>\n",
       "      <th>0</th>\n",
       "      <td>L'oreal</td>\n",
       "      <td>1.077469</td>\n",
       "      <td>158</td>\n",
       "      <td>86.749864</td>\n",
       "      <td>12721</td>\n",
       "      <td>14664</td>\n",
       "    </tr>\n",
       "    <tr>\n",
       "      <th>1</th>\n",
       "      <td>Coty</td>\n",
       "      <td>0.000000</td>\n",
       "      <td>0</td>\n",
       "      <td>86.926866</td>\n",
       "      <td>4588</td>\n",
       "      <td>5278</td>\n",
       "    </tr>\n",
       "    <tr>\n",
       "      <th>2</th>\n",
       "      <td>Revlon</td>\n",
       "      <td>0.469012</td>\n",
       "      <td>42</td>\n",
       "      <td>91.647125</td>\n",
       "      <td>8207</td>\n",
       "      <td>8955</td>\n",
       "    </tr>\n",
       "    <tr>\n",
       "      <th>3</th>\n",
       "      <td>Johnson &amp; Johnson</td>\n",
       "      <td>1.999091</td>\n",
       "      <td>220</td>\n",
       "      <td>84.334393</td>\n",
       "      <td>9281</td>\n",
       "      <td>11005</td>\n",
       "    </tr>\n",
       "    <tr>\n",
       "      <th>4</th>\n",
       "      <td>Proctor &amp; Gamble</td>\n",
       "      <td>0.000000</td>\n",
       "      <td>0</td>\n",
       "      <td>97.959184</td>\n",
       "      <td>96</td>\n",
       "      <td>98</td>\n",
       "    </tr>\n",
       "  </tbody>\n",
       "</table>\n",
       "</div>"
      ],
      "text/plain": [
       "               brand  vine_percent  vine_counts  verified_percent  \\\n",
       "0            L'oreal      1.077469          158         86.749864   \n",
       "1               Coty      0.000000            0         86.926866   \n",
       "2             Revlon      0.469012           42         91.647125   \n",
       "3  Johnson & Johnson      1.999091          220         84.334393   \n",
       "4   Proctor & Gamble      0.000000            0         97.959184   \n",
       "\n",
       "   verified_counts  total  \n",
       "0            12721  14664  \n",
       "1             4588   5278  \n",
       "2             8207   8955  \n",
       "3             9281  11005  \n",
       "4               96     98  "
      ]
     },
     "execution_count": 66,
     "metadata": {},
     "output_type": "execute_result"
    }
   ],
   "source": [
    "brand_reviews = [loreal_reviews, coty_reviews, revlon_reviews, jnj_reviews, png_reviews]\n",
    "\n",
    "vine_percent = [len(brand[brand['vine']=='Y'])/len(brand)*100 for brand in brand_reviews]\n",
    "vine_counts = [len(brand[brand['vine']=='Y']) for brand in brand_reviews]\n",
    "\n",
    "ver_percent = [len(brand[brand['verified_purchase']=='Y'])/len(brand)*100 for brand in brand_reviews]\n",
    "ver_counts = [len(brand[brand['verified_purchase']=='Y']) for brand in brand_reviews]\n",
    "\n",
    "total = [len(brand) for brand in brand_reviews]\n",
    "\n",
    "percentile = pd.DataFrame({\n",
    "    'brand':[\"L'oreal\", 'Coty', 'Revlon', 'Johnson & Johnson', 'Proctor & Gamble'],\n",
    "    'vine_percent':vine_percent,\n",
    "    'vine_counts':vine_counts,\n",
    "    'verified_percent':ver_percent,\n",
    "    'verified_counts':ver_counts,\n",
    "    'total':total\n",
    "})\n",
    "percentile"
   ]
  },
  {
   "cell_type": "markdown",
   "id": "3928ce3b",
   "metadata": {},
   "source": [
    "#### Relationship between Helpful Votes and Verified Purchases"
   ]
  },
  {
   "cell_type": "code",
   "execution_count": 141,
   "id": "9611a350",
   "metadata": {},
   "outputs": [
    {
     "data": {
      "text/plain": [
       "verified_purchase  corporation      \n",
       "N                  Coty                 2.868116\n",
       "                   Johnson & Johnson    1.582947\n",
       "                   L'oreal              2.019557\n",
       "                   Proctor & Gamble     1.000000\n",
       "                   Revlon               2.578877\n",
       "Y                  Coty                 0.661726\n",
       "                   Johnson & Johnson    0.719211\n",
       "                   L'oreal              0.661976\n",
       "                   Proctor & Gamble     0.468750\n",
       "                   Revlon               0.587060\n",
       "Name: helpful_votes, dtype: float64"
      ]
     },
     "execution_count": 141,
     "metadata": {},
     "output_type": "execute_result"
    },
    {
     "data": {
      "image/png": "[encoded data removed]",
      "text/plain": [
       "<Figure size 1008x576 with 2 Axes>"
      ]
     },
     "metadata": {
      "needs_background": "light"
     },
     "output_type": "display_data"
    }
   ],
   "source": [
    "# boxplot\n",
    "beauty_clean.groupby(['verified_purchase']).boxplot(column=['helpful_votes'], by=['corporation'], figsize = (14, 8))\n",
    "# how to add labels to grouped chart?\n",
    "\n",
    "# summary statistics: mean\n",
    "beauty_clean.groupby(['verified_purchase','corporation'])['helpful_votes'].mean()"
   ]
  },
  {
   "cell_type": "markdown",
   "id": "3edd9f9c",
   "metadata": {},
   "source": [
    "#### Verfied Purchases and Star Ratings"
   ]
  },
  {
   "cell_type": "code",
   "execution_count": 145,
   "id": "8b98a97b",
   "metadata": {},
   "outputs": [
    {
     "data": {
      "text/plain": [
       "verified_purchase  corporation      \n",
       "N                  Coty                 3.636232\n",
       "                   Johnson & Johnson    3.852088\n",
       "                   L'oreal              3.722594\n",
       "                   Proctor & Gamble     5.000000\n",
       "                   Revlon               3.534759\n",
       "Y                  Coty                 4.113121\n",
       "                   Johnson & Johnson    4.410839\n",
       "                   L'oreal              4.239289\n",
       "                   Proctor & Gamble     4.052083\n",
       "                   Revlon               4.171561\n",
       "Name: star_rating, dtype: float64"
      ]
     },
     "execution_count": 145,
     "metadata": {},
     "output_type": "execute_result"
    },
    {
     "data": {
      "image/png": "[encoded data removed]",
      "text/plain": [
       "<Figure size 1008x576 with 2 Axes>"
      ]
     },
     "metadata": {
      "needs_background": "light"
     },
     "output_type": "display_data"
    }
   ],
   "source": [
    "# boxplot\n",
    "beauty_clean.groupby(['verified_purchase']).boxplot(column=['star_rating'], by=['corporation'], figsize = (14, 8))\n",
    "# how to add labels to grouped chart?\n",
    "\n",
    "# summary statistics: mean\n",
    "beauty_clean.groupby(['verified_purchase','corporation'])['star_rating'].mean()"
   ]
  },
  {
   "cell_type": "markdown",
   "id": "fbda57aa",
   "metadata": {},
   "source": [
    "# Question for Reviewers\n",
    "1. Are we able to make predictions from observed trends in the Amazon beauty reviews? If so, what types of predictions will we be able to reliably make?\n",
    "2. Should we attempt to conduct natural language processing/sentiment analysis on the review text? Will that be beyond our capabilities as introductory students.\n",
    "3. Should we expand on into new product categories/corporations to get a more well-rounded overview of consumer review trends?\n",
    "4. Is it concerning that there doesn't seem to be any clear differences in review trends between corporations? Should we and is it possible to pivot our project?"
   ]
  }
 ],
 "metadata": {
  "kernelspec": {
   "display_name": "Python 3",
   "language": "python",
   "name": "python3"
  },
  "language_info": {
   "codemirror_mode": {
    "name": "ipython",
    "version": 3
   },
   "file_extension": ".py",
   "mimetype": "text/x-python",
   "name": "python",
   "nbconvert_exporter": "python",
   "pygments_lexer": "ipython3",
   "version": "3.8.8"
  }
 },
 "nbformat": 4,
 "nbformat_minor": 5
}
