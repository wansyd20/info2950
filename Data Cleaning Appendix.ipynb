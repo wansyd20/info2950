{
 "cells": [
  {
   "cell_type": "markdown",
   "id": "2b29dce2",
   "metadata": {},
   "source": [
    "# Data Cleaning Appendix"
   ]
  },
  {
   "cell_type": "markdown",
   "id": "16f38d1a",
   "metadata": {},
   "source": [
    "Michelle Hui (msh334)\n",
    "Sydney Wan (ssw73)\n",
    "\n",
    "We are comparing two datasets against each other. One is the Amazon Reviews dataset, specifically on products Amazon categorizes as \"Beauty\". The second is a dataset with market data on large beauty corporations in 2014-2015. We performed collection and cleaning, data description, and exploratory data analysis on both datasets. We have labeled in each section which of the two datasets we are looking at."
   ]
  },
  {
   "cell_type": "code",
   "execution_count": 2,
   "id": "1238ec41",
   "metadata": {},
   "outputs": [],
   "source": [
    "import pandas as pd\n",
    "import matplotlib.pyplot as plt\n",
    "import numpy as np"
   ]
  },
  {
   "cell_type": "markdown",
   "id": "ccd7f44e",
   "metadata": {},
   "source": [
    "## Beauty Market Data"
   ]
  },
  {
   "cell_type": "markdown",
   "id": "fafd7e62",
   "metadata": {},
   "source": [
    "Reading in the raw csv file"
   ]
  },
  {
   "cell_type": "code",
   "execution_count": 3,
   "id": "13be1652",
   "metadata": {},
   "outputs": [],
   "source": [
    "market_data_raw = pd.read_csv('beauty_market_sales.csv')"
   ]
  },
  {
   "cell_type": "code",
   "execution_count": 4,
   "id": "3fc1d44a",
   "metadata": {},
   "outputs": [
    {
     "data": {
      "text/html": [
       "<div>\n",
       "<style scoped>\n",
       "    .dataframe tbody tr th:only-of-type {\n",
       "        vertical-align: middle;\n",
       "    }\n",
       "\n",
       "    .dataframe tbody tr th {\n",
       "        vertical-align: top;\n",
       "    }\n",
       "\n",
       "    .dataframe thead th {\n",
       "        text-align: right;\n",
       "    }\n",
       "</style>\n",
       "<table border=\"1\" class=\"dataframe\">\n",
       "  <thead>\n",
       "    <tr style=\"text-align: right;\">\n",
       "      <th></th>\n",
       "      <th>Unnamed: 0</th>\n",
       "      <th>2014_sales_millions</th>\n",
       "      <th>2014_market_share_percent</th>\n",
       "      <th>2015_sales_millions</th>\n",
       "      <th>2015_market_share_percent</th>\n",
       "      <th>sale_change_percent</th>\n",
       "      <th>share_change_percent</th>\n",
       "    </tr>\n",
       "  </thead>\n",
       "  <tbody>\n",
       "    <tr>\n",
       "      <th>0</th>\n",
       "      <td>L'Oréal USA</td>\n",
       "      <td>1,797.9</td>\n",
       "      <td>39.1</td>\n",
       "      <td>1,815.0</td>\n",
       "      <td>38.6</td>\n",
       "      <td>1.0</td>\n",
       "      <td>-0.5</td>\n",
       "    </tr>\n",
       "    <tr>\n",
       "      <th>1</th>\n",
       "      <td>Procter &amp; Gamble</td>\n",
       "      <td>954.7</td>\n",
       "      <td>20.8</td>\n",
       "      <td>946.1</td>\n",
       "      <td>20.1</td>\n",
       "      <td>-0.9</td>\n",
       "      <td>-0.7</td>\n",
       "    </tr>\n",
       "    <tr>\n",
       "      <th>2</th>\n",
       "      <td>Revlon Inc.</td>\n",
       "      <td>670.5</td>\n",
       "      <td>14.6</td>\n",
       "      <td>661.6</td>\n",
       "      <td>14.1</td>\n",
       "      <td>-1.3</td>\n",
       "      <td>-0.5</td>\n",
       "    </tr>\n",
       "    <tr>\n",
       "      <th>3</th>\n",
       "      <td>Coty Beauty</td>\n",
       "      <td>262.3</td>\n",
       "      <td>5.7</td>\n",
       "      <td>263.8</td>\n",
       "      <td>5.6</td>\n",
       "      <td>0.5</td>\n",
       "      <td>-0.1</td>\n",
       "    </tr>\n",
       "    <tr>\n",
       "      <th>4</th>\n",
       "      <td>Johnson &amp; Johnson</td>\n",
       "      <td>171.9</td>\n",
       "      <td>3.7</td>\n",
       "      <td>176.0</td>\n",
       "      <td>3.7</td>\n",
       "      <td>2.4</td>\n",
       "      <td>-</td>\n",
       "    </tr>\n",
       "    <tr>\n",
       "      <th>5</th>\n",
       "      <td>Subtotal</td>\n",
       "      <td>3,857.4</td>\n",
       "      <td>84.0</td>\n",
       "      <td>3,862.5</td>\n",
       "      <td>82.2</td>\n",
       "      <td>0.1</td>\n",
       "      <td>-1.8</td>\n",
       "    </tr>\n",
       "    <tr>\n",
       "      <th>6</th>\n",
       "      <td>Private label</td>\n",
       "      <td>49.5</td>\n",
       "      <td>1.1</td>\n",
       "      <td>56.2</td>\n",
       "      <td>1.2</td>\n",
       "      <td>13.6</td>\n",
       "      <td>0.1</td>\n",
       "    </tr>\n",
       "    <tr>\n",
       "      <th>7</th>\n",
       "      <td>Others</td>\n",
       "      <td>686.2</td>\n",
       "      <td>14.9</td>\n",
       "      <td>780.4</td>\n",
       "      <td>16.6</td>\n",
       "      <td>13.7</td>\n",
       "      <td>1.7</td>\n",
       "    </tr>\n",
       "  </tbody>\n",
       "</table>\n",
       "</div>"
      ],
      "text/plain": [
       "          Unnamed: 0 2014_sales_millions  2014_market_share_percent  \\\n",
       "0        L'Oréal USA             1,797.9                       39.1   \n",
       "1   Procter & Gamble               954.7                       20.8   \n",
       "2        Revlon Inc.               670.5                       14.6   \n",
       "3        Coty Beauty               262.3                        5.7   \n",
       "4  Johnson & Johnson               171.9                        3.7   \n",
       "5           Subtotal             3,857.4                       84.0   \n",
       "6      Private label                49.5                        1.1   \n",
       "7             Others               686.2                       14.9   \n",
       "\n",
       "  2015_sales_millions  2015_market_share_percent  sale_change_percent  \\\n",
       "0             1,815.0                       38.6                  1.0   \n",
       "1               946.1                       20.1                 -0.9   \n",
       "2               661.6                       14.1                 -1.3   \n",
       "3               263.8                        5.6                  0.5   \n",
       "4               176.0                        3.7                  2.4   \n",
       "5             3,862.5                       82.2                  0.1   \n",
       "6                56.2                        1.2                 13.6   \n",
       "7               780.4                       16.6                 13.7   \n",
       "\n",
       "  share_change_percent  \n",
       "0                 -0.5  \n",
       "1                 -0.7  \n",
       "2                 -0.5  \n",
       "3                 -0.1  \n",
       "4                    -  \n",
       "5                 -1.8  \n",
       "6                  0.1  \n",
       "7                  1.7  "
      ]
     },
     "execution_count": 4,
     "metadata": {},
     "output_type": "execute_result"
    }
   ],
   "source": [
    "market_data_raw"
   ]
  },
  {
   "cell_type": "markdown",
   "id": "110eaa70",
   "metadata": {},
   "source": [
    "Renaming the ```Unnamed:0``` column title to company"
   ]
  },
  {
   "cell_type": "code",
   "execution_count": 5,
   "id": "f651ef73",
   "metadata": {},
   "outputs": [],
   "source": [
    "market_data = market_data_raw.rename(columns = {'Unnamed: 0' : \"Company\"})"
   ]
  },
  {
   "cell_type": "markdown",
   "id": "8e445c21",
   "metadata": {},
   "source": [
    "For our research purposes, we only are looking at the top 5 companies with clear company names, so we discard the 'Private label', 'Others', and 'Subtotal' rows"
   ]
  },
  {
   "cell_type": "code",
   "execution_count": 6,
   "id": "c0a66508",
   "metadata": {},
   "outputs": [
    {
     "data": {
      "text/html": [
       "<div>\n",
       "<style scoped>\n",
       "    .dataframe tbody tr th:only-of-type {\n",
       "        vertical-align: middle;\n",
       "    }\n",
       "\n",
       "    .dataframe tbody tr th {\n",
       "        vertical-align: top;\n",
       "    }\n",
       "\n",
       "    .dataframe thead th {\n",
       "        text-align: right;\n",
       "    }\n",
       "</style>\n",
       "<table border=\"1\" class=\"dataframe\">\n",
       "  <thead>\n",
       "    <tr style=\"text-align: right;\">\n",
       "      <th></th>\n",
       "      <th>Company</th>\n",
       "      <th>2014_sales_millions</th>\n",
       "      <th>2014_market_share_percent</th>\n",
       "      <th>2015_sales_millions</th>\n",
       "      <th>2015_market_share_percent</th>\n",
       "      <th>sale_change_percent</th>\n",
       "      <th>share_change_percent</th>\n",
       "    </tr>\n",
       "  </thead>\n",
       "  <tbody>\n",
       "    <tr>\n",
       "      <th>0</th>\n",
       "      <td>L'Oréal USA</td>\n",
       "      <td>1,797.9</td>\n",
       "      <td>39.1</td>\n",
       "      <td>1,815.0</td>\n",
       "      <td>38.6</td>\n",
       "      <td>1.0</td>\n",
       "      <td>-0.5</td>\n",
       "    </tr>\n",
       "    <tr>\n",
       "      <th>1</th>\n",
       "      <td>Procter &amp; Gamble</td>\n",
       "      <td>954.7</td>\n",
       "      <td>20.8</td>\n",
       "      <td>946.1</td>\n",
       "      <td>20.1</td>\n",
       "      <td>-0.9</td>\n",
       "      <td>-0.7</td>\n",
       "    </tr>\n",
       "    <tr>\n",
       "      <th>2</th>\n",
       "      <td>Revlon Inc.</td>\n",
       "      <td>670.5</td>\n",
       "      <td>14.6</td>\n",
       "      <td>661.6</td>\n",
       "      <td>14.1</td>\n",
       "      <td>-1.3</td>\n",
       "      <td>-0.5</td>\n",
       "    </tr>\n",
       "    <tr>\n",
       "      <th>3</th>\n",
       "      <td>Coty Beauty</td>\n",
       "      <td>262.3</td>\n",
       "      <td>5.7</td>\n",
       "      <td>263.8</td>\n",
       "      <td>5.6</td>\n",
       "      <td>0.5</td>\n",
       "      <td>-0.1</td>\n",
       "    </tr>\n",
       "    <tr>\n",
       "      <th>4</th>\n",
       "      <td>Johnson &amp; Johnson</td>\n",
       "      <td>171.9</td>\n",
       "      <td>3.7</td>\n",
       "      <td>176.0</td>\n",
       "      <td>3.7</td>\n",
       "      <td>2.4</td>\n",
       "      <td>-</td>\n",
       "    </tr>\n",
       "  </tbody>\n",
       "</table>\n",
       "</div>"
      ],
      "text/plain": [
       "             Company 2014_sales_millions  2014_market_share_percent  \\\n",
       "0        L'Oréal USA             1,797.9                       39.1   \n",
       "1   Procter & Gamble               954.7                       20.8   \n",
       "2        Revlon Inc.               670.5                       14.6   \n",
       "3        Coty Beauty               262.3                        5.7   \n",
       "4  Johnson & Johnson               171.9                        3.7   \n",
       "\n",
       "  2015_sales_millions  2015_market_share_percent  sale_change_percent  \\\n",
       "0             1,815.0                       38.6                  1.0   \n",
       "1               946.1                       20.1                 -0.9   \n",
       "2               661.6                       14.1                 -1.3   \n",
       "3               263.8                        5.6                  0.5   \n",
       "4               176.0                        3.7                  2.4   \n",
       "\n",
       "  share_change_percent  \n",
       "0                 -0.5  \n",
       "1                 -0.7  \n",
       "2                 -0.5  \n",
       "3                 -0.1  \n",
       "4                    -  "
      ]
     },
     "execution_count": 6,
     "metadata": {},
     "output_type": "execute_result"
    }
   ],
   "source": [
    "market_data = market_data.loc[0:4, :]\n",
    "market_data"
   ]
  },
  {
   "cell_type": "markdown",
   "id": "a8877181",
   "metadata": {},
   "source": [
    "Upon inspection, we see below that the 2014 and 2015 sales in millions, as well as the share change percent columns are strings, are not numerical data types. We hard code these columns and change them to floats so that we can perform statistical analysis on them"
   ]
  },
  {
   "cell_type": "code",
   "execution_count": 7,
   "id": "b360b004",
   "metadata": {},
   "outputs": [
    {
     "data": {
      "text/plain": [
       "Company                       object\n",
       "2014_sales_millions           object\n",
       "2014_market_share_percent    float64\n",
       "2015_sales_millions           object\n",
       "2015_market_share_percent    float64\n",
       "sale_change_percent          float64\n",
       "share_change_percent          object\n",
       "dtype: object"
      ]
     },
     "execution_count": 7,
     "metadata": {},
     "output_type": "execute_result"
    }
   ],
   "source": [
    "market_data.dtypes"
   ]
  },
  {
   "cell_type": "code",
   "execution_count": 8,
   "id": "5ec1f781",
   "metadata": {},
   "outputs": [],
   "source": [
    "market_data.loc[:, '2014_sales_millions'] = [1797.9, 954.7, 670.5, 262.3, 171.9]\n",
    "market_data.loc[:, '2015_sales_millions'] = [1815.0, 946.1, 661.6, 263.8, 176]\n",
    "market_data.loc[:, 'share_change_percent'] = [-0.5, -0.7, -0.5, -0.1, 0]"
   ]
  },
  {
   "cell_type": "code",
   "execution_count": 15,
   "id": "9dcd21ac",
   "metadata": {},
   "outputs": [
    {
     "data": {
      "text/plain": [
       "Company                       object\n",
       "2014_sales_millions          float64\n",
       "2014_market_share_percent    float64\n",
       "2015_sales_millions          float64\n",
       "2015_market_share_percent    float64\n",
       "sale_change_percent          float64\n",
       "share_change_percent         float64\n",
       "dtype: object"
      ]
     },
     "execution_count": 15,
     "metadata": {},
     "output_type": "execute_result"
    }
   ],
   "source": [
    "#verifying that all dtypes are floats\n",
    "market_data.dtypes"
   ]
  },
  {
   "cell_type": "code",
   "execution_count": 10,
   "id": "36ba19a4",
   "metadata": {},
   "outputs": [
    {
     "data": {
      "text/html": [
       "<div>\n",
       "<style scoped>\n",
       "    .dataframe tbody tr th:only-of-type {\n",
       "        vertical-align: middle;\n",
       "    }\n",
       "\n",
       "    .dataframe tbody tr th {\n",
       "        vertical-align: top;\n",
       "    }\n",
       "\n",
       "    .dataframe thead th {\n",
       "        text-align: right;\n",
       "    }\n",
       "</style>\n",
       "<table border=\"1\" class=\"dataframe\">\n",
       "  <thead>\n",
       "    <tr style=\"text-align: right;\">\n",
       "      <th></th>\n",
       "      <th>Company</th>\n",
       "      <th>2014_sales_millions</th>\n",
       "      <th>2014_market_share_percent</th>\n",
       "      <th>2015_sales_millions</th>\n",
       "      <th>2015_market_share_percent</th>\n",
       "      <th>sale_change_percent</th>\n",
       "      <th>share_change_percent</th>\n",
       "    </tr>\n",
       "  </thead>\n",
       "  <tbody>\n",
       "    <tr>\n",
       "      <th>0</th>\n",
       "      <td>L'Oréal USA</td>\n",
       "      <td>1797.9</td>\n",
       "      <td>39.1</td>\n",
       "      <td>1815.0</td>\n",
       "      <td>38.6</td>\n",
       "      <td>1.0</td>\n",
       "      <td>-0.5</td>\n",
       "    </tr>\n",
       "    <tr>\n",
       "      <th>1</th>\n",
       "      <td>Procter &amp; Gamble</td>\n",
       "      <td>954.7</td>\n",
       "      <td>20.8</td>\n",
       "      <td>946.1</td>\n",
       "      <td>20.1</td>\n",
       "      <td>-0.9</td>\n",
       "      <td>-0.7</td>\n",
       "    </tr>\n",
       "    <tr>\n",
       "      <th>2</th>\n",
       "      <td>Revlon Inc.</td>\n",
       "      <td>670.5</td>\n",
       "      <td>14.6</td>\n",
       "      <td>661.6</td>\n",
       "      <td>14.1</td>\n",
       "      <td>-1.3</td>\n",
       "      <td>-0.5</td>\n",
       "    </tr>\n",
       "    <tr>\n",
       "      <th>3</th>\n",
       "      <td>Coty Beauty</td>\n",
       "      <td>262.3</td>\n",
       "      <td>5.7</td>\n",
       "      <td>263.8</td>\n",
       "      <td>5.6</td>\n",
       "      <td>0.5</td>\n",
       "      <td>-0.1</td>\n",
       "    </tr>\n",
       "    <tr>\n",
       "      <th>4</th>\n",
       "      <td>Johnson &amp; Johnson</td>\n",
       "      <td>171.9</td>\n",
       "      <td>3.7</td>\n",
       "      <td>176.0</td>\n",
       "      <td>3.7</td>\n",
       "      <td>2.4</td>\n",
       "      <td>0.0</td>\n",
       "    </tr>\n",
       "  </tbody>\n",
       "</table>\n",
       "</div>"
      ],
      "text/plain": [
       "             Company  2014_sales_millions  2014_market_share_percent  \\\n",
       "0        L'Oréal USA               1797.9                       39.1   \n",
       "1   Procter & Gamble                954.7                       20.8   \n",
       "2        Revlon Inc.                670.5                       14.6   \n",
       "3        Coty Beauty                262.3                        5.7   \n",
       "4  Johnson & Johnson                171.9                        3.7   \n",
       "\n",
       "   2015_sales_millions  2015_market_share_percent  sale_change_percent  \\\n",
       "0               1815.0                       38.6                  1.0   \n",
       "1                946.1                       20.1                 -0.9   \n",
       "2                661.6                       14.1                 -1.3   \n",
       "3                263.8                        5.6                  0.5   \n",
       "4                176.0                        3.7                  2.4   \n",
       "\n",
       "   share_change_percent  \n",
       "0                  -0.5  \n",
       "1                  -0.7  \n",
       "2                  -0.5  \n",
       "3                  -0.1  \n",
       "4                   0.0  "
      ]
     },
     "execution_count": 10,
     "metadata": {},
     "output_type": "execute_result"
    }
   ],
   "source": [
    "market_data"
   ]
  },
  {
   "cell_type": "markdown",
   "id": "9b34403a",
   "metadata": {},
   "source": [
    "Our last step in cleaning this data is to save the newly cleaned data to a new csv file, which we then read in again so that we don't have to rerun the previous code next time we want to use this data."
   ]
  },
  {
   "cell_type": "code",
   "execution_count": 11,
   "id": "ee4db8db",
   "metadata": {},
   "outputs": [],
   "source": [
    "market_data.to_csv('beauty_market_data.csv', index = False)"
   ]
  },
  {
   "cell_type": "code",
   "execution_count": 12,
   "id": "58fde3d4",
   "metadata": {},
   "outputs": [],
   "source": [
    "market_sales = pd.read_csv('beauty_market_data.csv')"
   ]
  },
  {
   "cell_type": "code",
   "execution_count": 13,
   "id": "352978fc",
   "metadata": {},
   "outputs": [
    {
     "data": {
      "text/html": [
       "<div>\n",
       "<style scoped>\n",
       "    .dataframe tbody tr th:only-of-type {\n",
       "        vertical-align: middle;\n",
       "    }\n",
       "\n",
       "    .dataframe tbody tr th {\n",
       "        vertical-align: top;\n",
       "    }\n",
       "\n",
       "    .dataframe thead th {\n",
       "        text-align: right;\n",
       "    }\n",
       "</style>\n",
       "<table border=\"1\" class=\"dataframe\">\n",
       "  <thead>\n",
       "    <tr style=\"text-align: right;\">\n",
       "      <th></th>\n",
       "      <th>Company</th>\n",
       "      <th>2014_sales_millions</th>\n",
       "      <th>2014_market_share_percent</th>\n",
       "      <th>2015_sales_millions</th>\n",
       "      <th>2015_market_share_percent</th>\n",
       "      <th>sale_change_percent</th>\n",
       "      <th>share_change_percent</th>\n",
       "    </tr>\n",
       "  </thead>\n",
       "  <tbody>\n",
       "    <tr>\n",
       "      <th>0</th>\n",
       "      <td>L'Oréal USA</td>\n",
       "      <td>1797.9</td>\n",
       "      <td>39.1</td>\n",
       "      <td>1815.0</td>\n",
       "      <td>38.6</td>\n",
       "      <td>1.0</td>\n",
       "      <td>-0.5</td>\n",
       "    </tr>\n",
       "    <tr>\n",
       "      <th>1</th>\n",
       "      <td>Procter &amp; Gamble</td>\n",
       "      <td>954.7</td>\n",
       "      <td>20.8</td>\n",
       "      <td>946.1</td>\n",
       "      <td>20.1</td>\n",
       "      <td>-0.9</td>\n",
       "      <td>-0.7</td>\n",
       "    </tr>\n",
       "    <tr>\n",
       "      <th>2</th>\n",
       "      <td>Revlon Inc.</td>\n",
       "      <td>670.5</td>\n",
       "      <td>14.6</td>\n",
       "      <td>661.6</td>\n",
       "      <td>14.1</td>\n",
       "      <td>-1.3</td>\n",
       "      <td>-0.5</td>\n",
       "    </tr>\n",
       "    <tr>\n",
       "      <th>3</th>\n",
       "      <td>Coty Beauty</td>\n",
       "      <td>262.3</td>\n",
       "      <td>5.7</td>\n",
       "      <td>263.8</td>\n",
       "      <td>5.6</td>\n",
       "      <td>0.5</td>\n",
       "      <td>-0.1</td>\n",
       "    </tr>\n",
       "    <tr>\n",
       "      <th>4</th>\n",
       "      <td>Johnson &amp; Johnson</td>\n",
       "      <td>171.9</td>\n",
       "      <td>3.7</td>\n",
       "      <td>176.0</td>\n",
       "      <td>3.7</td>\n",
       "      <td>2.4</td>\n",
       "      <td>0.0</td>\n",
       "    </tr>\n",
       "  </tbody>\n",
       "</table>\n",
       "</div>"
      ],
      "text/plain": [
       "             Company  2014_sales_millions  2014_market_share_percent  \\\n",
       "0        L'Oréal USA               1797.9                       39.1   \n",
       "1   Procter & Gamble                954.7                       20.8   \n",
       "2        Revlon Inc.                670.5                       14.6   \n",
       "3        Coty Beauty                262.3                        5.7   \n",
       "4  Johnson & Johnson                171.9                        3.7   \n",
       "\n",
       "   2015_sales_millions  2015_market_share_percent  sale_change_percent  \\\n",
       "0               1815.0                       38.6                  1.0   \n",
       "1                946.1                       20.1                 -0.9   \n",
       "2                661.6                       14.1                 -1.3   \n",
       "3                263.8                        5.6                  0.5   \n",
       "4                176.0                        3.7                  2.4   \n",
       "\n",
       "   share_change_percent  \n",
       "0                  -0.5  \n",
       "1                  -0.7  \n",
       "2                  -0.5  \n",
       "3                  -0.1  \n",
       "4                   0.0  "
      ]
     },
     "execution_count": 13,
     "metadata": {},
     "output_type": "execute_result"
    }
   ],
   "source": [
    "market_sales"
   ]
  },
  {
   "cell_type": "markdown",
   "id": "4313344a",
   "metadata": {},
   "source": [
    "## Amazon Reviews"
   ]
  },
  {
   "cell_type": "markdown",
   "id": "6f5ad7db",
   "metadata": {},
   "source": [
    "Now we will read in the raw tsv file for the Amazon Beauty Product Reviews. We are skipping the lines that have extra columns in order to create consistency and prevent errors later on . The error_bad_lines skips these rows with weird entries, hence the long warning."
   ]
  },
  {
   "cell_type": "code",
   "execution_count": 16,
   "id": "9a3955fe",
   "metadata": {
    "scrolled": true
   },
   "outputs": [
    {
     "name": "stderr",
     "output_type": "stream",
     "text": [
      "b'Skipping line 10093: expected 15 fields, saw 22\\nSkipping line 31965: expected 15 fields, saw 22\\nSkipping line 49886: expected 15 fields, saw 22\\nSkipping line 49905: expected 15 fields, saw 22\\n'\n",
      "b'Skipping line 67579: expected 15 fields, saw 22\\nSkipping line 75367: expected 15 fields, saw 22\\nSkipping line 92462: expected 15 fields, saw 22\\nSkipping line 105041: expected 15 fields, saw 22\\nSkipping line 109697: expected 15 fields, saw 22\\nSkipping line 121931: expected 15 fields, saw 22\\n'\n",
      "b'Skipping line 139492: expected 15 fields, saw 22\\nSkipping line 158729: expected 15 fields, saw 22\\nSkipping line 165784: expected 15 fields, saw 22\\nSkipping line 176996: expected 15 fields, saw 22\\nSkipping line 182928: expected 15 fields, saw 22\\nSkipping line 195841: expected 15 fields, saw 22\\n'\n",
      "b'Skipping line 196938: expected 15 fields, saw 22\\nSkipping line 202535: expected 15 fields, saw 22\\nSkipping line 261147: expected 15 fields, saw 22\\n'\n",
      "b'Skipping line 265777: expected 15 fields, saw 22\\nSkipping line 277693: expected 15 fields, saw 22\\nSkipping line 280010: expected 15 fields, saw 22\\nSkipping line 296315: expected 15 fields, saw 22\\nSkipping line 299043: expected 15 fields, saw 22\\n'\n",
      "b'Skipping line 334564: expected 15 fields, saw 22\\nSkipping line 337801: expected 15 fields, saw 22\\nSkipping line 341391: expected 15 fields, saw 22\\nSkipping line 354940: expected 15 fields, saw 22\\nSkipping line 366330: expected 15 fields, saw 22\\nSkipping line 367649: expected 15 fields, saw 22\\n'\n",
      "b'Skipping line 399174: expected 15 fields, saw 22\\nSkipping line 414439: expected 15 fields, saw 22\\n'\n",
      "b'Skipping line 473579: expected 15 fields, saw 22\\nSkipping line 483540: expected 15 fields, saw 22\\nSkipping line 499744: expected 15 fields, saw 22\\nSkipping line 505775: expected 15 fields, saw 22\\n'\n",
      "b'Skipping line 547693: expected 15 fields, saw 22\\nSkipping line 561254: expected 15 fields, saw 22\\n'\n",
      "b'Skipping line 609329: expected 15 fields, saw 22\\nSkipping line 642814: expected 15 fields, saw 22\\nSkipping line 643189: expected 15 fields, saw 22\\nSkipping line 647075: expected 15 fields, saw 22\\nSkipping line 647457: expected 15 fields, saw 22\\n'\n",
      "b'Skipping line 660868: expected 15 fields, saw 22\\nSkipping line 668514: expected 15 fields, saw 22\\nSkipping line 673314: expected 15 fields, saw 22\\nSkipping line 700416: expected 15 fields, saw 22\\n'\n",
      "b'Skipping line 723492: expected 15 fields, saw 22\\nSkipping line 725052: expected 15 fields, saw 22\\nSkipping line 726222: expected 15 fields, saw 22\\nSkipping line 744078: expected 15 fields, saw 22\\nSkipping line 753129: expected 15 fields, saw 22\\nSkipping line 758347: expected 15 fields, saw 22\\nSkipping line 759076: expected 15 fields, saw 22\\nSkipping line 759139: expected 15 fields, saw 22\\nSkipping line 768106: expected 15 fields, saw 22\\nSkipping line 777835: expected 15 fields, saw 22\\nSkipping line 779763: expected 15 fields, saw 22\\nSkipping line 781395: expected 15 fields, saw 22\\n'\n",
      "b'Skipping line 787023: expected 15 fields, saw 22\\nSkipping line 811679: expected 15 fields, saw 22\\nSkipping line 811739: expected 15 fields, saw 22\\n'\n",
      "b'Skipping line 855784: expected 15 fields, saw 22\\nSkipping line 878325: expected 15 fields, saw 22\\nSkipping line 886822: expected 15 fields, saw 22\\nSkipping line 890742: expected 15 fields, saw 22\\n'\n",
      "b'Skipping line 919607: expected 15 fields, saw 22\\nSkipping line 920655: expected 15 fields, saw 22\\nSkipping line 923107: expected 15 fields, saw 22\\nSkipping line 930890: expected 15 fields, saw 22\\nSkipping line 932841: expected 15 fields, saw 22\\n'\n",
      "b'Skipping line 1003214: expected 15 fields, saw 22\\nSkipping line 1007588: expected 15 fields, saw 22\\nSkipping line 1018374: expected 15 fields, saw 22\\nSkipping line 1022909: expected 15 fields, saw 22\\nSkipping line 1030983: expected 15 fields, saw 22\\nSkipping line 1048441: expected 15 fields, saw 22\\n'\n",
      "b'Skipping line 1056292: expected 15 fields, saw 22\\nSkipping line 1056518: expected 15 fields, saw 22\\nSkipping line 1073064: expected 15 fields, saw 22\\nSkipping line 1088887: expected 15 fields, saw 22\\nSkipping line 1103881: expected 15 fields, saw 22\\nSkipping line 1111021: expected 15 fields, saw 22\\nSkipping line 1111314: expected 15 fields, saw 22\\n'\n",
      "b'Skipping line 1119421: expected 15 fields, saw 22\\nSkipping line 1119549: expected 15 fields, saw 22\\nSkipping line 1130122: expected 15 fields, saw 22\\nSkipping line 1132767: expected 15 fields, saw 22\\nSkipping line 1143315: expected 15 fields, saw 22\\nSkipping line 1151947: expected 15 fields, saw 22\\nSkipping line 1154207: expected 15 fields, saw 22\\nSkipping line 1154616: expected 15 fields, saw 22\\nSkipping line 1155875: expected 15 fields, saw 22\\nSkipping line 1164714: expected 15 fields, saw 22\\nSkipping line 1164959: expected 15 fields, saw 22\\nSkipping line 1169410: expected 15 fields, saw 22\\n'\n",
      "b'Skipping line 1184604: expected 15 fields, saw 22\\nSkipping line 1203964: expected 15 fields, saw 22\\nSkipping line 1211287: expected 15 fields, saw 22\\nSkipping line 1217834: expected 15 fields, saw 22\\nSkipping line 1235346: expected 15 fields, saw 22\\nSkipping line 1238073: expected 15 fields, saw 22\\nSkipping line 1238439: expected 15 fields, saw 22\\n'\n",
      "b'Skipping line 1246837: expected 15 fields, saw 22\\nSkipping line 1263235: expected 15 fields, saw 22\\nSkipping line 1265620: expected 15 fields, saw 22\\n'\n",
      "b'Skipping line 1312400: expected 15 fields, saw 22\\nSkipping line 1314122: expected 15 fields, saw 22\\nSkipping line 1319707: expected 15 fields, saw 22\\nSkipping line 1337672: expected 15 fields, saw 22\\nSkipping line 1343961: expected 15 fields, saw 22\\nSkipping line 1346372: expected 15 fields, saw 22\\nSkipping line 1358447: expected 15 fields, saw 22\\nSkipping line 1370844: expected 15 fields, saw 22\\n'\n",
      "b'Skipping line 1406108: expected 15 fields, saw 22\\nSkipping line 1435069: expected 15 fields, saw 22\\nSkipping line 1439866: expected 15 fields, saw 22\\n'\n",
      "b'Skipping line 1442123: expected 15 fields, saw 22\\nSkipping line 1463237: expected 15 fields, saw 22\\nSkipping line 1469027: expected 15 fields, saw 22\\nSkipping line 1469598: expected 15 fields, saw 22\\nSkipping line 1482636: expected 15 fields, saw 22\\nSkipping line 1484745: expected 15 fields, saw 22\\nSkipping line 1499831: expected 15 fields, saw 22\\n'\n",
      "b'Skipping line 1508882: expected 15 fields, saw 22\\nSkipping line 1514887: expected 15 fields, saw 22\\nSkipping line 1527564: expected 15 fields, saw 22\\nSkipping line 1569519: expected 15 fields, saw 22\\n'\n",
      "b'Skipping line 1583105: expected 15 fields, saw 22\\nSkipping line 1604380: expected 15 fields, saw 22\\nSkipping line 1607380: expected 15 fields, saw 22\\nSkipping line 1631601: expected 15 fields, saw 22\\n'\n",
      "b'Skipping line 1642095: expected 15 fields, saw 22\\nSkipping line 1646714: expected 15 fields, saw 22\\nSkipping line 1655248: expected 15 fields, saw 22\\nSkipping line 1657807: expected 15 fields, saw 22\\nSkipping line 1667534: expected 15 fields, saw 22\\nSkipping line 1668489: expected 15 fields, saw 22\\nSkipping line 1691733: expected 15 fields, saw 22\\nSkipping line 1701102: expected 15 fields, saw 22\\nSkipping line 1701499: expected 15 fields, saw 22\\n'\n",
      "b'Skipping line 1704450: expected 15 fields, saw 22\\nSkipping line 1706154: expected 15 fields, saw 22\\nSkipping line 1712789: expected 15 fields, saw 22\\n'\n",
      "b'Skipping line 1773984: expected 15 fields, saw 22\\n'\n",
      "b'Skipping line 1846441: expected 15 fields, saw 22\\nSkipping line 1848019: expected 15 fields, saw 22\\nSkipping line 1856015: expected 15 fields, saw 22\\nSkipping line 1858248: expected 15 fields, saw 22\\nSkipping line 1859629: expected 15 fields, saw 22\\nSkipping line 1873117: expected 15 fields, saw 22\\nSkipping line 1894414: expected 15 fields, saw 22\\n'\n",
      "b'Skipping line 1902421: expected 15 fields, saw 22\\nSkipping line 1909201: expected 15 fields, saw 22\\nSkipping line 1914394: expected 15 fields, saw 22\\nSkipping line 1936976: expected 15 fields, saw 22\\nSkipping line 1940327: expected 15 fields, saw 22\\nSkipping line 1945664: expected 15 fields, saw 22\\nSkipping line 1946171: expected 15 fields, saw 22\\nSkipping line 1946284: expected 15 fields, saw 22\\nSkipping line 1946835: expected 15 fields, saw 22\\nSkipping line 1952446: expected 15 fields, saw 22\\nSkipping line 1953387: expected 15 fields, saw 22\\n'\n"
     ]
    },
    {
     "name": "stderr",
     "output_type": "stream",
     "text": [
      "b'Skipping line 1979093: expected 15 fields, saw 22\\nSkipping line 1982997: expected 15 fields, saw 22\\nSkipping line 1992924: expected 15 fields, saw 22\\nSkipping line 1996161: expected 15 fields, saw 22\\nSkipping line 2003175: expected 15 fields, saw 22\\nSkipping line 2024153: expected 15 fields, saw 22\\nSkipping line 2026345: expected 15 fields, saw 22\\n'\n",
      "b'Skipping line 2041159: expected 15 fields, saw 22\\nSkipping line 2042954: expected 15 fields, saw 22\\nSkipping line 2044244: expected 15 fields, saw 22\\nSkipping line 2047949: expected 15 fields, saw 22\\nSkipping line 2051022: expected 15 fields, saw 22\\nSkipping line 2052365: expected 15 fields, saw 22\\nSkipping line 2064460: expected 15 fields, saw 22\\nSkipping line 2077010: expected 15 fields, saw 22\\nSkipping line 2083893: expected 15 fields, saw 22\\n'\n",
      "b'Skipping line 2097514: expected 15 fields, saw 22\\nSkipping line 2100479: expected 15 fields, saw 22\\nSkipping line 2103183: expected 15 fields, saw 22\\nSkipping line 2108608: expected 15 fields, saw 22\\nSkipping line 2116577: expected 15 fields, saw 22\\nSkipping line 2127375: expected 15 fields, saw 22\\nSkipping line 2128053: expected 15 fields, saw 22\\nSkipping line 2135954: expected 15 fields, saw 22\\nSkipping line 2137154: expected 15 fields, saw 22\\nSkipping line 2140279: expected 15 fields, saw 22\\nSkipping line 2150764: expected 15 fields, saw 22\\nSkipping line 2151464: expected 15 fields, saw 22\\nSkipping line 2151588: expected 15 fields, saw 22\\nSkipping line 2157049: expected 15 fields, saw 22\\n'\n",
      "b'Skipping line 2163762: expected 15 fields, saw 22\\nSkipping line 2167939: expected 15 fields, saw 22\\nSkipping line 2172050: expected 15 fields, saw 22\\nSkipping line 2177960: expected 15 fields, saw 22\\nSkipping line 2202813: expected 15 fields, saw 22\\nSkipping line 2207828: expected 15 fields, saw 22\\nSkipping line 2211189: expected 15 fields, saw 22\\nSkipping line 2211589: expected 15 fields, saw 22\\nSkipping line 2214034: expected 15 fields, saw 22\\nSkipping line 2214264: expected 15 fields, saw 22\\nSkipping line 2214462: expected 15 fields, saw 22\\nSkipping line 2215027: expected 15 fields, saw 22\\nSkipping line 2215639: expected 15 fields, saw 22\\nSkipping line 2216007: expected 15 fields, saw 22\\nSkipping line 2217132: expected 15 fields, saw 22\\nSkipping line 2226703: expected 15 fields, saw 22\\n'\n",
      "b'Skipping line 2231683: expected 15 fields, saw 22\\nSkipping line 2245222: expected 15 fields, saw 22\\nSkipping line 2256136: expected 15 fields, saw 22\\nSkipping line 2269399: expected 15 fields, saw 22\\nSkipping line 2283979: expected 15 fields, saw 22\\n'\n",
      "b'Skipping line 2340899: expected 15 fields, saw 22\\nSkipping line 2342134: expected 15 fields, saw 22\\nSkipping line 2342748: expected 15 fields, saw 22\\nSkipping line 2348402: expected 15 fields, saw 22\\nSkipping line 2355164: expected 15 fields, saw 22\\nSkipping line 2357020: expected 15 fields, saw 22\\n'\n",
      "b'Skipping line 2366077: expected 15 fields, saw 22\\nSkipping line 2366997: expected 15 fields, saw 22\\nSkipping line 2367353: expected 15 fields, saw 22\\nSkipping line 2414691: expected 15 fields, saw 22\\n'\n",
      "b'Skipping line 2464571: expected 15 fields, saw 22\\nSkipping line 2466302: expected 15 fields, saw 22\\nSkipping line 2487679: expected 15 fields, saw 22\\nSkipping line 2487771: expected 15 fields, saw 22\\n'\n",
      "b'Skipping line 2506605: expected 15 fields, saw 22\\nSkipping line 2511369: expected 15 fields, saw 22\\n'\n",
      "b'Skipping line 2558281: expected 15 fields, saw 22\\nSkipping line 2607202: expected 15 fields, saw 22\\n'\n",
      "b'Skipping line 2625718: expected 15 fields, saw 22\\nSkipping line 2640978: expected 15 fields, saw 22\\nSkipping line 2650635: expected 15 fields, saw 22\\nSkipping line 2670724: expected 15 fields, saw 22\\n'\n",
      "b'Skipping line 2690954: expected 15 fields, saw 22\\nSkipping line 2713810: expected 15 fields, saw 22\\nSkipping line 2715292: expected 15 fields, saw 22\\nSkipping line 2724453: expected 15 fields, saw 22\\nSkipping line 2724458: expected 15 fields, saw 22\\nSkipping line 2735678: expected 15 fields, saw 22\\nSkipping line 2740358: expected 15 fields, saw 22\\nSkipping line 2751188: expected 15 fields, saw 22\\n'\n",
      "b'Skipping line 2763890: expected 15 fields, saw 22\\nSkipping line 2766982: expected 15 fields, saw 22\\nSkipping line 2813747: expected 15 fields, saw 22\\n'\n",
      "b'Skipping line 2819306: expected 15 fields, saw 22\\nSkipping line 2883075: expected 15 fields, saw 22\\n'\n",
      "b'Skipping line 2975635: expected 15 fields, saw 22\\n'\n",
      "b'Skipping line 3391761: expected 15 fields, saw 22\\n'\n",
      "b'Skipping line 3474241: expected 15 fields, saw 22\\n'\n",
      "b'Skipping line 3690054: expected 15 fields, saw 22\\nSkipping line 3720113: expected 15 fields, saw 22\\n'\n",
      "b'Skipping line 3763182: expected 15 fields, saw 22\\n'\n",
      "b'Skipping line 4929700: expected 15 fields, saw 22\\n'\n",
      "/opt/anaconda3/lib/python3.8/site-packages/IPython/core/interactiveshell.py:3165: DtypeWarning: Columns (7) have mixed types.Specify dtype option on import or set low_memory=False.\n",
      "  has_raised = await self.run_ast_nodes(code_ast.body, cell_name,\n"
     ]
    }
   ],
   "source": [
    "beauty_raw = pd.read_csv('amazon_reviews_us_Beauty_v1_00.tsv', sep = '\\t', error_bad_lines=False)"
   ]
  },
  {
   "cell_type": "markdown",
   "id": "29127e9b",
   "metadata": {},
   "source": [
    "We now save it as a csv file so we do not need to have to read in this large file again"
   ]
  },
  {
   "cell_type": "code",
   "execution_count": 17,
   "id": "b704675d",
   "metadata": {},
   "outputs": [],
   "source": [
    "beauty_raw.to_csv('amazonreviews_beauty_raw.csv',index=False)"
   ]
  },
  {
   "cell_type": "code",
   "execution_count": 18,
   "id": "4a4ba42b",
   "metadata": {},
   "outputs": [],
   "source": [
    "beauty_raw = pd.read_csv('amazonreviews_beauty_raw.csv')"
   ]
  },
  {
   "cell_type": "code",
   "execution_count": 19,
   "id": "b71adfb1",
   "metadata": {},
   "outputs": [],
   "source": [
    "beauty = beauty_raw.copy()"
   ]
  },
  {
   "cell_type": "markdown",
   "id": "09f5ceae",
   "metadata": {},
   "source": [
    "Previewing the data again"
   ]
  },
  {
   "cell_type": "code",
   "execution_count": 20,
   "id": "aa86b0e9",
   "metadata": {},
   "outputs": [
    {
     "data": {
      "text/html": [
       "<div>\n",
       "<style scoped>\n",
       "    .dataframe tbody tr th:only-of-type {\n",
       "        vertical-align: middle;\n",
       "    }\n",
       "\n",
       "    .dataframe tbody tr th {\n",
       "        vertical-align: top;\n",
       "    }\n",
       "\n",
       "    .dataframe thead th {\n",
       "        text-align: right;\n",
       "    }\n",
       "</style>\n",
       "<table border=\"1\" class=\"dataframe\">\n",
       "  <thead>\n",
       "    <tr style=\"text-align: right;\">\n",
       "      <th></th>\n",
       "      <th>marketplace</th>\n",
       "      <th>customer_id</th>\n",
       "      <th>review_id</th>\n",
       "      <th>product_id</th>\n",
       "      <th>product_parent</th>\n",
       "      <th>product_title</th>\n",
       "      <th>product_category</th>\n",
       "      <th>star_rating</th>\n",
       "      <th>helpful_votes</th>\n",
       "      <th>total_votes</th>\n",
       "      <th>vine</th>\n",
       "      <th>verified_purchase</th>\n",
       "      <th>review_headline</th>\n",
       "      <th>review_body</th>\n",
       "      <th>review_date</th>\n",
       "    </tr>\n",
       "  </thead>\n",
       "  <tbody>\n",
       "    <tr>\n",
       "      <th>0</th>\n",
       "      <td>US</td>\n",
       "      <td>1797882</td>\n",
       "      <td>R3I2DHQBR577SS</td>\n",
       "      <td>B001ANOOOE</td>\n",
       "      <td>2102612</td>\n",
       "      <td>The Naked Bee Vitmin C Moisturizing Sunscreen ...</td>\n",
       "      <td>Beauty</td>\n",
       "      <td>5</td>\n",
       "      <td>0.0</td>\n",
       "      <td>0.0</td>\n",
       "      <td>N</td>\n",
       "      <td>Y</td>\n",
       "      <td>Five Stars</td>\n",
       "      <td>Love this, excellent sun block!!</td>\n",
       "      <td>2015-08-31</td>\n",
       "    </tr>\n",
       "    <tr>\n",
       "      <th>1</th>\n",
       "      <td>US</td>\n",
       "      <td>18381298</td>\n",
       "      <td>R1QNE9NQFJC2Y4</td>\n",
       "      <td>B0016J22EQ</td>\n",
       "      <td>106393691</td>\n",
       "      <td>Alba Botanica Sunless Tanning Lotion, 4 Ounce</td>\n",
       "      <td>Beauty</td>\n",
       "      <td>5</td>\n",
       "      <td>0.0</td>\n",
       "      <td>0.0</td>\n",
       "      <td>N</td>\n",
       "      <td>Y</td>\n",
       "      <td>Thank you Alba Bontanica!</td>\n",
       "      <td>The great thing about this cream is that it do...</td>\n",
       "      <td>2015-08-31</td>\n",
       "    </tr>\n",
       "    <tr>\n",
       "      <th>2</th>\n",
       "      <td>US</td>\n",
       "      <td>19242472</td>\n",
       "      <td>R3LIDG2Q4LJBAO</td>\n",
       "      <td>B00HU6UQAG</td>\n",
       "      <td>375449471</td>\n",
       "      <td>Elysee Infusion Skin Therapy Elixir, 2oz.</td>\n",
       "      <td>Beauty</td>\n",
       "      <td>5</td>\n",
       "      <td>0.0</td>\n",
       "      <td>0.0</td>\n",
       "      <td>N</td>\n",
       "      <td>Y</td>\n",
       "      <td>Five Stars</td>\n",
       "      <td>Great Product, I'm 65 years old and this is al...</td>\n",
       "      <td>2015-08-31</td>\n",
       "    </tr>\n",
       "    <tr>\n",
       "      <th>3</th>\n",
       "      <td>US</td>\n",
       "      <td>19551372</td>\n",
       "      <td>R3KSZHPAEVPEAL</td>\n",
       "      <td>B002HWS7RM</td>\n",
       "      <td>255651889</td>\n",
       "      <td>Diane D722 Color, Perm And Conditioner Process...</td>\n",
       "      <td>Beauty</td>\n",
       "      <td>5</td>\n",
       "      <td>0.0</td>\n",
       "      <td>0.0</td>\n",
       "      <td>N</td>\n",
       "      <td>Y</td>\n",
       "      <td>GOOD DEAL!</td>\n",
       "      <td>I use them as shower caps &amp; conditioning caps....</td>\n",
       "      <td>2015-08-31</td>\n",
       "    </tr>\n",
       "    <tr>\n",
       "      <th>4</th>\n",
       "      <td>US</td>\n",
       "      <td>14802407</td>\n",
       "      <td>RAI2OIG50KZ43</td>\n",
       "      <td>B00SM99KWU</td>\n",
       "      <td>116158747</td>\n",
       "      <td>Biore UV Aqua Rich Watery Essence SPF50+/PA+++...</td>\n",
       "      <td>Beauty</td>\n",
       "      <td>5</td>\n",
       "      <td>0.0</td>\n",
       "      <td>0.0</td>\n",
       "      <td>N</td>\n",
       "      <td>Y</td>\n",
       "      <td>this soaks in quick and provides a nice base f...</td>\n",
       "      <td>This is my go-to daily sunblock. It leaves no ...</td>\n",
       "      <td>2015-08-31</td>\n",
       "    </tr>\n",
       "  </tbody>\n",
       "</table>\n",
       "</div>"
      ],
      "text/plain": [
       "  marketplace  customer_id       review_id  product_id  product_parent  \\\n",
       "0          US      1797882  R3I2DHQBR577SS  B001ANOOOE         2102612   \n",
       "1          US     18381298  R1QNE9NQFJC2Y4  B0016J22EQ       106393691   \n",
       "2          US     19242472  R3LIDG2Q4LJBAO  B00HU6UQAG       375449471   \n",
       "3          US     19551372  R3KSZHPAEVPEAL  B002HWS7RM       255651889   \n",
       "4          US     14802407   RAI2OIG50KZ43  B00SM99KWU       116158747   \n",
       "\n",
       "                                       product_title product_category  \\\n",
       "0  The Naked Bee Vitmin C Moisturizing Sunscreen ...           Beauty   \n",
       "1      Alba Botanica Sunless Tanning Lotion, 4 Ounce           Beauty   \n",
       "2          Elysee Infusion Skin Therapy Elixir, 2oz.           Beauty   \n",
       "3  Diane D722 Color, Perm And Conditioner Process...           Beauty   \n",
       "4  Biore UV Aqua Rich Watery Essence SPF50+/PA+++...           Beauty   \n",
       "\n",
       "  star_rating  helpful_votes  total_votes vine verified_purchase  \\\n",
       "0           5            0.0          0.0    N                 Y   \n",
       "1           5            0.0          0.0    N                 Y   \n",
       "2           5            0.0          0.0    N                 Y   \n",
       "3           5            0.0          0.0    N                 Y   \n",
       "4           5            0.0          0.0    N                 Y   \n",
       "\n",
       "                                     review_headline  \\\n",
       "0                                         Five Stars   \n",
       "1                          Thank you Alba Bontanica!   \n",
       "2                                         Five Stars   \n",
       "3                                         GOOD DEAL!   \n",
       "4  this soaks in quick and provides a nice base f...   \n",
       "\n",
       "                                         review_body review_date  \n",
       "0                   Love this, excellent sun block!!  2015-08-31  \n",
       "1  The great thing about this cream is that it do...  2015-08-31  \n",
       "2  Great Product, I'm 65 years old and this is al...  2015-08-31  \n",
       "3  I use them as shower caps & conditioning caps....  2015-08-31  \n",
       "4  This is my go-to daily sunblock. It leaves no ...  2015-08-31  "
      ]
     },
     "execution_count": 20,
     "metadata": {},
     "output_type": "execute_result"
    }
   ],
   "source": [
    "beauty.head()"
   ]
  },
  {
   "cell_type": "markdown",
   "id": "00cf1275",
   "metadata": {},
   "source": [
    "Here we converted the review date to datetime type. We then kept only the reviews written in 2015, which is the most recent year in the dataset. We then made sure that our market data was also for the year 2015 so the relationship would make sense."
   ]
  },
  {
   "cell_type": "code",
   "execution_count": 21,
   "id": "e1f35513",
   "metadata": {},
   "outputs": [],
   "source": [
    "# keeping reviews written in 2015\n",
    "beauty['review_date'] = pd.to_datetime(beauty['review_date'])\n",
    "beauty = beauty.loc[beauty['review_date'].dt.year == 2015]"
   ]
  },
  {
   "cell_type": "markdown",
   "id": "6bdf3f10",
   "metadata": {},
   "source": [
    "As Amazon sells many smaller, indie brands, we are filtering for the select corporate brands that we will be analyzing. The five leading companies we will be looking at are L'oreal, Coty, Revlon, Johnson and Johnson, and Proctor and Gamble. We are including the leading brands that they own as additional brands to filter for."
   ]
  },
  {
   "cell_type": "code",
   "execution_count": 22,
   "id": "2381a41b",
   "metadata": {},
   "outputs": [],
   "source": [
    "loreal = [\"L'oreal\", 'Garnier', 'Maybelline', 'Nyx', 'Cerave']\n",
    "coty = ['Rimmel', 'Covergirl', 'Sally Hansen']\n",
    "revlon = ['Revlon', 'Almay']\n",
    "jnj = ['Clean & Clear', 'Neutrogena', 'Aveeno', 'OGX', 'Lubriderm'] \n",
    "png = ['Olay','Herbal Essences', 'Pantene', 'Head and Shoulders','Aussie']\n",
    "brands = loreal + coty + revlon + jnj #combining all the brands together\n",
    "beauty = beauty.loc[beauty['product_title'].str.contains('|'.join(brands))] #only keeping the rows with our brands"
   ]
  },
  {
   "cell_type": "code",
   "execution_count": 23,
   "id": "e1e77423",
   "metadata": {},
   "outputs": [
    {
     "data": {
      "text/plain": [
       "L'oreal              22512\n",
       "Johnson & Johnson    16946\n",
       "Revlon               13946\n",
       "Coty                  8154\n",
       "Proctor & Gamble       143\n",
       "Name: corporation, dtype: int64"
      ]
     },
     "execution_count": 23,
     "metadata": {},
     "output_type": "execute_result"
    }
   ],
   "source": [
    "# add columns by parent corporation\n",
    "beauty.loc[beauty['product_title'].str.contains('|'.join(loreal)), 'corporation'] = \"L'oreal\"\n",
    "beauty.loc[beauty['product_title'].str.contains('|'.join(coty)), 'corporation'] = \"Coty\"\n",
    "beauty.loc[beauty['product_title'].str.contains('|'.join(revlon)), 'corporation'] = \"Revlon\"\n",
    "beauty.loc[beauty['product_title'].str.contains('|'.join(jnj)), 'corporation'] = \"Johnson & Johnson\"\n",
    "beauty.loc[beauty['product_title'].str.contains('|'.join(png)), 'corporation'] = \"Proctor & Gamble\"\n",
    "beauty.corporation.value_counts()"
   ]
  },
  {
   "cell_type": "markdown",
   "id": "83381042",
   "metadata": {},
   "source": [
    "In order to narrow the dataset down to a more reasonable size, we are randomly sampling 40,000 observations. We then reset the index on each dataset to be from 0-39,999."
   ]
  },
  {
   "cell_type": "code",
   "execution_count": 24,
   "id": "918f9158",
   "metadata": {},
   "outputs": [],
   "source": [
    "# randomly narrowing down to 40,000\n",
    "beauty = beauty.sample(n=40000).reset_index()"
   ]
  },
  {
   "cell_type": "markdown",
   "id": "b8062cf5",
   "metadata": {},
   "source": [
    "Here we are dropping the unecessary columns.\n",
    " - We first dropped the Marketplace column because all the products were sold in the US.\n",
    " - We also dropped the index column as we reset the index. \n",
    " - We dropped product_category as all products fall into Beauty\n",
    " - total_votes is the same as helpful_votes and is redundant"
   ]
  },
  {
   "cell_type": "code",
   "execution_count": 25,
   "id": "57cd6d1c",
   "metadata": {},
   "outputs": [],
   "source": [
    "# dropping marketplace, index column, product category, total votes\n",
    "beauty = beauty.drop(columns= ['marketplace','index','product_category', 'total_votes'], axis=1)"
   ]
  },
  {
   "cell_type": "markdown",
   "id": "40b96a9c",
   "metadata": {},
   "source": [
    "Now we will save the newly cleaned data to a new file so we have all of our intermediary steps"
   ]
  },
  {
   "cell_type": "code",
   "execution_count": 26,
   "id": "793c5308",
   "metadata": {},
   "outputs": [],
   "source": [
    "# downloading cleaned csv file\n",
    "beauty.to_csv('amazonreviews_beauty.csv',index=False)"
   ]
  }
 ],
 "metadata": {
  "kernelspec": {
   "display_name": "Python 3",
   "language": "python",
   "name": "python3"
  },
  "language_info": {
   "codemirror_mode": {
    "name": "ipython",
    "version": 3
   },
   "file_extension": ".py",
   "mimetype": "text/x-python",
   "name": "python",
   "nbconvert_exporter": "python",
   "pygments_lexer": "ipython3",
   "version": "3.8.8"
  }
 },
 "nbformat": 4,
 "nbformat_minor": 5
}
