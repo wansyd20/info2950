{
 "cells": [
  {
   "cell_type": "markdown",
   "id": "16f38d1a",
   "metadata": {},
   "source": [
    "Michelle Hui (msh334)\n",
    "Sydney Wan (ssw73)\n",
    "\n",
    "We are comparing two datasets against each other. One is the Amazon Reviews dataset, specifically on products Amazon categorizes as \"Beauty\". The second is a dataset with market data on large beauty corporations in 2014-2015. We performed collection and cleaning, data description, and exploratory data analysis on both datasets. We have labeled in each section which of the two datasets we are looking at."
   ]
  },
  {
   "cell_type": "markdown",
   "id": "2b29dce2",
   "metadata": {},
   "source": [
    "# Research Question\n",
    "**1. Are Amazon Beauty product reviews an accurate representation of how well a brand is doing in the greater market? Are we able to determine general consumer sentiment about a brand based on just Amazon reviews?**"
   ]
  },
  {
   "cell_type": "code",
   "execution_count": 2,
   "id": "1238ec41",
   "metadata": {},
   "outputs": [],
   "source": [
    "import pandas as pd\n",
    "import matplotlib.pyplot as plt\n",
    "import numpy as np"
   ]
  },
  {
   "cell_type": "markdown",
   "id": "ccd7f44e",
   "metadata": {},
   "source": [
    "# Data Collection and Cleaning\n",
    "## Beauty Market Data"
   ]
  },
  {
   "cell_type": "markdown",
   "id": "fafd7e62",
   "metadata": {},
   "source": [
    "Reading in the raw csv file"
   ]
  },
  {
   "cell_type": "code",
   "execution_count": 2,
   "id": "13be1652",
   "metadata": {},
   "outputs": [],
   "source": [
    "market_data_raw = pd.read_csv('beauty_market_sales.csv')"
   ]
  },
  {
   "cell_type": "code",
   "execution_count": 3,
   "id": "3fc1d44a",
   "metadata": {},
   "outputs": [
    {
     "data": {
      "text/html": [
       "<div>\n",
       "<style scoped>\n",
       "    .dataframe tbody tr th:only-of-type {\n",
       "        vertical-align: middle;\n",
       "    }\n",
       "\n",
       "    .dataframe tbody tr th {\n",
       "        vertical-align: top;\n",
       "    }\n",
       "\n",
       "    .dataframe thead th {\n",
       "        text-align: right;\n",
       "    }\n",
       "</style>\n",
       "<table border=\"1\" class=\"dataframe\">\n",
       "  <thead>\n",
       "    <tr style=\"text-align: right;\">\n",
       "      <th></th>\n",
       "      <th>Unnamed: 0</th>\n",
       "      <th>2014_sales_millions</th>\n",
       "      <th>2014_market_share_percent</th>\n",
       "      <th>2015_sales_millions</th>\n",
       "      <th>2015_market_share_percent</th>\n",
       "      <th>sale_change_percent</th>\n",
       "      <th>share_change_percent</th>\n",
       "    </tr>\n",
       "  </thead>\n",
       "  <tbody>\n",
       "    <tr>\n",
       "      <th>0</th>\n",
       "      <td>L'Oréal USA</td>\n",
       "      <td>1,797.9</td>\n",
       "      <td>39.1</td>\n",
       "      <td>1,815.0</td>\n",
       "      <td>38.6</td>\n",
       "      <td>1.0</td>\n",
       "      <td>-0.5</td>\n",
       "    </tr>\n",
       "    <tr>\n",
       "      <th>1</th>\n",
       "      <td>Procter &amp; Gamble</td>\n",
       "      <td>954.7</td>\n",
       "      <td>20.8</td>\n",
       "      <td>946.1</td>\n",
       "      <td>20.1</td>\n",
       "      <td>-0.9</td>\n",
       "      <td>-0.7</td>\n",
       "    </tr>\n",
       "    <tr>\n",
       "      <th>2</th>\n",
       "      <td>Revlon Inc.</td>\n",
       "      <td>670.5</td>\n",
       "      <td>14.6</td>\n",
       "      <td>661.6</td>\n",
       "      <td>14.1</td>\n",
       "      <td>-1.3</td>\n",
       "      <td>-0.5</td>\n",
       "    </tr>\n",
       "    <tr>\n",
       "      <th>3</th>\n",
       "      <td>Coty Beauty</td>\n",
       "      <td>262.3</td>\n",
       "      <td>5.7</td>\n",
       "      <td>263.8</td>\n",
       "      <td>5.6</td>\n",
       "      <td>0.5</td>\n",
       "      <td>-0.1</td>\n",
       "    </tr>\n",
       "    <tr>\n",
       "      <th>4</th>\n",
       "      <td>Johnson &amp; Johnson</td>\n",
       "      <td>171.9</td>\n",
       "      <td>3.7</td>\n",
       "      <td>176.0</td>\n",
       "      <td>3.7</td>\n",
       "      <td>2.4</td>\n",
       "      <td>-</td>\n",
       "    </tr>\n",
       "    <tr>\n",
       "      <th>5</th>\n",
       "      <td>Subtotal</td>\n",
       "      <td>3,857.4</td>\n",
       "      <td>84.0</td>\n",
       "      <td>3,862.5</td>\n",
       "      <td>82.2</td>\n",
       "      <td>0.1</td>\n",
       "      <td>-1.8</td>\n",
       "    </tr>\n",
       "    <tr>\n",
       "      <th>6</th>\n",
       "      <td>Private label</td>\n",
       "      <td>49.5</td>\n",
       "      <td>1.1</td>\n",
       "      <td>56.2</td>\n",
       "      <td>1.2</td>\n",
       "      <td>13.6</td>\n",
       "      <td>0.1</td>\n",
       "    </tr>\n",
       "    <tr>\n",
       "      <th>7</th>\n",
       "      <td>Others</td>\n",
       "      <td>686.2</td>\n",
       "      <td>14.9</td>\n",
       "      <td>780.4</td>\n",
       "      <td>16.6</td>\n",
       "      <td>13.7</td>\n",
       "      <td>1.7</td>\n",
       "    </tr>\n",
       "  </tbody>\n",
       "</table>\n",
       "</div>"
      ],
      "text/plain": [
       "          Unnamed: 0 2014_sales_millions  2014_market_share_percent  \\\n",
       "0        L'Oréal USA             1,797.9                       39.1   \n",
       "1   Procter & Gamble               954.7                       20.8   \n",
       "2        Revlon Inc.               670.5                       14.6   \n",
       "3        Coty Beauty               262.3                        5.7   \n",
       "4  Johnson & Johnson               171.9                        3.7   \n",
       "5           Subtotal             3,857.4                       84.0   \n",
       "6      Private label                49.5                        1.1   \n",
       "7             Others               686.2                       14.9   \n",
       "\n",
       "  2015_sales_millions  2015_market_share_percent  sale_change_percent  \\\n",
       "0             1,815.0                       38.6                  1.0   \n",
       "1               946.1                       20.1                 -0.9   \n",
       "2               661.6                       14.1                 -1.3   \n",
       "3               263.8                        5.6                  0.5   \n",
       "4               176.0                        3.7                  2.4   \n",
       "5             3,862.5                       82.2                  0.1   \n",
       "6                56.2                        1.2                 13.6   \n",
       "7               780.4                       16.6                 13.7   \n",
       "\n",
       "  share_change_percent  \n",
       "0                 -0.5  \n",
       "1                 -0.7  \n",
       "2                 -0.5  \n",
       "3                 -0.1  \n",
       "4                    -  \n",
       "5                 -1.8  \n",
       "6                  0.1  \n",
       "7                  1.7  "
      ]
     },
     "execution_count": 3,
     "metadata": {},
     "output_type": "execute_result"
    }
   ],
   "source": [
    "market_data_raw"
   ]
  },
  {
   "cell_type": "markdown",
   "id": "110eaa70",
   "metadata": {},
   "source": [
    "Renaming the ```Unnamed:0``` column title to company"
   ]
  },
  {
   "cell_type": "code",
   "execution_count": 4,
   "id": "f651ef73",
   "metadata": {},
   "outputs": [],
   "source": [
    "market_data = market_data_raw.rename(columns = {'Unnamed: 0' : \"Company\"})"
   ]
  },
  {
   "cell_type": "markdown",
   "id": "8e445c21",
   "metadata": {},
   "source": [
    "For our research purposes, we only are looking at the top 5 companies with clear company names, so we discard the 'Private label', 'Others', and 'Subtotal' rows"
   ]
  },
  {
   "cell_type": "code",
   "execution_count": 5,
   "id": "c0a66508",
   "metadata": {},
   "outputs": [
    {
     "data": {
      "text/html": [
       "<div>\n",
       "<style scoped>\n",
       "    .dataframe tbody tr th:only-of-type {\n",
       "        vertical-align: middle;\n",
       "    }\n",
       "\n",
       "    .dataframe tbody tr th {\n",
       "        vertical-align: top;\n",
       "    }\n",
       "\n",
       "    .dataframe thead th {\n",
       "        text-align: right;\n",
       "    }\n",
       "</style>\n",
       "<table border=\"1\" class=\"dataframe\">\n",
       "  <thead>\n",
       "    <tr style=\"text-align: right;\">\n",
       "      <th></th>\n",
       "      <th>Company</th>\n",
       "      <th>2014_sales_millions</th>\n",
       "      <th>2014_market_share_percent</th>\n",
       "      <th>2015_sales_millions</th>\n",
       "      <th>2015_market_share_percent</th>\n",
       "      <th>sale_change_percent</th>\n",
       "      <th>share_change_percent</th>\n",
       "    </tr>\n",
       "  </thead>\n",
       "  <tbody>\n",
       "    <tr>\n",
       "      <th>0</th>\n",
       "      <td>L'Oréal USA</td>\n",
       "      <td>1,797.9</td>\n",
       "      <td>39.1</td>\n",
       "      <td>1,815.0</td>\n",
       "      <td>38.6</td>\n",
       "      <td>1.0</td>\n",
       "      <td>-0.5</td>\n",
       "    </tr>\n",
       "    <tr>\n",
       "      <th>1</th>\n",
       "      <td>Procter &amp; Gamble</td>\n",
       "      <td>954.7</td>\n",
       "      <td>20.8</td>\n",
       "      <td>946.1</td>\n",
       "      <td>20.1</td>\n",
       "      <td>-0.9</td>\n",
       "      <td>-0.7</td>\n",
       "    </tr>\n",
       "    <tr>\n",
       "      <th>2</th>\n",
       "      <td>Revlon Inc.</td>\n",
       "      <td>670.5</td>\n",
       "      <td>14.6</td>\n",
       "      <td>661.6</td>\n",
       "      <td>14.1</td>\n",
       "      <td>-1.3</td>\n",
       "      <td>-0.5</td>\n",
       "    </tr>\n",
       "    <tr>\n",
       "      <th>3</th>\n",
       "      <td>Coty Beauty</td>\n",
       "      <td>262.3</td>\n",
       "      <td>5.7</td>\n",
       "      <td>263.8</td>\n",
       "      <td>5.6</td>\n",
       "      <td>0.5</td>\n",
       "      <td>-0.1</td>\n",
       "    </tr>\n",
       "    <tr>\n",
       "      <th>4</th>\n",
       "      <td>Johnson &amp; Johnson</td>\n",
       "      <td>171.9</td>\n",
       "      <td>3.7</td>\n",
       "      <td>176.0</td>\n",
       "      <td>3.7</td>\n",
       "      <td>2.4</td>\n",
       "      <td>-</td>\n",
       "    </tr>\n",
       "  </tbody>\n",
       "</table>\n",
       "</div>"
      ],
      "text/plain": [
       "             Company 2014_sales_millions  2014_market_share_percent  \\\n",
       "0        L'Oréal USA             1,797.9                       39.1   \n",
       "1   Procter & Gamble               954.7                       20.8   \n",
       "2        Revlon Inc.               670.5                       14.6   \n",
       "3        Coty Beauty               262.3                        5.7   \n",
       "4  Johnson & Johnson               171.9                        3.7   \n",
       "\n",
       "  2015_sales_millions  2015_market_share_percent  sale_change_percent  \\\n",
       "0             1,815.0                       38.6                  1.0   \n",
       "1               946.1                       20.1                 -0.9   \n",
       "2               661.6                       14.1                 -1.3   \n",
       "3               263.8                        5.6                  0.5   \n",
       "4               176.0                        3.7                  2.4   \n",
       "\n",
       "  share_change_percent  \n",
       "0                 -0.5  \n",
       "1                 -0.7  \n",
       "2                 -0.5  \n",
       "3                 -0.1  \n",
       "4                    -  "
      ]
     },
     "execution_count": 5,
     "metadata": {},
     "output_type": "execute_result"
    }
   ],
   "source": [
    "market_data = market_data.loc[0:4, :]\n",
    "market_data"
   ]
  },
  {
   "cell_type": "markdown",
   "id": "a8877181",
   "metadata": {},
   "source": [
    "Upon inspection, we see below that the 2014 and 2015 sales in millions, as well as the share change percent columns are strings, are not numerical data types. We hard code these columns and change them to floats so that we can perform statistical analysis on them"
   ]
  },
  {
   "cell_type": "code",
   "execution_count": 6,
   "id": "b360b004",
   "metadata": {},
   "outputs": [
    {
     "data": {
      "text/plain": [
       "Company                       object\n",
       "2014_sales_millions           object\n",
       "2014_market_share_percent    float64\n",
       "2015_sales_millions           object\n",
       "2015_market_share_percent    float64\n",
       "sale_change_percent          float64\n",
       "share_change_percent          object\n",
       "dtype: object"
      ]
     },
     "execution_count": 6,
     "metadata": {},
     "output_type": "execute_result"
    }
   ],
   "source": [
    "market_data.dtypes"
   ]
  },
  {
   "cell_type": "code",
   "execution_count": 7,
   "id": "5ec1f781",
   "metadata": {},
   "outputs": [],
   "source": [
    "market_data.loc[:, '2014_sales_millions'] = [1797.9, 954.7, 670.5, 262.3, 171.9]\n",
    "market_data.loc[:, '2015_sales_millions'] = [1815.0, 946.1, 661.6, 263.8, 176]\n",
    "market_data.loc[:, 'share_change_percent'] = [-0.5, -0.7, -0.5, -0.1, 0]"
   ]
  },
  {
   "cell_type": "code",
   "execution_count": 8,
   "id": "9dcd21ac",
   "metadata": {},
   "outputs": [
    {
     "data": {
      "text/plain": [
       "Company                       object\n",
       "2014_sales_millions          float64\n",
       "2014_market_share_percent    float64\n",
       "2015_sales_millions          float64\n",
       "2015_market_share_percent    float64\n",
       "sale_change_percent          float64\n",
       "share_change_percent         float64\n",
       "dtype: object"
      ]
     },
     "execution_count": 8,
     "metadata": {},
     "output_type": "execute_result"
    }
   ],
   "source": [
    "#verifying that all dtypes are floats\n",
    "market_data.dtypes"
   ]
  },
  {
   "cell_type": "code",
   "execution_count": 9,
   "id": "36ba19a4",
   "metadata": {},
   "outputs": [
    {
     "data": {
      "text/html": [
       "<div>\n",
       "<style scoped>\n",
       "    .dataframe tbody tr th:only-of-type {\n",
       "        vertical-align: middle;\n",
       "    }\n",
       "\n",
       "    .dataframe tbody tr th {\n",
       "        vertical-align: top;\n",
       "    }\n",
       "\n",
       "    .dataframe thead th {\n",
       "        text-align: right;\n",
       "    }\n",
       "</style>\n",
       "<table border=\"1\" class=\"dataframe\">\n",
       "  <thead>\n",
       "    <tr style=\"text-align: right;\">\n",
       "      <th></th>\n",
       "      <th>Company</th>\n",
       "      <th>2014_sales_millions</th>\n",
       "      <th>2014_market_share_percent</th>\n",
       "      <th>2015_sales_millions</th>\n",
       "      <th>2015_market_share_percent</th>\n",
       "      <th>sale_change_percent</th>\n",
       "      <th>share_change_percent</th>\n",
       "    </tr>\n",
       "  </thead>\n",
       "  <tbody>\n",
       "    <tr>\n",
       "      <th>0</th>\n",
       "      <td>L'Oréal USA</td>\n",
       "      <td>1797.9</td>\n",
       "      <td>39.1</td>\n",
       "      <td>1815.0</td>\n",
       "      <td>38.6</td>\n",
       "      <td>1.0</td>\n",
       "      <td>-0.5</td>\n",
       "    </tr>\n",
       "    <tr>\n",
       "      <th>1</th>\n",
       "      <td>Procter &amp; Gamble</td>\n",
       "      <td>954.7</td>\n",
       "      <td>20.8</td>\n",
       "      <td>946.1</td>\n",
       "      <td>20.1</td>\n",
       "      <td>-0.9</td>\n",
       "      <td>-0.7</td>\n",
       "    </tr>\n",
       "    <tr>\n",
       "      <th>2</th>\n",
       "      <td>Revlon Inc.</td>\n",
       "      <td>670.5</td>\n",
       "      <td>14.6</td>\n",
       "      <td>661.6</td>\n",
       "      <td>14.1</td>\n",
       "      <td>-1.3</td>\n",
       "      <td>-0.5</td>\n",
       "    </tr>\n",
       "    <tr>\n",
       "      <th>3</th>\n",
       "      <td>Coty Beauty</td>\n",
       "      <td>262.3</td>\n",
       "      <td>5.7</td>\n",
       "      <td>263.8</td>\n",
       "      <td>5.6</td>\n",
       "      <td>0.5</td>\n",
       "      <td>-0.1</td>\n",
       "    </tr>\n",
       "    <tr>\n",
       "      <th>4</th>\n",
       "      <td>Johnson &amp; Johnson</td>\n",
       "      <td>171.9</td>\n",
       "      <td>3.7</td>\n",
       "      <td>176.0</td>\n",
       "      <td>3.7</td>\n",
       "      <td>2.4</td>\n",
       "      <td>0.0</td>\n",
       "    </tr>\n",
       "  </tbody>\n",
       "</table>\n",
       "</div>"
      ],
      "text/plain": [
       "             Company  2014_sales_millions  2014_market_share_percent  \\\n",
       "0        L'Oréal USA               1797.9                       39.1   \n",
       "1   Procter & Gamble                954.7                       20.8   \n",
       "2        Revlon Inc.                670.5                       14.6   \n",
       "3        Coty Beauty                262.3                        5.7   \n",
       "4  Johnson & Johnson                171.9                        3.7   \n",
       "\n",
       "   2015_sales_millions  2015_market_share_percent  sale_change_percent  \\\n",
       "0               1815.0                       38.6                  1.0   \n",
       "1                946.1                       20.1                 -0.9   \n",
       "2                661.6                       14.1                 -1.3   \n",
       "3                263.8                        5.6                  0.5   \n",
       "4                176.0                        3.7                  2.4   \n",
       "\n",
       "   share_change_percent  \n",
       "0                  -0.5  \n",
       "1                  -0.7  \n",
       "2                  -0.5  \n",
       "3                  -0.1  \n",
       "4                   0.0  "
      ]
     },
     "execution_count": 9,
     "metadata": {},
     "output_type": "execute_result"
    }
   ],
   "source": [
    "market_data"
   ]
  },
  {
   "cell_type": "markdown",
   "id": "9b34403a",
   "metadata": {},
   "source": [
    "Our last step in cleaning this data is to save the newly cleaned data to a new csv file, which we then read in again so that we don't have to rerun the previous code next time we want to use this data."
   ]
  },
  {
   "cell_type": "code",
   "execution_count": 10,
   "id": "ee4db8db",
   "metadata": {},
   "outputs": [],
   "source": [
    "market_data.to_csv('beauty_market_data.csv', index = False)"
   ]
  },
  {
   "cell_type": "code",
   "execution_count": 11,
   "id": "58fde3d4",
   "metadata": {},
   "outputs": [],
   "source": [
    "market_sales = pd.read_csv('beauty_market_data.csv')"
   ]
  },
  {
   "cell_type": "code",
   "execution_count": 12,
   "id": "352978fc",
   "metadata": {},
   "outputs": [
    {
     "data": {
      "text/html": [
       "<div>\n",
       "<style scoped>\n",
       "    .dataframe tbody tr th:only-of-type {\n",
       "        vertical-align: middle;\n",
       "    }\n",
       "\n",
       "    .dataframe tbody tr th {\n",
       "        vertical-align: top;\n",
       "    }\n",
       "\n",
       "    .dataframe thead th {\n",
       "        text-align: right;\n",
       "    }\n",
       "</style>\n",
       "<table border=\"1\" class=\"dataframe\">\n",
       "  <thead>\n",
       "    <tr style=\"text-align: right;\">\n",
       "      <th></th>\n",
       "      <th>Company</th>\n",
       "      <th>2014_sales_millions</th>\n",
       "      <th>2014_market_share_percent</th>\n",
       "      <th>2015_sales_millions</th>\n",
       "      <th>2015_market_share_percent</th>\n",
       "      <th>sale_change_percent</th>\n",
       "      <th>share_change_percent</th>\n",
       "    </tr>\n",
       "  </thead>\n",
       "  <tbody>\n",
       "    <tr>\n",
       "      <th>0</th>\n",
       "      <td>L'Oréal USA</td>\n",
       "      <td>1797.9</td>\n",
       "      <td>39.1</td>\n",
       "      <td>1815.0</td>\n",
       "      <td>38.6</td>\n",
       "      <td>1.0</td>\n",
       "      <td>-0.5</td>\n",
       "    </tr>\n",
       "    <tr>\n",
       "      <th>1</th>\n",
       "      <td>Procter &amp; Gamble</td>\n",
       "      <td>954.7</td>\n",
       "      <td>20.8</td>\n",
       "      <td>946.1</td>\n",
       "      <td>20.1</td>\n",
       "      <td>-0.9</td>\n",
       "      <td>-0.7</td>\n",
       "    </tr>\n",
       "    <tr>\n",
       "      <th>2</th>\n",
       "      <td>Revlon Inc.</td>\n",
       "      <td>670.5</td>\n",
       "      <td>14.6</td>\n",
       "      <td>661.6</td>\n",
       "      <td>14.1</td>\n",
       "      <td>-1.3</td>\n",
       "      <td>-0.5</td>\n",
       "    </tr>\n",
       "    <tr>\n",
       "      <th>3</th>\n",
       "      <td>Coty Beauty</td>\n",
       "      <td>262.3</td>\n",
       "      <td>5.7</td>\n",
       "      <td>263.8</td>\n",
       "      <td>5.6</td>\n",
       "      <td>0.5</td>\n",
       "      <td>-0.1</td>\n",
       "    </tr>\n",
       "    <tr>\n",
       "      <th>4</th>\n",
       "      <td>Johnson &amp; Johnson</td>\n",
       "      <td>171.9</td>\n",
       "      <td>3.7</td>\n",
       "      <td>176.0</td>\n",
       "      <td>3.7</td>\n",
       "      <td>2.4</td>\n",
       "      <td>0.0</td>\n",
       "    </tr>\n",
       "  </tbody>\n",
       "</table>\n",
       "</div>"
      ],
      "text/plain": [
       "             Company  2014_sales_millions  2014_market_share_percent  \\\n",
       "0        L'Oréal USA               1797.9                       39.1   \n",
       "1   Procter & Gamble                954.7                       20.8   \n",
       "2        Revlon Inc.                670.5                       14.6   \n",
       "3        Coty Beauty                262.3                        5.7   \n",
       "4  Johnson & Johnson                171.9                        3.7   \n",
       "\n",
       "   2015_sales_millions  2015_market_share_percent  sale_change_percent  \\\n",
       "0               1815.0                       38.6                  1.0   \n",
       "1                946.1                       20.1                 -0.9   \n",
       "2                661.6                       14.1                 -1.3   \n",
       "3                263.8                        5.6                  0.5   \n",
       "4                176.0                        3.7                  2.4   \n",
       "\n",
       "   share_change_percent  \n",
       "0                  -0.5  \n",
       "1                  -0.7  \n",
       "2                  -0.5  \n",
       "3                  -0.1  \n",
       "4                   0.0  "
      ]
     },
     "execution_count": 12,
     "metadata": {},
     "output_type": "execute_result"
    }
   ],
   "source": [
    "market_sales"
   ]
  },
  {
   "cell_type": "markdown",
   "id": "4313344a",
   "metadata": {},
   "source": [
    "# Data Collection and Cleaning Appendix\n",
    "## Amazon Reviews"
   ]
  },
  {
   "cell_type": "markdown",
   "id": "6f5ad7db",
   "metadata": {},
   "source": [
    "Now we will read in the raw tsv file for the Amazon Beauty Product Reviews. We are skipping the lines that have extra columns in order to create consistency and prevent errors later on . The error_bad_lines skips these rows with weird entries, hence the long warning."
   ]
  },
  {
   "cell_type": "code",
   "execution_count": 13,
   "id": "9a3955fe",
   "metadata": {
    "scrolled": true
   },
   "outputs": [
    {
     "name": "stderr",
     "output_type": "stream",
     "text": [
      "b'Skipping line 10093: expected 15 fields, saw 22\\nSkipping line 31965: expected 15 fields, saw 22\\nSkipping line 49886: expected 15 fields, saw 22\\nSkipping line 49905: expected 15 fields, saw 22\\n'\n",
      "b'Skipping line 67579: expected 15 fields, saw 22\\nSkipping line 75367: expected 15 fields, saw 22\\nSkipping line 92462: expected 15 fields, saw 22\\nSkipping line 105041: expected 15 fields, saw 22\\nSkipping line 109697: expected 15 fields, saw 22\\nSkipping line 121931: expected 15 fields, saw 22\\n'\n",
      "b'Skipping line 139492: expected 15 fields, saw 22\\nSkipping line 158729: expected 15 fields, saw 22\\nSkipping line 165784: expected 15 fields, saw 22\\nSkipping line 176996: expected 15 fields, saw 22\\nSkipping line 182928: expected 15 fields, saw 22\\nSkipping line 195841: expected 15 fields, saw 22\\n'\n",
      "b'Skipping line 196938: expected 15 fields, saw 22\\nSkipping line 202535: expected 15 fields, saw 22\\nSkipping line 261147: expected 15 fields, saw 22\\n'\n",
      "b'Skipping line 265777: expected 15 fields, saw 22\\nSkipping line 277693: expected 15 fields, saw 22\\nSkipping line 280010: expected 15 fields, saw 22\\nSkipping line 296315: expected 15 fields, saw 22\\nSkipping line 299043: expected 15 fields, saw 22\\n'\n",
      "b'Skipping line 334564: expected 15 fields, saw 22\\nSkipping line 337801: expected 15 fields, saw 22\\nSkipping line 341391: expected 15 fields, saw 22\\nSkipping line 354940: expected 15 fields, saw 22\\nSkipping line 366330: expected 15 fields, saw 22\\nSkipping line 367649: expected 15 fields, saw 22\\n'\n",
      "b'Skipping line 399174: expected 15 fields, saw 22\\nSkipping line 414439: expected 15 fields, saw 22\\n'\n",
      "b'Skipping line 473579: expected 15 fields, saw 22\\nSkipping line 483540: expected 15 fields, saw 22\\nSkipping line 499744: expected 15 fields, saw 22\\nSkipping line 505775: expected 15 fields, saw 22\\n'\n",
      "b'Skipping line 547693: expected 15 fields, saw 22\\nSkipping line 561254: expected 15 fields, saw 22\\n'\n",
      "b'Skipping line 609329: expected 15 fields, saw 22\\nSkipping line 642814: expected 15 fields, saw 22\\nSkipping line 643189: expected 15 fields, saw 22\\nSkipping line 647075: expected 15 fields, saw 22\\nSkipping line 647457: expected 15 fields, saw 22\\n'\n",
      "b'Skipping line 660868: expected 15 fields, saw 22\\nSkipping line 668514: expected 15 fields, saw 22\\nSkipping line 673314: expected 15 fields, saw 22\\nSkipping line 700416: expected 15 fields, saw 22\\n'\n",
      "b'Skipping line 723492: expected 15 fields, saw 22\\nSkipping line 725052: expected 15 fields, saw 22\\nSkipping line 726222: expected 15 fields, saw 22\\nSkipping line 744078: expected 15 fields, saw 22\\nSkipping line 753129: expected 15 fields, saw 22\\nSkipping line 758347: expected 15 fields, saw 22\\nSkipping line 759076: expected 15 fields, saw 22\\nSkipping line 759139: expected 15 fields, saw 22\\nSkipping line 768106: expected 15 fields, saw 22\\nSkipping line 777835: expected 15 fields, saw 22\\nSkipping line 779763: expected 15 fields, saw 22\\nSkipping line 781395: expected 15 fields, saw 22\\n'\n",
      "b'Skipping line 787023: expected 15 fields, saw 22\\nSkipping line 811679: expected 15 fields, saw 22\\nSkipping line 811739: expected 15 fields, saw 22\\n'\n",
      "b'Skipping line 855784: expected 15 fields, saw 22\\nSkipping line 878325: expected 15 fields, saw 22\\nSkipping line 886822: expected 15 fields, saw 22\\nSkipping line 890742: expected 15 fields, saw 22\\n'\n",
      "b'Skipping line 919607: expected 15 fields, saw 22\\nSkipping line 920655: expected 15 fields, saw 22\\nSkipping line 923107: expected 15 fields, saw 22\\nSkipping line 930890: expected 15 fields, saw 22\\nSkipping line 932841: expected 15 fields, saw 22\\n'\n",
      "b'Skipping line 1003214: expected 15 fields, saw 22\\nSkipping line 1007588: expected 15 fields, saw 22\\nSkipping line 1018374: expected 15 fields, saw 22\\nSkipping line 1022909: expected 15 fields, saw 22\\nSkipping line 1030983: expected 15 fields, saw 22\\nSkipping line 1048441: expected 15 fields, saw 22\\n'\n",
      "b'Skipping line 1056292: expected 15 fields, saw 22\\nSkipping line 1056518: expected 15 fields, saw 22\\nSkipping line 1073064: expected 15 fields, saw 22\\nSkipping line 1088887: expected 15 fields, saw 22\\nSkipping line 1103881: expected 15 fields, saw 22\\nSkipping line 1111021: expected 15 fields, saw 22\\nSkipping line 1111314: expected 15 fields, saw 22\\n'\n",
      "b'Skipping line 1119421: expected 15 fields, saw 22\\nSkipping line 1119549: expected 15 fields, saw 22\\nSkipping line 1130122: expected 15 fields, saw 22\\nSkipping line 1132767: expected 15 fields, saw 22\\nSkipping line 1143315: expected 15 fields, saw 22\\nSkipping line 1151947: expected 15 fields, saw 22\\nSkipping line 1154207: expected 15 fields, saw 22\\nSkipping line 1154616: expected 15 fields, saw 22\\nSkipping line 1155875: expected 15 fields, saw 22\\nSkipping line 1164714: expected 15 fields, saw 22\\nSkipping line 1164959: expected 15 fields, saw 22\\nSkipping line 1169410: expected 15 fields, saw 22\\n'\n",
      "b'Skipping line 1184604: expected 15 fields, saw 22\\nSkipping line 1203964: expected 15 fields, saw 22\\nSkipping line 1211287: expected 15 fields, saw 22\\nSkipping line 1217834: expected 15 fields, saw 22\\nSkipping line 1235346: expected 15 fields, saw 22\\nSkipping line 1238073: expected 15 fields, saw 22\\nSkipping line 1238439: expected 15 fields, saw 22\\n'\n",
      "b'Skipping line 1246837: expected 15 fields, saw 22\\nSkipping line 1263235: expected 15 fields, saw 22\\nSkipping line 1265620: expected 15 fields, saw 22\\n'\n",
      "b'Skipping line 1312400: expected 15 fields, saw 22\\nSkipping line 1314122: expected 15 fields, saw 22\\nSkipping line 1319707: expected 15 fields, saw 22\\nSkipping line 1337672: expected 15 fields, saw 22\\nSkipping line 1343961: expected 15 fields, saw 22\\nSkipping line 1346372: expected 15 fields, saw 22\\nSkipping line 1358447: expected 15 fields, saw 22\\nSkipping line 1370844: expected 15 fields, saw 22\\n'\n",
      "b'Skipping line 1406108: expected 15 fields, saw 22\\nSkipping line 1435069: expected 15 fields, saw 22\\nSkipping line 1439866: expected 15 fields, saw 22\\n'\n",
      "b'Skipping line 1442123: expected 15 fields, saw 22\\nSkipping line 1463237: expected 15 fields, saw 22\\nSkipping line 1469027: expected 15 fields, saw 22\\nSkipping line 1469598: expected 15 fields, saw 22\\nSkipping line 1482636: expected 15 fields, saw 22\\nSkipping line 1484745: expected 15 fields, saw 22\\nSkipping line 1499831: expected 15 fields, saw 22\\n'\n",
      "b'Skipping line 1508882: expected 15 fields, saw 22\\nSkipping line 1514887: expected 15 fields, saw 22\\nSkipping line 1527564: expected 15 fields, saw 22\\nSkipping line 1569519: expected 15 fields, saw 22\\n'\n",
      "b'Skipping line 1583105: expected 15 fields, saw 22\\nSkipping line 1604380: expected 15 fields, saw 22\\nSkipping line 1607380: expected 15 fields, saw 22\\nSkipping line 1631601: expected 15 fields, saw 22\\n'\n",
      "b'Skipping line 1642095: expected 15 fields, saw 22\\nSkipping line 1646714: expected 15 fields, saw 22\\nSkipping line 1655248: expected 15 fields, saw 22\\nSkipping line 1657807: expected 15 fields, saw 22\\nSkipping line 1667534: expected 15 fields, saw 22\\nSkipping line 1668489: expected 15 fields, saw 22\\nSkipping line 1691733: expected 15 fields, saw 22\\nSkipping line 1701102: expected 15 fields, saw 22\\nSkipping line 1701499: expected 15 fields, saw 22\\n'\n",
      "b'Skipping line 1704450: expected 15 fields, saw 22\\nSkipping line 1706154: expected 15 fields, saw 22\\nSkipping line 1712789: expected 15 fields, saw 22\\n'\n",
      "b'Skipping line 1773984: expected 15 fields, saw 22\\n'\n",
      "b'Skipping line 1846441: expected 15 fields, saw 22\\nSkipping line 1848019: expected 15 fields, saw 22\\nSkipping line 1856015: expected 15 fields, saw 22\\nSkipping line 1858248: expected 15 fields, saw 22\\nSkipping line 1859629: expected 15 fields, saw 22\\nSkipping line 1873117: expected 15 fields, saw 22\\nSkipping line 1894414: expected 15 fields, saw 22\\n'\n",
      "b'Skipping line 1902421: expected 15 fields, saw 22\\nSkipping line 1909201: expected 15 fields, saw 22\\nSkipping line 1914394: expected 15 fields, saw 22\\nSkipping line 1936976: expected 15 fields, saw 22\\nSkipping line 1940327: expected 15 fields, saw 22\\nSkipping line 1945664: expected 15 fields, saw 22\\nSkipping line 1946171: expected 15 fields, saw 22\\nSkipping line 1946284: expected 15 fields, saw 22\\nSkipping line 1946835: expected 15 fields, saw 22\\nSkipping line 1952446: expected 15 fields, saw 22\\nSkipping line 1953387: expected 15 fields, saw 22\\n'\n"
     ]
    },
    {
     "name": "stderr",
     "output_type": "stream",
     "text": [
      "b'Skipping line 1979093: expected 15 fields, saw 22\\nSkipping line 1982997: expected 15 fields, saw 22\\nSkipping line 1992924: expected 15 fields, saw 22\\nSkipping line 1996161: expected 15 fields, saw 22\\nSkipping line 2003175: expected 15 fields, saw 22\\nSkipping line 2024153: expected 15 fields, saw 22\\nSkipping line 2026345: expected 15 fields, saw 22\\n'\n",
      "b'Skipping line 2041159: expected 15 fields, saw 22\\nSkipping line 2042954: expected 15 fields, saw 22\\nSkipping line 2044244: expected 15 fields, saw 22\\nSkipping line 2047949: expected 15 fields, saw 22\\nSkipping line 2051022: expected 15 fields, saw 22\\nSkipping line 2052365: expected 15 fields, saw 22\\nSkipping line 2064460: expected 15 fields, saw 22\\nSkipping line 2077010: expected 15 fields, saw 22\\nSkipping line 2083893: expected 15 fields, saw 22\\n'\n",
      "b'Skipping line 2097514: expected 15 fields, saw 22\\nSkipping line 2100479: expected 15 fields, saw 22\\nSkipping line 2103183: expected 15 fields, saw 22\\nSkipping line 2108608: expected 15 fields, saw 22\\nSkipping line 2116577: expected 15 fields, saw 22\\nSkipping line 2127375: expected 15 fields, saw 22\\nSkipping line 2128053: expected 15 fields, saw 22\\nSkipping line 2135954: expected 15 fields, saw 22\\nSkipping line 2137154: expected 15 fields, saw 22\\nSkipping line 2140279: expected 15 fields, saw 22\\nSkipping line 2150764: expected 15 fields, saw 22\\nSkipping line 2151464: expected 15 fields, saw 22\\nSkipping line 2151588: expected 15 fields, saw 22\\nSkipping line 2157049: expected 15 fields, saw 22\\n'\n",
      "b'Skipping line 2163762: expected 15 fields, saw 22\\nSkipping line 2167939: expected 15 fields, saw 22\\nSkipping line 2172050: expected 15 fields, saw 22\\nSkipping line 2177960: expected 15 fields, saw 22\\nSkipping line 2202813: expected 15 fields, saw 22\\nSkipping line 2207828: expected 15 fields, saw 22\\nSkipping line 2211189: expected 15 fields, saw 22\\nSkipping line 2211589: expected 15 fields, saw 22\\nSkipping line 2214034: expected 15 fields, saw 22\\nSkipping line 2214264: expected 15 fields, saw 22\\nSkipping line 2214462: expected 15 fields, saw 22\\nSkipping line 2215027: expected 15 fields, saw 22\\nSkipping line 2215639: expected 15 fields, saw 22\\nSkipping line 2216007: expected 15 fields, saw 22\\nSkipping line 2217132: expected 15 fields, saw 22\\nSkipping line 2226703: expected 15 fields, saw 22\\n'\n",
      "b'Skipping line 2231683: expected 15 fields, saw 22\\nSkipping line 2245222: expected 15 fields, saw 22\\nSkipping line 2256136: expected 15 fields, saw 22\\nSkipping line 2269399: expected 15 fields, saw 22\\nSkipping line 2283979: expected 15 fields, saw 22\\n'\n",
      "b'Skipping line 2340899: expected 15 fields, saw 22\\nSkipping line 2342134: expected 15 fields, saw 22\\nSkipping line 2342748: expected 15 fields, saw 22\\nSkipping line 2348402: expected 15 fields, saw 22\\nSkipping line 2355164: expected 15 fields, saw 22\\nSkipping line 2357020: expected 15 fields, saw 22\\n'\n",
      "b'Skipping line 2366077: expected 15 fields, saw 22\\nSkipping line 2366997: expected 15 fields, saw 22\\nSkipping line 2367353: expected 15 fields, saw 22\\nSkipping line 2414691: expected 15 fields, saw 22\\n'\n",
      "b'Skipping line 2464571: expected 15 fields, saw 22\\nSkipping line 2466302: expected 15 fields, saw 22\\nSkipping line 2487679: expected 15 fields, saw 22\\nSkipping line 2487771: expected 15 fields, saw 22\\n'\n",
      "b'Skipping line 2506605: expected 15 fields, saw 22\\nSkipping line 2511369: expected 15 fields, saw 22\\n'\n",
      "b'Skipping line 2558281: expected 15 fields, saw 22\\nSkipping line 2607202: expected 15 fields, saw 22\\n'\n",
      "b'Skipping line 2625718: expected 15 fields, saw 22\\nSkipping line 2640978: expected 15 fields, saw 22\\nSkipping line 2650635: expected 15 fields, saw 22\\nSkipping line 2670724: expected 15 fields, saw 22\\n'\n",
      "b'Skipping line 2690954: expected 15 fields, saw 22\\nSkipping line 2713810: expected 15 fields, saw 22\\nSkipping line 2715292: expected 15 fields, saw 22\\nSkipping line 2724453: expected 15 fields, saw 22\\nSkipping line 2724458: expected 15 fields, saw 22\\nSkipping line 2735678: expected 15 fields, saw 22\\nSkipping line 2740358: expected 15 fields, saw 22\\nSkipping line 2751188: expected 15 fields, saw 22\\n'\n",
      "b'Skipping line 2763890: expected 15 fields, saw 22\\nSkipping line 2766982: expected 15 fields, saw 22\\nSkipping line 2813747: expected 15 fields, saw 22\\n'\n",
      "b'Skipping line 2819306: expected 15 fields, saw 22\\nSkipping line 2883075: expected 15 fields, saw 22\\n'\n",
      "b'Skipping line 2975635: expected 15 fields, saw 22\\n'\n",
      "b'Skipping line 3391761: expected 15 fields, saw 22\\n'\n",
      "b'Skipping line 3474241: expected 15 fields, saw 22\\n'\n",
      "b'Skipping line 3690054: expected 15 fields, saw 22\\nSkipping line 3720113: expected 15 fields, saw 22\\n'\n",
      "b'Skipping line 3763182: expected 15 fields, saw 22\\n'\n",
      "b'Skipping line 4929700: expected 15 fields, saw 22\\n'\n",
      "/opt/anaconda3/lib/python3.8/site-packages/IPython/core/interactiveshell.py:3165: DtypeWarning: Columns (7) have mixed types.Specify dtype option on import or set low_memory=False.\n",
      "  has_raised = await self.run_ast_nodes(code_ast.body, cell_name,\n"
     ]
    }
   ],
   "source": [
    "beauty_raw = pd.read_csv('amazon_reviews_us_Beauty_v1_00.tsv', sep = '\\t', error_bad_lines=False)"
   ]
  },
  {
   "cell_type": "markdown",
   "id": "29127e9b",
   "metadata": {},
   "source": [
    "We now save it as a csv file so we do not need to have to read in this large file again"
   ]
  },
  {
   "cell_type": "code",
   "execution_count": 14,
   "id": "b704675d",
   "metadata": {},
   "outputs": [],
   "source": [
    "beauty_raw.to_csv('amazonreviews_beauty_raw.csv',index=False)"
   ]
  },
  {
   "cell_type": "code",
   "execution_count": 15,
   "id": "4a4ba42b",
   "metadata": {},
   "outputs": [],
   "source": [
    "beauty_raw = pd.read_csv('amazonreviews_beauty_raw.csv')"
   ]
  },
  {
   "cell_type": "code",
   "execution_count": 16,
   "id": "b71adfb1",
   "metadata": {},
   "outputs": [],
   "source": [
    "beauty = beauty_raw.copy()"
   ]
  },
  {
   "cell_type": "markdown",
   "id": "09f5ceae",
   "metadata": {},
   "source": [
    "Previewing the data again"
   ]
  },
  {
   "cell_type": "code",
   "execution_count": 17,
   "id": "aa86b0e9",
   "metadata": {},
   "outputs": [
    {
     "data": {
      "text/html": [
       "<div>\n",
       "<style scoped>\n",
       "    .dataframe tbody tr th:only-of-type {\n",
       "        vertical-align: middle;\n",
       "    }\n",
       "\n",
       "    .dataframe tbody tr th {\n",
       "        vertical-align: top;\n",
       "    }\n",
       "\n",
       "    .dataframe thead th {\n",
       "        text-align: right;\n",
       "    }\n",
       "</style>\n",
       "<table border=\"1\" class=\"dataframe\">\n",
       "  <thead>\n",
       "    <tr style=\"text-align: right;\">\n",
       "      <th></th>\n",
       "      <th>marketplace</th>\n",
       "      <th>customer_id</th>\n",
       "      <th>review_id</th>\n",
       "      <th>product_id</th>\n",
       "      <th>product_parent</th>\n",
       "      <th>product_title</th>\n",
       "      <th>product_category</th>\n",
       "      <th>star_rating</th>\n",
       "      <th>helpful_votes</th>\n",
       "      <th>total_votes</th>\n",
       "      <th>vine</th>\n",
       "      <th>verified_purchase</th>\n",
       "      <th>review_headline</th>\n",
       "      <th>review_body</th>\n",
       "      <th>review_date</th>\n",
       "    </tr>\n",
       "  </thead>\n",
       "  <tbody>\n",
       "    <tr>\n",
       "      <th>0</th>\n",
       "      <td>US</td>\n",
       "      <td>1797882</td>\n",
       "      <td>R3I2DHQBR577SS</td>\n",
       "      <td>B001ANOOOE</td>\n",
       "      <td>2102612</td>\n",
       "      <td>The Naked Bee Vitmin C Moisturizing Sunscreen ...</td>\n",
       "      <td>Beauty</td>\n",
       "      <td>5</td>\n",
       "      <td>0.0</td>\n",
       "      <td>0.0</td>\n",
       "      <td>N</td>\n",
       "      <td>Y</td>\n",
       "      <td>Five Stars</td>\n",
       "      <td>Love this, excellent sun block!!</td>\n",
       "      <td>2015-08-31</td>\n",
       "    </tr>\n",
       "    <tr>\n",
       "      <th>1</th>\n",
       "      <td>US</td>\n",
       "      <td>18381298</td>\n",
       "      <td>R1QNE9NQFJC2Y4</td>\n",
       "      <td>B0016J22EQ</td>\n",
       "      <td>106393691</td>\n",
       "      <td>Alba Botanica Sunless Tanning Lotion, 4 Ounce</td>\n",
       "      <td>Beauty</td>\n",
       "      <td>5</td>\n",
       "      <td>0.0</td>\n",
       "      <td>0.0</td>\n",
       "      <td>N</td>\n",
       "      <td>Y</td>\n",
       "      <td>Thank you Alba Bontanica!</td>\n",
       "      <td>The great thing about this cream is that it do...</td>\n",
       "      <td>2015-08-31</td>\n",
       "    </tr>\n",
       "    <tr>\n",
       "      <th>2</th>\n",
       "      <td>US</td>\n",
       "      <td>19242472</td>\n",
       "      <td>R3LIDG2Q4LJBAO</td>\n",
       "      <td>B00HU6UQAG</td>\n",
       "      <td>375449471</td>\n",
       "      <td>Elysee Infusion Skin Therapy Elixir, 2oz.</td>\n",
       "      <td>Beauty</td>\n",
       "      <td>5</td>\n",
       "      <td>0.0</td>\n",
       "      <td>0.0</td>\n",
       "      <td>N</td>\n",
       "      <td>Y</td>\n",
       "      <td>Five Stars</td>\n",
       "      <td>Great Product, I'm 65 years old and this is al...</td>\n",
       "      <td>2015-08-31</td>\n",
       "    </tr>\n",
       "    <tr>\n",
       "      <th>3</th>\n",
       "      <td>US</td>\n",
       "      <td>19551372</td>\n",
       "      <td>R3KSZHPAEVPEAL</td>\n",
       "      <td>B002HWS7RM</td>\n",
       "      <td>255651889</td>\n",
       "      <td>Diane D722 Color, Perm And Conditioner Process...</td>\n",
       "      <td>Beauty</td>\n",
       "      <td>5</td>\n",
       "      <td>0.0</td>\n",
       "      <td>0.0</td>\n",
       "      <td>N</td>\n",
       "      <td>Y</td>\n",
       "      <td>GOOD DEAL!</td>\n",
       "      <td>I use them as shower caps &amp; conditioning caps....</td>\n",
       "      <td>2015-08-31</td>\n",
       "    </tr>\n",
       "    <tr>\n",
       "      <th>4</th>\n",
       "      <td>US</td>\n",
       "      <td>14802407</td>\n",
       "      <td>RAI2OIG50KZ43</td>\n",
       "      <td>B00SM99KWU</td>\n",
       "      <td>116158747</td>\n",
       "      <td>Biore UV Aqua Rich Watery Essence SPF50+/PA+++...</td>\n",
       "      <td>Beauty</td>\n",
       "      <td>5</td>\n",
       "      <td>0.0</td>\n",
       "      <td>0.0</td>\n",
       "      <td>N</td>\n",
       "      <td>Y</td>\n",
       "      <td>this soaks in quick and provides a nice base f...</td>\n",
       "      <td>This is my go-to daily sunblock. It leaves no ...</td>\n",
       "      <td>2015-08-31</td>\n",
       "    </tr>\n",
       "  </tbody>\n",
       "</table>\n",
       "</div>"
      ],
      "text/plain": [
       "  marketplace  customer_id       review_id  product_id  product_parent  \\\n",
       "0          US      1797882  R3I2DHQBR577SS  B001ANOOOE         2102612   \n",
       "1          US     18381298  R1QNE9NQFJC2Y4  B0016J22EQ       106393691   \n",
       "2          US     19242472  R3LIDG2Q4LJBAO  B00HU6UQAG       375449471   \n",
       "3          US     19551372  R3KSZHPAEVPEAL  B002HWS7RM       255651889   \n",
       "4          US     14802407   RAI2OIG50KZ43  B00SM99KWU       116158747   \n",
       "\n",
       "                                       product_title product_category  \\\n",
       "0  The Naked Bee Vitmin C Moisturizing Sunscreen ...           Beauty   \n",
       "1      Alba Botanica Sunless Tanning Lotion, 4 Ounce           Beauty   \n",
       "2          Elysee Infusion Skin Therapy Elixir, 2oz.           Beauty   \n",
       "3  Diane D722 Color, Perm And Conditioner Process...           Beauty   \n",
       "4  Biore UV Aqua Rich Watery Essence SPF50+/PA+++...           Beauty   \n",
       "\n",
       "  star_rating  helpful_votes  total_votes vine verified_purchase  \\\n",
       "0           5            0.0          0.0    N                 Y   \n",
       "1           5            0.0          0.0    N                 Y   \n",
       "2           5            0.0          0.0    N                 Y   \n",
       "3           5            0.0          0.0    N                 Y   \n",
       "4           5            0.0          0.0    N                 Y   \n",
       "\n",
       "                                     review_headline  \\\n",
       "0                                         Five Stars   \n",
       "1                          Thank you Alba Bontanica!   \n",
       "2                                         Five Stars   \n",
       "3                                         GOOD DEAL!   \n",
       "4  this soaks in quick and provides a nice base f...   \n",
       "\n",
       "                                         review_body review_date  \n",
       "0                   Love this, excellent sun block!!  2015-08-31  \n",
       "1  The great thing about this cream is that it do...  2015-08-31  \n",
       "2  Great Product, I'm 65 years old and this is al...  2015-08-31  \n",
       "3  I use them as shower caps & conditioning caps....  2015-08-31  \n",
       "4  This is my go-to daily sunblock. It leaves no ...  2015-08-31  "
      ]
     },
     "execution_count": 17,
     "metadata": {},
     "output_type": "execute_result"
    }
   ],
   "source": [
    "beauty.head()"
   ]
  },
  {
   "cell_type": "markdown",
   "id": "00cf1275",
   "metadata": {},
   "source": [
    "Here we converted the review date to datetime type. We then kept only the reviews written in 2015, which is the most recent year in the dataset. We then made sure that our market data was also for the year 2015 so the relationship would make sense."
   ]
  },
  {
   "cell_type": "code",
   "execution_count": 18,
   "id": "e1f35513",
   "metadata": {},
   "outputs": [],
   "source": [
    "# keeping reviews written in 2015\n",
    "beauty['review_date'] = pd.to_datetime(beauty['review_date'])\n",
    "beauty = beauty.loc[beauty['review_date'].dt.year == 2015]"
   ]
  },
  {
   "cell_type": "markdown",
   "id": "6bdf3f10",
   "metadata": {},
   "source": [
    "As Amazon sells many smaller, indie brands, we are filtering for the select corporate brands that we will be analyzing. The five leading companies we will be looking at are L'oreal, Coty, Revlon, Johnson and Johnson, and Proctor and Gamble. We are including the leading brands that they own as additional brands to filter for."
   ]
  },
  {
   "cell_type": "code",
   "execution_count": 19,
   "id": "2381a41b",
   "metadata": {},
   "outputs": [],
   "source": [
    "loreal = [\"L'oreal\", 'Garnier', 'Maybelline', 'Nyx', 'Cerave']\n",
    "coty = ['Rimmel', 'Covergirl', 'Sally Hansen']\n",
    "revlon = ['Revlon', 'Almay']\n",
    "jnj = ['Clean & Clear', 'Neutrogena', 'Aveeno', 'OGX', 'Lubriderm'] \n",
    "png = ['Olay','Herbal Essences', 'Pantene', 'Head and Shoulders','Aussie']\n",
    "brands = loreal + coty + revlon + jnj #combining all the brands together\n",
    "beauty = beauty.loc[beauty['product_title'].str.contains('|'.join(brands))] #only keeping the rows with our brands"
   ]
  },
  {
   "cell_type": "code",
   "execution_count": 20,
   "id": "e1e77423",
   "metadata": {},
   "outputs": [
    {
     "data": {
      "text/plain": [
       "L'oreal              22512\n",
       "Johnson & Johnson    16946\n",
       "Revlon               13946\n",
       "Coty                  8154\n",
       "Proctor & Gamble       143\n",
       "Name: corporation, dtype: int64"
      ]
     },
     "execution_count": 20,
     "metadata": {},
     "output_type": "execute_result"
    }
   ],
   "source": [
    "# add columns by parent corporation\n",
    "beauty.loc[beauty['product_title'].str.contains('|'.join(loreal)), 'corporation'] = \"L'oreal\"\n",
    "beauty.loc[beauty['product_title'].str.contains('|'.join(coty)), 'corporation'] = \"Coty\"\n",
    "beauty.loc[beauty['product_title'].str.contains('|'.join(revlon)), 'corporation'] = \"Revlon\"\n",
    "beauty.loc[beauty['product_title'].str.contains('|'.join(jnj)), 'corporation'] = \"Johnson & Johnson\"\n",
    "beauty.loc[beauty['product_title'].str.contains('|'.join(png)), 'corporation'] = \"Proctor & Gamble\"\n",
    "beauty.corporation.value_counts()"
   ]
  },
  {
   "cell_type": "markdown",
   "id": "83381042",
   "metadata": {},
   "source": [
    "In order to narrow the dataset down to a more reasonable size, we are randomly sampling 40,000 observations. We then reset the index on each dataset to be from 0-39,999."
   ]
  },
  {
   "cell_type": "code",
   "execution_count": 21,
   "id": "918f9158",
   "metadata": {},
   "outputs": [],
   "source": [
    "# randomly narrowing down to 40,000\n",
    "beauty = beauty.sample(n=40000).reset_index()"
   ]
  },
  {
   "cell_type": "markdown",
   "id": "b8062cf5",
   "metadata": {},
   "source": [
    "Here we are dropping the unecessary columns.\n",
    " - We first dropped the Marketplace column because all the products were sold in the US.\n",
    " - We also dropped the index column as we reset the index. \n",
    " - We dropped product_category as all products fall into Beauty\n",
    " - total_votes is the same as helpful_votes and is redundant"
   ]
  },
  {
   "cell_type": "code",
   "execution_count": 22,
   "id": "57cd6d1c",
   "metadata": {},
   "outputs": [],
   "source": [
    "# dropping marketplace, index column, product category, total votes\n",
    "beauty = beauty.drop(columns= ['marketplace','index','product_category', 'total_votes'], axis=1)"
   ]
  },
  {
   "cell_type": "markdown",
   "id": "40b96a9c",
   "metadata": {},
   "source": [
    "Now we will save the newly cleaned data to a new file so we have all of our intermediary steps"
   ]
  },
  {
   "cell_type": "code",
   "execution_count": 23,
   "id": "793c5308",
   "metadata": {},
   "outputs": [],
   "source": [
    "# downloading cleaned csv file\n",
    "beauty.to_csv('amazonreviews_beauty.csv',index=False)"
   ]
  },
  {
   "cell_type": "markdown",
   "id": "31546c4e",
   "metadata": {},
   "source": [
    "# Data Description\n",
    "\n",
    "## Beauty Market\n",
    "### Motivation\n",
    "- **Why was this dataset created?**\n",
    "    - This dataset was created to explore how the market of cosmetics has evolved through the year or 2015, in regards to trends in sales, market breakdown, which factors contributed to these changes, and which makeup trends might affect the market.\n",
    "    \n",
    "- **Who funded the creation of the dataset?**\n",
    "    - The research was done by Mintel, an independent market analysis company that prides itself on supplying objective information on a whole range of markets and marketing issues.\n",
    "    \n",
    "### Composition\n",
    "- **What are the observations (rows) and the attributes (columns)?**\n",
    "    - The rows are the top cosmetics companies, and the columns are how they performed in the market, specifically: company name, 2014 sales (in millions of dollars), 2014 market share percentage, 2015 sales (in millions of dollars), 2015 market share percentage, the sale change percentage from 2014-2015, and the market share percent change from 2014-2015.\n",
    "    \n",
    "- **How many instances are there in the dataset? Does it contain all possible instances or is it a sample? What processes might have influenced what data was observed and recorded and what was not?**\n",
    "    - The initial dataset had 7 instances, but I removed the \"private labels\" and \"other\" companies as they are not easy to use with our Amazon dataset. The data contained a note that read: \"Data may not equal totals due to rounding The above figures are based on MULO sales data from Information Resources, Inc., InfoScan Reviews. MULO is defined as Multi Outlet, representative of the following channels: total U.S. Grocery, Mass, Total U.S. Drug, Total Walmart, Dollar, Military, and Club.\" \n",
    "    \n",
    "- **Where can your raw source data be found, if applicable? Provide a link to the raw data (hosted in a Cornell Google Drive or Cornell Box).**\n",
    "    - Our data can be found at the same Google Drive as previously listed.\n",
    "    \n",
    "- **Is the data self contained or does it rely on other outside websites?**\n",
    "    - Our data is self contained because it is historical data about sales in 2015, and thus would not rely on outside websites\n",
    "    \n",
    "- **Does this data relate to individuals? Can the individuals be identified? Are there any subpopulations that can be identified?**\n",
    "    - No, the data is not related to individuals, but companies which are entities.\n",
    "    \n",
    "### Collection Process\n",
    "- **If people are involved, were they aware of the data collection and if so, what purpose did they expect the data to be used for?**\n",
    "    - No people were involved, as the data in this specific dataset was from an Information Resrouces company.\n",
    "    \n",
    "- **What time frame was the data collected?**\n",
    "    - This dataset focuses on company sales from 2014 to March 22, 2015.\n",
    "    \n",
    "### Preprocessing\n",
    "- **What preprocessing was done, and how did the data come to be in the form that you are using?**\n",
    "    - Refer to data cleaning appendix to see how we cleaned the data. We mostly just made sure that numerical values were actually float data types, and kept only relevant rows. The original collectors had to process the percent changes between years, decide which companies fell under the \"Private Label\" and \"Other Categories,\" and perhaps calculate overall sales by converting international sales that were not originally in dollars. \n",
    "    \n",
    "- **Are there are any errors, sources of noise, or redundancies in the data?**\n",
    "    - None that are visible to us. The dataset is rather small and informs us of overarching/summarizing statistics, thus there is not much room for errors/noise.\n",
    " \n",
    "### Uses\n",
    "    \n",
    " - **Has this data been used before? If so, what for?**\n",
    "     - There is no evidence that this data has been used before, however it is very likely that it has considering it is a public dataset published for people to use."
   ]
  },
  {
   "cell_type": "markdown",
   "id": "12b7c5fa",
   "metadata": {},
   "source": [
    "## Amazon Reviews\n",
    "\n",
    "### Motivation\n",
    " - **Why was this dataset created?**\n",
    "     - This dataset was intended to facilitate public study into the properties of Amazon customer reviews including how consumers evolve, express, and evaluate Amazon products.\n",
    " \n",
    " - **Who funded the creation of the dataset?**\n",
    "     - Amazon funded and collected this Amazon Customer Reviews Product for public use. The information is publicly available on Amazon Web Services.\n",
    "\n",
    "### Composition\n",
    "  - **What are the observations (rows) and the attributes (columns)?**\n",
    "      - The observations consist of each individual review. Each review has the following column attributes: customer_id, review_id, product_id, product_title, star_rating (Scale of 1-5), helpful_votes, vine (Amazon invites select credible users to review products through their Vine program), verified_purchase, review_headline, review_body, and review_date.\n",
    "  \n",
    " - **How many instances are there in the dataset? Does it contain all possible instances or is it a sample? What processes might have influenced what data was observed and recorded and what was not?**\n",
    "     - There are a total of 40,000 observations. The original dataset with over a million reviews in the beauty category is a sample collected by Amazon. Amazon constructed this dataset hoping to represent a sample of different customer opinions and demographics. We then narrowed the dataset even further by most recent year and then by select brands leading the beauty/hair care industry. \n",
    " \n",
    " - **Where can your raw source data be found, if applicable? Provide a link to the raw data (hosted in a Cornell Google Drive or Cornell Box).**\n",
    "     - The raw source can be found on Amazon Web Services. Here is the link to raw datasets also uploaded on google drive: https://drive.google.com/drive/folders/1F1Z1ERhp18uaB9J1d-dkGYhBCbJnPyXC?usp=sharing\n",
    " \n",
    " - **Is the data self contained or does it rely on other outside websites?**\n",
    "     - The data is self-contained in a downloaded tsv file.\n",
    " \n",
    " - **Does this data relate to individuals? Can the individuals be identified? Are there any subpopulations that can be identified?**\n",
    "     - Each individual review is associated to a reviewer through customer_id. However, there is no further information about this individual and customers cannot be split off into smaller subpopulations by demographics.\n",
    " \n",
    "### Collection Process\n",
    " - **If people are involved, were they aware of the data collection and if so, what purpose did they expect the data to be used for?**\n",
    "     - The reviewers in the dataset are not aware of their reviews being used for this purpose. They gave their consent to Amazon when they published their reviews publicly on Amazon. \n",
    " \n",
    " - **What time frame was the data collected?**\n",
    "     - Amazon collected reviews starting from 1995 all the way to 2015. \n",
    " \n",
    "### Preprocessing\n",
    " - **What preprocessing was done, and how did the data come to be in the form that you are using?**\n",
    "     - We conducted filtering on certain column values by year and product brand. We then randomly selected 40,000 observations to narrow down the size of our dataset. The original creators of the dataset had to do preprocessing that included choosing their own sample of reviews, coding whether each review was a vine/verified purchase, categorize the product, etc. They had to scrape their own website, or had the reviews stored in a database which they then transformed into a .tsv file. Their exact preprocessing steps were undisclosed.\n",
    " \n",
    "  - **Are there are any errors, sources of noise, or redundancies in the data?**\n",
    "      - There were some observations with additional attributes/columns when parsing in the data from a csv file. We handled this by skipping over these lines and not including in the final dataset as it would not be reasonable to comb through the millions of reviews to individually handle each of these errors.\n",
    " \n",
    "### Uses\n",
    " - **Has this data been used before? If so, what for?**\n",
    "     - There are no public publishings using this dataset that could be found. However, we found a few other Amazon review analysis using other Amazon datasets. These analyses consisted mainly of review sentiment analysis. "
   ]
  },
  {
   "cell_type": "markdown",
   "id": "b23cf6b8",
   "metadata": {},
   "source": [
    "# Data Limitations\n",
    "\n",
    "\n",
    "## Beauty Market\n",
    "- We are only able to see the market sales of 4 well known companies, some of which are parent companies that own several beauty brands. This makes it difficult to use with our Amazon dataset which reports reviews of these smaller \"child\" companies. \n",
    "- The data lumps together \"private labels\" and \"others\" into separate categories, which is unclear of which companies it considers under those categories, and might have been valuable in our data analysis.\n",
    "- The data only reports sales and shares for 2015 as a whole, and in the period ending March 22. Not only does this mean it does not include the whole year of 2015, but it is not specific in how the sales were in different months.\n",
    "- The data only analyzes company performance in terms of market shares and sales, no other metrics.\n",
    "\n",
    "## Amazon Reviews\n",
    " - Amazon has a lot of other smaller, indie brands that we had to exclude from the cleaned dataset because the Beauty Market Dataset only included the top few brands. Because we are not including them, our analysis might not accurately reflect the whole market share and beauty space.\n",
    " - It could be difficult to analyze the review text content as it requires in-depth natural language processing, which is beyond the scope of what we will learn in this course. \n",
    " - By selecting only 40,000 reviews, we also risk losing a lot of important observations such as vine reviews, reviews that are voted highly helpful, and various reviews across products that could have very beneficial content.\n",
    " - Some corporations do not have as many observations as others. Additionally some have zero vine reviews. \n",
    " - Our data is only looking 2015 reviews, which might not be relevant to the current market today."
   ]
  },
  {
   "cell_type": "markdown",
   "id": "f188e685",
   "metadata": {},
   "source": [
    "# Exploratory Data Analysis"
   ]
  },
  {
   "cell_type": "markdown",
   "id": "a66a5531",
   "metadata": {},
   "source": [
    "## Beauty Market"
   ]
  },
  {
   "cell_type": "code",
   "execution_count": 24,
   "id": "8ba42aea",
   "metadata": {},
   "outputs": [
    {
     "data": {
      "text/html": [
       "<div>\n",
       "<style scoped>\n",
       "    .dataframe tbody tr th:only-of-type {\n",
       "        vertical-align: middle;\n",
       "    }\n",
       "\n",
       "    .dataframe tbody tr th {\n",
       "        vertical-align: top;\n",
       "    }\n",
       "\n",
       "    .dataframe thead th {\n",
       "        text-align: right;\n",
       "    }\n",
       "</style>\n",
       "<table border=\"1\" class=\"dataframe\">\n",
       "  <thead>\n",
       "    <tr style=\"text-align: right;\">\n",
       "      <th></th>\n",
       "      <th>Company</th>\n",
       "      <th>2014_sales_millions</th>\n",
       "      <th>2014_market_share_percent</th>\n",
       "      <th>2015_sales_millions</th>\n",
       "      <th>2015_market_share_percent</th>\n",
       "      <th>sale_change_percent</th>\n",
       "      <th>share_change_percent</th>\n",
       "    </tr>\n",
       "  </thead>\n",
       "  <tbody>\n",
       "    <tr>\n",
       "      <th>0</th>\n",
       "      <td>L'Oréal USA</td>\n",
       "      <td>1797.9</td>\n",
       "      <td>39.1</td>\n",
       "      <td>1815.0</td>\n",
       "      <td>38.6</td>\n",
       "      <td>1.0</td>\n",
       "      <td>-0.5</td>\n",
       "    </tr>\n",
       "    <tr>\n",
       "      <th>1</th>\n",
       "      <td>Procter &amp; Gamble</td>\n",
       "      <td>954.7</td>\n",
       "      <td>20.8</td>\n",
       "      <td>946.1</td>\n",
       "      <td>20.1</td>\n",
       "      <td>-0.9</td>\n",
       "      <td>-0.7</td>\n",
       "    </tr>\n",
       "    <tr>\n",
       "      <th>2</th>\n",
       "      <td>Revlon Inc.</td>\n",
       "      <td>670.5</td>\n",
       "      <td>14.6</td>\n",
       "      <td>661.6</td>\n",
       "      <td>14.1</td>\n",
       "      <td>-1.3</td>\n",
       "      <td>-0.5</td>\n",
       "    </tr>\n",
       "    <tr>\n",
       "      <th>3</th>\n",
       "      <td>Coty Beauty</td>\n",
       "      <td>262.3</td>\n",
       "      <td>5.7</td>\n",
       "      <td>263.8</td>\n",
       "      <td>5.6</td>\n",
       "      <td>0.5</td>\n",
       "      <td>-0.1</td>\n",
       "    </tr>\n",
       "    <tr>\n",
       "      <th>4</th>\n",
       "      <td>Johnson &amp; Johnson</td>\n",
       "      <td>171.9</td>\n",
       "      <td>3.7</td>\n",
       "      <td>176.0</td>\n",
       "      <td>3.7</td>\n",
       "      <td>2.4</td>\n",
       "      <td>0.0</td>\n",
       "    </tr>\n",
       "  </tbody>\n",
       "</table>\n",
       "</div>"
      ],
      "text/plain": [
       "             Company  2014_sales_millions  2014_market_share_percent  \\\n",
       "0        L'Oréal USA               1797.9                       39.1   \n",
       "1   Procter & Gamble                954.7                       20.8   \n",
       "2        Revlon Inc.                670.5                       14.6   \n",
       "3        Coty Beauty                262.3                        5.7   \n",
       "4  Johnson & Johnson                171.9                        3.7   \n",
       "\n",
       "   2015_sales_millions  2015_market_share_percent  sale_change_percent  \\\n",
       "0               1815.0                       38.6                  1.0   \n",
       "1                946.1                       20.1                 -0.9   \n",
       "2                661.6                       14.1                 -1.3   \n",
       "3                263.8                        5.6                  0.5   \n",
       "4                176.0                        3.7                  2.4   \n",
       "\n",
       "   share_change_percent  \n",
       "0                  -0.5  \n",
       "1                  -0.7  \n",
       "2                  -0.5  \n",
       "3                  -0.1  \n",
       "4                   0.0  "
      ]
     },
     "execution_count": 24,
     "metadata": {},
     "output_type": "execute_result"
    }
   ],
   "source": [
    "market_sales"
   ]
  },
  {
   "cell_type": "markdown",
   "id": "f73919d9",
   "metadata": {},
   "source": [
    "Now we will compare the sales between 2014-2015 by company, as well as their sales/share percentage change. The most appropriate graph for this exploration would be a bar chart."
   ]
  },
  {
   "cell_type": "code",
   "execution_count": 25,
   "id": "57edc05b",
   "metadata": {},
   "outputs": [
    {
     "data": {
      "image/png": "[encoded data removed]",
      "text/plain": [
       "<Figure size 720x576 with 1 Axes>"
      ]
     },
     "metadata": {
      "needs_background": "light"
     },
     "output_type": "display_data"
    }
   ],
   "source": [
    "market_sales.plot(x = \"Company\", y= ['2014_sales_millions', '2015_sales_millions'], kind = 'bar', legend = True, figsize = (10, 8))\n",
    "plt.ylabel(\"Sales in Millions of Dollars\")\n",
    "plt.title(\"Company Sales in 2014 vs. 2015\")\n",
    "plt.show()"
   ]
  },
  {
   "cell_type": "markdown",
   "id": "dc9f03a8",
   "metadata": {},
   "source": [
    "We then wanted to examine the sale and share percent change by company, so we use a bar graph again. Since there are positive and negative values, we know that the graph will look a bit different."
   ]
  },
  {
   "cell_type": "code",
   "execution_count": 26,
   "id": "13fa9b26",
   "metadata": {},
   "outputs": [
    {
     "data": {
      "image/png": "[encoded data removed]",
      "text/plain": [
       "<Figure size 432x360 with 1 Axes>"
      ]
     },
     "metadata": {
      "needs_background": "light"
     },
     "output_type": "display_data"
    }
   ],
   "source": [
    "market_sales.plot(x = \"Company\", y= ['sale_change_percent', 'share_change_percent'], kind = 'bar', legend = True, figsize = (6, 5))\n",
    "plt.axhline(y=0, color='black', linestyle='-')\n",
    "plt.ylabel(\"Percentage Change\")\n",
    "plt.title(\"Company Share and Sale Percentages\")\n",
    "plt.show()"
   ]
  },
  {
   "cell_type": "markdown",
   "id": "8db4cf30",
   "metadata": {},
   "source": [
    "Here we see some interesting data. While the sale change percent grew for L'Oreal and Coty Beauty, their share percentages declined. Additionally, Johnson & Johnson sale percentage grew far more than any other company. It is also noteable that J&J's share percentage did not change at all. Another interesting observation is that while J&J had the largest sales percentage increase, their overall sales still remained the lowest in terms of millions of dollars."
   ]
  },
  {
   "cell_type": "markdown",
   "id": "bcf2a347",
   "metadata": {},
   "source": [
    "## Amazon"
   ]
  },
  {
   "cell_type": "code",
   "execution_count": 3,
   "id": "3f9ef331",
   "metadata": {},
   "outputs": [],
   "source": [
    "# importing cleaned amazon review datasets\n",
    "beauty_clean = pd.read_csv('amazonreviews_beauty.csv')"
   ]
  },
  {
   "cell_type": "code",
   "execution_count": 28,
   "id": "9c202e64",
   "metadata": {},
   "outputs": [
    {
     "data": {
      "text/html": [
       "<div>\n",
       "<style scoped>\n",
       "    .dataframe tbody tr th:only-of-type {\n",
       "        vertical-align: middle;\n",
       "    }\n",
       "\n",
       "    .dataframe tbody tr th {\n",
       "        vertical-align: top;\n",
       "    }\n",
       "\n",
       "    .dataframe thead th {\n",
       "        text-align: right;\n",
       "    }\n",
       "</style>\n",
       "<table border=\"1\" class=\"dataframe\">\n",
       "  <thead>\n",
       "    <tr style=\"text-align: right;\">\n",
       "      <th></th>\n",
       "      <th>customer_id</th>\n",
       "      <th>review_id</th>\n",
       "      <th>product_id</th>\n",
       "      <th>product_parent</th>\n",
       "      <th>product_title</th>\n",
       "      <th>star_rating</th>\n",
       "      <th>helpful_votes</th>\n",
       "      <th>vine</th>\n",
       "      <th>verified_purchase</th>\n",
       "      <th>review_headline</th>\n",
       "      <th>review_body</th>\n",
       "      <th>review_date</th>\n",
       "      <th>corporation</th>\n",
       "    </tr>\n",
       "  </thead>\n",
       "  <tbody>\n",
       "    <tr>\n",
       "      <th>0</th>\n",
       "      <td>44229150</td>\n",
       "      <td>RVYRD19B1ZYM7</td>\n",
       "      <td>B00PJ5ZMOA</td>\n",
       "      <td>413244867</td>\n",
       "      <td>Sally Hansen Treatment Gel Shine 3D Top Coat N...</td>\n",
       "      <td>5.0</td>\n",
       "      <td>1.0</td>\n",
       "      <td>N</td>\n",
       "      <td>N</td>\n",
       "      <td>A must try</td>\n",
       "      <td>The best top coat ever! Makes my nails shiny a...</td>\n",
       "      <td>2015-03-11</td>\n",
       "      <td>Coty</td>\n",
       "    </tr>\n",
       "    <tr>\n",
       "      <th>1</th>\n",
       "      <td>16159737</td>\n",
       "      <td>R1QS2P3JI6D47X</td>\n",
       "      <td>B00KLSYJGW</td>\n",
       "      <td>736313484</td>\n",
       "      <td>Maybelline New York Expert Wear Eye shadow Tri...</td>\n",
       "      <td>5.0</td>\n",
       "      <td>0.0</td>\n",
       "      <td>N</td>\n",
       "      <td>Y</td>\n",
       "      <td>Five Stars</td>\n",
       "      <td>Just what I wanted and I can't buy it here!</td>\n",
       "      <td>2015-05-18</td>\n",
       "      <td>L'oreal</td>\n",
       "    </tr>\n",
       "    <tr>\n",
       "      <th>2</th>\n",
       "      <td>27448091</td>\n",
       "      <td>R1A1NJ5KBINKRQ</td>\n",
       "      <td>B000NWAOHE</td>\n",
       "      <td>102547393</td>\n",
       "      <td>Neutrogena Cleansing Oil-Free Eye Makeup Remover</td>\n",
       "      <td>5.0</td>\n",
       "      <td>0.0</td>\n",
       "      <td>N</td>\n",
       "      <td>Y</td>\n",
       "      <td>I've bought 2!</td>\n",
       "      <td>This works fantastic in removing eye makeup.  ...</td>\n",
       "      <td>2015-03-22</td>\n",
       "      <td>Johnson &amp; Johnson</td>\n",
       "    </tr>\n",
       "    <tr>\n",
       "      <th>3</th>\n",
       "      <td>36691645</td>\n",
       "      <td>R8B99UKN512TG</td>\n",
       "      <td>B0039UTV5I</td>\n",
       "      <td>213576683</td>\n",
       "      <td>Revlon ColorStay Liquid Makeup for Combination...</td>\n",
       "      <td>5.0</td>\n",
       "      <td>0.0</td>\n",
       "      <td>N</td>\n",
       "      <td>Y</td>\n",
       "      <td>Five Stars</td>\n",
       "      <td>Great seller, excellent product, fast delivery...</td>\n",
       "      <td>2015-06-17</td>\n",
       "      <td>Revlon</td>\n",
       "    </tr>\n",
       "    <tr>\n",
       "      <th>4</th>\n",
       "      <td>14965451</td>\n",
       "      <td>RGBKX7KMKFG01</td>\n",
       "      <td>B00N6M9N0C</td>\n",
       "      <td>415585559</td>\n",
       "      <td>Maybelline New York Great Lash Real Impact Was...</td>\n",
       "      <td>1.0</td>\n",
       "      <td>0.0</td>\n",
       "      <td>N</td>\n",
       "      <td>N</td>\n",
       "      <td>One Star</td>\n",
       "      <td>Worst product ever. Dont waste your money.</td>\n",
       "      <td>2015-06-27</td>\n",
       "      <td>L'oreal</td>\n",
       "    </tr>\n",
       "  </tbody>\n",
       "</table>\n",
       "</div>"
      ],
      "text/plain": [
       "   customer_id       review_id  product_id  product_parent  \\\n",
       "0     44229150   RVYRD19B1ZYM7  B00PJ5ZMOA       413244867   \n",
       "1     16159737  R1QS2P3JI6D47X  B00KLSYJGW       736313484   \n",
       "2     27448091  R1A1NJ5KBINKRQ  B000NWAOHE       102547393   \n",
       "3     36691645   R8B99UKN512TG  B0039UTV5I       213576683   \n",
       "4     14965451   RGBKX7KMKFG01  B00N6M9N0C       415585559   \n",
       "\n",
       "                                       product_title  star_rating  \\\n",
       "0  Sally Hansen Treatment Gel Shine 3D Top Coat N...          5.0   \n",
       "1  Maybelline New York Expert Wear Eye shadow Tri...          5.0   \n",
       "2   Neutrogena Cleansing Oil-Free Eye Makeup Remover          5.0   \n",
       "3  Revlon ColorStay Liquid Makeup for Combination...          5.0   \n",
       "4  Maybelline New York Great Lash Real Impact Was...          1.0   \n",
       "\n",
       "   helpful_votes vine verified_purchase review_headline  \\\n",
       "0            1.0    N                 N      A must try   \n",
       "1            0.0    N                 Y      Five Stars   \n",
       "2            0.0    N                 Y  I've bought 2!   \n",
       "3            0.0    N                 Y      Five Stars   \n",
       "4            0.0    N                 N        One Star   \n",
       "\n",
       "                                         review_body review_date  \\\n",
       "0  The best top coat ever! Makes my nails shiny a...  2015-03-11   \n",
       "1        Just what I wanted and I can't buy it here!  2015-05-18   \n",
       "2  This works fantastic in removing eye makeup.  ...  2015-03-22   \n",
       "3  Great seller, excellent product, fast delivery...  2015-06-17   \n",
       "4         Worst product ever. Dont waste your money.  2015-06-27   \n",
       "\n",
       "         corporation  \n",
       "0               Coty  \n",
       "1            L'oreal  \n",
       "2  Johnson & Johnson  \n",
       "3             Revlon  \n",
       "4            L'oreal  "
      ]
     },
     "execution_count": 28,
     "metadata": {},
     "output_type": "execute_result"
    }
   ],
   "source": [
    "beauty_clean.head()"
   ]
  },
  {
   "cell_type": "markdown",
   "id": "0ead7ca9",
   "metadata": {},
   "source": [
    "### Histograms of Star Rating Distribution Overall and by Company"
   ]
  },
  {
   "cell_type": "markdown",
   "id": "6a36c3ad",
   "metadata": {},
   "source": [
    "The first thing we wanted to do was figure out how the star ratings of beauty products on Amazon were distributed. Since this was comparing counts, we used histograms. We first decided to look at all products overall, and then how the distributions varied by our 5 main companies."
   ]
  },
  {
   "cell_type": "code",
   "execution_count": 29,
   "id": "71d4030d",
   "metadata": {},
   "outputs": [
    {
     "data": {
      "image/png": "[encoded data removed]",
      "text/plain": [
       "<Figure size 432x288 with 1 Axes>"
      ]
     },
     "metadata": {
      "needs_background": "light"
     },
     "output_type": "display_data"
    }
   ],
   "source": [
    "beauty_clean.star_rating.hist(bins = 5)\n",
    "plt.xticks(range(1, 6))\n",
    "plt.xlabel('Star Rating')\n",
    "plt.ylabel(\"Count\")\n",
    "plt.title(\"Overall Distribution of Star Ratings\")\n",
    "plt.show()"
   ]
  },
  {
   "cell_type": "code",
   "execution_count": 30,
   "id": "5c32420a",
   "metadata": {},
   "outputs": [
    {
     "data": {
      "image/png": "[encoded data removed]",
      "text/plain": [
       "<Figure size 720x864 with 6 Axes>"
      ]
     },
     "metadata": {
      "needs_background": "light"
     },
     "output_type": "display_data"
    }
   ],
   "source": [
    "beauty_clean.star_rating.hist(by=beauty_clean.corporation, figsize = (10, 12), bins = 5)\n",
    "plt.show()"
   ]
  },
  {
   "cell_type": "markdown",
   "id": "7502f8a5",
   "metadata": {},
   "source": [
    "### Basic Statistics of Star Ratings by Corporation"
   ]
  },
  {
   "cell_type": "markdown",
   "id": "04e020fd",
   "metadata": {},
   "source": [
    "#### All Companies"
   ]
  },
  {
   "cell_type": "code",
   "execution_count": 31,
   "id": "10b49008",
   "metadata": {},
   "outputs": [
    {
     "data": {
      "text/html": [
       "<div>\n",
       "<style scoped>\n",
       "    .dataframe tbody tr th:only-of-type {\n",
       "        vertical-align: middle;\n",
       "    }\n",
       "\n",
       "    .dataframe tbody tr th {\n",
       "        vertical-align: top;\n",
       "    }\n",
       "\n",
       "    .dataframe thead th {\n",
       "        text-align: right;\n",
       "    }\n",
       "</style>\n",
       "<table border=\"1\" class=\"dataframe\">\n",
       "  <thead>\n",
       "    <tr style=\"text-align: right;\">\n",
       "      <th></th>\n",
       "      <th>star_rating</th>\n",
       "    </tr>\n",
       "  </thead>\n",
       "  <tbody>\n",
       "    <tr>\n",
       "      <th>mean</th>\n",
       "      <td>4.188975</td>\n",
       "    </tr>\n",
       "    <tr>\n",
       "      <th>median</th>\n",
       "      <td>5.000000</td>\n",
       "    </tr>\n",
       "    <tr>\n",
       "      <th>std</th>\n",
       "      <td>1.286703</td>\n",
       "    </tr>\n",
       "    <tr>\n",
       "      <th>var</th>\n",
       "      <td>1.655605</td>\n",
       "    </tr>\n",
       "  </tbody>\n",
       "</table>\n",
       "</div>"
      ],
      "text/plain": [
       "        star_rating\n",
       "mean       4.188975\n",
       "median     5.000000\n",
       "std        1.286703\n",
       "var        1.655605"
      ]
     },
     "execution_count": 31,
     "metadata": {},
     "output_type": "execute_result"
    }
   ],
   "source": [
    "beauty_clean[['star_rating']].agg([np.mean, np.median, np.std, np.var])"
   ]
  },
  {
   "cell_type": "markdown",
   "id": "bf528a12",
   "metadata": {},
   "source": [
    "#### Star Rating Breakdown by Company"
   ]
  },
  {
   "cell_type": "code",
   "execution_count": 32,
   "id": "37bcd0a8",
   "metadata": {},
   "outputs": [
    {
     "data": {
      "text/html": [
       "<div>\n",
       "<style scoped>\n",
       "    .dataframe tbody tr th:only-of-type {\n",
       "        vertical-align: middle;\n",
       "    }\n",
       "\n",
       "    .dataframe tbody tr th {\n",
       "        vertical-align: top;\n",
       "    }\n",
       "\n",
       "    .dataframe thead th {\n",
       "        text-align: right;\n",
       "    }\n",
       "</style>\n",
       "<table border=\"1\" class=\"dataframe\">\n",
       "  <thead>\n",
       "    <tr style=\"text-align: right;\">\n",
       "      <th></th>\n",
       "      <th>mean</th>\n",
       "      <th>median</th>\n",
       "      <th>std</th>\n",
       "      <th>var</th>\n",
       "    </tr>\n",
       "    <tr>\n",
       "      <th>corporation</th>\n",
       "      <th></th>\n",
       "      <th></th>\n",
       "      <th></th>\n",
       "      <th></th>\n",
       "    </tr>\n",
       "  </thead>\n",
       "  <tbody>\n",
       "    <tr>\n",
       "      <th>Coty</th>\n",
       "      <td>4.033680</td>\n",
       "      <td>5.0</td>\n",
       "      <td>1.394946</td>\n",
       "      <td>1.945875</td>\n",
       "    </tr>\n",
       "    <tr>\n",
       "      <th>Johnson &amp; Johnson</th>\n",
       "      <td>4.328943</td>\n",
       "      <td>5.0</td>\n",
       "      <td>1.190374</td>\n",
       "      <td>1.416990</td>\n",
       "    </tr>\n",
       "    <tr>\n",
       "      <th>L'oreal</th>\n",
       "      <td>4.178849</td>\n",
       "      <td>5.0</td>\n",
       "      <td>1.261669</td>\n",
       "      <td>1.591809</td>\n",
       "    </tr>\n",
       "    <tr>\n",
       "      <th>Proctor &amp; Gamble</th>\n",
       "      <td>3.954545</td>\n",
       "      <td>5.0</td>\n",
       "      <td>1.338288</td>\n",
       "      <td>1.791014</td>\n",
       "    </tr>\n",
       "    <tr>\n",
       "      <th>Revlon</th>\n",
       "      <td>4.129139</td>\n",
       "      <td>5.0</td>\n",
       "      <td>1.354828</td>\n",
       "      <td>1.835559</td>\n",
       "    </tr>\n",
       "  </tbody>\n",
       "</table>\n",
       "</div>"
      ],
      "text/plain": [
       "                       mean  median       std       var\n",
       "corporation                                            \n",
       "Coty               4.033680     5.0  1.394946  1.945875\n",
       "Johnson & Johnson  4.328943     5.0  1.190374  1.416990\n",
       "L'oreal            4.178849     5.0  1.261669  1.591809\n",
       "Proctor & Gamble   3.954545     5.0  1.338288  1.791014\n",
       "Revlon             4.129139     5.0  1.354828  1.835559"
      ]
     },
     "execution_count": 32,
     "metadata": {},
     "output_type": "execute_result"
    }
   ],
   "source": [
    "beauty_clean.groupby('corporation')['star_rating'].agg([np.mean, np.median, np.std, np.var])"
   ]
  },
  {
   "cell_type": "markdown",
   "id": "68461a93",
   "metadata": {},
   "source": [
    "### Review Body Length Analysis"
   ]
  },
  {
   "cell_type": "markdown",
   "id": "776582e2",
   "metadata": {},
   "source": [
    "We then wanted to explore the distribution of review body text length. We decided the best way to do this was through histograms. Like our other graphs, we first explored how this looked across all companies altogther, and then we further broke the data down by company."
   ]
  },
  {
   "cell_type": "markdown",
   "id": "cdbced1f",
   "metadata": {},
   "source": [
    "First we need to calculate how long each review is, which we are doing by counting the number of characters. We added another column for this called review_length."
   ]
  },
  {
   "cell_type": "code",
   "execution_count": 33,
   "id": "c4ae79d4",
   "metadata": {},
   "outputs": [],
   "source": [
    "beauty_clean['review_length'] = beauty_clean['review_body'].str.len()"
   ]
  },
  {
   "cell_type": "code",
   "execution_count": 34,
   "id": "b9063c00",
   "metadata": {},
   "outputs": [
    {
     "data": {
      "text/html": [
       "<div>\n",
       "<style scoped>\n",
       "    .dataframe tbody tr th:only-of-type {\n",
       "        vertical-align: middle;\n",
       "    }\n",
       "\n",
       "    .dataframe tbody tr th {\n",
       "        vertical-align: top;\n",
       "    }\n",
       "\n",
       "    .dataframe thead th {\n",
       "        text-align: right;\n",
       "    }\n",
       "</style>\n",
       "<table border=\"1\" class=\"dataframe\">\n",
       "  <thead>\n",
       "    <tr style=\"text-align: right;\">\n",
       "      <th></th>\n",
       "      <th>customer_id</th>\n",
       "      <th>review_id</th>\n",
       "      <th>product_id</th>\n",
       "      <th>product_parent</th>\n",
       "      <th>product_title</th>\n",
       "      <th>star_rating</th>\n",
       "      <th>helpful_votes</th>\n",
       "      <th>vine</th>\n",
       "      <th>verified_purchase</th>\n",
       "      <th>review_headline</th>\n",
       "      <th>review_body</th>\n",
       "      <th>review_date</th>\n",
       "      <th>corporation</th>\n",
       "      <th>review_length</th>\n",
       "    </tr>\n",
       "  </thead>\n",
       "  <tbody>\n",
       "    <tr>\n",
       "      <th>0</th>\n",
       "      <td>44229150</td>\n",
       "      <td>RVYRD19B1ZYM7</td>\n",
       "      <td>B00PJ5ZMOA</td>\n",
       "      <td>413244867</td>\n",
       "      <td>Sally Hansen Treatment Gel Shine 3D Top Coat N...</td>\n",
       "      <td>5.0</td>\n",
       "      <td>1.0</td>\n",
       "      <td>N</td>\n",
       "      <td>N</td>\n",
       "      <td>A must try</td>\n",
       "      <td>The best top coat ever! Makes my nails shiny a...</td>\n",
       "      <td>2015-03-11</td>\n",
       "      <td>Coty</td>\n",
       "      <td>114.0</td>\n",
       "    </tr>\n",
       "    <tr>\n",
       "      <th>1</th>\n",
       "      <td>16159737</td>\n",
       "      <td>R1QS2P3JI6D47X</td>\n",
       "      <td>B00KLSYJGW</td>\n",
       "      <td>736313484</td>\n",
       "      <td>Maybelline New York Expert Wear Eye shadow Tri...</td>\n",
       "      <td>5.0</td>\n",
       "      <td>0.0</td>\n",
       "      <td>N</td>\n",
       "      <td>Y</td>\n",
       "      <td>Five Stars</td>\n",
       "      <td>Just what I wanted and I can't buy it here!</td>\n",
       "      <td>2015-05-18</td>\n",
       "      <td>L'oreal</td>\n",
       "      <td>43.0</td>\n",
       "    </tr>\n",
       "    <tr>\n",
       "      <th>2</th>\n",
       "      <td>27448091</td>\n",
       "      <td>R1A1NJ5KBINKRQ</td>\n",
       "      <td>B000NWAOHE</td>\n",
       "      <td>102547393</td>\n",
       "      <td>Neutrogena Cleansing Oil-Free Eye Makeup Remover</td>\n",
       "      <td>5.0</td>\n",
       "      <td>0.0</td>\n",
       "      <td>N</td>\n",
       "      <td>Y</td>\n",
       "      <td>I've bought 2!</td>\n",
       "      <td>This works fantastic in removing eye makeup.  ...</td>\n",
       "      <td>2015-03-22</td>\n",
       "      <td>Johnson &amp; Johnson</td>\n",
       "      <td>126.0</td>\n",
       "    </tr>\n",
       "    <tr>\n",
       "      <th>3</th>\n",
       "      <td>36691645</td>\n",
       "      <td>R8B99UKN512TG</td>\n",
       "      <td>B0039UTV5I</td>\n",
       "      <td>213576683</td>\n",
       "      <td>Revlon ColorStay Liquid Makeup for Combination...</td>\n",
       "      <td>5.0</td>\n",
       "      <td>0.0</td>\n",
       "      <td>N</td>\n",
       "      <td>Y</td>\n",
       "      <td>Five Stars</td>\n",
       "      <td>Great seller, excellent product, fast delivery...</td>\n",
       "      <td>2015-06-17</td>\n",
       "      <td>Revlon</td>\n",
       "      <td>62.0</td>\n",
       "    </tr>\n",
       "    <tr>\n",
       "      <th>4</th>\n",
       "      <td>14965451</td>\n",
       "      <td>RGBKX7KMKFG01</td>\n",
       "      <td>B00N6M9N0C</td>\n",
       "      <td>415585559</td>\n",
       "      <td>Maybelline New York Great Lash Real Impact Was...</td>\n",
       "      <td>1.0</td>\n",
       "      <td>0.0</td>\n",
       "      <td>N</td>\n",
       "      <td>N</td>\n",
       "      <td>One Star</td>\n",
       "      <td>Worst product ever. Dont waste your money.</td>\n",
       "      <td>2015-06-27</td>\n",
       "      <td>L'oreal</td>\n",
       "      <td>42.0</td>\n",
       "    </tr>\n",
       "  </tbody>\n",
       "</table>\n",
       "</div>"
      ],
      "text/plain": [
       "   customer_id       review_id  product_id  product_parent  \\\n",
       "0     44229150   RVYRD19B1ZYM7  B00PJ5ZMOA       413244867   \n",
       "1     16159737  R1QS2P3JI6D47X  B00KLSYJGW       736313484   \n",
       "2     27448091  R1A1NJ5KBINKRQ  B000NWAOHE       102547393   \n",
       "3     36691645   R8B99UKN512TG  B0039UTV5I       213576683   \n",
       "4     14965451   RGBKX7KMKFG01  B00N6M9N0C       415585559   \n",
       "\n",
       "                                       product_title  star_rating  \\\n",
       "0  Sally Hansen Treatment Gel Shine 3D Top Coat N...          5.0   \n",
       "1  Maybelline New York Expert Wear Eye shadow Tri...          5.0   \n",
       "2   Neutrogena Cleansing Oil-Free Eye Makeup Remover          5.0   \n",
       "3  Revlon ColorStay Liquid Makeup for Combination...          5.0   \n",
       "4  Maybelline New York Great Lash Real Impact Was...          1.0   \n",
       "\n",
       "   helpful_votes vine verified_purchase review_headline  \\\n",
       "0            1.0    N                 N      A must try   \n",
       "1            0.0    N                 Y      Five Stars   \n",
       "2            0.0    N                 Y  I've bought 2!   \n",
       "3            0.0    N                 Y      Five Stars   \n",
       "4            0.0    N                 N        One Star   \n",
       "\n",
       "                                         review_body review_date  \\\n",
       "0  The best top coat ever! Makes my nails shiny a...  2015-03-11   \n",
       "1        Just what I wanted and I can't buy it here!  2015-05-18   \n",
       "2  This works fantastic in removing eye makeup.  ...  2015-03-22   \n",
       "3  Great seller, excellent product, fast delivery...  2015-06-17   \n",
       "4         Worst product ever. Dont waste your money.  2015-06-27   \n",
       "\n",
       "         corporation  review_length  \n",
       "0               Coty          114.0  \n",
       "1            L'oreal           43.0  \n",
       "2  Johnson & Johnson          126.0  \n",
       "3             Revlon           62.0  \n",
       "4            L'oreal           42.0  "
      ]
     },
     "execution_count": 34,
     "metadata": {},
     "output_type": "execute_result"
    }
   ],
   "source": [
    "beauty_clean.head() #now we see our new review_length column"
   ]
  },
  {
   "cell_type": "markdown",
   "id": "6b8060cd",
   "metadata": {},
   "source": [
    "Now that we have this new column, we can visualize this data through some more histograms. As we have been doing throughout, we will begin with an examination of all companies together, and then break the data down by company."
   ]
  },
  {
   "cell_type": "code",
   "execution_count": 35,
   "id": "28e24188",
   "metadata": {},
   "outputs": [
    {
     "data": {
      "image/png": "[encoded data removed]",
      "text/plain": [
       "<Figure size 432x288 with 1 Axes>"
      ]
     },
     "metadata": {
      "needs_background": "light"
     },
     "output_type": "display_data"
    }
   ],
   "source": [
    "beauty_clean.review_length.hist(bins=50)\n",
    "plt.xlabel('Review Text Length')\n",
    "plt.ylabel(\"Count\")\n",
    "plt.title(\"Overall Distribution of Review Text Length\")\n",
    "plt.show()"
   ]
  },
  {
   "cell_type": "code",
   "execution_count": 36,
   "id": "da9dea0e",
   "metadata": {},
   "outputs": [
    {
     "data": {
      "text/plain": [
       "65"
      ]
     },
     "execution_count": 36,
     "metadata": {},
     "output_type": "execute_result"
    }
   ],
   "source": [
    "len(beauty_clean[beauty_clean['review_length'] > 2000])"
   ]
  },
  {
   "cell_type": "markdown",
   "id": "728eeece",
   "metadata": {},
   "source": [
    "Looking at the overall review text distribution, we see that most reviews are less than 2000 characters, but the chart is being skewed by 68 observations. Let's take a look at this histogram when we only consider the reviews with less than 2000 characters."
   ]
  },
  {
   "cell_type": "code",
   "execution_count": 37,
   "id": "02c150f1",
   "metadata": {},
   "outputs": [
    {
     "data": {
      "image/png": "[encoded data removed]",
      "text/plain": [
       "<Figure size 432x288 with 1 Axes>"
      ]
     },
     "metadata": {
      "needs_background": "light"
     },
     "output_type": "display_data"
    }
   ],
   "source": [
    "beauty_clean[beauty_clean['review_length'] < 2000].review_length.hist(bins=30)\n",
    "plt.xlabel('Review Text Length')\n",
    "plt.ylabel(\"Count\")\n",
    "plt.title(\"Overall Distribution of Review Text Length (without outliers)\")\n",
    "plt.show()"
   ]
  },
  {
   "cell_type": "markdown",
   "id": "0c1d732b",
   "metadata": {},
   "source": [
    "Looking at this histogram, we still see that most reviews are 250 words or less.\n",
    "\n",
    "Now analyzing review length by distribution, we will also only look at reviews with 1000 characters or less separately."
   ]
  },
  {
   "cell_type": "markdown",
   "id": "14b06df6",
   "metadata": {},
   "source": [
    "### Histograms of Review Text Lengths of Reviews with <1000 Characters"
   ]
  },
  {
   "cell_type": "code",
   "execution_count": 38,
   "id": "7f3305e0",
   "metadata": {},
   "outputs": [
    {
     "data": {
      "image/png": "[encoded data removed]",
      "text/plain": [
       "<Figure size 720x864 with 6 Axes>"
      ]
     },
     "metadata": {
      "needs_background": "light"
     },
     "output_type": "display_data"
    }
   ],
   "source": [
    "beauty_clean[beauty_clean['review_length'] < 1000].review_length.hist(by=beauty_clean.corporation, figsize = (10, 12), bins = 50)\n",
    "plt.show()"
   ]
  },
  {
   "cell_type": "markdown",
   "id": "d488ee64",
   "metadata": {},
   "source": [
    "Note that the axes tick marks are not the same between all graphs. Despite this, we see a similar shape in all these histograms."
   ]
  },
  {
   "cell_type": "markdown",
   "id": "21e9e599",
   "metadata": {},
   "source": [
    "### Examining the Correlation Between Review Length & Star Rating"
   ]
  },
  {
   "cell_type": "markdown",
   "id": "5a6c2987",
   "metadata": {},
   "source": [
    "Now that we've analyzed just the distribution of review text length, we also want to see how this is correlated to star ratings."
   ]
  },
  {
   "cell_type": "code",
   "execution_count": 39,
   "id": "bd6ed17e",
   "metadata": {
    "scrolled": true
   },
   "outputs": [
    {
     "data": {
      "image/png": "[encoded data removed]",
      "text/plain": [
       "<Figure size 432x288 with 1 Axes>"
      ]
     },
     "metadata": {
      "needs_background": "light"
     },
     "output_type": "display_data"
    }
   ],
   "source": [
    "plt.scatter(beauty_clean['review_length'], beauty_clean['star_rating'])\n",
    "plt.yticks(range(1, 6)) #only include ticks for the whole numbers of the star ratings\n",
    "plt.xlabel(\"review length\")\n",
    "plt.ylabel('star rating')\n",
    "plt.title('Review Length vs. Star Rating')\n",
    "plt.show()"
   ]
  },
  {
   "cell_type": "code",
   "execution_count": 40,
   "id": "a28236d8",
   "metadata": {},
   "outputs": [
    {
     "data": {
      "text/plain": [
       "-0.09800816948613393"
      ]
     },
     "execution_count": 40,
     "metadata": {},
     "output_type": "execute_result"
    }
   ],
   "source": [
    "beauty_clean['review_length'].corr(beauty_clean['star_rating'])"
   ]
  },
  {
   "cell_type": "markdown",
   "id": "1a5fd9f2",
   "metadata": {},
   "source": [
    "Clearly, most of the data is concentrated near the smaller review text length. We will do the same thing now zooming into reviews just under 3000 characters."
   ]
  },
  {
   "cell_type": "code",
   "execution_count": 41,
   "id": "3ce5e4fa",
   "metadata": {},
   "outputs": [
    {
     "data": {
      "image/png": "[encoded data removed]",
      "text/plain": [
       "<Figure size 432x288 with 1 Axes>"
      ]
     },
     "metadata": {
      "needs_background": "light"
     },
     "output_type": "display_data"
    }
   ],
   "source": [
    "plt.scatter(beauty_clean[beauty_clean['review_length'] < 3000]['review_length'], beauty_clean[beauty_clean['review_length'] < 3000]['star_rating'])\n",
    "plt.yticks(range(1, 6)) #only include ticks for the whole numbers of the star ratings\n",
    "plt.xlabel(\"review length\")\n",
    "plt.ylabel('star rating')\n",
    "plt.title('Review Length vs. Star Rating of Reviews <3000 Characters')\n",
    "plt.show()"
   ]
  },
  {
   "cell_type": "code",
   "execution_count": 42,
   "id": "aae8e4b7",
   "metadata": {},
   "outputs": [
    {
     "data": {
      "text/plain": [
       "-0.10709847374257657"
      ]
     },
     "execution_count": 42,
     "metadata": {},
     "output_type": "execute_result"
    }
   ],
   "source": [
    "beauty_clean[beauty_clean['review_length'] < 3000]['review_length'].corr(beauty_clean[beauty_clean['review_length'] < 3000]['star_rating'])"
   ]
  },
  {
   "cell_type": "markdown",
   "id": "512de816",
   "metadata": {},
   "source": [
    "Even after narrowing in on these observations, the correlation remains almost exatcly the same"
   ]
  },
  {
   "cell_type": "markdown",
   "id": "694f79d3",
   "metadata": {},
   "source": [
    "Based on the graph and correlation coefficient, there is virtually no correlation between review length and star ratings. This is contrary to our prediction that longer reviews might indicate extremely positive/negative ratings. "
   ]
  },
  {
   "cell_type": "markdown",
   "id": "d10ed5c1",
   "metadata": {},
   "source": [
    "### Distribution of Helpful Votes"
   ]
  },
  {
   "cell_type": "markdown",
   "id": "ca8c779c",
   "metadata": {},
   "source": [
    "Next we want to explore if certain brands receive more helpful review votes than others."
   ]
  },
  {
   "cell_type": "code",
   "execution_count": 43,
   "id": "850d2dc9",
   "metadata": {},
   "outputs": [],
   "source": [
    "# subsetting reviews by corporation\n",
    "loreal_reviews = beauty_clean[beauty_clean['corporation']==\"L'oreal\"]\n",
    "coty_reviews = beauty_clean[beauty_clean['corporation']==\"Coty\"]\n",
    "revlon_reviews = beauty_clean[beauty_clean['corporation']==\"Revlon\"]\n",
    "jnj_reviews = beauty_clean[beauty_clean['corporation']==\"Johnson & Johnson\"]\n",
    "png_reviews = beauty_clean[beauty_clean['corporation']==\"Proctor & Gamble\"]"
   ]
  },
  {
   "cell_type": "code",
   "execution_count": 44,
   "id": "6ae22266",
   "metadata": {
    "scrolled": false
   },
   "outputs": [
    {
     "data": {
      "text/plain": [
       "0.0      30887\n",
       "1.0       5414\n",
       "2.0       1567\n",
       "3.0        684\n",
       "4.0        363\n",
       "         ...  \n",
       "179.0        1\n",
       "70.0         1\n",
       "102.0        1\n",
       "33.0         1\n",
       "180.0        1\n",
       "Name: helpful_votes, Length: 101, dtype: int64"
      ]
     },
     "execution_count": 44,
     "metadata": {},
     "output_type": "execute_result"
    },
    {
     "data": {
      "image/png": "[encoded data removed]",
      "text/plain": [
       "<Figure size 720x864 with 6 Axes>"
      ]
     },
     "metadata": {
      "needs_background": "light"
     },
     "output_type": "display_data"
    }
   ],
   "source": [
    "# plotting distribution of helpful votes\n",
    "beauty_clean['helpful_votes'].hist(by=beauty_clean.corporation, figsize = (10, 12))\n",
    "plt.title('Distribution of Helpful Votes')\n",
    "\n",
    "beauty_clean['helpful_votes'].value_counts()"
   ]
  },
  {
   "cell_type": "markdown",
   "id": "2c83ea33",
   "metadata": {},
   "source": [
    "As we can see, there are a lot of reviews with zero helpful votes and only a few reviews with many helpful votes. When the distribution is plotted out, it is very hard to analyze the graph and not much can be taken away. We will be applying square root transformation to the graphs in an attempt to reduce the range."
   ]
  },
  {
   "cell_type": "code",
   "execution_count": 45,
   "id": "66bd0771",
   "metadata": {},
   "outputs": [
    {
     "data": {
      "image/png": "[encoded data removed]",
      "text/plain": [
       "<Figure size 720x864 with 6 Axes>"
      ]
     },
     "metadata": {
      "needs_background": "light"
     },
     "output_type": "display_data"
    },
    {
     "data": {
      "text/plain": [
       "corporation\n",
       "Coty                 16.340135\n",
       "Johnson & Johnson    21.260292\n",
       "L'oreal              18.330303\n",
       "Proctor & Gamble      2.236068\n",
       "Revlon               14.035669\n",
       "Name: helpful_votes, dtype: float64"
      ]
     },
     "execution_count": 45,
     "metadata": {},
     "output_type": "execute_result"
    }
   ],
   "source": [
    "# square root transformed graphs \n",
    "beauty_clean['helpful_votes'].apply(np.sqrt).hist(by=beauty_clean.corporation, figsize = (10, 12))\n",
    "plt.show()\n",
    "\n",
    "beauty_clean['helpful_votes'].apply(np.sqrt).groupby(by=beauty_clean['corporation']).max()"
   ]
  },
  {
   "cell_type": "markdown",
   "id": "9791b126",
   "metadata": {},
   "source": [
    "Unfortunately, there is still an extremely strong right skew in helpful votes. It is also not possible to apply log transform to this dataset as a lot of the values are zero."
   ]
  },
  {
   "cell_type": "markdown",
   "id": "e91e6bb9",
   "metadata": {},
   "source": [
    "### Analyzing Verified Purchases and Vine Reviews by Company"
   ]
  },
  {
   "cell_type": "markdown",
   "id": "c1c46ec7",
   "metadata": {},
   "source": [
    "Another area we want to explore is how Verified Purchases and Vine Reviews might create differences from non-verified/vine reviews."
   ]
  },
  {
   "cell_type": "markdown",
   "id": "3f9eea50",
   "metadata": {},
   "source": [
    "#### Percentages of Verified Purchases and Vine Reviews"
   ]
  },
  {
   "cell_type": "markdown",
   "id": "10a880cb",
   "metadata": {},
   "source": [
    "First we must calculate the percentage and counts of vine/verified reviews in each corporation. We use some basic list comprehensions for this."
   ]
  },
  {
   "cell_type": "code",
   "execution_count": 46,
   "id": "a8aee3b3",
   "metadata": {},
   "outputs": [
    {
     "data": {
      "text/html": [
       "<div>\n",
       "<style scoped>\n",
       "    .dataframe tbody tr th:only-of-type {\n",
       "        vertical-align: middle;\n",
       "    }\n",
       "\n",
       "    .dataframe tbody tr th {\n",
       "        vertical-align: top;\n",
       "    }\n",
       "\n",
       "    .dataframe thead th {\n",
       "        text-align: right;\n",
       "    }\n",
       "</style>\n",
       "<table border=\"1\" class=\"dataframe\">\n",
       "  <thead>\n",
       "    <tr style=\"text-align: right;\">\n",
       "      <th></th>\n",
       "      <th>brand</th>\n",
       "      <th>vine_percent</th>\n",
       "      <th>vine_counts</th>\n",
       "      <th>verified_percent</th>\n",
       "      <th>verified_counts</th>\n",
       "      <th>total</th>\n",
       "    </tr>\n",
       "  </thead>\n",
       "  <tbody>\n",
       "    <tr>\n",
       "      <th>0</th>\n",
       "      <td>L'oreal</td>\n",
       "      <td>1.009137</td>\n",
       "      <td>148</td>\n",
       "      <td>86.969862</td>\n",
       "      <td>12755</td>\n",
       "      <td>14666</td>\n",
       "    </tr>\n",
       "    <tr>\n",
       "      <th>1</th>\n",
       "      <td>Coty</td>\n",
       "      <td>0.000000</td>\n",
       "      <td>0</td>\n",
       "      <td>86.792810</td>\n",
       "      <td>4587</td>\n",
       "      <td>5285</td>\n",
       "    </tr>\n",
       "    <tr>\n",
       "      <th>2</th>\n",
       "      <td>Revlon</td>\n",
       "      <td>0.443017</td>\n",
       "      <td>40</td>\n",
       "      <td>91.615904</td>\n",
       "      <td>8272</td>\n",
       "      <td>9029</td>\n",
       "    </tr>\n",
       "    <tr>\n",
       "      <th>3</th>\n",
       "      <td>Johnson &amp; Johnson</td>\n",
       "      <td>1.920966</td>\n",
       "      <td>210</td>\n",
       "      <td>84.184047</td>\n",
       "      <td>9203</td>\n",
       "      <td>10932</td>\n",
       "    </tr>\n",
       "    <tr>\n",
       "      <th>4</th>\n",
       "      <td>Proctor &amp; Gamble</td>\n",
       "      <td>0.000000</td>\n",
       "      <td>0</td>\n",
       "      <td>96.590909</td>\n",
       "      <td>85</td>\n",
       "      <td>88</td>\n",
       "    </tr>\n",
       "  </tbody>\n",
       "</table>\n",
       "</div>"
      ],
      "text/plain": [
       "               brand  vine_percent  vine_counts  verified_percent  \\\n",
       "0            L'oreal      1.009137          148         86.969862   \n",
       "1               Coty      0.000000            0         86.792810   \n",
       "2             Revlon      0.443017           40         91.615904   \n",
       "3  Johnson & Johnson      1.920966          210         84.184047   \n",
       "4   Proctor & Gamble      0.000000            0         96.590909   \n",
       "\n",
       "   verified_counts  total  \n",
       "0            12755  14666  \n",
       "1             4587   5285  \n",
       "2             8272   9029  \n",
       "3             9203  10932  \n",
       "4               85     88  "
      ]
     },
     "execution_count": 46,
     "metadata": {},
     "output_type": "execute_result"
    }
   ],
   "source": [
    "brand_reviews = [loreal_reviews, coty_reviews, revlon_reviews, jnj_reviews, png_reviews]\n",
    "\n",
    "#calculating the percents and counts of vine reviews for each brand\n",
    "vine_percent = [len(brand[brand['vine']=='Y'])/len(brand)*100 for brand in brand_reviews]\n",
    "vine_counts = [len(brand[brand['vine']=='Y']) for brand in brand_reviews]\n",
    "\n",
    "#calculating the percents and counts of verified purchase reviews for each brand\n",
    "ver_percent = [len(brand[brand['verified_purchase']=='Y'])/len(brand)*100 for brand in brand_reviews]\n",
    "ver_counts = [len(brand[brand['verified_purchase']=='Y']) for brand in brand_reviews]\n",
    "\n",
    "total = [len(brand) for brand in brand_reviews]\n",
    "\n",
    "percentile = pd.DataFrame({\n",
    "    'brand':[\"L'oreal\", 'Coty', 'Revlon', 'Johnson & Johnson', 'Proctor & Gamble'],\n",
    "    'vine_percent':vine_percent,\n",
    "    'vine_counts':vine_counts,\n",
    "    'verified_percent':ver_percent,\n",
    "    'verified_counts':ver_counts,\n",
    "    'total':total\n",
    "})\n",
    "percentile"
   ]
  },
  {
   "cell_type": "markdown",
   "id": "26e15a57",
   "metadata": {},
   "source": [
    "Our biggests concern is working with Proctor & Gamble data, which only has a total of 98 observations. \n",
    "\n",
    "While analyzing vine reviews would have been very interesting, due to its limited observations, we are unable to perform data analysis on all the brands' vine reviews. "
   ]
  },
  {
   "cell_type": "markdown",
   "id": "dd593188",
   "metadata": {},
   "source": [
    "#### Relationship between Helpful Votes and Verified Purchases"
   ]
  },
  {
   "cell_type": "markdown",
   "id": "5ea8f24a",
   "metadata": {},
   "source": [
    "Now we want to see if verified purchase reviews get more helpful votes, as one would initially assume so."
   ]
  },
  {
   "cell_type": "code",
   "execution_count": 47,
   "id": "0c349e29",
   "metadata": {},
   "outputs": [
    {
     "data": {
      "text/plain": [
       "verified_purchase  corporation      \n",
       "N                  Coty                 2.595989\n",
       "                   Johnson & Johnson    1.349335\n",
       "                   L'oreal              2.208791\n",
       "                   Proctor & Gamble     1.666667\n",
       "                   Revlon               2.214003\n",
       "Y                  Coty                 0.735121\n",
       "                   Johnson & Johnson    0.687276\n",
       "                   L'oreal              0.619365\n",
       "                   Proctor & Gamble     0.647059\n",
       "                   Revlon               0.577007\n",
       "Name: helpful_votes, dtype: float64"
      ]
     },
     "execution_count": 47,
     "metadata": {},
     "output_type": "execute_result"
    },
    {
     "data": {
      "image/png": "[encoded data removed]",
      "text/plain": [
       "<Figure size 1008x432 with 2 Axes>"
      ]
     },
     "metadata": {
      "needs_background": "light"
     },
     "output_type": "display_data"
    }
   ],
   "source": [
    "# boxplot\n",
    "ax = beauty_clean.groupby(['verified_purchase']).boxplot(column=['helpful_votes'], \n",
    "                                                    by=['corporation'], \n",
    "                                                    figsize = (14, 6)\n",
    "                                                    )\n",
    "ax[0].set_ylabel(\"Helpful Votes\")\n",
    "ax[0].set_title(\"Non-Verified Purchase\")\n",
    "ax[1].set_title(\"Verified Purchase\")\n",
    "\n",
    "# summary statistics: mean\n",
    "beauty_clean.groupby(['verified_purchase','corporation'])['helpful_votes'].mean()"
   ]
  },
  {
   "cell_type": "markdown",
   "id": "102f9b22",
   "metadata": {},
   "source": [
    "From the boxplots, there is not clear discernible difference in helpful votes between verified and non-verified purchases. From the means however, there is a consistently higher mean in number of helpful votes for non verified purchases. This is a suprising result as we would expect verified purchases to be more reliable. However, this could be because there are a smaller amount of non-verified purchases and the mean is more susceptible to outliers."
   ]
  },
  {
   "cell_type": "markdown",
   "id": "50423f5c",
   "metadata": {},
   "source": [
    "#### Verfied Purchases and Star Ratings"
   ]
  },
  {
   "cell_type": "markdown",
   "id": "c4be1218",
   "metadata": {},
   "source": [
    "The final area we are exploring is to see if verified purchases tend to receive different star ratings than non-verified purchases. We will visualize this through histograms by company."
   ]
  },
  {
   "cell_type": "code",
   "execution_count": 48,
   "id": "1977c2d8",
   "metadata": {},
   "outputs": [
    {
     "data": {
      "image/png": "[encoded data removed]",
      "text/plain": [
       "<Figure size 720x216 with 2 Axes>"
      ]
     },
     "metadata": {
      "needs_background": "light"
     },
     "output_type": "display_data"
    },
    {
     "data": {
      "image/png": "[encoded data removed]",
      "text/plain": [
       "<Figure size 720x216 with 2 Axes>"
      ]
     },
     "metadata": {
      "needs_background": "light"
     },
     "output_type": "display_data"
    },
    {
     "data": {
      "image/png": "[encoded data removed]",
      "text/plain": [
       "<Figure size 720x216 with 2 Axes>"
      ]
     },
     "metadata": {
      "needs_background": "light"
     },
     "output_type": "display_data"
    },
    {
     "data": {
      "image/png": "[encoded data removed]",
      "text/plain": [
       "<Figure size 720x216 with 2 Axes>"
      ]
     },
     "metadata": {
      "needs_background": "light"
     },
     "output_type": "display_data"
    },
    {
     "data": {
      "image/png": "[encoded data removed]",
      "text/plain": [
       "<Figure size 720x216 with 2 Axes>"
      ]
     },
     "metadata": {
      "needs_background": "light"
     },
     "output_type": "display_data"
    },
    {
     "data": {
      "text/plain": [
       "verified_purchase  corporation      \n",
       "N                  Coty                 3.623209\n",
       "                   Johnson & Johnson    3.890110\n",
       "                   L'oreal              3.796965\n",
       "                   Proctor & Gamble     4.666667\n",
       "                   Revlon               3.565390\n",
       "Y                  Coty                 4.096141\n",
       "                   Johnson & Johnson    4.411388\n",
       "                   L'oreal              4.236064\n",
       "                   Proctor & Gamble     3.929412\n",
       "                   Revlon               4.180730\n",
       "Name: star_rating, dtype: float64"
      ]
     },
     "execution_count": 48,
     "metadata": {},
     "output_type": "execute_result"
    }
   ],
   "source": [
    "# histogram of star rating grouped by verified vs non-verified purchases\n",
    "plot = beauty_clean[beauty_clean['corporation']==\"L'oreal\"]['star_rating'].hist(by=beauty_clean['verified_purchase'], \n",
    "                                                                              figsize = (10, 3), \n",
    "                                                                              bins=5)\n",
    "plot[1].set_title(\"L'oreal: Verified Purchase\")\n",
    "plot[1].set_xlabel('Star Rating')\n",
    "plot[0].set_title(\"L'oreal: Non-Verified Purchase\")\n",
    "plot[0].set_xlabel('Star Rating')\n",
    "plt.show()\n",
    "\n",
    "plot = beauty_clean[beauty_clean['corporation']==\"Coty\"]['star_rating'].hist(by=beauty_clean['verified_purchase'], \n",
    "                                                                              figsize = (10, 3), \n",
    "                                                                              bins=5)\n",
    "plot[1].set_title(\"Coty: Verified Purchase\")\n",
    "plot[1].set_xlabel('Star Rating')\n",
    "plot[0].set_title(\"Coty: Non-Verified Purchase\")\n",
    "plot[0].set_xlabel('Star Rating')\n",
    "plt.show()\n",
    "\n",
    "plot = beauty_clean[beauty_clean['corporation']==\"Revlon\"]['star_rating'].hist(by=beauty_clean['verified_purchase'], \n",
    "                                                                              figsize = (10, 3), \n",
    "                                                                              bins=5)\n",
    "plot[1].set_title(\"Revlon: Verified Purchase\")\n",
    "plot[1].set_xlabel('Star Rating')\n",
    "plot[0].set_title(\"Revlon: Non-Verified Purchase\")\n",
    "plot[0].set_xlabel('Star Rating')\n",
    "plt.show()\n",
    "\n",
    "plot = beauty_clean[beauty_clean['corporation']==\"Johnson & Johnson\"]['star_rating'].hist(by=beauty_clean['verified_purchase'], \n",
    "                                                                              figsize = (10, 3), \n",
    "                                                                              bins=5)\n",
    "plot[1].set_title(\"Johnson & Johnson: Verified Purchase\")\n",
    "plot[1].set_xlabel('Star Rating')\n",
    "plot[0].set_title(\"Johnson & Johnson: Non-Verified Purchase\")\n",
    "plot[0].set_xlabel('Star Rating')\n",
    "plt.show()\n",
    "\n",
    "plot = beauty_clean[beauty_clean['corporation']==\"Proctor & Gamble\"]['star_rating'].hist(by=beauty_clean['verified_purchase'], \n",
    "                                                                              figsize = (10, 3), \n",
    "                                                                              bins=5)\n",
    "plot[1].set_title(\"Proctor & Gamble: Verified Purchase\")\n",
    "plot[1].set_xlabel('Star Rating')\n",
    "plot[0].set_title(\"Proctor & Gamble: Non-Verified Purchase\")\n",
    "plot[0].set_xlabel('Star Rating')\n",
    "plt.show()\n",
    "\n",
    "# summary statistics: mean\n",
    "beauty_clean.groupby(['verified_purchase','corporation'])['star_rating'].mean()"
   ]
  },
  {
   "cell_type": "markdown",
   "id": "72eea917",
   "metadata": {},
   "source": [
    "Non-verified purchases tend to have more one star ratings relative to its other ratings. The Proctor and Gamble: Non-verified purchases graph only has one observation and is an anomaly. I am not planning on using this graph/data point.\n",
    "\n",
    "Additionally, comparing the means between verified and non-verified purchases, we can see that verified ourchases have consistently higher star_rating means. "
   ]
  },
  {
   "cell_type": "markdown",
   "id": "c90072b2",
   "metadata": {},
   "source": [
    "## Phase 4 Text Analysis"
   ]
  },
  {
   "cell_type": "code",
   "execution_count": 126,
   "id": "31aee76f",
   "metadata": {},
   "outputs": [],
   "source": [
    "from sklearn.feature_extraction.text import CountVectorizer"
   ]
  },
  {
   "cell_type": "markdown",
   "id": "db5a20ed",
   "metadata": {},
   "source": [
    "We now create a `CountVectorizer` object. This is an object which will construct the term-document matrix for us. This object accepts various parameters. In this case, we've specified common English-language \"stop words\" to be disregarded. A stop word is a word that's considered uninteresting for the purposes of natural language processing. For example, \"she,\" \"can\", and \"the\" are common stop words. We have also included an argument for `min_df`, where the object will ignore words that appear less than 5 times in all of the reviews. We ultimately converted this counts object into a pandas dataframe so that each word reads as a column."
   ]
  },
  {
   "cell_type": "code",
   "execution_count": 127,
   "id": "0fd98ce0",
   "metadata": {},
   "outputs": [
    {
     "data": {
      "text/html": [
       "<div>\n",
       "<style scoped>\n",
       "    .dataframe tbody tr th:only-of-type {\n",
       "        vertical-align: middle;\n",
       "    }\n",
       "\n",
       "    .dataframe tbody tr th {\n",
       "        vertical-align: top;\n",
       "    }\n",
       "\n",
       "    .dataframe thead th {\n",
       "        text-align: right;\n",
       "    }\n",
       "</style>\n",
       "<table border=\"1\" class=\"dataframe\">\n",
       "  <thead>\n",
       "    <tr style=\"text-align: right;\">\n",
       "      <th></th>\n",
       "      <th>00</th>\n",
       "      <th>05</th>\n",
       "      <th>10</th>\n",
       "      <th>100</th>\n",
       "      <th>101</th>\n",
       "      <th>11</th>\n",
       "      <th>110</th>\n",
       "      <th>12</th>\n",
       "      <th>120</th>\n",
       "      <th>13</th>\n",
       "      <th>...</th>\n",
       "      <th>yuck</th>\n",
       "      <th>yucky</th>\n",
       "      <th>yummy</th>\n",
       "      <th>yup</th>\n",
       "      <th>zero</th>\n",
       "      <th>zinc</th>\n",
       "      <th>zit</th>\n",
       "      <th>zits</th>\n",
       "      <th>zombie</th>\n",
       "      <th>zone</th>\n",
       "    </tr>\n",
       "  </thead>\n",
       "  <tbody>\n",
       "    <tr>\n",
       "      <th>0</th>\n",
       "      <td>0</td>\n",
       "      <td>0</td>\n",
       "      <td>0</td>\n",
       "      <td>0</td>\n",
       "      <td>0</td>\n",
       "      <td>0</td>\n",
       "      <td>0</td>\n",
       "      <td>0</td>\n",
       "      <td>0</td>\n",
       "      <td>0</td>\n",
       "      <td>...</td>\n",
       "      <td>0</td>\n",
       "      <td>0</td>\n",
       "      <td>0</td>\n",
       "      <td>0</td>\n",
       "      <td>0</td>\n",
       "      <td>0</td>\n",
       "      <td>0</td>\n",
       "      <td>0</td>\n",
       "      <td>0</td>\n",
       "      <td>0</td>\n",
       "    </tr>\n",
       "    <tr>\n",
       "      <th>1</th>\n",
       "      <td>0</td>\n",
       "      <td>0</td>\n",
       "      <td>0</td>\n",
       "      <td>0</td>\n",
       "      <td>0</td>\n",
       "      <td>0</td>\n",
       "      <td>0</td>\n",
       "      <td>0</td>\n",
       "      <td>0</td>\n",
       "      <td>0</td>\n",
       "      <td>...</td>\n",
       "      <td>0</td>\n",
       "      <td>0</td>\n",
       "      <td>0</td>\n",
       "      <td>0</td>\n",
       "      <td>0</td>\n",
       "      <td>0</td>\n",
       "      <td>0</td>\n",
       "      <td>0</td>\n",
       "      <td>0</td>\n",
       "      <td>0</td>\n",
       "    </tr>\n",
       "    <tr>\n",
       "      <th>2</th>\n",
       "      <td>0</td>\n",
       "      <td>0</td>\n",
       "      <td>0</td>\n",
       "      <td>0</td>\n",
       "      <td>0</td>\n",
       "      <td>0</td>\n",
       "      <td>0</td>\n",
       "      <td>0</td>\n",
       "      <td>0</td>\n",
       "      <td>0</td>\n",
       "      <td>...</td>\n",
       "      <td>0</td>\n",
       "      <td>0</td>\n",
       "      <td>0</td>\n",
       "      <td>0</td>\n",
       "      <td>0</td>\n",
       "      <td>0</td>\n",
       "      <td>0</td>\n",
       "      <td>0</td>\n",
       "      <td>0</td>\n",
       "      <td>0</td>\n",
       "    </tr>\n",
       "    <tr>\n",
       "      <th>3</th>\n",
       "      <td>0</td>\n",
       "      <td>0</td>\n",
       "      <td>0</td>\n",
       "      <td>0</td>\n",
       "      <td>0</td>\n",
       "      <td>0</td>\n",
       "      <td>0</td>\n",
       "      <td>0</td>\n",
       "      <td>0</td>\n",
       "      <td>0</td>\n",
       "      <td>...</td>\n",
       "      <td>0</td>\n",
       "      <td>0</td>\n",
       "      <td>0</td>\n",
       "      <td>0</td>\n",
       "      <td>0</td>\n",
       "      <td>0</td>\n",
       "      <td>0</td>\n",
       "      <td>0</td>\n",
       "      <td>0</td>\n",
       "      <td>0</td>\n",
       "    </tr>\n",
       "    <tr>\n",
       "      <th>4</th>\n",
       "      <td>0</td>\n",
       "      <td>0</td>\n",
       "      <td>0</td>\n",
       "      <td>0</td>\n",
       "      <td>0</td>\n",
       "      <td>0</td>\n",
       "      <td>0</td>\n",
       "      <td>0</td>\n",
       "      <td>0</td>\n",
       "      <td>0</td>\n",
       "      <td>...</td>\n",
       "      <td>0</td>\n",
       "      <td>0</td>\n",
       "      <td>0</td>\n",
       "      <td>0</td>\n",
       "      <td>0</td>\n",
       "      <td>0</td>\n",
       "      <td>0</td>\n",
       "      <td>0</td>\n",
       "      <td>0</td>\n",
       "      <td>0</td>\n",
       "    </tr>\n",
       "  </tbody>\n",
       "</table>\n",
       "<p>5 rows × 5638 columns</p>\n",
       "</div>"
      ],
      "text/plain": [
       "   00  05  10  100  101  11  110  12  120  13  ...  yuck  yucky  yummy  yup  \\\n",
       "0   0   0   0    0    0   0    0   0    0   0  ...     0      0      0    0   \n",
       "1   0   0   0    0    0   0    0   0    0   0  ...     0      0      0    0   \n",
       "2   0   0   0    0    0   0    0   0    0   0  ...     0      0      0    0   \n",
       "3   0   0   0    0    0   0    0   0    0   0  ...     0      0      0    0   \n",
       "4   0   0   0    0    0   0    0   0    0   0  ...     0      0      0    0   \n",
       "\n",
       "   zero  zinc  zit  zits  zombie  zone  \n",
       "0     0     0    0     0       0     0  \n",
       "1     0     0    0     0       0     0  \n",
       "2     0     0    0     0       0     0  \n",
       "3     0     0    0     0       0     0  \n",
       "4     0     0    0     0       0     0  \n",
       "\n",
       "[5 rows x 5638 columns]"
      ]
     },
     "execution_count": 127,
     "metadata": {},
     "output_type": "execute_result"
    }
   ],
   "source": [
    "vec=CountVectorizer(stop_words=\"english\", min_df = 5)\n",
    "counts=vec.fit_transform(beauty_clean['review_body'].dropna())\n",
    "counts=counts.toarray()\n",
    "counts_df=pd.DataFrame(counts, columns=vec.get_feature_names())\n",
    "counts_df.head()"
   ]
  },
  {
   "cell_type": "markdown",
   "id": "f1813045",
   "metadata": {},
   "source": [
    "Above we can see what our initial dataframe looks like. Now, we will join this dataframe to our original dataframe that contained the other characteristics of the reviews."
   ]
  },
  {
   "cell_type": "code",
   "execution_count": 128,
   "id": "8a283ee8",
   "metadata": {},
   "outputs": [],
   "source": [
    "word_counts = pd.concat((beauty_clean,counts_df), axis=1)"
   ]
  },
  {
   "cell_type": "markdown",
   "id": "2478b64b",
   "metadata": {},
   "source": [
    "### Most Common Words"
   ]
  },
  {
   "cell_type": "markdown",
   "id": "cdd57ee9",
   "metadata": {},
   "source": [
    "Now we want to see which words appear most out of all of the reviews. We have listed the top 30 words, and included the count of times they appear as well as the percentage."
   ]
  },
  {
   "cell_type": "code",
   "execution_count": 129,
   "id": "ffbb8da7",
   "metadata": {},
   "outputs": [
    {
     "data": {
      "text/html": [
       "<div>\n",
       "<style scoped>\n",
       "    .dataframe tbody tr th:only-of-type {\n",
       "        vertical-align: middle;\n",
       "    }\n",
       "\n",
       "    .dataframe tbody tr th {\n",
       "        vertical-align: top;\n",
       "    }\n",
       "\n",
       "    .dataframe thead th {\n",
       "        text-align: right;\n",
       "    }\n",
       "</style>\n",
       "<table border=\"1\" class=\"dataframe\">\n",
       "  <thead>\n",
       "    <tr style=\"text-align: right;\">\n",
       "      <th></th>\n",
       "      <th>word</th>\n",
       "      <th>count</th>\n",
       "      <th>percent</th>\n",
       "    </tr>\n",
       "  </thead>\n",
       "  <tbody>\n",
       "    <tr>\n",
       "      <th>0</th>\n",
       "      <td>product</td>\n",
       "      <td>11415</td>\n",
       "      <td>8.0326</td>\n",
       "    </tr>\n",
       "    <tr>\n",
       "      <th>1</th>\n",
       "      <td>love</td>\n",
       "      <td>8718</td>\n",
       "      <td>6.1347</td>\n",
       "    </tr>\n",
       "    <tr>\n",
       "      <th>2</th>\n",
       "      <td>great</td>\n",
       "      <td>8467</td>\n",
       "      <td>5.9581</td>\n",
       "    </tr>\n",
       "    <tr>\n",
       "      <th>3</th>\n",
       "      <td>skin</td>\n",
       "      <td>8453</td>\n",
       "      <td>5.9483</td>\n",
       "    </tr>\n",
       "    <tr>\n",
       "      <th>4</th>\n",
       "      <td>color</td>\n",
       "      <td>7622</td>\n",
       "      <td>5.3635</td>\n",
       "    </tr>\n",
       "    <tr>\n",
       "      <th>5</th>\n",
       "      <td>like</td>\n",
       "      <td>7414</td>\n",
       "      <td>5.2171</td>\n",
       "    </tr>\n",
       "    <tr>\n",
       "      <th>6</th>\n",
       "      <td>br</td>\n",
       "      <td>7270</td>\n",
       "      <td>5.1158</td>\n",
       "    </tr>\n",
       "    <tr>\n",
       "      <th>7</th>\n",
       "      <td>use</td>\n",
       "      <td>6954</td>\n",
       "      <td>4.8934</td>\n",
       "    </tr>\n",
       "    <tr>\n",
       "      <th>8</th>\n",
       "      <td>hair</td>\n",
       "      <td>6684</td>\n",
       "      <td>4.7034</td>\n",
       "    </tr>\n",
       "    <tr>\n",
       "      <th>9</th>\n",
       "      <td>good</td>\n",
       "      <td>6050</td>\n",
       "      <td>4.2573</td>\n",
       "    </tr>\n",
       "    <tr>\n",
       "      <th>10</th>\n",
       "      <td>just</td>\n",
       "      <td>4729</td>\n",
       "      <td>3.3277</td>\n",
       "    </tr>\n",
       "    <tr>\n",
       "      <th>11</th>\n",
       "      <td>really</td>\n",
       "      <td>4545</td>\n",
       "      <td>3.1982</td>\n",
       "    </tr>\n",
       "    <tr>\n",
       "      <th>12</th>\n",
       "      <td>used</td>\n",
       "      <td>3898</td>\n",
       "      <td>2.7430</td>\n",
       "    </tr>\n",
       "    <tr>\n",
       "      <th>13</th>\n",
       "      <td>face</td>\n",
       "      <td>3583</td>\n",
       "      <td>2.5213</td>\n",
       "    </tr>\n",
       "    <tr>\n",
       "      <th>14</th>\n",
       "      <td>works</td>\n",
       "      <td>3480</td>\n",
       "      <td>2.4488</td>\n",
       "    </tr>\n",
       "    <tr>\n",
       "      <th>15</th>\n",
       "      <td>using</td>\n",
       "      <td>3359</td>\n",
       "      <td>2.3637</td>\n",
       "    </tr>\n",
       "    <tr>\n",
       "      <th>16</th>\n",
       "      <td>does</td>\n",
       "      <td>3342</td>\n",
       "      <td>2.3517</td>\n",
       "    </tr>\n",
       "    <tr>\n",
       "      <th>17</th>\n",
       "      <td>ve</td>\n",
       "      <td>3177</td>\n",
       "      <td>2.2356</td>\n",
       "    </tr>\n",
       "    <tr>\n",
       "      <th>18</th>\n",
       "      <td>34</td>\n",
       "      <td>3161</td>\n",
       "      <td>2.2243</td>\n",
       "    </tr>\n",
       "    <tr>\n",
       "      <th>19</th>\n",
       "      <td>dry</td>\n",
       "      <td>3117</td>\n",
       "      <td>2.1934</td>\n",
       "    </tr>\n",
       "    <tr>\n",
       "      <th>20</th>\n",
       "      <td>day</td>\n",
       "      <td>3103</td>\n",
       "      <td>2.1835</td>\n",
       "    </tr>\n",
       "    <tr>\n",
       "      <th>21</th>\n",
       "      <td>time</td>\n",
       "      <td>3083</td>\n",
       "      <td>2.1695</td>\n",
       "    </tr>\n",
       "    <tr>\n",
       "      <th>22</th>\n",
       "      <td>don</td>\n",
       "      <td>2957</td>\n",
       "      <td>2.0808</td>\n",
       "    </tr>\n",
       "    <tr>\n",
       "      <th>23</th>\n",
       "      <td>doesn</td>\n",
       "      <td>2945</td>\n",
       "      <td>2.0724</td>\n",
       "    </tr>\n",
       "    <tr>\n",
       "      <th>24</th>\n",
       "      <td>nice</td>\n",
       "      <td>2630</td>\n",
       "      <td>1.8507</td>\n",
       "    </tr>\n",
       "    <tr>\n",
       "      <th>25</th>\n",
       "      <td>look</td>\n",
       "      <td>2470</td>\n",
       "      <td>1.7381</td>\n",
       "    </tr>\n",
       "    <tr>\n",
       "      <th>26</th>\n",
       "      <td>little</td>\n",
       "      <td>2446</td>\n",
       "      <td>1.7212</td>\n",
       "    </tr>\n",
       "    <tr>\n",
       "      <th>27</th>\n",
       "      <td>long</td>\n",
       "      <td>2439</td>\n",
       "      <td>1.7163</td>\n",
       "    </tr>\n",
       "    <tr>\n",
       "      <th>28</th>\n",
       "      <td>best</td>\n",
       "      <td>2303</td>\n",
       "      <td>1.6206</td>\n",
       "    </tr>\n",
       "    <tr>\n",
       "      <th>29</th>\n",
       "      <td>price</td>\n",
       "      <td>2295</td>\n",
       "      <td>1.6150</td>\n",
       "    </tr>\n",
       "  </tbody>\n",
       "</table>\n",
       "</div>"
      ],
      "text/plain": [
       "       word  count  percent\n",
       "0   product  11415   8.0326\n",
       "1      love   8718   6.1347\n",
       "2     great   8467   5.9581\n",
       "3      skin   8453   5.9483\n",
       "4     color   7622   5.3635\n",
       "5      like   7414   5.2171\n",
       "6        br   7270   5.1158\n",
       "7       use   6954   4.8934\n",
       "8      hair   6684   4.7034\n",
       "9      good   6050   4.2573\n",
       "10     just   4729   3.3277\n",
       "11   really   4545   3.1982\n",
       "12     used   3898   2.7430\n",
       "13     face   3583   2.5213\n",
       "14    works   3480   2.4488\n",
       "15    using   3359   2.3637\n",
       "16     does   3342   2.3517\n",
       "17       ve   3177   2.2356\n",
       "18       34   3161   2.2243\n",
       "19      dry   3117   2.1934\n",
       "20      day   3103   2.1835\n",
       "21     time   3083   2.1695\n",
       "22      don   2957   2.0808\n",
       "23    doesn   2945   2.0724\n",
       "24     nice   2630   1.8507\n",
       "25     look   2470   1.7381\n",
       "26   little   2446   1.7212\n",
       "27     long   2439   1.7163\n",
       "28     best   2303   1.6206\n",
       "29    price   2295   1.6150"
      ]
     },
     "execution_count": 129,
     "metadata": {},
     "output_type": "execute_result"
    }
   ],
   "source": [
    "all_counts = counts_df.sum(axis = 0).sort_values(ascending = False).head(30)\n",
    "all_counts_df = pd.DataFrame(all_counts, columns = {'count'}).reset_index()\n",
    "all_counts_df = all_counts_df.rename(columns = {'index' : 'word'})\n",
    "all_counts_df['percent'] = round((all_counts_df['count']/sum(all_counts_df['count']))*100, 4)\n",
    "all_counts_df.head(30)"
   ]
  },
  {
   "cell_type": "markdown",
   "id": "9e166efc",
   "metadata": {},
   "source": [
    "Here we have curated words we would associate with bad reviews, and see how much they appear in the reviews as a percent. What we observe is that \"dry\" and \"bad\" are far more prevalent than other words, yet none of these words appear all too much in the greater scheme of all words."
   ]
  },
  {
   "cell_type": "code",
   "execution_count": 130,
   "id": "8ead7cd9",
   "metadata": {},
   "outputs": [
    {
     "data": {
      "text/plain": [
       "worst       0.025654\n",
       "horrible    0.038654\n",
       "bad         0.141791\n",
       "awful       0.035188\n",
       "terrible    0.031721\n",
       "cakey       0.027734\n",
       "dry         0.540295\n",
       "allergic    0.028601\n",
       "dtype: float64"
      ]
     },
     "execution_count": 130,
     "metadata": {},
     "output_type": "execute_result"
    }
   ],
   "source": [
    "all_values = counts_df.to_numpy().sum()\n",
    "bad = ['worst', 'horrible', 'bad', 'awful', 'terrible', 'cakey', 'dry', 'allergic']\n",
    "counts_df[bad].sum() / all_values * 100"
   ]
  },
  {
   "cell_type": "markdown",
   "id": "906bd0b7",
   "metadata": {},
   "source": [
    "Next we repeated this process for words we would associate with good reviews. What we notice here is that \"great\" and \"good\" are extremely common, summing to greater than 1%, which none of our \"bad\" words did."
   ]
  },
  {
   "cell_type": "code",
   "execution_count": 131,
   "id": "c54a8f1b",
   "metadata": {},
   "outputs": [
    {
     "data": {
      "text/plain": [
       "amazing     0.159124\n",
       "great       1.467654\n",
       "best        0.399198\n",
       "holy        0.008667\n",
       "reliable    0.006414\n",
       "good        1.048696\n",
       "favorite    0.236087\n",
       "dtype: float64"
      ]
     },
     "execution_count": 131,
     "metadata": {},
     "output_type": "execute_result"
    }
   ],
   "source": [
    "good = ['amazing', 'great', 'best', 'holy', 'reliable', 'good', 'favorite']\n",
    "counts_df[good].sum() / all_values * 100"
   ]
  },
  {
   "cell_type": "markdown",
   "id": "90133385",
   "metadata": {},
   "source": [
    "#### Common Words by Star Rating"
   ]
  },
  {
   "cell_type": "markdown",
   "id": "0d3c96ae",
   "metadata": {},
   "source": [
    "Next we wanted to analyze which words were most common for each level of star rating. We assumed previously that more extreme ratings would have stronger words appear. We also hypothesized that lower star ratings would have more negative words. "
   ]
  },
  {
   "cell_type": "code",
   "execution_count": 148,
   "id": "5f3a5e3b",
   "metadata": {
    "scrolled": false
   },
   "outputs": [
    {
     "name": "stdout",
     "output_type": "stream",
     "text": [
      "star rating:  1\n"
     ]
    },
    {
     "data": {
      "text/html": [
       "<div>\n",
       "<style scoped>\n",
       "    .dataframe tbody tr th:only-of-type {\n",
       "        vertical-align: middle;\n",
       "    }\n",
       "\n",
       "    .dataframe tbody tr th {\n",
       "        vertical-align: top;\n",
       "    }\n",
       "\n",
       "    .dataframe thead th {\n",
       "        text-align: right;\n",
       "    }\n",
       "</style>\n",
       "<table border=\"1\" class=\"dataframe\">\n",
       "  <thead>\n",
       "    <tr style=\"text-align: right;\">\n",
       "      <th></th>\n",
       "      <th>word</th>\n",
       "      <th>count</th>\n",
       "      <th>percent</th>\n",
       "    </tr>\n",
       "  </thead>\n",
       "  <tbody>\n",
       "    <tr>\n",
       "      <th>0</th>\n",
       "      <td>like</td>\n",
       "      <td>677.0</td>\n",
       "      <td>11.4281</td>\n",
       "    </tr>\n",
       "    <tr>\n",
       "      <th>1</th>\n",
       "      <td>love</td>\n",
       "      <td>561.0</td>\n",
       "      <td>9.4700</td>\n",
       "    </tr>\n",
       "    <tr>\n",
       "      <th>2</th>\n",
       "      <td>great</td>\n",
       "      <td>534.0</td>\n",
       "      <td>9.0142</td>\n",
       "    </tr>\n",
       "    <tr>\n",
       "      <th>3</th>\n",
       "      <td>use</td>\n",
       "      <td>529.0</td>\n",
       "      <td>8.9298</td>\n",
       "    </tr>\n",
       "    <tr>\n",
       "      <th>4</th>\n",
       "      <td>good</td>\n",
       "      <td>465.0</td>\n",
       "      <td>7.8494</td>\n",
       "    </tr>\n",
       "    <tr>\n",
       "      <th>5</th>\n",
       "      <td>just</td>\n",
       "      <td>427.0</td>\n",
       "      <td>7.2080</td>\n",
       "    </tr>\n",
       "    <tr>\n",
       "      <th>6</th>\n",
       "      <td>used</td>\n",
       "      <td>415.0</td>\n",
       "      <td>7.0054</td>\n",
       "    </tr>\n",
       "    <tr>\n",
       "      <th>7</th>\n",
       "      <td>face</td>\n",
       "      <td>333.0</td>\n",
       "      <td>5.6212</td>\n",
       "    </tr>\n",
       "    <tr>\n",
       "      <th>8</th>\n",
       "      <td>don</td>\n",
       "      <td>317.0</td>\n",
       "      <td>5.3511</td>\n",
       "    </tr>\n",
       "    <tr>\n",
       "      <th>9</th>\n",
       "      <td>using</td>\n",
       "      <td>312.0</td>\n",
       "      <td>5.2667</td>\n",
       "    </tr>\n",
       "    <tr>\n",
       "      <th>10</th>\n",
       "      <td>does</td>\n",
       "      <td>308.0</td>\n",
       "      <td>5.1992</td>\n",
       "    </tr>\n",
       "    <tr>\n",
       "      <th>11</th>\n",
       "      <td>time</td>\n",
       "      <td>298.0</td>\n",
       "      <td>5.0304</td>\n",
       "    </tr>\n",
       "    <tr>\n",
       "      <th>12</th>\n",
       "      <td>doesn</td>\n",
       "      <td>253.0</td>\n",
       "      <td>4.2708</td>\n",
       "    </tr>\n",
       "    <tr>\n",
       "      <th>13</th>\n",
       "      <td>ve</td>\n",
       "      <td>249.0</td>\n",
       "      <td>4.2032</td>\n",
       "    </tr>\n",
       "    <tr>\n",
       "      <th>14</th>\n",
       "      <td>dry</td>\n",
       "      <td>246.0</td>\n",
       "      <td>4.1526</td>\n",
       "    </tr>\n",
       "  </tbody>\n",
       "</table>\n",
       "</div>"
      ],
      "text/plain": [
       "     word  count  percent\n",
       "0    like  677.0  11.4281\n",
       "1    love  561.0   9.4700\n",
       "2   great  534.0   9.0142\n",
       "3     use  529.0   8.9298\n",
       "4    good  465.0   7.8494\n",
       "5    just  427.0   7.2080\n",
       "6    used  415.0   7.0054\n",
       "7    face  333.0   5.6212\n",
       "8     don  317.0   5.3511\n",
       "9   using  312.0   5.2667\n",
       "10   does  308.0   5.1992\n",
       "11   time  298.0   5.0304\n",
       "12  doesn  253.0   4.2708\n",
       "13     ve  249.0   4.2032\n",
       "14    dry  246.0   4.1526"
      ]
     },
     "metadata": {},
     "output_type": "display_data"
    },
    {
     "name": "stdout",
     "output_type": "stream",
     "text": [
      "star rating:  2\n"
     ]
    },
    {
     "data": {
      "text/html": [
       "<div>\n",
       "<style scoped>\n",
       "    .dataframe tbody tr th:only-of-type {\n",
       "        vertical-align: middle;\n",
       "    }\n",
       "\n",
       "    .dataframe tbody tr th {\n",
       "        vertical-align: top;\n",
       "    }\n",
       "\n",
       "    .dataframe thead th {\n",
       "        text-align: right;\n",
       "    }\n",
       "</style>\n",
       "<table border=\"1\" class=\"dataframe\">\n",
       "  <thead>\n",
       "    <tr style=\"text-align: right;\">\n",
       "      <th></th>\n",
       "      <th>word</th>\n",
       "      <th>count</th>\n",
       "      <th>percent</th>\n",
       "    </tr>\n",
       "  </thead>\n",
       "  <tbody>\n",
       "    <tr>\n",
       "      <th>0</th>\n",
       "      <td>like</td>\n",
       "      <td>421.0</td>\n",
       "      <td>11.4309</td>\n",
       "    </tr>\n",
       "    <tr>\n",
       "      <th>1</th>\n",
       "      <td>use</td>\n",
       "      <td>355.0</td>\n",
       "      <td>9.6389</td>\n",
       "    </tr>\n",
       "    <tr>\n",
       "      <th>2</th>\n",
       "      <td>love</td>\n",
       "      <td>351.0</td>\n",
       "      <td>9.5303</td>\n",
       "    </tr>\n",
       "    <tr>\n",
       "      <th>3</th>\n",
       "      <td>great</td>\n",
       "      <td>339.0</td>\n",
       "      <td>9.2045</td>\n",
       "    </tr>\n",
       "    <tr>\n",
       "      <th>4</th>\n",
       "      <td>good</td>\n",
       "      <td>287.0</td>\n",
       "      <td>7.7926</td>\n",
       "    </tr>\n",
       "    <tr>\n",
       "      <th>5</th>\n",
       "      <td>just</td>\n",
       "      <td>259.0</td>\n",
       "      <td>7.0323</td>\n",
       "    </tr>\n",
       "    <tr>\n",
       "      <th>6</th>\n",
       "      <td>used</td>\n",
       "      <td>221.0</td>\n",
       "      <td>6.0005</td>\n",
       "    </tr>\n",
       "    <tr>\n",
       "      <th>7</th>\n",
       "      <td>don</td>\n",
       "      <td>203.0</td>\n",
       "      <td>5.5118</td>\n",
       "    </tr>\n",
       "    <tr>\n",
       "      <th>8</th>\n",
       "      <td>face</td>\n",
       "      <td>199.0</td>\n",
       "      <td>5.4032</td>\n",
       "    </tr>\n",
       "    <tr>\n",
       "      <th>9</th>\n",
       "      <td>dry</td>\n",
       "      <td>198.0</td>\n",
       "      <td>5.3761</td>\n",
       "    </tr>\n",
       "    <tr>\n",
       "      <th>10</th>\n",
       "      <td>does</td>\n",
       "      <td>181.0</td>\n",
       "      <td>4.9145</td>\n",
       "    </tr>\n",
       "    <tr>\n",
       "      <th>11</th>\n",
       "      <td>time</td>\n",
       "      <td>175.0</td>\n",
       "      <td>4.7516</td>\n",
       "    </tr>\n",
       "    <tr>\n",
       "      <th>12</th>\n",
       "      <td>doesn</td>\n",
       "      <td>172.0</td>\n",
       "      <td>4.6701</td>\n",
       "    </tr>\n",
       "    <tr>\n",
       "      <th>13</th>\n",
       "      <td>makeup</td>\n",
       "      <td>161.0</td>\n",
       "      <td>4.3714</td>\n",
       "    </tr>\n",
       "    <tr>\n",
       "      <th>14</th>\n",
       "      <td>using</td>\n",
       "      <td>161.0</td>\n",
       "      <td>4.3714</td>\n",
       "    </tr>\n",
       "  </tbody>\n",
       "</table>\n",
       "</div>"
      ],
      "text/plain": [
       "      word  count  percent\n",
       "0     like  421.0  11.4309\n",
       "1      use  355.0   9.6389\n",
       "2     love  351.0   9.5303\n",
       "3    great  339.0   9.2045\n",
       "4     good  287.0   7.7926\n",
       "5     just  259.0   7.0323\n",
       "6     used  221.0   6.0005\n",
       "7      don  203.0   5.5118\n",
       "8     face  199.0   5.4032\n",
       "9      dry  198.0   5.3761\n",
       "10    does  181.0   4.9145\n",
       "11    time  175.0   4.7516\n",
       "12   doesn  172.0   4.6701\n",
       "13  makeup  161.0   4.3714\n",
       "14   using  161.0   4.3714"
      ]
     },
     "metadata": {},
     "output_type": "display_data"
    },
    {
     "name": "stdout",
     "output_type": "stream",
     "text": [
      "star rating:  3\n"
     ]
    },
    {
     "data": {
      "text/html": [
       "<div>\n",
       "<style scoped>\n",
       "    .dataframe tbody tr th:only-of-type {\n",
       "        vertical-align: middle;\n",
       "    }\n",
       "\n",
       "    .dataframe tbody tr th {\n",
       "        vertical-align: top;\n",
       "    }\n",
       "\n",
       "    .dataframe thead th {\n",
       "        text-align: right;\n",
       "    }\n",
       "</style>\n",
       "<table border=\"1\" class=\"dataframe\">\n",
       "  <thead>\n",
       "    <tr style=\"text-align: right;\">\n",
       "      <th></th>\n",
       "      <th>word</th>\n",
       "      <th>count</th>\n",
       "      <th>percent</th>\n",
       "    </tr>\n",
       "  </thead>\n",
       "  <tbody>\n",
       "    <tr>\n",
       "      <th>0</th>\n",
       "      <td>like</td>\n",
       "      <td>728.0</td>\n",
       "      <td>11.9207</td>\n",
       "    </tr>\n",
       "    <tr>\n",
       "      <th>1</th>\n",
       "      <td>good</td>\n",
       "      <td>581.0</td>\n",
       "      <td>9.5137</td>\n",
       "    </tr>\n",
       "    <tr>\n",
       "      <th>2</th>\n",
       "      <td>use</td>\n",
       "      <td>580.0</td>\n",
       "      <td>9.4973</td>\n",
       "    </tr>\n",
       "    <tr>\n",
       "      <th>3</th>\n",
       "      <td>love</td>\n",
       "      <td>575.0</td>\n",
       "      <td>9.4154</td>\n",
       "    </tr>\n",
       "    <tr>\n",
       "      <th>4</th>\n",
       "      <td>great</td>\n",
       "      <td>533.0</td>\n",
       "      <td>8.7277</td>\n",
       "    </tr>\n",
       "    <tr>\n",
       "      <th>5</th>\n",
       "      <td>just</td>\n",
       "      <td>483.0</td>\n",
       "      <td>7.9090</td>\n",
       "    </tr>\n",
       "    <tr>\n",
       "      <th>6</th>\n",
       "      <td>doesn</td>\n",
       "      <td>326.0</td>\n",
       "      <td>5.3381</td>\n",
       "    </tr>\n",
       "    <tr>\n",
       "      <th>7</th>\n",
       "      <td>used</td>\n",
       "      <td>321.0</td>\n",
       "      <td>5.2563</td>\n",
       "    </tr>\n",
       "    <tr>\n",
       "      <th>8</th>\n",
       "      <td>does</td>\n",
       "      <td>313.0</td>\n",
       "      <td>5.1253</td>\n",
       "    </tr>\n",
       "    <tr>\n",
       "      <th>9</th>\n",
       "      <td>don</td>\n",
       "      <td>299.0</td>\n",
       "      <td>4.8960</td>\n",
       "    </tr>\n",
       "    <tr>\n",
       "      <th>10</th>\n",
       "      <td>face</td>\n",
       "      <td>297.0</td>\n",
       "      <td>4.8633</td>\n",
       "    </tr>\n",
       "    <tr>\n",
       "      <th>11</th>\n",
       "      <td>works</td>\n",
       "      <td>278.0</td>\n",
       "      <td>4.5522</td>\n",
       "    </tr>\n",
       "    <tr>\n",
       "      <th>12</th>\n",
       "      <td>using</td>\n",
       "      <td>273.0</td>\n",
       "      <td>4.4703</td>\n",
       "    </tr>\n",
       "    <tr>\n",
       "      <th>13</th>\n",
       "      <td>nice</td>\n",
       "      <td>262.0</td>\n",
       "      <td>4.2902</td>\n",
       "    </tr>\n",
       "    <tr>\n",
       "      <th>14</th>\n",
       "      <td>little</td>\n",
       "      <td>258.0</td>\n",
       "      <td>4.2247</td>\n",
       "    </tr>\n",
       "  </tbody>\n",
       "</table>\n",
       "</div>"
      ],
      "text/plain": [
       "      word  count  percent\n",
       "0     like  728.0  11.9207\n",
       "1     good  581.0   9.5137\n",
       "2      use  580.0   9.4973\n",
       "3     love  575.0   9.4154\n",
       "4    great  533.0   8.7277\n",
       "5     just  483.0   7.9090\n",
       "6    doesn  326.0   5.3381\n",
       "7     used  321.0   5.2563\n",
       "8     does  313.0   5.1253\n",
       "9      don  299.0   4.8960\n",
       "10    face  297.0   4.8633\n",
       "11   works  278.0   4.5522\n",
       "12   using  273.0   4.4703\n",
       "13    nice  262.0   4.2902\n",
       "14  little  258.0   4.2247"
      ]
     },
     "metadata": {},
     "output_type": "display_data"
    },
    {
     "name": "stdout",
     "output_type": "stream",
     "text": [
      "star rating:  4\n"
     ]
    },
    {
     "data": {
      "text/html": [
       "<div>\n",
       "<style scoped>\n",
       "    .dataframe tbody tr th:only-of-type {\n",
       "        vertical-align: middle;\n",
       "    }\n",
       "\n",
       "    .dataframe tbody tr th {\n",
       "        vertical-align: top;\n",
       "    }\n",
       "\n",
       "    .dataframe thead th {\n",
       "        text-align: right;\n",
       "    }\n",
       "</style>\n",
       "<table border=\"1\" class=\"dataframe\">\n",
       "  <thead>\n",
       "    <tr style=\"text-align: right;\">\n",
       "      <th></th>\n",
       "      <th>word</th>\n",
       "      <th>count</th>\n",
       "      <th>percent</th>\n",
       "    </tr>\n",
       "  </thead>\n",
       "  <tbody>\n",
       "    <tr>\n",
       "      <th>0</th>\n",
       "      <td>great</td>\n",
       "      <td>1253.0</td>\n",
       "      <td>10.9874</td>\n",
       "    </tr>\n",
       "    <tr>\n",
       "      <th>1</th>\n",
       "      <td>like</td>\n",
       "      <td>1244.0</td>\n",
       "      <td>10.9085</td>\n",
       "    </tr>\n",
       "    <tr>\n",
       "      <th>2</th>\n",
       "      <td>love</td>\n",
       "      <td>1205.0</td>\n",
       "      <td>10.5665</td>\n",
       "    </tr>\n",
       "    <tr>\n",
       "      <th>3</th>\n",
       "      <td>use</td>\n",
       "      <td>1114.0</td>\n",
       "      <td>9.7685</td>\n",
       "    </tr>\n",
       "    <tr>\n",
       "      <th>4</th>\n",
       "      <td>good</td>\n",
       "      <td>1094.0</td>\n",
       "      <td>9.5931</td>\n",
       "    </tr>\n",
       "    <tr>\n",
       "      <th>5</th>\n",
       "      <td>just</td>\n",
       "      <td>715.0</td>\n",
       "      <td>6.2697</td>\n",
       "    </tr>\n",
       "    <tr>\n",
       "      <th>6</th>\n",
       "      <td>face</td>\n",
       "      <td>597.0</td>\n",
       "      <td>5.2350</td>\n",
       "    </tr>\n",
       "    <tr>\n",
       "      <th>7</th>\n",
       "      <td>used</td>\n",
       "      <td>572.0</td>\n",
       "      <td>5.0158</td>\n",
       "    </tr>\n",
       "    <tr>\n",
       "      <th>8</th>\n",
       "      <td>does</td>\n",
       "      <td>568.0</td>\n",
       "      <td>4.9807</td>\n",
       "    </tr>\n",
       "    <tr>\n",
       "      <th>9</th>\n",
       "      <td>dry</td>\n",
       "      <td>547.0</td>\n",
       "      <td>4.7966</td>\n",
       "    </tr>\n",
       "    <tr>\n",
       "      <th>10</th>\n",
       "      <td>works</td>\n",
       "      <td>534.0</td>\n",
       "      <td>4.6826</td>\n",
       "    </tr>\n",
       "    <tr>\n",
       "      <th>11</th>\n",
       "      <td>using</td>\n",
       "      <td>501.0</td>\n",
       "      <td>4.3932</td>\n",
       "    </tr>\n",
       "    <tr>\n",
       "      <th>12</th>\n",
       "      <td>little</td>\n",
       "      <td>493.0</td>\n",
       "      <td>4.3230</td>\n",
       "    </tr>\n",
       "    <tr>\n",
       "      <th>13</th>\n",
       "      <td>day</td>\n",
       "      <td>491.0</td>\n",
       "      <td>4.3055</td>\n",
       "    </tr>\n",
       "    <tr>\n",
       "      <th>14</th>\n",
       "      <td>ve</td>\n",
       "      <td>476.0</td>\n",
       "      <td>4.1740</td>\n",
       "    </tr>\n",
       "  </tbody>\n",
       "</table>\n",
       "</div>"
      ],
      "text/plain": [
       "      word   count  percent\n",
       "0    great  1253.0  10.9874\n",
       "1     like  1244.0  10.9085\n",
       "2     love  1205.0  10.5665\n",
       "3      use  1114.0   9.7685\n",
       "4     good  1094.0   9.5931\n",
       "5     just   715.0   6.2697\n",
       "6     face   597.0   5.2350\n",
       "7     used   572.0   5.0158\n",
       "8     does   568.0   4.9807\n",
       "9      dry   547.0   4.7966\n",
       "10   works   534.0   4.6826\n",
       "11   using   501.0   4.3932\n",
       "12  little   493.0   4.3230\n",
       "13     day   491.0   4.3055\n",
       "14      ve   476.0   4.1740"
      ]
     },
     "metadata": {},
     "output_type": "display_data"
    },
    {
     "name": "stdout",
     "output_type": "stream",
     "text": [
      "star rating:  5\n"
     ]
    },
    {
     "data": {
      "text/html": [
       "<div>\n",
       "<style scoped>\n",
       "    .dataframe tbody tr th:only-of-type {\n",
       "        vertical-align: middle;\n",
       "    }\n",
       "\n",
       "    .dataframe tbody tr th {\n",
       "        vertical-align: top;\n",
       "    }\n",
       "\n",
       "    .dataframe thead th {\n",
       "        text-align: right;\n",
       "    }\n",
       "</style>\n",
       "<table border=\"1\" class=\"dataframe\">\n",
       "  <thead>\n",
       "    <tr style=\"text-align: right;\">\n",
       "      <th></th>\n",
       "      <th>word</th>\n",
       "      <th>count</th>\n",
       "      <th>percent</th>\n",
       "    </tr>\n",
       "  </thead>\n",
       "  <tbody>\n",
       "    <tr>\n",
       "      <th>0</th>\n",
       "      <td>love</td>\n",
       "      <td>6026.0</td>\n",
       "      <td>13.1788</td>\n",
       "    </tr>\n",
       "    <tr>\n",
       "      <th>1</th>\n",
       "      <td>great</td>\n",
       "      <td>5808.0</td>\n",
       "      <td>12.7020</td>\n",
       "    </tr>\n",
       "    <tr>\n",
       "      <th>2</th>\n",
       "      <td>use</td>\n",
       "      <td>4376.0</td>\n",
       "      <td>9.5703</td>\n",
       "    </tr>\n",
       "    <tr>\n",
       "      <th>3</th>\n",
       "      <td>like</td>\n",
       "      <td>4344.0</td>\n",
       "      <td>9.5003</td>\n",
       "    </tr>\n",
       "    <tr>\n",
       "      <th>4</th>\n",
       "      <td>good</td>\n",
       "      <td>3623.0</td>\n",
       "      <td>7.9235</td>\n",
       "    </tr>\n",
       "    <tr>\n",
       "      <th>5</th>\n",
       "      <td>just</td>\n",
       "      <td>2845.0</td>\n",
       "      <td>6.2220</td>\n",
       "    </tr>\n",
       "    <tr>\n",
       "      <th>6</th>\n",
       "      <td>used</td>\n",
       "      <td>2369.0</td>\n",
       "      <td>5.1810</td>\n",
       "    </tr>\n",
       "    <tr>\n",
       "      <th>7</th>\n",
       "      <td>works</td>\n",
       "      <td>2282.0</td>\n",
       "      <td>4.9907</td>\n",
       "    </tr>\n",
       "    <tr>\n",
       "      <th>8</th>\n",
       "      <td>face</td>\n",
       "      <td>2157.0</td>\n",
       "      <td>4.7173</td>\n",
       "    </tr>\n",
       "    <tr>\n",
       "      <th>9</th>\n",
       "      <td>using</td>\n",
       "      <td>2112.0</td>\n",
       "      <td>4.6189</td>\n",
       "    </tr>\n",
       "    <tr>\n",
       "      <th>10</th>\n",
       "      <td>ve</td>\n",
       "      <td>2046.0</td>\n",
       "      <td>4.4746</td>\n",
       "    </tr>\n",
       "    <tr>\n",
       "      <th>11</th>\n",
       "      <td>day</td>\n",
       "      <td>1988.0</td>\n",
       "      <td>4.3477</td>\n",
       "    </tr>\n",
       "    <tr>\n",
       "      <th>12</th>\n",
       "      <td>does</td>\n",
       "      <td>1972.0</td>\n",
       "      <td>4.3127</td>\n",
       "    </tr>\n",
       "    <tr>\n",
       "      <th>13</th>\n",
       "      <td>time</td>\n",
       "      <td>1903.0</td>\n",
       "      <td>4.1618</td>\n",
       "    </tr>\n",
       "    <tr>\n",
       "      <th>14</th>\n",
       "      <td>dry</td>\n",
       "      <td>1874.0</td>\n",
       "      <td>4.0984</td>\n",
       "    </tr>\n",
       "  </tbody>\n",
       "</table>\n",
       "</div>"
      ],
      "text/plain": [
       "     word   count  percent\n",
       "0    love  6026.0  13.1788\n",
       "1   great  5808.0  12.7020\n",
       "2     use  4376.0   9.5703\n",
       "3    like  4344.0   9.5003\n",
       "4    good  3623.0   7.9235\n",
       "5    just  2845.0   6.2220\n",
       "6    used  2369.0   5.1810\n",
       "7   works  2282.0   4.9907\n",
       "8    face  2157.0   4.7173\n",
       "9   using  2112.0   4.6189\n",
       "10     ve  2046.0   4.4746\n",
       "11    day  1988.0   4.3477\n",
       "12   does  1972.0   4.3127\n",
       "13   time  1903.0   4.1618\n",
       "14    dry  1874.0   4.0984"
      ]
     },
     "metadata": {},
     "output_type": "display_data"
    }
   ],
   "source": [
    "for star in range(1, 6):\n",
    "    print('star rating: ', star)\n",
    "    star_reviews = word_counts.loc[word_counts['star_rating'] == star, :]\n",
    "    reviews = star_reviews.iloc[:, 14:]\n",
    "    reviews = reviews.drop(columns = ['product', 'br', 'really', '34', 'skin', 'color', 'hair'])\n",
    "    total = reviews.to_numpy().sum()\n",
    "    counts = (reviews.sum(axis = 0).sort_values(ascending = False).head(15))\n",
    "    \n",
    "    star_counts = pd.DataFrame(counts, columns = {'count'}).reset_index()\n",
    "    star_counts = star_counts.rename(columns = {'index' : 'word'})\n",
    "    star_counts['percent'] = round((star_counts['count']/sum(star_counts['count']))*100, 4)\n",
    "    display(star_counts)"
   ]
  },
  {
   "cell_type": "markdown",
   "id": "17a29bc5",
   "metadata": {},
   "source": [
    "Our findings here were a bit surprising. It seems as if the most popular words are pretty much the same between star ratings. \n",
    "\n",
    "However, it is important to note that our CountVectorizer object only counts single words, so we have no way of telling if the negative reviews actually said \"not great\", but we simply only captured the \"great.\"\n",
    "\n",
    "Analyzing these counts a bit further, we can see that \"love\" does show up more often in 5 star reviews than any of the other star ratings, beating them by about 4%. The word \"like\" seems to be consistently present among all star reviews. Additionally, the word \"dry\" appears in the top for all star ratings except 3 star reviews. The word \"dry\" appears far more often in 2-star reviews, beating the other star ratings by about 1%. \n",
    "\n",
    "What this ultimately seems to be telling us is that individual word counts are not enough to differentiate different reviews' star ratings. We might need a more complex natural language processing object to explore these differences."
   ]
  },
  {
   "cell_type": "markdown",
   "id": "9ed0b666",
   "metadata": {},
   "source": [
    "#### Common Words by Company\n",
    "\n",
    "We next wanted to explore which words appear more frequently by company, to see if they reflected in any way their performance in the market for the year 2019."
   ]
  },
  {
   "cell_type": "code",
   "execution_count": 147,
   "id": "e573479b",
   "metadata": {
    "scrolled": false
   },
   "outputs": [
    {
     "name": "stdout",
     "output_type": "stream",
     "text": [
      "Company:  Coty\n"
     ]
    },
    {
     "data": {
      "text/html": [
       "<div>\n",
       "<style scoped>\n",
       "    .dataframe tbody tr th:only-of-type {\n",
       "        vertical-align: middle;\n",
       "    }\n",
       "\n",
       "    .dataframe tbody tr th {\n",
       "        vertical-align: top;\n",
       "    }\n",
       "\n",
       "    .dataframe thead th {\n",
       "        text-align: right;\n",
       "    }\n",
       "</style>\n",
       "<table border=\"1\" class=\"dataframe\">\n",
       "  <thead>\n",
       "    <tr style=\"text-align: right;\">\n",
       "      <th></th>\n",
       "      <th>word</th>\n",
       "      <th>count</th>\n",
       "      <th>percent</th>\n",
       "    </tr>\n",
       "  </thead>\n",
       "  <tbody>\n",
       "    <tr>\n",
       "      <th>0</th>\n",
       "      <td>love</td>\n",
       "      <td>1151.0</td>\n",
       "      <td>12.1120</td>\n",
       "    </tr>\n",
       "    <tr>\n",
       "      <th>1</th>\n",
       "      <td>great</td>\n",
       "      <td>1098.0</td>\n",
       "      <td>11.5542</td>\n",
       "    </tr>\n",
       "    <tr>\n",
       "      <th>2</th>\n",
       "      <td>like</td>\n",
       "      <td>1007.0</td>\n",
       "      <td>10.5967</td>\n",
       "    </tr>\n",
       "    <tr>\n",
       "      <th>3</th>\n",
       "      <td>use</td>\n",
       "      <td>888.0</td>\n",
       "      <td>9.3444</td>\n",
       "    </tr>\n",
       "    <tr>\n",
       "      <th>4</th>\n",
       "      <td>good</td>\n",
       "      <td>773.0</td>\n",
       "      <td>8.1343</td>\n",
       "    </tr>\n",
       "    <tr>\n",
       "      <th>5</th>\n",
       "      <td>just</td>\n",
       "      <td>657.0</td>\n",
       "      <td>6.9136</td>\n",
       "    </tr>\n",
       "    <tr>\n",
       "      <th>6</th>\n",
       "      <td>polish</td>\n",
       "      <td>548.0</td>\n",
       "      <td>5.7666</td>\n",
       "    </tr>\n",
       "    <tr>\n",
       "      <th>7</th>\n",
       "      <td>used</td>\n",
       "      <td>505.0</td>\n",
       "      <td>5.3141</td>\n",
       "    </tr>\n",
       "    <tr>\n",
       "      <th>8</th>\n",
       "      <td>time</td>\n",
       "      <td>464.0</td>\n",
       "      <td>4.8827</td>\n",
       "    </tr>\n",
       "    <tr>\n",
       "      <th>9</th>\n",
       "      <td>works</td>\n",
       "      <td>456.0</td>\n",
       "      <td>4.7985</td>\n",
       "    </tr>\n",
       "    <tr>\n",
       "      <th>10</th>\n",
       "      <td>does</td>\n",
       "      <td>414.0</td>\n",
       "      <td>4.3565</td>\n",
       "    </tr>\n",
       "    <tr>\n",
       "      <th>11</th>\n",
       "      <td>nails</td>\n",
       "      <td>397.0</td>\n",
       "      <td>4.1776</td>\n",
       "    </tr>\n",
       "    <tr>\n",
       "      <th>12</th>\n",
       "      <td>don</td>\n",
       "      <td>385.0</td>\n",
       "      <td>4.0514</td>\n",
       "    </tr>\n",
       "    <tr>\n",
       "      <th>13</th>\n",
       "      <td>day</td>\n",
       "      <td>385.0</td>\n",
       "      <td>4.0514</td>\n",
       "    </tr>\n",
       "    <tr>\n",
       "      <th>14</th>\n",
       "      <td>doesn</td>\n",
       "      <td>375.0</td>\n",
       "      <td>3.9461</td>\n",
       "    </tr>\n",
       "  </tbody>\n",
       "</table>\n",
       "</div>"
      ],
      "text/plain": [
       "      word   count  percent\n",
       "0     love  1151.0  12.1120\n",
       "1    great  1098.0  11.5542\n",
       "2     like  1007.0  10.5967\n",
       "3      use   888.0   9.3444\n",
       "4     good   773.0   8.1343\n",
       "5     just   657.0   6.9136\n",
       "6   polish   548.0   5.7666\n",
       "7     used   505.0   5.3141\n",
       "8     time   464.0   4.8827\n",
       "9    works   456.0   4.7985\n",
       "10    does   414.0   4.3565\n",
       "11   nails   397.0   4.1776\n",
       "12     don   385.0   4.0514\n",
       "13     day   385.0   4.0514\n",
       "14   doesn   375.0   3.9461"
      ]
     },
     "metadata": {},
     "output_type": "display_data"
    },
    {
     "name": "stdout",
     "output_type": "stream",
     "text": [
      "Company:  L'oreal\n"
     ]
    },
    {
     "data": {
      "text/html": [
       "<div>\n",
       "<style scoped>\n",
       "    .dataframe tbody tr th:only-of-type {\n",
       "        vertical-align: middle;\n",
       "    }\n",
       "\n",
       "    .dataframe tbody tr th {\n",
       "        vertical-align: top;\n",
       "    }\n",
       "\n",
       "    .dataframe thead th {\n",
       "        text-align: right;\n",
       "    }\n",
       "</style>\n",
       "<table border=\"1\" class=\"dataframe\">\n",
       "  <thead>\n",
       "    <tr style=\"text-align: right;\">\n",
       "      <th></th>\n",
       "      <th>word</th>\n",
       "      <th>count</th>\n",
       "      <th>percent</th>\n",
       "    </tr>\n",
       "  </thead>\n",
       "  <tbody>\n",
       "    <tr>\n",
       "      <th>0</th>\n",
       "      <td>love</td>\n",
       "      <td>3362.0</td>\n",
       "      <td>12.7036</td>\n",
       "    </tr>\n",
       "    <tr>\n",
       "      <th>1</th>\n",
       "      <td>great</td>\n",
       "      <td>3115.0</td>\n",
       "      <td>11.7703</td>\n",
       "    </tr>\n",
       "    <tr>\n",
       "      <th>2</th>\n",
       "      <td>like</td>\n",
       "      <td>2692.0</td>\n",
       "      <td>10.1719</td>\n",
       "    </tr>\n",
       "    <tr>\n",
       "      <th>3</th>\n",
       "      <td>use</td>\n",
       "      <td>2526.0</td>\n",
       "      <td>9.5447</td>\n",
       "    </tr>\n",
       "    <tr>\n",
       "      <th>4</th>\n",
       "      <td>good</td>\n",
       "      <td>2234.0</td>\n",
       "      <td>8.4413</td>\n",
       "    </tr>\n",
       "    <tr>\n",
       "      <th>5</th>\n",
       "      <td>just</td>\n",
       "      <td>1739.0</td>\n",
       "      <td>6.5709</td>\n",
       "    </tr>\n",
       "    <tr>\n",
       "      <th>6</th>\n",
       "      <td>used</td>\n",
       "      <td>1390.0</td>\n",
       "      <td>5.2522</td>\n",
       "    </tr>\n",
       "    <tr>\n",
       "      <th>7</th>\n",
       "      <td>does</td>\n",
       "      <td>1223.0</td>\n",
       "      <td>4.6212</td>\n",
       "    </tr>\n",
       "    <tr>\n",
       "      <th>8</th>\n",
       "      <td>face</td>\n",
       "      <td>1203.0</td>\n",
       "      <td>4.5456</td>\n",
       "    </tr>\n",
       "    <tr>\n",
       "      <th>9</th>\n",
       "      <td>ve</td>\n",
       "      <td>1203.0</td>\n",
       "      <td>4.5456</td>\n",
       "    </tr>\n",
       "    <tr>\n",
       "      <th>10</th>\n",
       "      <td>day</td>\n",
       "      <td>1200.0</td>\n",
       "      <td>4.5343</td>\n",
       "    </tr>\n",
       "    <tr>\n",
       "      <th>11</th>\n",
       "      <td>works</td>\n",
       "      <td>1186.0</td>\n",
       "      <td>4.4814</td>\n",
       "    </tr>\n",
       "    <tr>\n",
       "      <th>12</th>\n",
       "      <td>don</td>\n",
       "      <td>1152.0</td>\n",
       "      <td>4.3529</td>\n",
       "    </tr>\n",
       "    <tr>\n",
       "      <th>13</th>\n",
       "      <td>using</td>\n",
       "      <td>1122.0</td>\n",
       "      <td>4.2396</td>\n",
       "    </tr>\n",
       "    <tr>\n",
       "      <th>14</th>\n",
       "      <td>time</td>\n",
       "      <td>1118.0</td>\n",
       "      <td>4.2244</td>\n",
       "    </tr>\n",
       "  </tbody>\n",
       "</table>\n",
       "</div>"
      ],
      "text/plain": [
       "     word   count  percent\n",
       "0    love  3362.0  12.7036\n",
       "1   great  3115.0  11.7703\n",
       "2    like  2692.0  10.1719\n",
       "3     use  2526.0   9.5447\n",
       "4    good  2234.0   8.4413\n",
       "5    just  1739.0   6.5709\n",
       "6    used  1390.0   5.2522\n",
       "7    does  1223.0   4.6212\n",
       "8    face  1203.0   4.5456\n",
       "9      ve  1203.0   4.5456\n",
       "10    day  1200.0   4.5343\n",
       "11  works  1186.0   4.4814\n",
       "12    don  1152.0   4.3529\n",
       "13  using  1122.0   4.2396\n",
       "14   time  1118.0   4.2244"
      ]
     },
     "metadata": {},
     "output_type": "display_data"
    },
    {
     "name": "stdout",
     "output_type": "stream",
     "text": [
      "Company:  Johnson & Johnson\n"
     ]
    },
    {
     "data": {
      "text/html": [
       "<div>\n",
       "<style scoped>\n",
       "    .dataframe tbody tr th:only-of-type {\n",
       "        vertical-align: middle;\n",
       "    }\n",
       "\n",
       "    .dataframe tbody tr th {\n",
       "        vertical-align: top;\n",
       "    }\n",
       "\n",
       "    .dataframe thead th {\n",
       "        text-align: right;\n",
       "    }\n",
       "</style>\n",
       "<table border=\"1\" class=\"dataframe\">\n",
       "  <thead>\n",
       "    <tr style=\"text-align: right;\">\n",
       "      <th></th>\n",
       "      <th>word</th>\n",
       "      <th>count</th>\n",
       "      <th>percent</th>\n",
       "    </tr>\n",
       "  </thead>\n",
       "  <tbody>\n",
       "    <tr>\n",
       "      <th>0</th>\n",
       "      <td>great</td>\n",
       "      <td>2346.0</td>\n",
       "      <td>10.9976</td>\n",
       "    </tr>\n",
       "    <tr>\n",
       "      <th>1</th>\n",
       "      <td>love</td>\n",
       "      <td>2283.0</td>\n",
       "      <td>10.7022</td>\n",
       "    </tr>\n",
       "    <tr>\n",
       "      <th>2</th>\n",
       "      <td>use</td>\n",
       "      <td>2139.0</td>\n",
       "      <td>10.0272</td>\n",
       "    </tr>\n",
       "    <tr>\n",
       "      <th>3</th>\n",
       "      <td>like</td>\n",
       "      <td>2040.0</td>\n",
       "      <td>9.5631</td>\n",
       "    </tr>\n",
       "    <tr>\n",
       "      <th>4</th>\n",
       "      <td>good</td>\n",
       "      <td>1741.0</td>\n",
       "      <td>8.1614</td>\n",
       "    </tr>\n",
       "    <tr>\n",
       "      <th>5</th>\n",
       "      <td>face</td>\n",
       "      <td>1452.0</td>\n",
       "      <td>6.8067</td>\n",
       "    </tr>\n",
       "    <tr>\n",
       "      <th>6</th>\n",
       "      <td>just</td>\n",
       "      <td>1267.0</td>\n",
       "      <td>5.9394</td>\n",
       "    </tr>\n",
       "    <tr>\n",
       "      <th>7</th>\n",
       "      <td>using</td>\n",
       "      <td>1183.0</td>\n",
       "      <td>5.5457</td>\n",
       "    </tr>\n",
       "    <tr>\n",
       "      <th>8</th>\n",
       "      <td>used</td>\n",
       "      <td>1134.0</td>\n",
       "      <td>5.3160</td>\n",
       "    </tr>\n",
       "    <tr>\n",
       "      <th>9</th>\n",
       "      <td>dry</td>\n",
       "      <td>1095.0</td>\n",
       "      <td>5.1331</td>\n",
       "    </tr>\n",
       "    <tr>\n",
       "      <th>10</th>\n",
       "      <td>works</td>\n",
       "      <td>1082.0</td>\n",
       "      <td>5.0722</td>\n",
       "    </tr>\n",
       "    <tr>\n",
       "      <th>11</th>\n",
       "      <td>does</td>\n",
       "      <td>954.0</td>\n",
       "      <td>4.4722</td>\n",
       "    </tr>\n",
       "    <tr>\n",
       "      <th>12</th>\n",
       "      <td>ve</td>\n",
       "      <td>949.0</td>\n",
       "      <td>4.4487</td>\n",
       "    </tr>\n",
       "    <tr>\n",
       "      <th>13</th>\n",
       "      <td>day</td>\n",
       "      <td>839.0</td>\n",
       "      <td>3.9331</td>\n",
       "    </tr>\n",
       "    <tr>\n",
       "      <th>14</th>\n",
       "      <td>doesn</td>\n",
       "      <td>828.0</td>\n",
       "      <td>3.8815</td>\n",
       "    </tr>\n",
       "  </tbody>\n",
       "</table>\n",
       "</div>"
      ],
      "text/plain": [
       "     word   count  percent\n",
       "0   great  2346.0  10.9976\n",
       "1    love  2283.0  10.7022\n",
       "2     use  2139.0  10.0272\n",
       "3    like  2040.0   9.5631\n",
       "4    good  1741.0   8.1614\n",
       "5    face  1452.0   6.8067\n",
       "6    just  1267.0   5.9394\n",
       "7   using  1183.0   5.5457\n",
       "8    used  1134.0   5.3160\n",
       "9     dry  1095.0   5.1331\n",
       "10  works  1082.0   5.0722\n",
       "11   does   954.0   4.4722\n",
       "12     ve   949.0   4.4487\n",
       "13    day   839.0   3.9331\n",
       "14  doesn   828.0   3.8815"
      ]
     },
     "metadata": {},
     "output_type": "display_data"
    },
    {
     "name": "stdout",
     "output_type": "stream",
     "text": [
      "Company:  Revlon\n"
     ]
    },
    {
     "data": {
      "text/html": [
       "<div>\n",
       "<style scoped>\n",
       "    .dataframe tbody tr th:only-of-type {\n",
       "        vertical-align: middle;\n",
       "    }\n",
       "\n",
       "    .dataframe tbody tr th {\n",
       "        vertical-align: top;\n",
       "    }\n",
       "\n",
       "    .dataframe thead th {\n",
       "        text-align: right;\n",
       "    }\n",
       "</style>\n",
       "<table border=\"1\" class=\"dataframe\">\n",
       "  <thead>\n",
       "    <tr style=\"text-align: right;\">\n",
       "      <th></th>\n",
       "      <th>word</th>\n",
       "      <th>count</th>\n",
       "      <th>percent</th>\n",
       "    </tr>\n",
       "  </thead>\n",
       "  <tbody>\n",
       "    <tr>\n",
       "      <th>0</th>\n",
       "      <td>love</td>\n",
       "      <td>1910.0</td>\n",
       "      <td>12.3138</td>\n",
       "    </tr>\n",
       "    <tr>\n",
       "      <th>1</th>\n",
       "      <td>great</td>\n",
       "      <td>1887.0</td>\n",
       "      <td>12.1656</td>\n",
       "    </tr>\n",
       "    <tr>\n",
       "      <th>2</th>\n",
       "      <td>like</td>\n",
       "      <td>1659.0</td>\n",
       "      <td>10.6956</td>\n",
       "    </tr>\n",
       "    <tr>\n",
       "      <th>3</th>\n",
       "      <td>use</td>\n",
       "      <td>1390.0</td>\n",
       "      <td>8.9614</td>\n",
       "    </tr>\n",
       "    <tr>\n",
       "      <th>4</th>\n",
       "      <td>good</td>\n",
       "      <td>1283.0</td>\n",
       "      <td>8.2715</td>\n",
       "    </tr>\n",
       "    <tr>\n",
       "      <th>5</th>\n",
       "      <td>just</td>\n",
       "      <td>1056.0</td>\n",
       "      <td>6.8081</td>\n",
       "    </tr>\n",
       "    <tr>\n",
       "      <th>6</th>\n",
       "      <td>used</td>\n",
       "      <td>860.0</td>\n",
       "      <td>5.5445</td>\n",
       "    </tr>\n",
       "    <tr>\n",
       "      <th>7</th>\n",
       "      <td>works</td>\n",
       "      <td>750.0</td>\n",
       "      <td>4.8353</td>\n",
       "    </tr>\n",
       "    <tr>\n",
       "      <th>8</th>\n",
       "      <td>does</td>\n",
       "      <td>748.0</td>\n",
       "      <td>4.8224</td>\n",
       "    </tr>\n",
       "    <tr>\n",
       "      <th>9</th>\n",
       "      <td>time</td>\n",
       "      <td>690.0</td>\n",
       "      <td>4.4485</td>\n",
       "    </tr>\n",
       "    <tr>\n",
       "      <th>10</th>\n",
       "      <td>using</td>\n",
       "      <td>674.0</td>\n",
       "      <td>4.3453</td>\n",
       "    </tr>\n",
       "    <tr>\n",
       "      <th>11</th>\n",
       "      <td>day</td>\n",
       "      <td>673.0</td>\n",
       "      <td>4.3389</td>\n",
       "    </tr>\n",
       "    <tr>\n",
       "      <th>12</th>\n",
       "      <td>don</td>\n",
       "      <td>659.0</td>\n",
       "      <td>4.2486</td>\n",
       "    </tr>\n",
       "    <tr>\n",
       "      <th>13</th>\n",
       "      <td>ve</td>\n",
       "      <td>647.0</td>\n",
       "      <td>4.1712</td>\n",
       "    </tr>\n",
       "    <tr>\n",
       "      <th>14</th>\n",
       "      <td>doesn</td>\n",
       "      <td>625.0</td>\n",
       "      <td>4.0294</td>\n",
       "    </tr>\n",
       "  </tbody>\n",
       "</table>\n",
       "</div>"
      ],
      "text/plain": [
       "     word   count  percent\n",
       "0    love  1910.0  12.3138\n",
       "1   great  1887.0  12.1656\n",
       "2    like  1659.0  10.6956\n",
       "3     use  1390.0   8.9614\n",
       "4    good  1283.0   8.2715\n",
       "5    just  1056.0   6.8081\n",
       "6    used   860.0   5.5445\n",
       "7   works   750.0   4.8353\n",
       "8    does   748.0   4.8224\n",
       "9    time   690.0   4.4485\n",
       "10  using   674.0   4.3453\n",
       "11    day   673.0   4.3389\n",
       "12    don   659.0   4.2486\n",
       "13     ve   647.0   4.1712\n",
       "14  doesn   625.0   4.0294"
      ]
     },
     "metadata": {},
     "output_type": "display_data"
    },
    {
     "name": "stdout",
     "output_type": "stream",
     "text": [
      "Company:  Proctor & Gamble\n"
     ]
    },
    {
     "data": {
      "text/html": [
       "<div>\n",
       "<style scoped>\n",
       "    .dataframe tbody tr th:only-of-type {\n",
       "        vertical-align: middle;\n",
       "    }\n",
       "\n",
       "    .dataframe tbody tr th {\n",
       "        vertical-align: top;\n",
       "    }\n",
       "\n",
       "    .dataframe thead th {\n",
       "        text-align: right;\n",
       "    }\n",
       "</style>\n",
       "<table border=\"1\" class=\"dataframe\">\n",
       "  <thead>\n",
       "    <tr style=\"text-align: right;\">\n",
       "      <th></th>\n",
       "      <th>word</th>\n",
       "      <th>count</th>\n",
       "      <th>percent</th>\n",
       "    </tr>\n",
       "  </thead>\n",
       "  <tbody>\n",
       "    <tr>\n",
       "      <th>0</th>\n",
       "      <td>great</td>\n",
       "      <td>21.0</td>\n",
       "      <td>12.9630</td>\n",
       "    </tr>\n",
       "    <tr>\n",
       "      <th>1</th>\n",
       "      <td>good</td>\n",
       "      <td>19.0</td>\n",
       "      <td>11.7284</td>\n",
       "    </tr>\n",
       "    <tr>\n",
       "      <th>2</th>\n",
       "      <td>like</td>\n",
       "      <td>16.0</td>\n",
       "      <td>9.8765</td>\n",
       "    </tr>\n",
       "    <tr>\n",
       "      <th>3</th>\n",
       "      <td>love</td>\n",
       "      <td>12.0</td>\n",
       "      <td>7.4074</td>\n",
       "    </tr>\n",
       "    <tr>\n",
       "      <th>4</th>\n",
       "      <td>use</td>\n",
       "      <td>11.0</td>\n",
       "      <td>6.7901</td>\n",
       "    </tr>\n",
       "    <tr>\n",
       "      <th>5</th>\n",
       "      <td>nice</td>\n",
       "      <td>11.0</td>\n",
       "      <td>6.7901</td>\n",
       "    </tr>\n",
       "    <tr>\n",
       "      <th>6</th>\n",
       "      <td>time</td>\n",
       "      <td>11.0</td>\n",
       "      <td>6.7901</td>\n",
       "    </tr>\n",
       "    <tr>\n",
       "      <th>7</th>\n",
       "      <td>just</td>\n",
       "      <td>10.0</td>\n",
       "      <td>6.1728</td>\n",
       "    </tr>\n",
       "    <tr>\n",
       "      <th>8</th>\n",
       "      <td>used</td>\n",
       "      <td>9.0</td>\n",
       "      <td>5.5556</td>\n",
       "    </tr>\n",
       "    <tr>\n",
       "      <th>9</th>\n",
       "      <td>didn</td>\n",
       "      <td>8.0</td>\n",
       "      <td>4.9383</td>\n",
       "    </tr>\n",
       "    <tr>\n",
       "      <th>10</th>\n",
       "      <td>face</td>\n",
       "      <td>8.0</td>\n",
       "      <td>4.9383</td>\n",
       "    </tr>\n",
       "    <tr>\n",
       "      <th>11</th>\n",
       "      <td>ve</td>\n",
       "      <td>7.0</td>\n",
       "      <td>4.3210</td>\n",
       "    </tr>\n",
       "    <tr>\n",
       "      <th>12</th>\n",
       "      <td>using</td>\n",
       "      <td>7.0</td>\n",
       "      <td>4.3210</td>\n",
       "    </tr>\n",
       "    <tr>\n",
       "      <th>13</th>\n",
       "      <td>day</td>\n",
       "      <td>6.0</td>\n",
       "      <td>3.7037</td>\n",
       "    </tr>\n",
       "    <tr>\n",
       "      <th>14</th>\n",
       "      <td>moisturizer</td>\n",
       "      <td>6.0</td>\n",
       "      <td>3.7037</td>\n",
       "    </tr>\n",
       "  </tbody>\n",
       "</table>\n",
       "</div>"
      ],
      "text/plain": [
       "           word  count  percent\n",
       "0         great   21.0  12.9630\n",
       "1          good   19.0  11.7284\n",
       "2          like   16.0   9.8765\n",
       "3          love   12.0   7.4074\n",
       "4           use   11.0   6.7901\n",
       "5          nice   11.0   6.7901\n",
       "6          time   11.0   6.7901\n",
       "7          just   10.0   6.1728\n",
       "8          used    9.0   5.5556\n",
       "9          didn    8.0   4.9383\n",
       "10         face    8.0   4.9383\n",
       "11           ve    7.0   4.3210\n",
       "12        using    7.0   4.3210\n",
       "13          day    6.0   3.7037\n",
       "14  moisturizer    6.0   3.7037"
      ]
     },
     "metadata": {},
     "output_type": "display_data"
    }
   ],
   "source": [
    "for company in beauty_clean['corporation'].unique():\n",
    "    \n",
    "    print('Company: ', company)\n",
    "    company_reviews = word_counts.loc[word_counts['corporation'] == company, :]\n",
    "    reviews = company_reviews.iloc[:, 14:]\n",
    "    reviews = reviews.drop(columns = ['product', 'br', 'really', '34', 'skin', 'color', 'hair'])\n",
    "    total = reviews.to_numpy().sum()\n",
    "    counts = (reviews.sum(axis = 0).sort_values(ascending = False).head(15))\n",
    "    \n",
    "    company_counts = pd.DataFrame(counts, columns = {'count'}).reset_index()\n",
    "    company_counts = company_counts.rename(columns = {'index' : 'word'})\n",
    "    company_counts['percent'] = round((company_counts['count']/sum(company_counts['count']))*100, 4)\n",
    "    display(company_counts)"
   ]
  },
  {
   "cell_type": "markdown",
   "id": "ec16ac76",
   "metadata": {},
   "source": [
    "What we see here is that words are again pretty similar among companies. This means that generally, these reviews do not represent a company's performance in the market.\n",
    "\n",
    "One observation is that \"love\" appears far less in Proctor & Gamble reviews than other companies, with the word appearing only in 7% of reviews as opposed to 10-12%. One could say this has a correlation to the fact that Proctor & Gamble was one of the 2 companies that had both share and sale percentage drops over the year, and had the greatest share percent change in the negative direction. \n",
    "\n",
    "Another observation is that the word \"dry\" only appears in the top appearing words for Johnson & Johnson. J&J's market performance was unique in the sense that it had no change in share percent, but had massive sale growth in the year. Despite that, it still had the lowest sales in millions compared to all the other companies. \n",
    "\n",
    "Other than these two observations, it seems that the most popular words in reviews are consistent between companies despite their performance in the overall market."
   ]
  },
  {
   "cell_type": "markdown",
   "id": "c5a3ae49",
   "metadata": {},
   "source": [
    "### Sentiment Model\n",
    "\n",
    "Based off of these word counts, we next wanted to see if we would be able to create a model that could predict whether a review was positive or negative.\n",
    "\n",
    "Due to the large volume of words in our CountVectorizer, we decided to use only the top 500 words that were most common among all the reviews."
   ]
  },
  {
   "cell_type": "code",
   "execution_count": 134,
   "id": "6f819672",
   "metadata": {},
   "outputs": [],
   "source": [
    "column_sums = (counts_df.sum(axis = 0).sort_values(ascending = False))[:500]\n",
    "col_list = list(column_sums.index)\n",
    "top_words = counts_df.loc[:, col_list]"
   ]
  },
  {
   "cell_type": "code",
   "execution_count": 135,
   "id": "ebdddafb",
   "metadata": {},
   "outputs": [],
   "source": [
    "model_data = pd.concat((beauty_clean, top_words), axis=1).dropna()"
   ]
  },
  {
   "cell_type": "markdown",
   "id": "ea7d607b",
   "metadata": {},
   "source": [
    "Next we created a column in our data that classified a review as positive or not positive. We decided that a positive review would be either 4 or 5 stars. We thought that 3-star reviews were too irrelevant to be used in this model."
   ]
  },
  {
   "cell_type": "code",
   "execution_count": 136,
   "id": "df8043a1",
   "metadata": {},
   "outputs": [],
   "source": [
    "model_data['is_positive'] = model_data['star_rating'] > 3"
   ]
  },
  {
   "cell_type": "markdown",
   "id": "4f1c6cfc",
   "metadata": {},
   "source": [
    "In order to create a stronger model, we split our data into training and testing data. Our predictor columns are all of the words from our count vectorizer. "
   ]
  },
  {
   "cell_type": "code",
   "execution_count": 137,
   "id": "488fe33e",
   "metadata": {},
   "outputs": [],
   "source": [
    "from sklearn.model_selection import train_test_split\n",
    "train,test = train_test_split(model_data.dropna(), test_size=.3)\n",
    "\n",
    "original_cols = list(model_data.columns)[:13]\n",
    "original_cols.append('is_positive')\n",
    "\n",
    "X_train = train.drop(original_cols, axis = 1)\n",
    "y_train=train['is_positive']\n",
    "\n",
    "X_test = test.drop(original_cols, axis = 1)\n",
    "y_test =test['is_positive']"
   ]
  },
  {
   "cell_type": "markdown",
   "id": "47c2dd78",
   "metadata": {},
   "source": [
    "Next we used a logistic regression model to fit the data and create the model."
   ]
  },
  {
   "cell_type": "code",
   "execution_count": 138,
   "id": "a83851e0",
   "metadata": {},
   "outputs": [],
   "source": [
    "from sklearn.linear_model import LogisticRegression\n",
    "\n",
    "LR = LogisticRegression().fit(X_train, y_train)"
   ]
  },
  {
   "cell_type": "code",
   "execution_count": 139,
   "id": "05b98330",
   "metadata": {
    "scrolled": true
   },
   "outputs": [
    {
     "data": {
      "text/plain": [
       "0.7778174674048938"
      ]
     },
     "execution_count": 139,
     "metadata": {},
     "output_type": "execute_result"
    }
   ],
   "source": [
    "from sklearn.model_selection import cross_val_score\n",
    "\n",
    "cross_val_score(LR, X_train, y_train, cv=5).mean()"
   ]
  },
  {
   "cell_type": "code",
   "execution_count": 140,
   "id": "b930c9b0",
   "metadata": {
    "scrolled": true
   },
   "outputs": [
    {
     "data": {
      "text/plain": [
       "0.7754625770961827"
      ]
     },
     "execution_count": 140,
     "metadata": {},
     "output_type": "execute_result"
    }
   ],
   "source": [
    "LR.score(X_test, y_test)"
   ]
  },
  {
   "cell_type": "markdown",
   "id": "03fd8fd3",
   "metadata": {},
   "source": [
    "Above we see that after cross validation, the model performs with about 78% accuracy on our training *and* testing data. While this is not bad, it is not super accurate."
   ]
  },
  {
   "cell_type": "code",
   "execution_count": 141,
   "id": "89bd5dd0",
   "metadata": {},
   "outputs": [
    {
     "name": "stdout",
     "output_type": "stream",
     "text": [
      "Baseline accuracy: 0.78\n"
     ]
    }
   ],
   "source": [
    "print('Baseline accuracy:', round(model_data.is_positive.sum()/len(model_data),3))"
   ]
  },
  {
   "cell_type": "markdown",
   "id": "f669cf64",
   "metadata": {},
   "source": [
    "Additionally, we see that our baseline accuracy is essentially the same as our model accuracy. This means that if we guessed a review was positive every time, then we would be right just as much as if we used our logistic regression model. This leads us to believe that our model could be improved and consider other factors to better classify positive vs. negative reviews."
   ]
  },
  {
   "cell_type": "markdown",
   "id": "04f66b80",
   "metadata": {},
   "source": [
    "#### Words with Strongest Sentiment\n",
    "\n",
    "Our logistic regression model gives us a coefficient for each word, where positive words have higher coefficients and negative words have negative coefficients. We finally wanted to examine which words were associated more with the positive/negative reviews."
   ]
  },
  {
   "cell_type": "code",
   "execution_count": 142,
   "id": "0287cea1",
   "metadata": {},
   "outputs": [
    {
     "data": {
      "text/html": [
       "<div>\n",
       "<style scoped>\n",
       "    .dataframe tbody tr th:only-of-type {\n",
       "        vertical-align: middle;\n",
       "    }\n",
       "\n",
       "    .dataframe tbody tr th {\n",
       "        vertical-align: top;\n",
       "    }\n",
       "\n",
       "    .dataframe thead th {\n",
       "        text-align: right;\n",
       "    }\n",
       "</style>\n",
       "<table border=\"1\" class=\"dataframe\">\n",
       "  <thead>\n",
       "    <tr style=\"text-align: right;\">\n",
       "      <th></th>\n",
       "      <th>word</th>\n",
       "      <th>coef</th>\n",
       "    </tr>\n",
       "  </thead>\n",
       "  <tbody>\n",
       "    <tr>\n",
       "      <th>0</th>\n",
       "      <td>product</td>\n",
       "      <td>0.012079</td>\n",
       "    </tr>\n",
       "    <tr>\n",
       "      <th>1</th>\n",
       "      <td>love</td>\n",
       "      <td>0.279542</td>\n",
       "    </tr>\n",
       "    <tr>\n",
       "      <th>2</th>\n",
       "      <td>great</td>\n",
       "      <td>0.342493</td>\n",
       "    </tr>\n",
       "    <tr>\n",
       "      <th>3</th>\n",
       "      <td>skin</td>\n",
       "      <td>0.056647</td>\n",
       "    </tr>\n",
       "    <tr>\n",
       "      <th>4</th>\n",
       "      <td>color</td>\n",
       "      <td>0.005541</td>\n",
       "    </tr>\n",
       "    <tr>\n",
       "      <th>...</th>\n",
       "      <td>...</td>\n",
       "      <td>...</td>\n",
       "    </tr>\n",
       "    <tr>\n",
       "      <th>495</th>\n",
       "      <td>age</td>\n",
       "      <td>-0.043372</td>\n",
       "    </tr>\n",
       "    <tr>\n",
       "      <th>496</th>\n",
       "      <td>similar</td>\n",
       "      <td>0.251530</td>\n",
       "    </tr>\n",
       "    <tr>\n",
       "      <th>497</th>\n",
       "      <td>version</td>\n",
       "      <td>-0.428953</td>\n",
       "    </tr>\n",
       "    <tr>\n",
       "      <th>498</th>\n",
       "      <td>consistency</td>\n",
       "      <td>-0.272594</td>\n",
       "    </tr>\n",
       "    <tr>\n",
       "      <th>499</th>\n",
       "      <td>plastic</td>\n",
       "      <td>-0.302880</td>\n",
       "    </tr>\n",
       "  </tbody>\n",
       "</table>\n",
       "<p>500 rows × 2 columns</p>\n",
       "</div>"
      ],
      "text/plain": [
       "            word      coef\n",
       "0        product  0.012079\n",
       "1           love  0.279542\n",
       "2          great  0.342493\n",
       "3           skin  0.056647\n",
       "4          color  0.005541\n",
       "..           ...       ...\n",
       "495          age -0.043372\n",
       "496      similar  0.251530\n",
       "497      version -0.428953\n",
       "498  consistency -0.272594\n",
       "499      plastic -0.302880\n",
       "\n",
       "[500 rows x 2 columns]"
      ]
     },
     "execution_count": 142,
     "metadata": {},
     "output_type": "execute_result"
    }
   ],
   "source": [
    "sentiment_df = pd.DataFrame({'word': X_train.columns, 'coef':LR.coef_[0]})\n",
    "sentiment_df"
   ]
  },
  {
   "cell_type": "markdown",
   "id": "979245aa",
   "metadata": {},
   "source": [
    "##### Negative Words"
   ]
  },
  {
   "cell_type": "code",
   "execution_count": 143,
   "id": "4c561432",
   "metadata": {},
   "outputs": [
    {
     "name": "stdout",
     "output_type": "stream",
     "text": [
      "most negatively associated words:\n"
     ]
    },
    {
     "data": {
      "text/html": [
       "<div>\n",
       "<style scoped>\n",
       "    .dataframe tbody tr th:only-of-type {\n",
       "        vertical-align: middle;\n",
       "    }\n",
       "\n",
       "    .dataframe tbody tr th {\n",
       "        vertical-align: top;\n",
       "    }\n",
       "\n",
       "    .dataframe thead th {\n",
       "        text-align: right;\n",
       "    }\n",
       "</style>\n",
       "<table border=\"1\" class=\"dataframe\">\n",
       "  <thead>\n",
       "    <tr style=\"text-align: right;\">\n",
       "      <th></th>\n",
       "      <th>word</th>\n",
       "      <th>coef</th>\n",
       "    </tr>\n",
       "  </thead>\n",
       "  <tbody>\n",
       "    <tr>\n",
       "      <th>195</th>\n",
       "      <td>disappointed</td>\n",
       "      <td>-0.623281</td>\n",
       "    </tr>\n",
       "    <tr>\n",
       "      <th>207</th>\n",
       "      <td>ok</td>\n",
       "      <td>-0.590007</td>\n",
       "    </tr>\n",
       "    <tr>\n",
       "      <th>346</th>\n",
       "      <td>okay</td>\n",
       "      <td>-0.573309</td>\n",
       "    </tr>\n",
       "    <tr>\n",
       "      <th>281</th>\n",
       "      <td>dried</td>\n",
       "      <td>-0.569644</td>\n",
       "    </tr>\n",
       "    <tr>\n",
       "      <th>484</th>\n",
       "      <td>broken</td>\n",
       "      <td>-0.567694</td>\n",
       "    </tr>\n",
       "    <tr>\n",
       "      <th>446</th>\n",
       "      <td>hate</td>\n",
       "      <td>-0.491040</td>\n",
       "    </tr>\n",
       "    <tr>\n",
       "      <th>497</th>\n",
       "      <td>version</td>\n",
       "      <td>-0.428953</td>\n",
       "    </tr>\n",
       "    <tr>\n",
       "      <th>140</th>\n",
       "      <td>ll</td>\n",
       "      <td>-0.408667</td>\n",
       "    </tr>\n",
       "    <tr>\n",
       "      <th>180</th>\n",
       "      <td>received</td>\n",
       "      <td>-0.380530</td>\n",
       "    </tr>\n",
       "    <tr>\n",
       "      <th>465</th>\n",
       "      <td>package</td>\n",
       "      <td>-0.353667</td>\n",
       "    </tr>\n",
       "    <tr>\n",
       "      <th>464</th>\n",
       "      <td>horrible</td>\n",
       "      <td>-0.343910</td>\n",
       "    </tr>\n",
       "    <tr>\n",
       "      <th>411</th>\n",
       "      <td>wrong</td>\n",
       "      <td>-0.339191</td>\n",
       "    </tr>\n",
       "    <tr>\n",
       "      <th>489</th>\n",
       "      <td>tan</td>\n",
       "      <td>-0.336656</td>\n",
       "    </tr>\n",
       "    <tr>\n",
       "      <th>439</th>\n",
       "      <td>needs</td>\n",
       "      <td>-0.333806</td>\n",
       "    </tr>\n",
       "    <tr>\n",
       "      <th>382</th>\n",
       "      <td>blush</td>\n",
       "      <td>-0.328499</td>\n",
       "    </tr>\n",
       "    <tr>\n",
       "      <th>371</th>\n",
       "      <td>applicator</td>\n",
       "      <td>-0.328342</td>\n",
       "    </tr>\n",
       "    <tr>\n",
       "      <th>295</th>\n",
       "      <td>gave</td>\n",
       "      <td>-0.325134</td>\n",
       "    </tr>\n",
       "    <tr>\n",
       "      <th>383</th>\n",
       "      <td>waste</td>\n",
       "      <td>-0.322340</td>\n",
       "    </tr>\n",
       "    <tr>\n",
       "      <th>336</th>\n",
       "      <td>sally</td>\n",
       "      <td>-0.314809</td>\n",
       "    </tr>\n",
       "    <tr>\n",
       "      <th>154</th>\n",
       "      <td>hours</td>\n",
       "      <td>-0.312361</td>\n",
       "    </tr>\n",
       "  </tbody>\n",
       "</table>\n",
       "</div>"
      ],
      "text/plain": [
       "             word      coef\n",
       "195  disappointed -0.623281\n",
       "207            ok -0.590007\n",
       "346          okay -0.573309\n",
       "281         dried -0.569644\n",
       "484        broken -0.567694\n",
       "446          hate -0.491040\n",
       "497       version -0.428953\n",
       "140            ll -0.408667\n",
       "180      received -0.380530\n",
       "465       package -0.353667\n",
       "464      horrible -0.343910\n",
       "411         wrong -0.339191\n",
       "489           tan -0.336656\n",
       "439         needs -0.333806\n",
       "382         blush -0.328499\n",
       "371    applicator -0.328342\n",
       "295          gave -0.325134\n",
       "383         waste -0.322340\n",
       "336         sally -0.314809\n",
       "154         hours -0.312361"
      ]
     },
     "execution_count": 143,
     "metadata": {},
     "output_type": "execute_result"
    }
   ],
   "source": [
    "print('most negatively associated words:')\n",
    "sentiment_df.sort_values('coef', ascending=True).head(20)"
   ]
  },
  {
   "cell_type": "markdown",
   "id": "f0b93dd0",
   "metadata": {},
   "source": [
    "##### Positive Words"
   ]
  },
  {
   "cell_type": "code",
   "execution_count": 144,
   "id": "a7c7cb72",
   "metadata": {},
   "outputs": [
    {
     "name": "stdout",
     "output_type": "stream",
     "text": [
      "most positively associated words:\n"
     ]
    },
    {
     "data": {
      "text/html": [
       "<div>\n",
       "<style scoped>\n",
       "    .dataframe tbody tr th:only-of-type {\n",
       "        vertical-align: middle;\n",
       "    }\n",
       "\n",
       "    .dataframe tbody tr th {\n",
       "        vertical-align: top;\n",
       "    }\n",
       "\n",
       "    .dataframe thead th {\n",
       "        text-align: right;\n",
       "    }\n",
       "</style>\n",
       "<table border=\"1\" class=\"dataframe\">\n",
       "  <thead>\n",
       "    <tr style=\"text-align: right;\">\n",
       "      <th></th>\n",
       "      <th>word</th>\n",
       "      <th>coef</th>\n",
       "    </tr>\n",
       "  </thead>\n",
       "  <tbody>\n",
       "    <tr>\n",
       "      <th>219</th>\n",
       "      <td>wonderful</td>\n",
       "      <td>0.601454</td>\n",
       "    </tr>\n",
       "    <tr>\n",
       "      <th>418</th>\n",
       "      <td>described</td>\n",
       "      <td>0.571709</td>\n",
       "    </tr>\n",
       "    <tr>\n",
       "      <th>378</th>\n",
       "      <td>cool</td>\n",
       "      <td>0.541899</td>\n",
       "    </tr>\n",
       "    <tr>\n",
       "      <th>367</th>\n",
       "      <td>finally</td>\n",
       "      <td>0.502946</td>\n",
       "    </tr>\n",
       "    <tr>\n",
       "      <th>456</th>\n",
       "      <td>eczema</td>\n",
       "      <td>0.497411</td>\n",
       "    </tr>\n",
       "    <tr>\n",
       "      <th>457</th>\n",
       "      <td>live</td>\n",
       "      <td>0.489697</td>\n",
       "    </tr>\n",
       "    <tr>\n",
       "      <th>435</th>\n",
       "      <td>fantastic</td>\n",
       "      <td>0.481183</td>\n",
       "    </tr>\n",
       "    <tr>\n",
       "      <th>306</th>\n",
       "      <td>says</td>\n",
       "      <td>0.461831</td>\n",
       "    </tr>\n",
       "    <tr>\n",
       "      <th>436</th>\n",
       "      <td>baby</td>\n",
       "      <td>0.428553</td>\n",
       "    </tr>\n",
       "    <tr>\n",
       "      <th>169</th>\n",
       "      <td>beautiful</td>\n",
       "      <td>0.417410</td>\n",
       "    </tr>\n",
       "    <tr>\n",
       "      <th>463</th>\n",
       "      <td>irritate</td>\n",
       "      <td>0.417081</td>\n",
       "    </tr>\n",
       "    <tr>\n",
       "      <th>375</th>\n",
       "      <td>slightly</td>\n",
       "      <td>0.409313</td>\n",
       "    </tr>\n",
       "    <tr>\n",
       "      <th>114</th>\n",
       "      <td>excellent</td>\n",
       "      <td>0.403442</td>\n",
       "    </tr>\n",
       "    <tr>\n",
       "      <th>341</th>\n",
       "      <td>pleased</td>\n",
       "      <td>0.401976</td>\n",
       "    </tr>\n",
       "    <tr>\n",
       "      <th>470</th>\n",
       "      <td>issues</td>\n",
       "      <td>0.395895</td>\n",
       "    </tr>\n",
       "    <tr>\n",
       "      <th>449</th>\n",
       "      <td>drugstore</td>\n",
       "      <td>0.393643</td>\n",
       "    </tr>\n",
       "    <tr>\n",
       "      <th>265</th>\n",
       "      <td>making</td>\n",
       "      <td>0.379513</td>\n",
       "    </tr>\n",
       "    <tr>\n",
       "      <th>179</th>\n",
       "      <td>water</td>\n",
       "      <td>0.372651</td>\n",
       "    </tr>\n",
       "    <tr>\n",
       "      <th>321</th>\n",
       "      <td>fresh</td>\n",
       "      <td>0.371748</td>\n",
       "    </tr>\n",
       "    <tr>\n",
       "      <th>391</th>\n",
       "      <td>hansen</td>\n",
       "      <td>0.368545</td>\n",
       "    </tr>\n",
       "  </tbody>\n",
       "</table>\n",
       "</div>"
      ],
      "text/plain": [
       "          word      coef\n",
       "219  wonderful  0.601454\n",
       "418  described  0.571709\n",
       "378       cool  0.541899\n",
       "367    finally  0.502946\n",
       "456     eczema  0.497411\n",
       "457       live  0.489697\n",
       "435  fantastic  0.481183\n",
       "306       says  0.461831\n",
       "436       baby  0.428553\n",
       "169  beautiful  0.417410\n",
       "463   irritate  0.417081\n",
       "375   slightly  0.409313\n",
       "114  excellent  0.403442\n",
       "341    pleased  0.401976\n",
       "470     issues  0.395895\n",
       "449  drugstore  0.393643\n",
       "265     making  0.379513\n",
       "179      water  0.372651\n",
       "321      fresh  0.371748\n",
       "391     hansen  0.368545"
      ]
     },
     "execution_count": 144,
     "metadata": {},
     "output_type": "execute_result"
    }
   ],
   "source": [
    "print('most positively associated words:')\n",
    "sentiment_df.sort_values('coef', ascending=False).head(20)"
   ]
  },
  {
   "cell_type": "markdown",
   "id": "cf13d0bb",
   "metadata": {},
   "source": [
    "### Evaluation of Significance\n",
    "\n",
    "To evaluate the significance of our model, we lastly ran a permutation to estimate the probability of getting a slope more extreme than the one our model predicted. We ran 200 permutations in this case. Since each word had its own coefficient/slope, and there were 500 words, we decided to say the overall slope was more extreme if more than half of the permuted slopes were more extreme than the originals. "
   ]
  },
  {
   "cell_type": "code",
   "execution_count": 149,
   "id": "f5d5a4f0",
   "metadata": {},
   "outputs": [],
   "source": [
    "def permute(input_array):\n",
    "    # shuffle is inplace, so copy to preserve input\n",
    "    permuted = input_array.copy().values #convert to numpy array, avoiding warning\n",
    "    np.random.shuffle(permuted)\n",
    "    return pd.Series(permuted) # convert back to pandas"
   ]
  },
  {
   "cell_type": "code",
   "execution_count": 150,
   "id": "3a7e4b92",
   "metadata": {},
   "outputs": [],
   "source": [
    "observed_slopes = LR.coef_"
   ]
  },
  {
   "cell_type": "code",
   "execution_count": 151,
   "id": "8734c7c7",
   "metadata": {},
   "outputs": [
    {
     "name": "stdout",
     "output_type": "stream",
     "text": [
      "Number of permuted slopes of greater magnitude than original linear regression slope: 0\n",
      "Implied p (slope): 0.0\n"
     ]
    }
   ],
   "source": [
    "model = LogisticRegression().fit(model_data.drop(original_cols, axis = 1), model_data['is_positive'])\n",
    "steeper_slopes = 0\n",
    "n_permutations = 200\n",
    "\n",
    "for i in range(n_permutations):\n",
    "    permuted_model = LogisticRegression().fit(model_data.drop(original_cols, axis = 1), permute(model_data['is_positive']))\n",
    "    \n",
    "    permuted_slopes = permuted_model.coef_\n",
    "    \n",
    "    if sum(np.abs(permuted_model.coef_[0]) > np.abs(observed_slopes[0])) > 250:\n",
    "        steeper_slopes += 1\n",
    "        \n",
    "print('Number of permuted slopes of greater magnitude than original linear regression slope:', steeper_slopes)\n",
    "print('Implied p (slope):', steeper_slopes / n_permutations)"
   ]
  },
  {
   "cell_type": "markdown",
   "id": "d281b10d",
   "metadata": {},
   "source": [
    "After running these permutations, we see that none of the permuted slopes had more than half more extreme than the slopes of our original models. This means that there is definitely a relationship between how often specific words in reviews and if they are constituted as positive/negative."
   ]
  }
 ],
 "metadata": {
  "kernelspec": {
   "display_name": "Python 3",
   "language": "python",
   "name": "python3"
  },
  "language_info": {
   "codemirror_mode": {
    "name": "ipython",
    "version": 3
   },
   "file_extension": ".py",
   "mimetype": "text/x-python",
   "name": "python",
   "nbconvert_exporter": "python",
   "pygments_lexer": "ipython3",
   "version": "3.8.8"
  }
 },
 "nbformat": 4,
 "nbformat_minor": 5
}
