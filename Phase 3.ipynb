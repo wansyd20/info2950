{
 "cells": [
  {
   "cell_type": "markdown",
   "id": "89032f79",
   "metadata": {},
   "source": [
    "# Phase 3"
   ]
  },
  {
   "cell_type": "markdown",
   "id": "ec5193f9",
   "metadata": {},
   "source": [
    "Michelle Hui (msh334) and Sydney Wan (ssw73)"
   ]
  },
  {
   "cell_type": "markdown",
   "id": "d71e8d18",
   "metadata": {},
   "source": [
    "## Analysis 1: Review Text Sentiment Analysis"
   ]
  },
  {
   "cell_type": "markdown",
   "id": "616bffc1",
   "metadata": {},
   "source": [
    "In this analysis, we plan on examining which words appear most frequently in the text of each review through the `sklearn.feature_extraction.text` module, specifically the `CountVectorizer` function to get counts of words in each review, and also use a term-document matrix to see how frequently specific words appear in reviews. \n",
    "\n",
    "With this tool, we will be able to see how words in reviews differ by their star rating, for example. Diving deeper into this concept, we would expect 1-star and possibly 5-star reviews to contain more polarizing terms than 2 or 3 star reviews. In the real world, 1-star reviews are usually extremely biased and therefore we expect to see different words come up compared to those of 2 star reviews.\n",
    "\n",
    "We could also compare the common words between corporations, and see if the top words by corporations reflect in some way their performance that year in the market. For example, L'oreal was the market leader in the year 2015, thus we might expect to find more words with a positive connotation. On the other hand, Johnson & Johnson had the least sales, so maybe the sentiments from those reviews will reflect the poorer sales. "
   ]
  },
  {
   "cell_type": "markdown",
   "id": "cda0473c",
   "metadata": {},
   "source": [
    "## Analysis 2: Star Rating Distribution by Company and Verified Purchase Status"
   ]
  },
  {
   "cell_type": "markdown",
   "id": "742b8728",
   "metadata": {},
   "source": [
    "First, we plan on comparing the overall star rating distributions of each company. We will achieve this by running a statistical test, such as the Kolmogorov-Smirnov test, to create a matrix of test statistics as we compare two companies against each other. Some of these test statistics might include values such as correlation, p-value, and possibly z-scores. From this, we will be able to determine if there are any quanitifiable differences between company star ratings as they relate to their performance in the market.\n",
    "\n",
    "We will further examine the differences between companies as we delve into their star ratings for verified purchases against non-verified purchases. In our exploratory analysis, we noticed that the mean star ratings for non-verified purchases were consistently lower than the star ratings for verified purchases. Based on this observation, we aim to perform more statistical tests (perhaps the Kolmogorov-Smirnov again), to see if there is any signficant findings through p-values and other specific test statistics. We hypothesize that there will not be any huge differences in the ratings between companies, however there will be differences in the star ratings distributions for verified vs. non-verified purchases as a whole. This hypothesis is derived from our initial visualizations in our histograms of Phase II. These results will hopefully reveal trends in how people form their reviews which would be interesting to see, even if it does not reveal anything significant about the various companies' performance."
   ]
  },
  {
   "cell_type": "markdown",
   "id": "f3a24666",
   "metadata": {},
   "source": [
    "## Questions for Reviewers"
   ]
  },
  {
   "cell_type": "markdown",
   "id": "33269f2c",
   "metadata": {},
   "source": [
    "1. Do you have any specific statistical or natural language processing tools that you recommend we use to carry out these preregistered analyses? Specifically, are there any test statistics in particular that we could examine for our analysis 2? We mentioned the Kolmogorov-Smirnov test, but there might be topics from class that are also equally applicable.\n",
    "\n",
    "\n",
    "2. What would be a good number of analyses to include in our final project? \n",
    "\n",
    "\n",
    "3. Are there any other issues you forsee us encountering based on our proposed analyses? Thank you!"
   ]
  }
 ],
 "metadata": {
  "kernelspec": {
   "display_name": "Python 3",
   "language": "python",
   "name": "python3"
  },
  "language_info": {
   "codemirror_mode": {
    "name": "ipython",
    "version": 3
   },
   "file_extension": ".py",
   "mimetype": "text/x-python",
   "name": "python",
   "nbconvert_exporter": "python",
   "pygments_lexer": "ipython3",
   "version": "3.8.8"
  }
 },
 "nbformat": 4,
 "nbformat_minor": 5
}
