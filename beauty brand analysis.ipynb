{
 "cells": [
  {
   "cell_type": "markdown",
   "id": "0f9bb0b6",
   "metadata": {},
   "source": [
    "# Data Cleaning"
   ]
  },
  {
   "cell_type": "code",
   "execution_count": 25,
   "id": "f56cc73d",
   "metadata": {},
   "outputs": [],
   "source": [
    "import pandas as pd\n",
    "import matplotlib.pyplot as plt\n",
    "import numpy as np"
   ]
  },
  {
   "cell_type": "markdown",
   "id": "12da8624",
   "metadata": {},
   "source": [
    "Reading in the raw csv file"
   ]
  },
  {
   "cell_type": "code",
   "execution_count": 3,
   "id": "9c4f6748",
   "metadata": {},
   "outputs": [],
   "source": [
    "market_data_raw = pd.read_csv('beauty_market_sales.csv')"
   ]
  },
  {
   "cell_type": "code",
   "execution_count": 4,
   "id": "f43c99f4",
   "metadata": {
    "scrolled": true
   },
   "outputs": [
    {
     "data": {
      "text/html": [
       "<div>\n",
       "<style scoped>\n",
       "    .dataframe tbody tr th:only-of-type {\n",
       "        vertical-align: middle;\n",
       "    }\n",
       "\n",
       "    .dataframe tbody tr th {\n",
       "        vertical-align: top;\n",
       "    }\n",
       "\n",
       "    .dataframe thead th {\n",
       "        text-align: right;\n",
       "    }\n",
       "</style>\n",
       "<table border=\"1\" class=\"dataframe\">\n",
       "  <thead>\n",
       "    <tr style=\"text-align: right;\">\n",
       "      <th></th>\n",
       "      <th>Unnamed: 0</th>\n",
       "      <th>2014_sales_millions</th>\n",
       "      <th>2014_market_share_percent</th>\n",
       "      <th>2015_sales_millions</th>\n",
       "      <th>2015_market_share_percent</th>\n",
       "      <th>sale_change_percent</th>\n",
       "      <th>share_change_percent</th>\n",
       "    </tr>\n",
       "  </thead>\n",
       "  <tbody>\n",
       "    <tr>\n",
       "      <th>0</th>\n",
       "      <td>L'Oréal USA</td>\n",
       "      <td>1,797.9</td>\n",
       "      <td>39.1</td>\n",
       "      <td>1,815.0</td>\n",
       "      <td>38.6</td>\n",
       "      <td>1.0</td>\n",
       "      <td>-0.5</td>\n",
       "    </tr>\n",
       "    <tr>\n",
       "      <th>1</th>\n",
       "      <td>Procter &amp; Gamble</td>\n",
       "      <td>954.7</td>\n",
       "      <td>20.8</td>\n",
       "      <td>946.1</td>\n",
       "      <td>20.1</td>\n",
       "      <td>-0.9</td>\n",
       "      <td>-0.7</td>\n",
       "    </tr>\n",
       "    <tr>\n",
       "      <th>2</th>\n",
       "      <td>Revlon Inc.</td>\n",
       "      <td>670.5</td>\n",
       "      <td>14.6</td>\n",
       "      <td>661.6</td>\n",
       "      <td>14.1</td>\n",
       "      <td>-1.3</td>\n",
       "      <td>-0.5</td>\n",
       "    </tr>\n",
       "    <tr>\n",
       "      <th>3</th>\n",
       "      <td>Coty Beauty</td>\n",
       "      <td>262.3</td>\n",
       "      <td>5.7</td>\n",
       "      <td>263.8</td>\n",
       "      <td>5.6</td>\n",
       "      <td>0.5</td>\n",
       "      <td>-0.1</td>\n",
       "    </tr>\n",
       "    <tr>\n",
       "      <th>4</th>\n",
       "      <td>Johnson &amp; Johnson</td>\n",
       "      <td>171.9</td>\n",
       "      <td>3.7</td>\n",
       "      <td>176.0</td>\n",
       "      <td>3.7</td>\n",
       "      <td>2.4</td>\n",
       "      <td>-</td>\n",
       "    </tr>\n",
       "    <tr>\n",
       "      <th>5</th>\n",
       "      <td>Subtotal</td>\n",
       "      <td>3,857.4</td>\n",
       "      <td>84.0</td>\n",
       "      <td>3,862.5</td>\n",
       "      <td>82.2</td>\n",
       "      <td>0.1</td>\n",
       "      <td>-1.8</td>\n",
       "    </tr>\n",
       "    <tr>\n",
       "      <th>6</th>\n",
       "      <td>Private label</td>\n",
       "      <td>49.5</td>\n",
       "      <td>1.1</td>\n",
       "      <td>56.2</td>\n",
       "      <td>1.2</td>\n",
       "      <td>13.6</td>\n",
       "      <td>0.1</td>\n",
       "    </tr>\n",
       "    <tr>\n",
       "      <th>7</th>\n",
       "      <td>Others</td>\n",
       "      <td>686.2</td>\n",
       "      <td>14.9</td>\n",
       "      <td>780.4</td>\n",
       "      <td>16.6</td>\n",
       "      <td>13.7</td>\n",
       "      <td>1.7</td>\n",
       "    </tr>\n",
       "  </tbody>\n",
       "</table>\n",
       "</div>"
      ],
      "text/plain": [
       "          Unnamed: 0 2014_sales_millions  2014_market_share_percent  \\\n",
       "0        L'Oréal USA             1,797.9                       39.1   \n",
       "1   Procter & Gamble               954.7                       20.8   \n",
       "2        Revlon Inc.               670.5                       14.6   \n",
       "3        Coty Beauty               262.3                        5.7   \n",
       "4  Johnson & Johnson               171.9                        3.7   \n",
       "5           Subtotal             3,857.4                       84.0   \n",
       "6      Private label                49.5                        1.1   \n",
       "7             Others               686.2                       14.9   \n",
       "\n",
       "  2015_sales_millions  2015_market_share_percent  sale_change_percent  \\\n",
       "0             1,815.0                       38.6                  1.0   \n",
       "1               946.1                       20.1                 -0.9   \n",
       "2               661.6                       14.1                 -1.3   \n",
       "3               263.8                        5.6                  0.5   \n",
       "4               176.0                        3.7                  2.4   \n",
       "5             3,862.5                       82.2                  0.1   \n",
       "6                56.2                        1.2                 13.6   \n",
       "7               780.4                       16.6                 13.7   \n",
       "\n",
       "  share_change_percent  \n",
       "0                 -0.5  \n",
       "1                 -0.7  \n",
       "2                 -0.5  \n",
       "3                 -0.1  \n",
       "4                    -  \n",
       "5                 -1.8  \n",
       "6                  0.1  \n",
       "7                  1.7  "
      ]
     },
     "execution_count": 4,
     "metadata": {},
     "output_type": "execute_result"
    }
   ],
   "source": [
    "market_data_raw"
   ]
  },
  {
   "cell_type": "markdown",
   "id": "5daf7a9f",
   "metadata": {},
   "source": [
    "Renaming the weird column title to company"
   ]
  },
  {
   "cell_type": "code",
   "execution_count": 31,
   "id": "f733d7eb",
   "metadata": {},
   "outputs": [],
   "source": [
    "market_data = market_data_raw.rename(columns = {'Unnamed: 0' : \"Company\"})"
   ]
  },
  {
   "cell_type": "markdown",
   "id": "68856588",
   "metadata": {},
   "source": [
    "Here we only are looking at the top 4 companies with clear company names, so we discard the 'Private label', 'Others', and 'Subtotal' rows"
   ]
  },
  {
   "cell_type": "code",
   "execution_count": 32,
   "id": "e23bb15e",
   "metadata": {},
   "outputs": [
    {
     "data": {
      "text/html": [
       "<div>\n",
       "<style scoped>\n",
       "    .dataframe tbody tr th:only-of-type {\n",
       "        vertical-align: middle;\n",
       "    }\n",
       "\n",
       "    .dataframe tbody tr th {\n",
       "        vertical-align: top;\n",
       "    }\n",
       "\n",
       "    .dataframe thead th {\n",
       "        text-align: right;\n",
       "    }\n",
       "</style>\n",
       "<table border=\"1\" class=\"dataframe\">\n",
       "  <thead>\n",
       "    <tr style=\"text-align: right;\">\n",
       "      <th></th>\n",
       "      <th>Company</th>\n",
       "      <th>2014_sales_millions</th>\n",
       "      <th>2014_market_share_percent</th>\n",
       "      <th>2015_sales_millions</th>\n",
       "      <th>2015_market_share_percent</th>\n",
       "      <th>sale_change_percent</th>\n",
       "      <th>share_change_percent</th>\n",
       "    </tr>\n",
       "  </thead>\n",
       "  <tbody>\n",
       "    <tr>\n",
       "      <th>0</th>\n",
       "      <td>L'Oréal USA</td>\n",
       "      <td>1,797.9</td>\n",
       "      <td>39.1</td>\n",
       "      <td>1,815.0</td>\n",
       "      <td>38.6</td>\n",
       "      <td>1.0</td>\n",
       "      <td>-0.5</td>\n",
       "    </tr>\n",
       "    <tr>\n",
       "      <th>1</th>\n",
       "      <td>Procter &amp; Gamble</td>\n",
       "      <td>954.7</td>\n",
       "      <td>20.8</td>\n",
       "      <td>946.1</td>\n",
       "      <td>20.1</td>\n",
       "      <td>-0.9</td>\n",
       "      <td>-0.7</td>\n",
       "    </tr>\n",
       "    <tr>\n",
       "      <th>2</th>\n",
       "      <td>Revlon Inc.</td>\n",
       "      <td>670.5</td>\n",
       "      <td>14.6</td>\n",
       "      <td>661.6</td>\n",
       "      <td>14.1</td>\n",
       "      <td>-1.3</td>\n",
       "      <td>-0.5</td>\n",
       "    </tr>\n",
       "    <tr>\n",
       "      <th>3</th>\n",
       "      <td>Coty Beauty</td>\n",
       "      <td>262.3</td>\n",
       "      <td>5.7</td>\n",
       "      <td>263.8</td>\n",
       "      <td>5.6</td>\n",
       "      <td>0.5</td>\n",
       "      <td>-0.1</td>\n",
       "    </tr>\n",
       "    <tr>\n",
       "      <th>4</th>\n",
       "      <td>Johnson &amp; Johnson</td>\n",
       "      <td>171.9</td>\n",
       "      <td>3.7</td>\n",
       "      <td>176.0</td>\n",
       "      <td>3.7</td>\n",
       "      <td>2.4</td>\n",
       "      <td>-</td>\n",
       "    </tr>\n",
       "  </tbody>\n",
       "</table>\n",
       "</div>"
      ],
      "text/plain": [
       "             Company 2014_sales_millions  2014_market_share_percent  \\\n",
       "0        L'Oréal USA             1,797.9                       39.1   \n",
       "1   Procter & Gamble               954.7                       20.8   \n",
       "2        Revlon Inc.               670.5                       14.6   \n",
       "3        Coty Beauty               262.3                        5.7   \n",
       "4  Johnson & Johnson               171.9                        3.7   \n",
       "\n",
       "  2015_sales_millions  2015_market_share_percent  sale_change_percent  \\\n",
       "0             1,815.0                       38.6                  1.0   \n",
       "1               946.1                       20.1                 -0.9   \n",
       "2               661.6                       14.1                 -1.3   \n",
       "3               263.8                        5.6                  0.5   \n",
       "4               176.0                        3.7                  2.4   \n",
       "\n",
       "  share_change_percent  \n",
       "0                 -0.5  \n",
       "1                 -0.7  \n",
       "2                 -0.5  \n",
       "3                 -0.1  \n",
       "4                    -  "
      ]
     },
     "execution_count": 32,
     "metadata": {},
     "output_type": "execute_result"
    }
   ],
   "source": [
    "market_data = market_data.loc[0:4, :]\n",
    "market_data"
   ]
  },
  {
   "cell_type": "markdown",
   "id": "6c3a90fc",
   "metadata": {},
   "source": [
    "Upon inspection, we see that the 2014 and 2015 sales in millions, as well as the share change percent columns are strings, not numerical data types. We hard code these columns and change them to floats so that we can perform statistical analysis on them"
   ]
  },
  {
   "cell_type": "code",
   "execution_count": 35,
   "id": "f1cb4e26",
   "metadata": {
    "scrolled": true
   },
   "outputs": [
    {
     "data": {
      "text/plain": [
       "Company                       object\n",
       "2014_sales_millions           object\n",
       "2014_market_share_percent    float64\n",
       "2015_sales_millions           object\n",
       "2015_market_share_percent    float64\n",
       "sale_change_percent          float64\n",
       "share_change_percent          object\n",
       "dtype: object"
      ]
     },
     "execution_count": 35,
     "metadata": {},
     "output_type": "execute_result"
    }
   ],
   "source": [
    "market_data.dtypes"
   ]
  },
  {
   "cell_type": "code",
   "execution_count": 51,
   "id": "1036a8f4",
   "metadata": {},
   "outputs": [],
   "source": [
    "market_data.loc[:, '2014_sales_millions'] = [1797.9, 954.7, 670.5, 262.3, 171.9]\n",
    "market_data.loc[:, '2015_sales_millions'] = [1815.0, 946.1, 661.6, 263.8, 176]\n",
    "market_data.loc[:, 'share_change_percent'] = [-0.5, -0.7, -0.5, -0.1, 0]"
   ]
  },
  {
   "cell_type": "code",
   "execution_count": 52,
   "id": "ab0d9294",
   "metadata": {},
   "outputs": [
    {
     "data": {
      "text/plain": [
       "Company                       object\n",
       "2014_sales_millions          float64\n",
       "2014_market_share_percent    float64\n",
       "2015_sales_millions          float64\n",
       "2015_market_share_percent    float64\n",
       "sale_change_percent          float64\n",
       "share_change_percent         float64\n",
       "dtype: object"
      ]
     },
     "execution_count": 52,
     "metadata": {},
     "output_type": "execute_result"
    }
   ],
   "source": [
    "market_data.dtypes"
   ]
  },
  {
   "cell_type": "code",
   "execution_count": 54,
   "id": "eb561294",
   "metadata": {},
   "outputs": [
    {
     "data": {
      "text/html": [
       "<div>\n",
       "<style scoped>\n",
       "    .dataframe tbody tr th:only-of-type {\n",
       "        vertical-align: middle;\n",
       "    }\n",
       "\n",
       "    .dataframe tbody tr th {\n",
       "        vertical-align: top;\n",
       "    }\n",
       "\n",
       "    .dataframe thead th {\n",
       "        text-align: right;\n",
       "    }\n",
       "</style>\n",
       "<table border=\"1\" class=\"dataframe\">\n",
       "  <thead>\n",
       "    <tr style=\"text-align: right;\">\n",
       "      <th></th>\n",
       "      <th>Company</th>\n",
       "      <th>2014_sales_millions</th>\n",
       "      <th>2014_market_share_percent</th>\n",
       "      <th>2015_sales_millions</th>\n",
       "      <th>2015_market_share_percent</th>\n",
       "      <th>sale_change_percent</th>\n",
       "      <th>share_change_percent</th>\n",
       "    </tr>\n",
       "  </thead>\n",
       "  <tbody>\n",
       "    <tr>\n",
       "      <th>0</th>\n",
       "      <td>L'Oréal USA</td>\n",
       "      <td>1797.9</td>\n",
       "      <td>39.1</td>\n",
       "      <td>1815.0</td>\n",
       "      <td>38.6</td>\n",
       "      <td>1.0</td>\n",
       "      <td>-0.5</td>\n",
       "    </tr>\n",
       "    <tr>\n",
       "      <th>1</th>\n",
       "      <td>Procter &amp; Gamble</td>\n",
       "      <td>954.7</td>\n",
       "      <td>20.8</td>\n",
       "      <td>946.1</td>\n",
       "      <td>20.1</td>\n",
       "      <td>-0.9</td>\n",
       "      <td>-0.7</td>\n",
       "    </tr>\n",
       "    <tr>\n",
       "      <th>2</th>\n",
       "      <td>Revlon Inc.</td>\n",
       "      <td>670.5</td>\n",
       "      <td>14.6</td>\n",
       "      <td>661.6</td>\n",
       "      <td>14.1</td>\n",
       "      <td>-1.3</td>\n",
       "      <td>-0.5</td>\n",
       "    </tr>\n",
       "    <tr>\n",
       "      <th>3</th>\n",
       "      <td>Coty Beauty</td>\n",
       "      <td>262.3</td>\n",
       "      <td>5.7</td>\n",
       "      <td>263.8</td>\n",
       "      <td>5.6</td>\n",
       "      <td>0.5</td>\n",
       "      <td>-0.1</td>\n",
       "    </tr>\n",
       "    <tr>\n",
       "      <th>4</th>\n",
       "      <td>Johnson &amp; Johnson</td>\n",
       "      <td>171.9</td>\n",
       "      <td>3.7</td>\n",
       "      <td>176.0</td>\n",
       "      <td>3.7</td>\n",
       "      <td>2.4</td>\n",
       "      <td>0.0</td>\n",
       "    </tr>\n",
       "  </tbody>\n",
       "</table>\n",
       "</div>"
      ],
      "text/plain": [
       "             Company  2014_sales_millions  2014_market_share_percent  \\\n",
       "0        L'Oréal USA               1797.9                       39.1   \n",
       "1   Procter & Gamble                954.7                       20.8   \n",
       "2        Revlon Inc.                670.5                       14.6   \n",
       "3        Coty Beauty                262.3                        5.7   \n",
       "4  Johnson & Johnson                171.9                        3.7   \n",
       "\n",
       "   2015_sales_millions  2015_market_share_percent  sale_change_percent  \\\n",
       "0               1815.0                       38.6                  1.0   \n",
       "1                946.1                       20.1                 -0.9   \n",
       "2                661.6                       14.1                 -1.3   \n",
       "3                263.8                        5.6                  0.5   \n",
       "4                176.0                        3.7                  2.4   \n",
       "\n",
       "   share_change_percent  \n",
       "0                  -0.5  \n",
       "1                  -0.7  \n",
       "2                  -0.5  \n",
       "3                  -0.1  \n",
       "4                   0.0  "
      ]
     },
     "execution_count": 54,
     "metadata": {},
     "output_type": "execute_result"
    }
   ],
   "source": [
    "market_data"
   ]
  },
  {
   "cell_type": "markdown",
   "id": "e2627169",
   "metadata": {},
   "source": [
    "Our last step in cleaning this data is to save the newly cleaned data to a new csv file, which we then read in again so that we don't have to rerun the previous code next time we want to use this data."
   ]
  },
  {
   "cell_type": "code",
   "execution_count": 59,
   "id": "f03cb9b5",
   "metadata": {},
   "outputs": [],
   "source": [
    "market_data.to_csv('beauty_market_data.csv', index = False)"
   ]
  },
  {
   "cell_type": "code",
   "execution_count": 3,
   "id": "61edb63d",
   "metadata": {},
   "outputs": [],
   "source": [
    "market_sales = pd.read_csv('beauty_market_data.csv')"
   ]
  },
  {
   "cell_type": "code",
   "execution_count": 61,
   "id": "05bbeff7",
   "metadata": {},
   "outputs": [
    {
     "data": {
      "text/html": [
       "<div>\n",
       "<style scoped>\n",
       "    .dataframe tbody tr th:only-of-type {\n",
       "        vertical-align: middle;\n",
       "    }\n",
       "\n",
       "    .dataframe tbody tr th {\n",
       "        vertical-align: top;\n",
       "    }\n",
       "\n",
       "    .dataframe thead th {\n",
       "        text-align: right;\n",
       "    }\n",
       "</style>\n",
       "<table border=\"1\" class=\"dataframe\">\n",
       "  <thead>\n",
       "    <tr style=\"text-align: right;\">\n",
       "      <th></th>\n",
       "      <th>Company</th>\n",
       "      <th>2014_sales_millions</th>\n",
       "      <th>2014_market_share_percent</th>\n",
       "      <th>2015_sales_millions</th>\n",
       "      <th>2015_market_share_percent</th>\n",
       "      <th>sale_change_percent</th>\n",
       "      <th>share_change_percent</th>\n",
       "    </tr>\n",
       "  </thead>\n",
       "  <tbody>\n",
       "    <tr>\n",
       "      <th>0</th>\n",
       "      <td>L'Oréal USA</td>\n",
       "      <td>1797.9</td>\n",
       "      <td>39.1</td>\n",
       "      <td>1815.0</td>\n",
       "      <td>38.6</td>\n",
       "      <td>1.0</td>\n",
       "      <td>-0.5</td>\n",
       "    </tr>\n",
       "    <tr>\n",
       "      <th>1</th>\n",
       "      <td>Procter &amp; Gamble</td>\n",
       "      <td>954.7</td>\n",
       "      <td>20.8</td>\n",
       "      <td>946.1</td>\n",
       "      <td>20.1</td>\n",
       "      <td>-0.9</td>\n",
       "      <td>-0.7</td>\n",
       "    </tr>\n",
       "    <tr>\n",
       "      <th>2</th>\n",
       "      <td>Revlon Inc.</td>\n",
       "      <td>670.5</td>\n",
       "      <td>14.6</td>\n",
       "      <td>661.6</td>\n",
       "      <td>14.1</td>\n",
       "      <td>-1.3</td>\n",
       "      <td>-0.5</td>\n",
       "    </tr>\n",
       "    <tr>\n",
       "      <th>3</th>\n",
       "      <td>Coty Beauty</td>\n",
       "      <td>262.3</td>\n",
       "      <td>5.7</td>\n",
       "      <td>263.8</td>\n",
       "      <td>5.6</td>\n",
       "      <td>0.5</td>\n",
       "      <td>-0.1</td>\n",
       "    </tr>\n",
       "    <tr>\n",
       "      <th>4</th>\n",
       "      <td>Johnson &amp; Johnson</td>\n",
       "      <td>171.9</td>\n",
       "      <td>3.7</td>\n",
       "      <td>176.0</td>\n",
       "      <td>3.7</td>\n",
       "      <td>2.4</td>\n",
       "      <td>0.0</td>\n",
       "    </tr>\n",
       "  </tbody>\n",
       "</table>\n",
       "</div>"
      ],
      "text/plain": [
       "             Company  2014_sales_millions  2014_market_share_percent  \\\n",
       "0        L'Oréal USA               1797.9                       39.1   \n",
       "1   Procter & Gamble                954.7                       20.8   \n",
       "2        Revlon Inc.                670.5                       14.6   \n",
       "3        Coty Beauty                262.3                        5.7   \n",
       "4  Johnson & Johnson                171.9                        3.7   \n",
       "\n",
       "   2015_sales_millions  2015_market_share_percent  sale_change_percent  \\\n",
       "0               1815.0                       38.6                  1.0   \n",
       "1                946.1                       20.1                 -0.9   \n",
       "2                661.6                       14.1                 -1.3   \n",
       "3                263.8                        5.6                  0.5   \n",
       "4                176.0                        3.7                  2.4   \n",
       "\n",
       "   share_change_percent  \n",
       "0                  -0.5  \n",
       "1                  -0.7  \n",
       "2                  -0.5  \n",
       "3                  -0.1  \n",
       "4                   0.0  "
      ]
     },
     "execution_count": 61,
     "metadata": {},
     "output_type": "execute_result"
    }
   ],
   "source": [
    "market_sales"
   ]
  },
  {
   "cell_type": "markdown",
   "id": "d078884d",
   "metadata": {},
   "source": [
    "# Data Description"
   ]
  },
  {
   "cell_type": "markdown",
   "id": "77028fa2",
   "metadata": {},
   "source": [
    "## Motivation\n",
    "- **Why was this dataset created?**\n",
    "    - This dataset was created to explore how the market of cosmetics has evolved through the year or 2015, in regards to trends in sales, market breakdown, which factors contributed to these changes, and which makeup trends might affect the market.\n",
    "    \n",
    "- **Who funded the creation of the dataset? **\n",
    "    - The research was done by Mintel, an independent market analysis company that prides itself on supplying objective information on a whole range of markets and marketing issues.\n",
    "    \n",
    "## Composition\n",
    "- **What are the observations (rows) and the attributes (columns)? **\n",
    "    - The rows are the top cosmetics companies, and the columns are how they performed in the market, specifically: company name, 2014 sales (in millions of dollars), 2014 market share percentage, 2015 sales (in millions of dollars), 2015 market share percentage, the sale change percentage from 2014-2015, and the market share percent change from 2014-2015.\n",
    "    \n",
    "- **How many instances are there in the dataset? Does it contain all possible instances or is it a sample? What processes might have influenced what data was observed and recorded and what was not?**\n",
    "    - The initial dataset had 7 instances, but I removed the \"private labels\" and \"other\" companies as they are not easy to use with our Amazon dataset. The data contained a note that read: \"Data may not equal totals due to rounding The above figures are based on MULO sales data from Information Resources, Inc., InfoScan Reviews. MULO is defined as Multi Outlet, representative of the following channels: total U.S. Grocery, Mass, Total U.S. Drug, Total Walmart, Dollar, Military, and Club.\" \n",
    "    \n",
    "- **Where can your raw source data be found, if applicable? Provide a link to the raw data (hosted in a Cornell Google Drive or Cornell Box).**\n",
    "    - Our data can be found at the same Google Drive as previously listed.\n",
    "    \n",
    "- **Is the data self contained or does it rely on other outside websites?**\n",
    "    - Our data is self contained because it is historical data about sales in 2015, and thus would not rely on outside websites\n",
    "    \n",
    "- **Does this data relate to individuals? Can the individuals be identified? Are there any subpopulations that can be identified?**\n",
    "    - No, the data is not related to individuals, but companies which are entities.\n",
    "    \n",
    "## Collection Process\n",
    "- **If people are involved, were they aware of the data collection and if so, what purpose did they expect the data to be used for?**\n",
    "    - No people were involved, as the data in this specific dataset was from an Information Resrouces company.\n",
    "    \n",
    "- **What time frame was the data collected?**\n",
    "    - This dataset focuses on company sales from 2014 to March 22, 2015.\n",
    "    \n",
    "## Preprocessing\n",
    "- **What preprocessing was done, and how did the data come to be in the form that you are using?**\n",
    "    - Refer to data cleaning appendix.\n",
    "    \n",
    "- **Are there are any errors, sources of noise, or redundancies in the data?**\n",
    "    - None that are visible to us. The dataset is rather small and informs us of overarching/summarizing statistics, thus there is not much room for errors/noise.\n",
    " \n",
    "## Uses\n",
    "    \n",
    " - **Has this data been used before? If so, what for?**\n",
    "     - There is no evidence that this data has been used before, however it is very likely that it has considering it is a public dataset published for people to use.\n",
    "     \n",
    "     \n",
    "## Data Limitations\n",
    "\n",
    "- We are only able to see the market sales of 4 well known companies, some of which are parent companies that own several beauty brands. This makes it difficult to use with our Amazon dataset which reports reviews of these smaller \"child\" companies. \n",
    "- The data lumps together \"private labels\" and \"others\" into separate categories, which is unclear of which companies it considers under those categories, and might have been valuable in our data analysis.\n",
    "- The data only reports sales and shares for 2015 as a whole, and in the period ending March 22. Not only does this mean it does not include the whole year of 2015, but it is not specific in how the sales were in different months.\n",
    "- The data only analyzes company performance in terms of market shares and sales, no other metrics.\n",
    "    \n",
    "    "
   ]
  },
  {
   "cell_type": "markdown",
   "id": "82941841",
   "metadata": {},
   "source": [
    "# Exploratory Data Analysis"
   ]
  },
  {
   "cell_type": "code",
   "execution_count": 4,
   "id": "a8494b25",
   "metadata": {},
   "outputs": [],
   "source": [
    "amazon = pd.read_csv('amazonreviews_beauty.csv')"
   ]
  },
  {
   "cell_type": "code",
   "execution_count": 5,
   "id": "86025da4",
   "metadata": {},
   "outputs": [
    {
     "data": {
      "text/html": [
       "<div>\n",
       "<style scoped>\n",
       "    .dataframe tbody tr th:only-of-type {\n",
       "        vertical-align: middle;\n",
       "    }\n",
       "\n",
       "    .dataframe tbody tr th {\n",
       "        vertical-align: top;\n",
       "    }\n",
       "\n",
       "    .dataframe thead th {\n",
       "        text-align: right;\n",
       "    }\n",
       "</style>\n",
       "<table border=\"1\" class=\"dataframe\">\n",
       "  <thead>\n",
       "    <tr style=\"text-align: right;\">\n",
       "      <th></th>\n",
       "      <th>customer_id</th>\n",
       "      <th>review_id</th>\n",
       "      <th>product_id</th>\n",
       "      <th>product_parent</th>\n",
       "      <th>product_title</th>\n",
       "      <th>star_rating</th>\n",
       "      <th>helpful_votes</th>\n",
       "      <th>vine</th>\n",
       "      <th>verified_purchase</th>\n",
       "      <th>review_headline</th>\n",
       "      <th>review_body</th>\n",
       "      <th>review_date</th>\n",
       "      <th>corporation</th>\n",
       "    </tr>\n",
       "  </thead>\n",
       "  <tbody>\n",
       "    <tr>\n",
       "      <th>0</th>\n",
       "      <td>24767754</td>\n",
       "      <td>R1XFL3Z2OT99W8</td>\n",
       "      <td>B003LSZHQ0</td>\n",
       "      <td>192111987</td>\n",
       "      <td>Revlon Beyond Natural Blush &amp; Bronzer, Peach (...</td>\n",
       "      <td>3.0</td>\n",
       "      <td>0.0</td>\n",
       "      <td>N</td>\n",
       "      <td>Y</td>\n",
       "      <td>Three Stars</td>\n",
       "      <td>This blush and bronzer was no big deal.  It's ...</td>\n",
       "      <td>2015-06-10</td>\n",
       "      <td>Revlon</td>\n",
       "    </tr>\n",
       "    <tr>\n",
       "      <th>1</th>\n",
       "      <td>28040275</td>\n",
       "      <td>R3AKWI2QG78Y6W</td>\n",
       "      <td>B00A9KBHR6</td>\n",
       "      <td>533375687</td>\n",
       "      <td>Exclusive By Revlon Crazy Shine Nail Buffer # ...</td>\n",
       "      <td>5.0</td>\n",
       "      <td>0.0</td>\n",
       "      <td>N</td>\n",
       "      <td>Y</td>\n",
       "      <td>These make your natural nails so shiny. The gr...</td>\n",
       "      <td>These make your natural nails so shiny.  The g...</td>\n",
       "      <td>2015-08-28</td>\n",
       "      <td>Revlon</td>\n",
       "    </tr>\n",
       "    <tr>\n",
       "      <th>2</th>\n",
       "      <td>34986371</td>\n",
       "      <td>R1UU0O9IDQAJ90</td>\n",
       "      <td>B001DPMETG</td>\n",
       "      <td>105754500</td>\n",
       "      <td>Garnier SkinActive Clearly Brighter Anti-Puff ...</td>\n",
       "      <td>5.0</td>\n",
       "      <td>1.0</td>\n",
       "      <td>N</td>\n",
       "      <td>Y</td>\n",
       "      <td>This works well because it lets me massage awa...</td>\n",
       "      <td>This works well because it lets me massage awa...</td>\n",
       "      <td>2015-07-23</td>\n",
       "      <td>L'oreal</td>\n",
       "    </tr>\n",
       "    <tr>\n",
       "      <th>3</th>\n",
       "      <td>36407464</td>\n",
       "      <td>R1XQ88PJ7HPGYQ</td>\n",
       "      <td>B00113HO90</td>\n",
       "      <td>78786137</td>\n",
       "      <td>Neutrogena Rainbath Refreshing Shower and Bath...</td>\n",
       "      <td>5.0</td>\n",
       "      <td>0.0</td>\n",
       "      <td>N</td>\n",
       "      <td>Y</td>\n",
       "      <td>Neutrogena Rocks!!</td>\n",
       "      <td>Awesome products!!</td>\n",
       "      <td>2015-05-25</td>\n",
       "      <td>Johnson &amp; Johnson</td>\n",
       "    </tr>\n",
       "    <tr>\n",
       "      <th>4</th>\n",
       "      <td>889672</td>\n",
       "      <td>R1YLPTSI256CM6</td>\n",
       "      <td>B004Y9H1QO</td>\n",
       "      <td>511887159</td>\n",
       "      <td>Maybelline New York Baby Lips Moisturizing Lip...</td>\n",
       "      <td>5.0</td>\n",
       "      <td>0.0</td>\n",
       "      <td>N</td>\n",
       "      <td>Y</td>\n",
       "      <td>Five Stars</td>\n",
       "      <td>ok</td>\n",
       "      <td>2015-02-07</td>\n",
       "      <td>L'oreal</td>\n",
       "    </tr>\n",
       "    <tr>\n",
       "      <th>...</th>\n",
       "      <td>...</td>\n",
       "      <td>...</td>\n",
       "      <td>...</td>\n",
       "      <td>...</td>\n",
       "      <td>...</td>\n",
       "      <td>...</td>\n",
       "      <td>...</td>\n",
       "      <td>...</td>\n",
       "      <td>...</td>\n",
       "      <td>...</td>\n",
       "      <td>...</td>\n",
       "      <td>...</td>\n",
       "      <td>...</td>\n",
       "    </tr>\n",
       "    <tr>\n",
       "      <th>39995</th>\n",
       "      <td>1640914</td>\n",
       "      <td>R31SK0XHQT84KM</td>\n",
       "      <td>B0046VJTX8</td>\n",
       "      <td>184141855</td>\n",
       "      <td>Maybelline New York Fit Me Concealer, 0.23 Flu...</td>\n",
       "      <td>5.0</td>\n",
       "      <td>0.0</td>\n",
       "      <td>N</td>\n",
       "      <td>Y</td>\n",
       "      <td>Great Buy</td>\n",
       "      <td>Love it</td>\n",
       "      <td>2015-01-25</td>\n",
       "      <td>L'oreal</td>\n",
       "    </tr>\n",
       "    <tr>\n",
       "      <th>39996</th>\n",
       "      <td>20245288</td>\n",
       "      <td>R2GOLYUPEIK335</td>\n",
       "      <td>B003H8182G</td>\n",
       "      <td>867777522</td>\n",
       "      <td>Maybelline ColorSensational Lip Stain</td>\n",
       "      <td>5.0</td>\n",
       "      <td>0.0</td>\n",
       "      <td>N</td>\n",
       "      <td>Y</td>\n",
       "      <td>Five Stars</td>\n",
       "      <td>I love it!!!</td>\n",
       "      <td>2015-01-03</td>\n",
       "      <td>L'oreal</td>\n",
       "    </tr>\n",
       "    <tr>\n",
       "      <th>39997</th>\n",
       "      <td>49693676</td>\n",
       "      <td>R1MZ7306XFSU9D</td>\n",
       "      <td>B001E96OU6</td>\n",
       "      <td>414968857</td>\n",
       "      <td>Neutrogena Oil-Free Acne Wash</td>\n",
       "      <td>5.0</td>\n",
       "      <td>0.0</td>\n",
       "      <td>N</td>\n",
       "      <td>Y</td>\n",
       "      <td>love the product</td>\n",
       "      <td>Quick shipping, love the product, excellent pr...</td>\n",
       "      <td>2015-01-23</td>\n",
       "      <td>Johnson &amp; Johnson</td>\n",
       "    </tr>\n",
       "    <tr>\n",
       "      <th>39998</th>\n",
       "      <td>51975267</td>\n",
       "      <td>R13XK4JV20GSZO</td>\n",
       "      <td>B0092GWVBE</td>\n",
       "      <td>758144053</td>\n",
       "      <td>Maybelline Color Tattoo Eyeshadow Limited Edit...</td>\n",
       "      <td>4.0</td>\n",
       "      <td>1.0</td>\n",
       "      <td>N</td>\n",
       "      <td>Y</td>\n",
       "      <td>Great for stage make-up!</td>\n",
       "      <td>We use this for our dance competition makeup. ...</td>\n",
       "      <td>2015-05-23</td>\n",
       "      <td>L'oreal</td>\n",
       "    </tr>\n",
       "    <tr>\n",
       "      <th>39999</th>\n",
       "      <td>33320933</td>\n",
       "      <td>R7O7NJN9YSO32</td>\n",
       "      <td>B0030HNNS6</td>\n",
       "      <td>29267069</td>\n",
       "      <td>Maybelline New York Eye Studio Lasting Drama G...</td>\n",
       "      <td>5.0</td>\n",
       "      <td>0.0</td>\n",
       "      <td>N</td>\n",
       "      <td>Y</td>\n",
       "      <td>Good gel liner</td>\n",
       "      <td>Dries a bit tight on the skin, kinda cakey fee...</td>\n",
       "      <td>2015-05-07</td>\n",
       "      <td>L'oreal</td>\n",
       "    </tr>\n",
       "  </tbody>\n",
       "</table>\n",
       "<p>40000 rows × 13 columns</p>\n",
       "</div>"
      ],
      "text/plain": [
       "       customer_id       review_id  product_id  product_parent  \\\n",
       "0         24767754  R1XFL3Z2OT99W8  B003LSZHQ0       192111987   \n",
       "1         28040275  R3AKWI2QG78Y6W  B00A9KBHR6       533375687   \n",
       "2         34986371  R1UU0O9IDQAJ90  B001DPMETG       105754500   \n",
       "3         36407464  R1XQ88PJ7HPGYQ  B00113HO90        78786137   \n",
       "4           889672  R1YLPTSI256CM6  B004Y9H1QO       511887159   \n",
       "...            ...             ...         ...             ...   \n",
       "39995      1640914  R31SK0XHQT84KM  B0046VJTX8       184141855   \n",
       "39996     20245288  R2GOLYUPEIK335  B003H8182G       867777522   \n",
       "39997     49693676  R1MZ7306XFSU9D  B001E96OU6       414968857   \n",
       "39998     51975267  R13XK4JV20GSZO  B0092GWVBE       758144053   \n",
       "39999     33320933   R7O7NJN9YSO32  B0030HNNS6        29267069   \n",
       "\n",
       "                                           product_title  star_rating  \\\n",
       "0      Revlon Beyond Natural Blush & Bronzer, Peach (...          3.0   \n",
       "1      Exclusive By Revlon Crazy Shine Nail Buffer # ...          5.0   \n",
       "2      Garnier SkinActive Clearly Brighter Anti-Puff ...          5.0   \n",
       "3      Neutrogena Rainbath Refreshing Shower and Bath...          5.0   \n",
       "4      Maybelline New York Baby Lips Moisturizing Lip...          5.0   \n",
       "...                                                  ...          ...   \n",
       "39995  Maybelline New York Fit Me Concealer, 0.23 Flu...          5.0   \n",
       "39996              Maybelline ColorSensational Lip Stain          5.0   \n",
       "39997                      Neutrogena Oil-Free Acne Wash          5.0   \n",
       "39998  Maybelline Color Tattoo Eyeshadow Limited Edit...          4.0   \n",
       "39999  Maybelline New York Eye Studio Lasting Drama G...          5.0   \n",
       "\n",
       "       helpful_votes vine verified_purchase  \\\n",
       "0                0.0    N                 Y   \n",
       "1                0.0    N                 Y   \n",
       "2                1.0    N                 Y   \n",
       "3                0.0    N                 Y   \n",
       "4                0.0    N                 Y   \n",
       "...              ...  ...               ...   \n",
       "39995            0.0    N                 Y   \n",
       "39996            0.0    N                 Y   \n",
       "39997            0.0    N                 Y   \n",
       "39998            1.0    N                 Y   \n",
       "39999            0.0    N                 Y   \n",
       "\n",
       "                                         review_headline  \\\n",
       "0                                            Three Stars   \n",
       "1      These make your natural nails so shiny. The gr...   \n",
       "2      This works well because it lets me massage awa...   \n",
       "3                                     Neutrogena Rocks!!   \n",
       "4                                             Five Stars   \n",
       "...                                                  ...   \n",
       "39995                                          Great Buy   \n",
       "39996                                         Five Stars   \n",
       "39997                                   love the product   \n",
       "39998                           Great for stage make-up!   \n",
       "39999                                     Good gel liner   \n",
       "\n",
       "                                             review_body review_date  \\\n",
       "0      This blush and bronzer was no big deal.  It's ...  2015-06-10   \n",
       "1      These make your natural nails so shiny.  The g...  2015-08-28   \n",
       "2      This works well because it lets me massage awa...  2015-07-23   \n",
       "3                                     Awesome products!!  2015-05-25   \n",
       "4                                                     ok  2015-02-07   \n",
       "...                                                  ...         ...   \n",
       "39995                                            Love it  2015-01-25   \n",
       "39996                                       I love it!!!  2015-01-03   \n",
       "39997  Quick shipping, love the product, excellent pr...  2015-01-23   \n",
       "39998  We use this for our dance competition makeup. ...  2015-05-23   \n",
       "39999  Dries a bit tight on the skin, kinda cakey fee...  2015-05-07   \n",
       "\n",
       "             corporation  \n",
       "0                 Revlon  \n",
       "1                 Revlon  \n",
       "2                L'oreal  \n",
       "3      Johnson & Johnson  \n",
       "4                L'oreal  \n",
       "...                  ...  \n",
       "39995            L'oreal  \n",
       "39996            L'oreal  \n",
       "39997  Johnson & Johnson  \n",
       "39998            L'oreal  \n",
       "39999            L'oreal  \n",
       "\n",
       "[40000 rows x 13 columns]"
      ]
     },
     "execution_count": 5,
     "metadata": {},
     "output_type": "execute_result"
    }
   ],
   "source": [
    "amazon"
   ]
  },
  {
   "cell_type": "markdown",
   "id": "a33e72f2",
   "metadata": {},
   "source": [
    "## Histograms of Star Rating Distribution Overall and by Company"
   ]
  },
  {
   "cell_type": "code",
   "execution_count": 34,
   "id": "528bb3fd",
   "metadata": {},
   "outputs": [
    {
     "data": {
      "image/png": "[encoded data removed]",
      "text/plain": [
       "<Figure size 432x288 with 1 Axes>"
      ]
     },
     "metadata": {
      "needs_background": "light"
     },
     "output_type": "display_data"
    }
   ],
   "source": [
    "amazon.star_rating.hist(bins = 5)\n",
    "plt.xticks(range(1, 6))\n",
    "plt.xlabel('Star Rating')\n",
    "plt.ylabel(\"Count\")\n",
    "plt.title(\"Overall Distribution of Star Ratings\")\n",
    "plt.show()"
   ]
  },
  {
   "cell_type": "code",
   "execution_count": 35,
   "id": "a72a4fe1",
   "metadata": {},
   "outputs": [
    {
     "data": {
      "image/png": "[encoded data removed]",
      "text/plain": [
       "<Figure size 720x864 with 6 Axes>"
      ]
     },
     "metadata": {
      "needs_background": "light"
     },
     "output_type": "display_data"
    }
   ],
   "source": [
    "amazon.star_rating.hist(by=amazon.corporation, figsize = (10, 12), bins = 5)\n",
    "plt.title('Distribution of Star Ratings by Company')\n",
    "plt.show()"
   ]
  },
  {
   "cell_type": "markdown",
   "id": "9b463e94",
   "metadata": {},
   "source": [
    "## Basic Statistics of Star Ratings by Corporation"
   ]
  },
  {
   "cell_type": "markdown",
   "id": "cf263c45",
   "metadata": {},
   "source": [
    "### All Companies"
   ]
  },
  {
   "cell_type": "code",
   "execution_count": 38,
   "id": "df8beb47",
   "metadata": {},
   "outputs": [
    {
     "data": {
      "text/html": [
       "<div>\n",
       "<style scoped>\n",
       "    .dataframe tbody tr th:only-of-type {\n",
       "        vertical-align: middle;\n",
       "    }\n",
       "\n",
       "    .dataframe tbody tr th {\n",
       "        vertical-align: top;\n",
       "    }\n",
       "\n",
       "    .dataframe thead th {\n",
       "        text-align: right;\n",
       "    }\n",
       "</style>\n",
       "<table border=\"1\" class=\"dataframe\">\n",
       "  <thead>\n",
       "    <tr style=\"text-align: right;\">\n",
       "      <th></th>\n",
       "      <th>star_rating</th>\n",
       "    </tr>\n",
       "  </thead>\n",
       "  <tbody>\n",
       "    <tr>\n",
       "      <th>mean</th>\n",
       "      <td>4.184950</td>\n",
       "    </tr>\n",
       "    <tr>\n",
       "      <th>median</th>\n",
       "      <td>5.000000</td>\n",
       "    </tr>\n",
       "    <tr>\n",
       "      <th>std</th>\n",
       "      <td>1.290905</td>\n",
       "    </tr>\n",
       "    <tr>\n",
       "      <th>var</th>\n",
       "      <td>1.666435</td>\n",
       "    </tr>\n",
       "  </tbody>\n",
       "</table>\n",
       "</div>"
      ],
      "text/plain": [
       "        star_rating\n",
       "mean       4.184950\n",
       "median     5.000000\n",
       "std        1.290905\n",
       "var        1.666435"
      ]
     },
     "execution_count": 38,
     "metadata": {},
     "output_type": "execute_result"
    }
   ],
   "source": [
    "amazon[['star_rating']].agg([np.mean, np.median, np.std, np.var])"
   ]
  },
  {
   "cell_type": "markdown",
   "id": "8a649836",
   "metadata": {},
   "source": [
    "### Breakdown by Company"
   ]
  },
  {
   "cell_type": "code",
   "execution_count": 28,
   "id": "1b43a7b7",
   "metadata": {},
   "outputs": [
    {
     "data": {
      "text/html": [
       "<div>\n",
       "<style scoped>\n",
       "    .dataframe tbody tr th:only-of-type {\n",
       "        vertical-align: middle;\n",
       "    }\n",
       "\n",
       "    .dataframe tbody tr th {\n",
       "        vertical-align: top;\n",
       "    }\n",
       "\n",
       "    .dataframe thead th {\n",
       "        text-align: right;\n",
       "    }\n",
       "</style>\n",
       "<table border=\"1\" class=\"dataframe\">\n",
       "  <thead>\n",
       "    <tr style=\"text-align: right;\">\n",
       "      <th></th>\n",
       "      <th>mean</th>\n",
       "      <th>median</th>\n",
       "      <th>std</th>\n",
       "      <th>var</th>\n",
       "    </tr>\n",
       "    <tr>\n",
       "      <th>corporation</th>\n",
       "      <th></th>\n",
       "      <th></th>\n",
       "      <th></th>\n",
       "      <th></th>\n",
       "    </tr>\n",
       "  </thead>\n",
       "  <tbody>\n",
       "    <tr>\n",
       "      <th>Coty</th>\n",
       "      <td>4.050777</td>\n",
       "      <td>5.0</td>\n",
       "      <td>1.386499</td>\n",
       "      <td>1.922379</td>\n",
       "    </tr>\n",
       "    <tr>\n",
       "      <th>Johnson &amp; Johnson</th>\n",
       "      <td>4.323308</td>\n",
       "      <td>5.0</td>\n",
       "      <td>1.198936</td>\n",
       "      <td>1.437447</td>\n",
       "    </tr>\n",
       "    <tr>\n",
       "      <th>L'oreal</th>\n",
       "      <td>4.170827</td>\n",
       "      <td>5.0</td>\n",
       "      <td>1.272123</td>\n",
       "      <td>1.618296</td>\n",
       "    </tr>\n",
       "    <tr>\n",
       "      <th>Proctor &amp; Gamble</th>\n",
       "      <td>4.071429</td>\n",
       "      <td>5.0</td>\n",
       "      <td>1.325795</td>\n",
       "      <td>1.757732</td>\n",
       "    </tr>\n",
       "    <tr>\n",
       "      <th>Revlon</th>\n",
       "      <td>4.118370</td>\n",
       "      <td>5.0</td>\n",
       "      <td>1.355196</td>\n",
       "      <td>1.836557</td>\n",
       "    </tr>\n",
       "  </tbody>\n",
       "</table>\n",
       "</div>"
      ],
      "text/plain": [
       "                       mean  median       std       var\n",
       "corporation                                            \n",
       "Coty               4.050777     5.0  1.386499  1.922379\n",
       "Johnson & Johnson  4.323308     5.0  1.198936  1.437447\n",
       "L'oreal            4.170827     5.0  1.272123  1.618296\n",
       "Proctor & Gamble   4.071429     5.0  1.325795  1.757732\n",
       "Revlon             4.118370     5.0  1.355196  1.836557"
      ]
     },
     "execution_count": 28,
     "metadata": {},
     "output_type": "execute_result"
    }
   ],
   "source": [
    "amazon.groupby('corporation')['star_rating'].agg([np.mean, np.median, np.std, np.var])"
   ]
  },
  {
   "cell_type": "code",
   "execution_count": 41,
   "id": "b643a415",
   "metadata": {},
   "outputs": [],
   "source": [
    "amazon['review_length'] = amazon['review_body'].str.len()"
   ]
  },
  {
   "cell_type": "code",
   "execution_count": 107,
   "id": "b2716cb2",
   "metadata": {},
   "outputs": [
    {
     "data": {
      "text/html": [
       "<div>\n",
       "<style scoped>\n",
       "    .dataframe tbody tr th:only-of-type {\n",
       "        vertical-align: middle;\n",
       "    }\n",
       "\n",
       "    .dataframe tbody tr th {\n",
       "        vertical-align: top;\n",
       "    }\n",
       "\n",
       "    .dataframe thead th {\n",
       "        text-align: right;\n",
       "    }\n",
       "</style>\n",
       "<table border=\"1\" class=\"dataframe\">\n",
       "  <thead>\n",
       "    <tr style=\"text-align: right;\">\n",
       "      <th></th>\n",
       "      <th>customer_id</th>\n",
       "      <th>review_id</th>\n",
       "      <th>product_id</th>\n",
       "      <th>product_parent</th>\n",
       "      <th>product_title</th>\n",
       "      <th>star_rating</th>\n",
       "      <th>helpful_votes</th>\n",
       "      <th>vine</th>\n",
       "      <th>verified_purchase</th>\n",
       "      <th>review_headline</th>\n",
       "      <th>review_body</th>\n",
       "      <th>review_date</th>\n",
       "      <th>corporation</th>\n",
       "      <th>review_length</th>\n",
       "    </tr>\n",
       "  </thead>\n",
       "  <tbody>\n",
       "    <tr>\n",
       "      <th>0</th>\n",
       "      <td>24767754</td>\n",
       "      <td>R1XFL3Z2OT99W8</td>\n",
       "      <td>B003LSZHQ0</td>\n",
       "      <td>192111987</td>\n",
       "      <td>Revlon Beyond Natural Blush &amp; Bronzer, Peach (...</td>\n",
       "      <td>3.0</td>\n",
       "      <td>0.0</td>\n",
       "      <td>N</td>\n",
       "      <td>Y</td>\n",
       "      <td>Three Stars</td>\n",
       "      <td>This blush and bronzer was no big deal.  It's ...</td>\n",
       "      <td>2015-06-10</td>\n",
       "      <td>Revlon</td>\n",
       "      <td>72.0</td>\n",
       "    </tr>\n",
       "    <tr>\n",
       "      <th>1</th>\n",
       "      <td>28040275</td>\n",
       "      <td>R3AKWI2QG78Y6W</td>\n",
       "      <td>B00A9KBHR6</td>\n",
       "      <td>533375687</td>\n",
       "      <td>Exclusive By Revlon Crazy Shine Nail Buffer # ...</td>\n",
       "      <td>5.0</td>\n",
       "      <td>0.0</td>\n",
       "      <td>N</td>\n",
       "      <td>Y</td>\n",
       "      <td>These make your natural nails so shiny. The gr...</td>\n",
       "      <td>These make your natural nails so shiny.  The g...</td>\n",
       "      <td>2015-08-28</td>\n",
       "      <td>Revlon</td>\n",
       "      <td>189.0</td>\n",
       "    </tr>\n",
       "    <tr>\n",
       "      <th>2</th>\n",
       "      <td>34986371</td>\n",
       "      <td>R1UU0O9IDQAJ90</td>\n",
       "      <td>B001DPMETG</td>\n",
       "      <td>105754500</td>\n",
       "      <td>Garnier SkinActive Clearly Brighter Anti-Puff ...</td>\n",
       "      <td>5.0</td>\n",
       "      <td>1.0</td>\n",
       "      <td>N</td>\n",
       "      <td>Y</td>\n",
       "      <td>This works well because it lets me massage awa...</td>\n",
       "      <td>This works well because it lets me massage awa...</td>\n",
       "      <td>2015-07-23</td>\n",
       "      <td>L'oreal</td>\n",
       "      <td>119.0</td>\n",
       "    </tr>\n",
       "    <tr>\n",
       "      <th>3</th>\n",
       "      <td>36407464</td>\n",
       "      <td>R1XQ88PJ7HPGYQ</td>\n",
       "      <td>B00113HO90</td>\n",
       "      <td>78786137</td>\n",
       "      <td>Neutrogena Rainbath Refreshing Shower and Bath...</td>\n",
       "      <td>5.0</td>\n",
       "      <td>0.0</td>\n",
       "      <td>N</td>\n",
       "      <td>Y</td>\n",
       "      <td>Neutrogena Rocks!!</td>\n",
       "      <td>Awesome products!!</td>\n",
       "      <td>2015-05-25</td>\n",
       "      <td>Johnson &amp; Johnson</td>\n",
       "      <td>18.0</td>\n",
       "    </tr>\n",
       "    <tr>\n",
       "      <th>4</th>\n",
       "      <td>889672</td>\n",
       "      <td>R1YLPTSI256CM6</td>\n",
       "      <td>B004Y9H1QO</td>\n",
       "      <td>511887159</td>\n",
       "      <td>Maybelline New York Baby Lips Moisturizing Lip...</td>\n",
       "      <td>5.0</td>\n",
       "      <td>0.0</td>\n",
       "      <td>N</td>\n",
       "      <td>Y</td>\n",
       "      <td>Five Stars</td>\n",
       "      <td>ok</td>\n",
       "      <td>2015-02-07</td>\n",
       "      <td>L'oreal</td>\n",
       "      <td>2.0</td>\n",
       "    </tr>\n",
       "  </tbody>\n",
       "</table>\n",
       "</div>"
      ],
      "text/plain": [
       "   customer_id       review_id  product_id  product_parent  \\\n",
       "0     24767754  R1XFL3Z2OT99W8  B003LSZHQ0       192111987   \n",
       "1     28040275  R3AKWI2QG78Y6W  B00A9KBHR6       533375687   \n",
       "2     34986371  R1UU0O9IDQAJ90  B001DPMETG       105754500   \n",
       "3     36407464  R1XQ88PJ7HPGYQ  B00113HO90        78786137   \n",
       "4       889672  R1YLPTSI256CM6  B004Y9H1QO       511887159   \n",
       "\n",
       "                                       product_title  star_rating  \\\n",
       "0  Revlon Beyond Natural Blush & Bronzer, Peach (...          3.0   \n",
       "1  Exclusive By Revlon Crazy Shine Nail Buffer # ...          5.0   \n",
       "2  Garnier SkinActive Clearly Brighter Anti-Puff ...          5.0   \n",
       "3  Neutrogena Rainbath Refreshing Shower and Bath...          5.0   \n",
       "4  Maybelline New York Baby Lips Moisturizing Lip...          5.0   \n",
       "\n",
       "   helpful_votes vine verified_purchase  \\\n",
       "0            0.0    N                 Y   \n",
       "1            0.0    N                 Y   \n",
       "2            1.0    N                 Y   \n",
       "3            0.0    N                 Y   \n",
       "4            0.0    N                 Y   \n",
       "\n",
       "                                     review_headline  \\\n",
       "0                                        Three Stars   \n",
       "1  These make your natural nails so shiny. The gr...   \n",
       "2  This works well because it lets me massage awa...   \n",
       "3                                 Neutrogena Rocks!!   \n",
       "4                                         Five Stars   \n",
       "\n",
       "                                         review_body review_date  \\\n",
       "0  This blush and bronzer was no big deal.  It's ...  2015-06-10   \n",
       "1  These make your natural nails so shiny.  The g...  2015-08-28   \n",
       "2  This works well because it lets me massage awa...  2015-07-23   \n",
       "3                                 Awesome products!!  2015-05-25   \n",
       "4                                                 ok  2015-02-07   \n",
       "\n",
       "         corporation  review_length  \n",
       "0             Revlon           72.0  \n",
       "1             Revlon          189.0  \n",
       "2            L'oreal          119.0  \n",
       "3  Johnson & Johnson           18.0  \n",
       "4            L'oreal            2.0  "
      ]
     },
     "execution_count": 107,
     "metadata": {},
     "output_type": "execute_result"
    }
   ],
   "source": [
    "amazon.head()"
   ]
  },
  {
   "cell_type": "markdown",
   "id": "b870b2e9",
   "metadata": {},
   "source": [
    "## Review Body Length Analysis"
   ]
  },
  {
   "cell_type": "code",
   "execution_count": 48,
   "id": "ffcbad25",
   "metadata": {},
   "outputs": [
    {
     "data": {
      "image/png": "[encoded data removed]",
      "text/plain": [
       "<Figure size 432x288 with 1 Axes>"
      ]
     },
     "metadata": {
      "needs_background": "light"
     },
     "output_type": "display_data"
    }
   ],
   "source": [
    "amazon.review_length.hist(bins=50)\n",
    "plt.xlabel('Review Text Length')\n",
    "plt.ylabel(\"Count\")\n",
    "plt.title(\"Overall Distribution of Review Text Length\")\n",
    "plt.show()"
   ]
  },
  {
   "cell_type": "code",
   "execution_count": 47,
   "id": "537e7ac8",
   "metadata": {},
   "outputs": [
    {
     "data": {
      "text/plain": [
       "68"
      ]
     },
     "execution_count": 47,
     "metadata": {},
     "output_type": "execute_result"
    }
   ],
   "source": [
    "len(amazon[amazon['review_length'] > 2000])"
   ]
  },
  {
   "cell_type": "markdown",
   "id": "380de326",
   "metadata": {},
   "source": [
    "Looking at the overall review text distribution, we see that most reviews are less than 2000 characters, but the chart is being skewed by 68 observations. Let's take a look at this histogram when we only consider the reviews with less than 2000 characters."
   ]
  },
  {
   "cell_type": "code",
   "execution_count": 52,
   "id": "ad751e02",
   "metadata": {},
   "outputs": [
    {
     "data": {
      "image/png": "[encoded data removed]",
      "text/plain": [
       "<Figure size 432x288 with 1 Axes>"
      ]
     },
     "metadata": {
      "needs_background": "light"
     },
     "output_type": "display_data"
    }
   ],
   "source": [
    "amazon[amazon['review_length'] < 2000].review_length.hist(bins=30)\n",
    "plt.xlabel('Review Text Length')\n",
    "plt.ylabel(\"Count\")\n",
    "plt.title(\"Overall Distribution of Review Text Length (without outliers)\")\n",
    "plt.show()"
   ]
  },
  {
   "cell_type": "markdown",
   "id": "527b1159",
   "metadata": {},
   "source": [
    "Looking at this histogram, we still see that most reviews are 250 words or less.\n",
    "\n",
    "Now analyzing review length by distribution, we will also only look at reviews with 1000 characters or less separately."
   ]
  },
  {
   "cell_type": "markdown",
   "id": "1781ffd5",
   "metadata": {},
   "source": [
    "## Histograms of Review Text Lengths of Reviews with <1000 Characters"
   ]
  },
  {
   "cell_type": "code",
   "execution_count": 78,
   "id": "07fcc50f",
   "metadata": {
    "scrolled": false
   },
   "outputs": [
    {
     "data": {
      "image/png": "[encoded data removed]",
      "text/plain": [
       "<Figure size 720x864 with 6 Axes>"
      ]
     },
     "metadata": {
      "needs_background": "light"
     },
     "output_type": "display_data"
    }
   ],
   "source": [
    "amazon[amazon['review_length'] < 1000].review_length.hist(by=amazon.corporation, figsize = (10, 12), bins = 50)\n",
    "plt.show()"
   ]
  },
  {
   "cell_type": "markdown",
   "id": "199039d4",
   "metadata": {},
   "source": [
    "Analyzing how many reviews each company had over 1000 characters separately, as there are far fewer and were harder to see in a comprehensive histogram of all reviews. Note that P&G had no reviews with over 1000 characters."
   ]
  },
  {
   "cell_type": "markdown",
   "id": "cb0d852f",
   "metadata": {},
   "source": [
    "## Histogram of the Review Text Length of Reviews with > 1000 Characters"
   ]
  },
  {
   "cell_type": "code",
   "execution_count": 77,
   "id": "916112b3",
   "metadata": {},
   "outputs": [
    {
     "data": {
      "image/png": "[encoded data removed]",
      "text/plain": [
       "<Figure size 720x864 with 4 Axes>"
      ]
     },
     "metadata": {
      "needs_background": "light"
     },
     "output_type": "display_data"
    }
   ],
   "source": [
    "amazon[amazon['review_length'] > 1000].review_length.hist(by=amazon.corporation, figsize = (10, 12), bins = 30)\n",
    "plt.show()"
   ]
  },
  {
   "cell_type": "markdown",
   "id": "96382418",
   "metadata": {},
   "source": [
    "## Examining the Correlation Between Review Length & Star Rating"
   ]
  },
  {
   "cell_type": "code",
   "execution_count": 88,
   "id": "da07aad4",
   "metadata": {},
   "outputs": [
    {
     "data": {
      "image/png": "[encoded data removed]",
      "text/plain": [
       "<Figure size 432x288 with 1 Axes>"
      ]
     },
     "metadata": {
      "needs_background": "light"
     },
     "output_type": "display_data"
    }
   ],
   "source": [
    "plt.scatter(amazon['review_length'], amazon['star_rating'])\n",
    "plt.yticks(range(1, 6)) #only include ticks for the whole numbers of the star ratings\n",
    "plt.xlabel(\"review length\")\n",
    "plt.ylabel('star rating')\n",
    "plt.title('Review Length vs. Star Rating')\n",
    "plt.show()"
   ]
  },
  {
   "cell_type": "code",
   "execution_count": 87,
   "id": "2a1d963a",
   "metadata": {},
   "outputs": [
    {
     "data": {
      "text/plain": [
       "-0.10873734795964711"
      ]
     },
     "execution_count": 87,
     "metadata": {},
     "output_type": "execute_result"
    }
   ],
   "source": [
    "amazon['review_length'].corr(amazon['star_rating'])"
   ]
  },
  {
   "cell_type": "markdown",
   "id": "6c68af99",
   "metadata": {},
   "source": [
    "Based on the graph and correlation coefficient, there is virtually no correlation between review length and star ratings. This is contrary to our prediction that longer reviews might indicate extremely positive/negative ratings."
   ]
  },
  {
   "cell_type": "markdown",
   "id": "deb5b00a",
   "metadata": {},
   "source": [
    "## Company Market Performance Analysis"
   ]
  },
  {
   "cell_type": "code",
   "execution_count": 89,
   "id": "cbd08299",
   "metadata": {},
   "outputs": [
    {
     "data": {
      "text/html": [
       "<div>\n",
       "<style scoped>\n",
       "    .dataframe tbody tr th:only-of-type {\n",
       "        vertical-align: middle;\n",
       "    }\n",
       "\n",
       "    .dataframe tbody tr th {\n",
       "        vertical-align: top;\n",
       "    }\n",
       "\n",
       "    .dataframe thead th {\n",
       "        text-align: right;\n",
       "    }\n",
       "</style>\n",
       "<table border=\"1\" class=\"dataframe\">\n",
       "  <thead>\n",
       "    <tr style=\"text-align: right;\">\n",
       "      <th></th>\n",
       "      <th>Company</th>\n",
       "      <th>2014_sales_millions</th>\n",
       "      <th>2014_market_share_percent</th>\n",
       "      <th>2015_sales_millions</th>\n",
       "      <th>2015_market_share_percent</th>\n",
       "      <th>sale_change_percent</th>\n",
       "      <th>share_change_percent</th>\n",
       "    </tr>\n",
       "  </thead>\n",
       "  <tbody>\n",
       "    <tr>\n",
       "      <th>0</th>\n",
       "      <td>L'Oréal USA</td>\n",
       "      <td>1797.9</td>\n",
       "      <td>39.1</td>\n",
       "      <td>1815.0</td>\n",
       "      <td>38.6</td>\n",
       "      <td>1.0</td>\n",
       "      <td>-0.5</td>\n",
       "    </tr>\n",
       "    <tr>\n",
       "      <th>1</th>\n",
       "      <td>Procter &amp; Gamble</td>\n",
       "      <td>954.7</td>\n",
       "      <td>20.8</td>\n",
       "      <td>946.1</td>\n",
       "      <td>20.1</td>\n",
       "      <td>-0.9</td>\n",
       "      <td>-0.7</td>\n",
       "    </tr>\n",
       "    <tr>\n",
       "      <th>2</th>\n",
       "      <td>Revlon Inc.</td>\n",
       "      <td>670.5</td>\n",
       "      <td>14.6</td>\n",
       "      <td>661.6</td>\n",
       "      <td>14.1</td>\n",
       "      <td>-1.3</td>\n",
       "      <td>-0.5</td>\n",
       "    </tr>\n",
       "    <tr>\n",
       "      <th>3</th>\n",
       "      <td>Coty Beauty</td>\n",
       "      <td>262.3</td>\n",
       "      <td>5.7</td>\n",
       "      <td>263.8</td>\n",
       "      <td>5.6</td>\n",
       "      <td>0.5</td>\n",
       "      <td>-0.1</td>\n",
       "    </tr>\n",
       "    <tr>\n",
       "      <th>4</th>\n",
       "      <td>Johnson &amp; Johnson</td>\n",
       "      <td>171.9</td>\n",
       "      <td>3.7</td>\n",
       "      <td>176.0</td>\n",
       "      <td>3.7</td>\n",
       "      <td>2.4</td>\n",
       "      <td>0.0</td>\n",
       "    </tr>\n",
       "  </tbody>\n",
       "</table>\n",
       "</div>"
      ],
      "text/plain": [
       "             Company  2014_sales_millions  2014_market_share_percent  \\\n",
       "0        L'Oréal USA               1797.9                       39.1   \n",
       "1   Procter & Gamble                954.7                       20.8   \n",
       "2        Revlon Inc.                670.5                       14.6   \n",
       "3        Coty Beauty                262.3                        5.7   \n",
       "4  Johnson & Johnson                171.9                        3.7   \n",
       "\n",
       "   2015_sales_millions  2015_market_share_percent  sale_change_percent  \\\n",
       "0               1815.0                       38.6                  1.0   \n",
       "1                946.1                       20.1                 -0.9   \n",
       "2                661.6                       14.1                 -1.3   \n",
       "3                263.8                        5.6                  0.5   \n",
       "4                176.0                        3.7                  2.4   \n",
       "\n",
       "   share_change_percent  \n",
       "0                  -0.5  \n",
       "1                  -0.7  \n",
       "2                  -0.5  \n",
       "3                  -0.1  \n",
       "4                   0.0  "
      ]
     },
     "execution_count": 89,
     "metadata": {},
     "output_type": "execute_result"
    }
   ],
   "source": [
    "market_sales"
   ]
  },
  {
   "cell_type": "markdown",
   "id": "b4901bbf",
   "metadata": {},
   "source": [
    "Now we will compare the sales between 2014-2015 by company, as well as their sales/share percentage change."
   ]
  },
  {
   "cell_type": "code",
   "execution_count": 106,
   "id": "e8132431",
   "metadata": {},
   "outputs": [
    {
     "data": {
      "image/png": "[encoded data removed]",
      "text/plain": [
       "<Figure size 720x576 with 1 Axes>"
      ]
     },
     "metadata": {
      "needs_background": "light"
     },
     "output_type": "display_data"
    }
   ],
   "source": [
    "market_sales.plot(x = \"Company\", y= ['2014_sales_millions', '2015_sales_millions'], kind = 'bar', legend = True, figsize = (10, 8))\n",
    "plt.ylabel(\"Sales in Millions of Dollars\")\n",
    "plt.title(\"Company Sales in 2014 vs. 2015\")\n",
    "plt.show()"
   ]
  },
  {
   "cell_type": "code",
   "execution_count": 105,
   "id": "410127ab",
   "metadata": {},
   "outputs": [
    {
     "data": {
      "image/png": "[encoded data removed]",
      "text/plain": [
       "<Figure size 432x360 with 1 Axes>"
      ]
     },
     "metadata": {
      "needs_background": "light"
     },
     "output_type": "display_data"
    }
   ],
   "source": [
    "market_sales.plot(x = \"Company\", y= ['sale_change_percent', 'share_change_percent'], kind = 'bar', legend = True, figsize = (6, 5))\n",
    "plt.axhline(y=0, color='black', linestyle='-')\n",
    "plt.ylabel(\"Percentage Change\")\n",
    "plt.title(\"Company\")\n",
    "plt.show()"
   ]
  },
  {
   "cell_type": "markdown",
   "id": "886b1b7a",
   "metadata": {},
   "source": [
    "Here we see some interesting data. While the sale change percent grew for L'Oreal and Coty Beauty, their share percentages declined. Additionally, Johnson & Johnson sale percentage grew far more than any other company. It is also noteable that J&J's share percentage did not change at all. Another interesting observation is that while J&J had the largest sales percentage increase, their overall sales still remained the lowest in terms of millions of dollars."
   ]
  },
  {
   "cell_type": "code",
   "execution_count": null,
   "id": "2af91f88",
   "metadata": {},
   "outputs": [],
   "source": []
  }
 ],
 "metadata": {
  "kernelspec": {
   "display_name": "Python 3",
   "language": "python",
   "name": "python3"
  },
  "language_info": {
   "codemirror_mode": {
    "name": "ipython",
    "version": 3
   },
   "file_extension": ".py",
   "mimetype": "text/x-python",
   "name": "python",
   "nbconvert_exporter": "python",
   "pygments_lexer": "ipython3",
   "version": "3.8.8"
  }
 },
 "nbformat": 4,
 "nbformat_minor": 5
}
